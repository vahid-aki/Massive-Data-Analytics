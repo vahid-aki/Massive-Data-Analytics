{
 "cells": [
  {
   "attachments": {},
   "cell_type": "markdown",
   "metadata": {},
   "source": [
    "<h1 align=\"center\">\n",
    "<img src=\"https://drive.google.com/uc?export=view&id=1_ZkE3dnYg9KykzdZE6lIK2s_q_nbiKk_\" width=\"160\" height=\"160\">\n",
    "</h1>\n",
    "<h1 align=\"center\">Massive Data Analytics - 25577</h1>\n",
    "<h3 align=\"center\">Dr. Gholampour</h3>\n",
    "<h5 align=\"center\">Sharif University of Technology<br/>Electrical Engineering Department<br/>  Fall 2022</h5>\n",
    "\n",
    "---\n",
    "\n",
    "# Problem Set 03\n",
    "<h4 align=\"center\">Vahid Pourakbar     400205511</h4>"
   ]
  },
  {
   "attachments": {},
   "cell_type": "markdown",
   "metadata": {},
   "source": [
    "# Question 3"
   ]
  },
  {
   "cell_type": "code",
   "execution_count": 1,
   "metadata": {},
   "outputs": [
    {
     "name": "stdout",
     "output_type": "stream",
     "text": [
      "23/01/23 22:32:20 WARN Utils: Your hostname, vahid-PC resolves to a loopback address: 127.0.1.1; using 172.27.211.114 instead (on interface wlp2s0)\n",
      "23/01/23 22:32:20 WARN Utils: Set SPARK_LOCAL_IP if you need to bind to another address\n"
     ]
    },
    {
     "name": "stderr",
     "output_type": "stream",
     "text": [
      "Setting default log level to \"WARN\".\n",
      "To adjust logging level use sc.setLogLevel(newLevel). For SparkR, use setLogLevel(newLevel).\n"
     ]
    },
    {
     "name": "stdout",
     "output_type": "stream",
     "text": [
      "23/01/23 22:32:21 WARN NativeCodeLoader: Unable to load native-hadoop library for your platform... using builtin-java classes where applicable\n"
     ]
    }
   ],
   "source": [
    "%reset -f\n",
    "import numpy as np\n",
    "from pyspark.sql import SparkSession\n",
    "\n",
    "spark = SparkSession \\\n",
    "    .builder \\\n",
    "    .appName(\"MDA_2022_PS3_Q3\") \\\n",
    "    .master(\"local[*]\") \\\n",
    "    .config(\"spark.driver.memory\", \"10g\") \\\n",
    "    .getOrCreate()\n",
    "    # .config(\"spark.memory.offHeap.enabled\",\"true\") \\\n",
    "    # .config(\"spark.memory.offHeap.size\",\"4g\")  \\\n",
    "sc=spark.sparkContext"
   ]
  },
  {
   "cell_type": "code",
   "execution_count": 2,
   "metadata": {},
   "outputs": [
    {
     "name": "stderr",
     "output_type": "stream",
     "text": [
      "[Stage 2:>                                                          (0 + 8) / 8]\r"
     ]
    },
    {
     "name": "stdout",
     "output_type": "stream",
     "text": [
      "+-----------+---------+---------------+-------------+----------------+----------+-------------------+\n",
      "|DEVICE_CODE|SYSTEM_ID|ORIGINE_CAR_KEY|FINAL_CAR_KEY|CHECK_STATUS_KEY|COMPANY_ID|      PASS_DAY_TIME|\n",
      "+-----------+---------+---------------+-------------+----------------+----------+-------------------+\n",
      "|  100700853|      283|        9016704|      9016704|               5|       264|2022-01-08 00:00:39|\n",
      "|     230204|       81|        9017538|      9017538|               5|       161|2022-01-08 00:38:48|\n",
      "|     631357|       81|        9017538|      9017538|               5|       161|2022-01-08 00:13:50|\n",
      "|     900164|      283|        9035020|      9035020|               5|       264|2022-01-08 00:27:38|\n",
      "|     900149|      283|        9020900|      9020900|               5|       264|2022-01-08 00:40:08|\n",
      "+-----------+---------+---------------+-------------+----------------+----------+-------------------+\n",
      "\n"
     ]
    },
    {
     "name": "stderr",
     "output_type": "stream",
     "text": [
      "                                                                                \r"
     ]
    }
   ],
   "source": [
    "dataframe = spark.read.csv(\"SampleData.csv\", header=True, inferSchema=True)\n",
    "dataframe.limit(5).show()"
   ]
  },
  {
   "attachments": {},
   "cell_type": "markdown",
   "metadata": {},
   "source": [
    "## Part A"
   ]
  },
  {
   "cell_type": "code",
   "execution_count": 3,
   "metadata": {},
   "outputs": [
    {
     "name": "stdout",
     "output_type": "stream",
     "text": [
      "key = (plate, date), value=[list of device codes]\n"
     ]
    },
    {
     "name": "stderr",
     "output_type": "stream",
     "text": [
      "                                                                                \r"
     ]
    },
    {
     "data": {
      "text/plain": [
       "[((9021057, datetime.date(2022, 1, 8)), [900101]),\n",
       " ((9026889, datetime.date(2022, 1, 8)), [900266]),\n",
       " ((9197057, datetime.date(2022, 1, 8)), [100700853, 22010078, 22010079]),\n",
       " ((9148073, datetime.date(2022, 1, 8)),\n",
       "  [900202,\n",
       "   900244,\n",
       "   900199,\n",
       "   900264,\n",
       "   900213,\n",
       "   900212,\n",
       "   631633,\n",
       "   107,\n",
       "   900244,\n",
       "   900222,\n",
       "   900101,\n",
       "   900213,\n",
       "   900212,\n",
       "   200801,\n",
       "   200502,\n",
       "   900243]),\n",
       " ((9150129, datetime.date(2022, 1, 8)), [900158]),\n",
       " ((9240801, datetime.date(2022, 1, 8)),\n",
       "  [205202, 900126, 205201, 100701250, 900241, 169]),\n",
       " ((9235577, datetime.date(2022, 1, 8)), [900266]),\n",
       " ((9350137, datetime.date(2022, 1, 8)), [900101, 100700841]),\n",
       " ((9354665, datetime.date(2022, 1, 8)),\n",
       "  [900212, 900264, 900156, 900101, 900156]),\n",
       " ((9387345, datetime.date(2022, 1, 8)), [230107])]"
      ]
     },
     "execution_count": 3,
     "metadata": {},
     "output_type": "execute_result"
    }
   ],
   "source": [
    "dataframe_rdd = dataframe[\"DEVICE_CODE\",\"FINAL_CAR_KEY\", \"PASS_DAY_TIME\"].rdd \\\n",
    "    .map(lambda x: ((x[1], x[2].date()), [x[0]])) \\\n",
    "        .reduceByKey(lambda x, y: x+y)\n",
    "\n",
    "print(\"key = (plate, date), value=[list of device codes]\")\n",
    "dataframe_rdd.take(10)"
   ]
  },
  {
   "attachments": {},
   "cell_type": "markdown",
   "metadata": {},
   "source": [
    "## Part B"
   ]
  },
  {
   "cell_type": "code",
   "execution_count": 4,
   "metadata": {},
   "outputs": [
    {
     "name": "stderr",
     "output_type": "stream",
     "text": [
      "[Stage 8:>                                                          (0 + 8) / 8]\r"
     ]
    },
    {
     "name": "stdout",
     "output_type": "stream",
     "text": [
      "random path = [205202, 900126, 205201, 100701250, 900241, 169],\n",
      " \t ((plate, path), similarity):"
     ]
    },
    {
     "name": "stderr",
     "output_type": "stream",
     "text": [
      "                                                                                \r"
     ]
    },
    {
     "data": {
      "text/plain": [
       "[((9240801, [205202, 900126, 205201, 100701250, 900241, 169]), 1.0),\n",
       " ((12169977, [169, 169, 205201, 205202, 900126, 900197, 900241, 103001]),\n",
       "  0.7715167498104595),\n",
       " ((13726086,\n",
       "   [100701155, 205201, 900241, 205202, 100701251, 169, 100701250, 141, 169]),\n",
       "  0.7216878364870323),\n",
       " ((7867577, [169, 205202, 205201]), 0.7071067811865476),\n",
       " ((89049300, [900126, 900126, 900126, 169, 900241]), 0.7071067811865476)]"
      ]
     },
     "execution_count": 4,
     "metadata": {},
     "output_type": "execute_result"
    }
   ],
   "source": [
    "import math \n",
    "random_path = [205202, 900126, 205201, 100701250, 900241, 169]\n",
    "top_five_similar_pathes_rdd = dataframe_rdd.map(lambda x: ((x[0][0], x[1]), len(set(random_path)&set(x[1]))/math.sqrt(len(set(random_path))*len(set(x[1]))) )) \\\n",
    "    .takeOrdered(5, key = lambda x: -x[1])\n",
    "print(f\"random path = [205202, 900126, 205201, 100701250, 900241, 169],\\n \\t ((plate, path), similarity):\", end='')\n",
    "top_five_similar_pathes_rdd"
   ]
  },
  {
   "attachments": {},
   "cell_type": "markdown",
   "metadata": {},
   "source": [
    "## Part C"
   ]
  },
  {
   "cell_type": "code",
   "execution_count": 5,
   "metadata": {},
   "outputs": [
    {
     "name": "stderr",
     "output_type": "stream",
     "text": [
      "[Stage 10:==================================================>       (7 + 1) / 8]\r"
     ]
    },
    {
     "name": "stdout",
     "output_type": "stream",
     "text": [
      "number of distinct camera: 922\n"
     ]
    },
    {
     "name": "stderr",
     "output_type": "stream",
     "text": [
      "                                                                                \r"
     ]
    }
   ],
   "source": [
    "cameras_list = dataframe_rdd.flatMap(lambda x: x[1]) \\\n",
    "    .distinct() \\\n",
    "        .collect()\n",
    "cameras_list = sorted(cameras_list)\n",
    "# sc.broadcast(cameras_list)\n",
    "camera_list_count = len(cameras_list)\n",
    "print(f\"number of distinct camera: {camera_list_count}\")"
   ]
  },
  {
   "cell_type": "code",
   "execution_count": 6,
   "metadata": {},
   "outputs": [],
   "source": [
    "def generating_random_hyperplane(NumberOfRandomHyperplane):\n",
    "    random_hyperplanes_list = []\n",
    "    while (len(random_hyperplanes_list) < NumberOfRandomHyperplane):\n",
    "        randlist = np.random.choice([-1, 1], size=camera_list_count)\n",
    "        flag = 1\n",
    "        for l in random_hyperplanes_list:\n",
    "            if all(randlist==l):\n",
    "                flag = 0\n",
    "                break\n",
    "        if flag:\n",
    "            random_hyperplanes_list.append(randlist)\n",
    "    return random_hyperplanes_list\n",
    "\n",
    "random_hyperplanes_list = generating_random_hyperplane(NumberOfRandomHyperplane=20)"
   ]
  },
  {
   "cell_type": "code",
   "execution_count": 7,
   "metadata": {},
   "outputs": [],
   "source": [
    "def generating_signature_matrix(input):\n",
    "    signature_list = []\n",
    "    input_camera_list = sorted(input)\n",
    "    camera_index = [cameras_list.index(c) for c in input_camera_list]\n",
    "    for random_hyperplane in random_hyperplanes_list:\n",
    "        rh = sum([random_hyperplane[idx] for idx in camera_index])\n",
    "        signature_list.append(1 if rh>=0 else -1)\n",
    "    return signature_list\n",
    "\n",
    "def Or_And(input):\n",
    "    return all([any([x==y for x, y in zip(input[bb*r:(bb+1)*r],random_path_sig_mat[bb*r:(bb+1)*r])]) for bb in range(b)])\n",
    "def And_Or(input):\n",
    "    return any([all([x==y for x, y in zip(input[bb*r:(bb+1)*r],random_path_sig_mat[bb*r:(bb+1)*r])]) for bb in range(b)])"
   ]
  },
  {
   "cell_type": "code",
   "execution_count": null,
   "metadata": {},
   "outputs": [],
   "source": [
    "# def func(input):\n",
    "#     signature_list = []\n",
    "#     input_camera_list = sorted(input)\n",
    "#     camera_boolen = [int(l in input_camera_list) for l in cameras_list]\n",
    "\n",
    "#     for random_hyperplane in random_hyperplanes_list:\n",
    "#         rh = sum(np.array(random_hyperplane)*np.array(camera_boolen))\n",
    "#         signature_list.append(1 if rh>=0 else -1)\n",
    "#     return signature_list\n",
    "\n",
    "# signature_matrix_rdd = dataframe_rdd.map(lambda x: ((x[0][0], x[1]), func(x[1])))\n",
    "# signature_matrix = signature_matrix_rdd.collect()\n",
    "# 7min for 6 hyperplane\n",
    "# >30min for 60 hyperplane"
   ]
  },
  {
   "cell_type": "code",
   "execution_count": 8,
   "metadata": {},
   "outputs": [
    {
     "name": "stderr",
     "output_type": "stream",
     "text": [
      "                                                                                \r"
     ]
    },
    {
     "data": {
      "text/plain": [
       "1479063"
      ]
     },
     "execution_count": 8,
     "metadata": {},
     "output_type": "execute_result"
    }
   ],
   "source": [
    "signature_matrix_rdd = dataframe_rdd.map(lambda x: ((x[0][0], x[1]), generating_signature_matrix(x[1])))\n",
    "signature_matrix = signature_matrix_rdd.collect()\n",
    "len(signature_matrix)"
   ]
  },
  {
   "cell_type": "code",
   "execution_count": 9,
   "metadata": {},
   "outputs": [
    {
     "name": "stdout",
     "output_type": "stream",
     "text": [
      "[1, 1, 1, 1, -1, -1, -1, 1, 1, 1, 1, -1, 1, -1, 1, 1, 1, 1, 1, 1]\n"
     ]
    }
   ],
   "source": [
    "random_path_sig_mat = generating_signature_matrix(random_path)\n",
    "print(random_path_sig_mat)"
   ]
  },
  {
   "cell_type": "code",
   "execution_count": 10,
   "metadata": {},
   "outputs": [
    {
     "name": "stderr",
     "output_type": "stream",
     "text": [
      "                                                                                \r"
     ]
    },
    {
     "name": "stdout",
     "output_type": "stream",
     "text": [
      "248168\n"
     ]
    },
    {
     "name": "stderr",
     "output_type": "stream",
     "text": [
      "                                                                                \r"
     ]
    },
    {
     "data": {
      "text/plain": [
       "[((9150129, [900158]), True),\n",
       " ((9240801, [205202, 900126, 205201, 100701250, 900241, 169]), True)]"
      ]
     },
     "execution_count": 10,
     "metadata": {},
     "output_type": "execute_result"
    }
   ],
   "source": [
    "# r*b=NumberOfRandomHyperplane\n",
    "r = 5\n",
    "b = 4\n",
    "\n",
    "similarity_candidates_rdd = signature_matrix_rdd.map(lambda x: (x[0], And_Or(x[1]))) \\\n",
    "    .filter(lambda x: x[1])\n",
    "similarity_candidates = similarity_candidates_rdd.collect()\n",
    "print(len(similarity_candidates))\n",
    "similarity_candidates_rdd.take(2)\n"
   ]
  },
  {
   "cell_type": "code",
   "execution_count": 11,
   "metadata": {},
   "outputs": [
    {
     "name": "stderr",
     "output_type": "stream",
     "text": [
      "                                                                                \r"
     ]
    },
    {
     "name": "stdout",
     "output_type": "stream",
     "text": [
      "1301623\n"
     ]
    },
    {
     "name": "stderr",
     "output_type": "stream",
     "text": [
      "                                                                                \r"
     ]
    },
    {
     "data": {
      "text/plain": [
       "[((9021057, [900101]), True), ((9026889, [900266]), True)]"
      ]
     },
     "execution_count": 11,
     "metadata": {},
     "output_type": "execute_result"
    }
   ],
   "source": [
    "similarity_candidates_rdd_2 = signature_matrix_rdd.map(lambda x: (x[0], Or_And(x[1]))) \\\n",
    "    .filter(lambda x: x[1])\n",
    "similarity_candidates_2 = similarity_candidates_rdd_2.collect()\n",
    "print(len(similarity_candidates_2))\n",
    "similarity_candidates_rdd_2.take(2)"
   ]
  },
  {
   "attachments": {},
   "cell_type": "markdown",
   "metadata": {},
   "source": [
    "## Number of random hyperplane =  40"
   ]
  },
  {
   "cell_type": "code",
   "execution_count": 82,
   "metadata": {},
   "outputs": [],
   "source": [
    "random_hyperplanes_list = generating_random_hyperplane(NumberOfRandomHyperplane=40)"
   ]
  },
  {
   "cell_type": "code",
   "execution_count": 13,
   "metadata": {},
   "outputs": [
    {
     "name": "stderr",
     "output_type": "stream",
     "text": [
      "                                                                                \r"
     ]
    },
    {
     "data": {
      "text/plain": [
       "1479063"
      ]
     },
     "execution_count": 13,
     "metadata": {},
     "output_type": "execute_result"
    }
   ],
   "source": [
    "signature_matrix_rdd_40 = dataframe_rdd.map(lambda x: ((x[0][0], x[1]), generating_signature_matrix(x[1])))\n",
    "signature_matrix_40 = signature_matrix_rdd_40.collect()\n",
    "len(signature_matrix_40)"
   ]
  },
  {
   "cell_type": "code",
   "execution_count": 83,
   "metadata": {},
   "outputs": [
    {
     "name": "stdout",
     "output_type": "stream",
     "text": [
      "[1, 1, 1, 1, 1, -1, 1, 1, 1, -1, -1, -1, -1, -1, 1, -1, 1, -1, 1, -1, -1, -1, 1, 1, -1, 1, -1, -1, 1, 1, 1, 1, -1, 1, 1, 1, 1, 1, 1, -1]\n"
     ]
    }
   ],
   "source": [
    "random_path_sig_mat = generating_signature_matrix(random_path)\n",
    "print(random_path_sig_mat)"
   ]
  },
  {
   "cell_type": "code",
   "execution_count": 15,
   "metadata": {},
   "outputs": [
    {
     "name": "stderr",
     "output_type": "stream",
     "text": [
      "                                                                                \r"
     ]
    },
    {
     "name": "stdout",
     "output_type": "stream",
     "text": [
      "49084\n"
     ]
    },
    {
     "name": "stderr",
     "output_type": "stream",
     "text": [
      "                                                                                \r"
     ]
    },
    {
     "data": {
      "text/plain": [
       "[((9240801, [205202, 900126, 205201, 100701250, 900241, 169]), True),\n",
       " ((9847265, [145, 205802, 175]), True)]"
      ]
     },
     "execution_count": 15,
     "metadata": {},
     "output_type": "execute_result"
    }
   ],
   "source": [
    "# r*b=NumberOfRandomHyperplane\n",
    "r = 8\n",
    "b = 5\n",
    "\n",
    "similarity_candidates_rdd_40 = signature_matrix_rdd_40.map(lambda x: (x[0], And_Or(x[1]))) \\\n",
    "    .filter(lambda x: x[1])\n",
    "similarity_candidates_40 = similarity_candidates_rdd_40.collect()\n",
    "print(len(similarity_candidates_40))\n",
    "similarity_candidates_rdd_40.take(2)"
   ]
  },
  {
   "cell_type": "code",
   "execution_count": 84,
   "metadata": {},
   "outputs": [
    {
     "name": "stderr",
     "output_type": "stream",
     "text": [
      "                                                                                \r"
     ]
    },
    {
     "name": "stdout",
     "output_type": "stream",
     "text": [
      "1122900\n"
     ]
    },
    {
     "name": "stderr",
     "output_type": "stream",
     "text": [
      "                                                                                \r"
     ]
    },
    {
     "data": {
      "text/plain": [
       "[((9021057, [900101]), True), ((9026889, [900266]), True)]"
      ]
     },
     "execution_count": 84,
     "metadata": {},
     "output_type": "execute_result"
    }
   ],
   "source": [
    "# r*b=NumberOfRandomHyperplane\n",
    "r = 5\n",
    "b = 8\n",
    "\n",
    "similarity_candidates_rdd_40_2 = signature_matrix_rdd_40.map(lambda x: (x[0], Or_And(x[1]))) \\\n",
    "    .filter(lambda x: x[1])\n",
    "similarity_candidates_40_2 = similarity_candidates_rdd_40_2.collect()\n",
    "print(len(similarity_candidates_40_2))\n",
    "similarity_candidates_rdd_40_2.take(2)"
   ]
  },
  {
   "attachments": {},
   "cell_type": "markdown",
   "metadata": {},
   "source": [
    "## Number of random hyperplane =  60"
   ]
  },
  {
   "cell_type": "code",
   "execution_count": 88,
   "metadata": {},
   "outputs": [],
   "source": [
    "random_hyperplanes_list = generating_random_hyperplane(NumberOfRandomHyperplane=60)"
   ]
  },
  {
   "cell_type": "code",
   "execution_count": 17,
   "metadata": {},
   "outputs": [
    {
     "name": "stderr",
     "output_type": "stream",
     "text": [
      "                                                                                \r"
     ]
    },
    {
     "data": {
      "text/plain": [
       "1479063"
      ]
     },
     "execution_count": 17,
     "metadata": {},
     "output_type": "execute_result"
    }
   ],
   "source": [
    "signature_matrix_rdd_60 = dataframe_rdd.map(lambda x: ((x[0][0], x[1]), generating_signature_matrix(x[1])))\n",
    "signature_matrix_60 = signature_matrix_rdd_60.collect()\n",
    "len(signature_matrix_60)"
   ]
  },
  {
   "cell_type": "code",
   "execution_count": 87,
   "metadata": {},
   "outputs": [
    {
     "name": "stdout",
     "output_type": "stream",
     "text": [
      "[1, -1, -1, 1, -1, 1, 1, 1, 1, 1, -1, -1, 1, 1, -1, 1, 1, 1, 1, 1, 1, 1, -1, 1, -1, 1, 1, 1, 1, 1, -1, 1, 1, -1, 1, -1, 1, 1, 1, -1, 1, -1, 1, 1, 1, 1, 1, -1, 1, 1, -1, 1, 1, 1, 1, 1, -1, -1, 1, 1]\n"
     ]
    }
   ],
   "source": [
    "random_path_sig_mat = generating_signature_matrix(random_path)\n",
    "print(random_path_sig_mat)"
   ]
  },
  {
   "cell_type": "code",
   "execution_count": 19,
   "metadata": {},
   "outputs": [
    {
     "name": "stderr",
     "output_type": "stream",
     "text": [
      "                                                                                \r"
     ]
    },
    {
     "name": "stdout",
     "output_type": "stream",
     "text": [
      "17424\n"
     ]
    },
    {
     "name": "stderr",
     "output_type": "stream",
     "text": [
      "                                                                                \r"
     ]
    },
    {
     "data": {
      "text/plain": [
       "[((9240801, [205202, 900126, 205201, 100701250, 900241, 169]), True),\n",
       " ((8622505, [900225]), True)]"
      ]
     },
     "execution_count": 19,
     "metadata": {},
     "output_type": "execute_result"
    }
   ],
   "source": [
    "# r*b=NumberOfRandomHyperplane\n",
    "r = 10\n",
    "b = 6\n",
    "\n",
    "similarity_candidates_rdd_60 = signature_matrix_rdd_60.map(lambda x: (x[0], And_Or(x[1]))) \\\n",
    "    .filter(lambda x: x[1])\n",
    "similarity_candidates_60 = similarity_candidates_rdd_60.collect()\n",
    "print(len(similarity_candidates_60))\n",
    "similarity_candidates_rdd_60.take(2)"
   ]
  },
  {
   "cell_type": "code",
   "execution_count": 89,
   "metadata": {},
   "outputs": [
    {
     "name": "stderr",
     "output_type": "stream",
     "text": [
      "                                                                                \r"
     ]
    },
    {
     "name": "stdout",
     "output_type": "stream",
     "text": [
      "658018\n"
     ]
    },
    {
     "name": "stderr",
     "output_type": "stream",
     "text": [
      "                                                                                \r"
     ]
    },
    {
     "data": {
      "text/plain": [
       "[((9240801, [205202, 900126, 205201, 100701250, 900241, 169]), True),\n",
       " ((9511665, [100700853]), True)]"
      ]
     },
     "execution_count": 89,
     "metadata": {},
     "output_type": "execute_result"
    }
   ],
   "source": [
    "r1, b1, r2, b2 = 2, 3, 2, 5\n",
    "def And_Or_Or_And(input):\n",
    "    rb_list = []\n",
    "    for r, b in zip(np.array(input).reshape(b2,r2,b1,r1), np.array(random_path_sig_mat).reshape(b2,r2,b1,r1)):\n",
    "        rrbb_list =[]\n",
    "        for rr, bb in zip(r, b):\n",
    "            rrrbbb_list = []\n",
    "            for rrr, bbb in zip(rr, bb):\n",
    "                rrrbbb_list.append(all(rrr==bbb))\n",
    "            rrbb_list.append(any(rrrbbb_list))\n",
    "        rb_list.append(any(rrbb_list))        \n",
    "    return all(rb_list)\n",
    "    \n",
    "similarity_candidates_rdd_60_3 = signature_matrix_rdd_60.map(lambda x: (x[0], And_Or_Or_And(x[1]))) \\\n",
    "    .filter(lambda x: x[1])\n",
    "similarity_candidates_60_3 = similarity_candidates_rdd_60_3.collect()\n",
    "print(len(similarity_candidates_60_3))\n",
    "similarity_candidates_rdd_60_3.take(2)"
   ]
  },
  {
   "cell_type": "code",
   "execution_count": 77,
   "metadata": {},
   "outputs": [
    {
     "data": {
      "text/plain": [
       "[[205202, 900126, 205201, 100701250, 900241, 169],\n",
       " [169, 169, 205201, 205202, 900126, 900197, 900241, 103001],\n",
       " [100701155, 205201, 900241, 205202, 100701251, 169, 100701250, 141, 169],\n",
       " [169, 205202, 205201],\n",
       " [900126, 900126, 900126, 169, 900241]]"
      ]
     },
     "execution_count": 77,
     "metadata": {},
     "output_type": "execute_result"
    }
   ],
   "source": [
    "top_five_similar_pathes = [a[0][1] for a in top_five_similar_pathes_rdd]"
   ]
  },
  {
   "cell_type": "code",
   "execution_count": 90,
   "metadata": {},
   "outputs": [
    {
     "name": "stdout",
     "output_type": "stream",
     "text": [
      "validity 20 hyperplanes And_Or:  [True, True, True, True, True]\n",
      "validity 20 hyperplanes Or_And:  [True, True, True, True, True]\n",
      "validity 40 hyperplanes And_Or:  [True, False, True, False, False]\n",
      "validity 40 hyperplanes Or_And:  [True, True, True, True, True]\n",
      "validity 60 hyperplanes And_Or:  [True, False, False, False, False]\n",
      "validity 60 hyperplanes And_Or_Or_And:  [True, True, True, True, False]\n"
     ]
    }
   ],
   "source": [
    "def check_validity(input):\n",
    "    input_list = [a[0][1] for a in input]\n",
    "    return [l in input_list for l in top_five_similar_pathes]\n",
    "\n",
    "print(\"validity 20 hyperplanes And_Or: \", check_validity(similarity_candidates))\n",
    "print(\"validity 20 hyperplanes Or_And: \", check_validity(similarity_candidates_2))\n",
    "print(\"validity 40 hyperplanes And_Or: \", check_validity(similarity_candidates_40))\n",
    "print(\"validity 40 hyperplanes Or_And: \", check_validity(similarity_candidates_40_2))\n",
    "print(\"validity 60 hyperplanes And_Or: \", check_validity(similarity_candidates_60))\n",
    "print(\"validity 60 hyperplanes And_Or_Or_And: \", check_validity(similarity_candidates_60_3))\n"
   ]
  }
 ],
 "metadata": {
  "kernelspec": {
   "display_name": "sutenv",
   "language": "python",
   "name": "python3"
  },
  "language_info": {
   "codemirror_mode": {
    "name": "ipython",
    "version": 3
   },
   "file_extension": ".py",
   "mimetype": "text/x-python",
   "name": "python",
   "nbconvert_exporter": "python",
   "pygments_lexer": "ipython3",
   "version": "3.8.10"
  },
  "orig_nbformat": 4,
  "vscode": {
   "interpreter": {
    "hash": "0adefe4d64cffa239f82aa887f9830c9ded26d4dfec06c1cabc1e14ef705e9d1"
   }
  }
 },
 "nbformat": 4,
 "nbformat_minor": 2
}
