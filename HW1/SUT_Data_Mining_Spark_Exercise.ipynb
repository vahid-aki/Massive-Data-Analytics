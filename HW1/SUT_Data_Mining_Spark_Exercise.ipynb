{
  "cells": [
    {
      "cell_type": "markdown",
      "metadata": {
        "id": "5wIe_NNFTYs_"
      },
      "source": [
        "# Data Mining Course Spark Exercise\n",
        "## Sharif University of Technology\n",
        "\n",
        "In this notebook we are going to analyze farsi wikipedia. \n",
        "Outline of the exercise:\n",
        "* Dataset preparation\n",
        "* Preprocessing (25 Points) \n",
        "* Exploration (20 Points) \n",
        "* TF-IDF + Search (55 Points)\n",
        "\n",
        "You should replace the `TODO` parts with your implementation. Remeber that each `TODO` may take multiple lines and you shouldn't limit your self to one-line codes.\n",
        "\n",
        "## Prerequisites\n",
        "You should be faimilar with [tf-idf](https://en.wikipedia.org/wiki/Tf%E2%80%93idf). In this notebook you should use the following formula for tf-idf:\n",
        "$$f_{t,d}/len(d) \\times log(1 + \\frac{N}{n_t})$$\n",
        "\n",
        "## Warning: RDD api only\n",
        "You **can not** use Dataframe, Dataset, mllib, ml, ... apis of spark in this exercise. You should only use the [RDD api](http://spark.apache.org/docs/2.1.0/api/python/pyspark.html#pyspark.RDD)."
      ]
    },
    {
      "cell_type": "markdown",
      "metadata": {
        "id": "mPC8u67dTYtA"
      },
      "source": [
        "# Section 0: Please enter your name below\n",
        "# Name: Vahid Pourakbar\n",
        "# Student Number: 400205511"
      ]
    },
    {
      "cell_type": "markdown",
      "metadata": {
        "id": "fjLWtOdITYtB"
      },
      "source": [
        "# Section 1: Dataset preparation\n",
        "\n",
        "This section of notebook contains only shell commands. You don't need to completely understand each command or change anything.\n",
        "\n",
        "Please run all the paragraphs sequentially."
      ]
    },
    {
      "cell_type": "code",
      "execution_count": 7,
      "metadata": {},
      "outputs": [
        {
          "name": "stderr",
          "output_type": "stream",
          "text": [
            "[sudo] password for vahid: "
          ]
        },
        {
          "name": "stdout",
          "output_type": "stream",
          "text": [
            "Reading package lists...\n",
            "Building dependency tree...\n",
            "Reading state information...\n",
            "wget is already the newest version (1.20.3-1ubuntu2).\n",
            "wget set to manually installed.\n",
            "The following packages were automatically installed and are no longer required:\n",
            "  efibootmgr libassuan0:i386 libavahi-common-data:i386 libffi7:i386\n",
            "  libfwupdplugin1 liblensfun-data-v1 liblensfun1 liblept5 libnettle7:i386\n",
            "  libnpth0:i386 libp11-kit0:i386 libreadline8:i386 libtasn1-6:i386\n",
            "  libtesseract4 pinentry-curses:i386\n",
            "Use 'sudo apt autoremove' to remove them.\n",
            "The following additional packages will be installed:\n",
            "  git-man liberror-perl\n",
            "Suggested packages:\n",
            "  git-daemon-run | git-daemon-sysvinit git-doc git-el git-email git-gui gitk\n",
            "  gitweb git-cvs git-mediawiki git-svn\n",
            "The following NEW packages will be installed:\n",
            "  git git-man liberror-perl\n",
            "0 upgraded, 3 newly installed, 0 to remove and 7 not upgraded.\n",
            "Need to get 5,443 kB of archives.\n",
            "After this operation, 38.5 MB of additional disk space will be used.\n",
            "Get:1 http://ir.archive.ubuntu.com/ubuntu focal/main amd64 liberror-perl all 0.17029-1 [26.5 kB]\n",
            "Get:2 http://ir.archive.ubuntu.com/ubuntu focal-updates/main amd64 git-man all 1:2.25.1-1ubuntu3.6 [887 kB]\n",
            "Get:3 http://ir.archive.ubuntu.com/ubuntu focal-updates/main amd64 git amd64 1:2.25.1-1ubuntu3.6 [4,529 kB]\n"
          ]
        },
        {
          "name": "stderr",
          "output_type": "stream",
          "text": [
            "dpkg-preconfigure: unable to re-open stdin: No such file or directory\n"
          ]
        },
        {
          "name": "stdout",
          "output_type": "stream",
          "text": [
            "Fetched 5,443 kB in 1s (4,511 kB/s)\n",
            "Selecting previously unselected package liberror-perl.\n",
            "(Reading database ... 228825 files and directories currently installed.)\n",
            "Preparing to unpack .../liberror-perl_0.17029-1_all.deb ...\n",
            "Unpacking liberror-perl (0.17029-1) ...\n",
            "Selecting previously unselected package git-man.\n",
            "Preparing to unpack .../git-man_1%3a2.25.1-1ubuntu3.6_all.deb ...\n",
            "Unpacking git-man (1:2.25.1-1ubuntu3.6) ...\n",
            "Selecting previously unselected package git.\n",
            "Preparing to unpack .../git_1%3a2.25.1-1ubuntu3.6_amd64.deb ...\n",
            "Unpacking git (1:2.25.1-1ubuntu3.6) ...\n",
            "Setting up liberror-perl (0.17029-1) ...\n",
            "Setting up git-man (1:2.25.1-1ubuntu3.6) ...\n",
            "Setting up git (1:2.25.1-1ubuntu3.6) ...\n",
            "Processing triggers for man-db (2.9.1-1) ...\n"
          ]
        },
        {
          "data": {
            "text/plain": [
              "0"
            ]
          },
          "execution_count": 7,
          "metadata": {},
          "output_type": "execute_result"
        }
      ],
      "source": [
        "import getpass\n",
        "import os\n",
        "\n",
        "password = getpass.getpass()\n",
        "command = \"sudo -S apt-get -y install wget git\" #can be any command but don't forget -S as it enables input from stdin\n",
        "os.system('echo %s | %s' % (password, command))"
      ]
    },
    {
      "cell_type": "code",
      "execution_count": 2,
      "metadata": {
        "colab": {
          "base_uri": "https://localhost:8080/"
        },
        "id": "Ezi5dS6YTYtC",
        "outputId": "1a1c063f-173b-42aa-9ba3-d89d428467d5"
      },
      "outputs": [
        {
          "name": "stderr",
          "output_type": "stream",
          "text": [
            "128.46s - pydevd: Sending message related to process being replaced timed-out after 5 seconds\n"
          ]
        },
        {
          "name": "stdout",
          "output_type": "stream",
          "text": [
            "[sudo] password for vahid: \n"
          ]
        }
      ],
      "source": [
        "# ! sudo apt-get -y install wget git"
      ]
    },
    {
      "cell_type": "markdown",
      "metadata": {
        "id": "eBbtThFKTYtD"
      },
      "source": [
        "## Download the dump"
      ]
    },
    {
      "cell_type": "code",
      "execution_count": 8,
      "metadata": {
        "colab": {
          "base_uri": "https://localhost:8080/"
        },
        "id": "_W08JzklTYtE",
        "outputId": "873fcfaf-e6c4-4596-d38a-ac837dde4bdd"
      },
      "outputs": [
        {
          "name": "stderr",
          "output_type": "stream",
          "text": [
            "818.77s - pydevd: Sending message related to process being replaced timed-out after 5 seconds\n"
          ]
        },
        {
          "name": "stdout",
          "output_type": "stream",
          "text": [
            "--2022-11-27 18:05:20--  https://dumps.wikimedia.org/fawiki/latest/fawiki-latest-pages-articles-multistream.xml.bz2\n",
            "Resolving dumps.wikimedia.org (dumps.wikimedia.org)... 208.80.154.142, 2620:0:861:2:208:80:154:142\n",
            "Connecting to dumps.wikimedia.org (dumps.wikimedia.org)|208.80.154.142|:443... connected.\n",
            "HTTP request sent, awaiting response... 200 OK\n",
            "Length: 1119345079 (1.0G) [application/octet-stream]\n",
            "Saving to: ‘./fawiki-latest-pages-articles-multistream.xml.bz2.1’\n",
            "\n",
            "fawiki-latest-pages 100%[===================>]   1.04G  39.3KB/s    in 2h 56m  \n",
            "\n",
            "2022-11-27 21:01:43 (103 KB/s) - ‘./fawiki-latest-pages-articles-multistream.xml.bz2.1’ saved [1119345079/1119345079]\n",
            "\n"
          ]
        }
      ],
      "source": [
        "! wget --no-check-certificate -P . https://dumps.wikimedia.org/fawiki/latest/fawiki-latest-pages-articles-multistream.xml.bz2"
      ]
    },
    {
      "cell_type": "markdown",
      "metadata": {
        "id": "hP6Q0z6uTYtE"
      },
      "source": [
        "## Extract the dump (this may take a few minutes)"
      ]
    },
    {
      "cell_type": "code",
      "execution_count": 9,
      "metadata": {
        "id": "ZUlUk28VTYtF"
      },
      "outputs": [
        {
          "name": "stderr",
          "output_type": "stream",
          "text": [
            "11664.71s - pydevd: Sending message related to process being replaced timed-out after 5 seconds\n"
          ]
        }
      ],
      "source": [
        "! bzip2 -d fawiki-latest-pages-articles-multistream.xml.bz2"
      ]
    },
    {
      "cell_type": "markdown",
      "metadata": {
        "id": "u4DCV5w5TYtF"
      },
      "source": [
        "## Clone git project for converting wikipedia xml dump to json"
      ]
    },
    {
      "cell_type": "code",
      "execution_count": 10,
      "metadata": {
        "id": "2fl4Fm5dTYtF"
      },
      "outputs": [
        {
          "name": "stderr",
          "output_type": "stream",
          "text": [
            "12283.69s - pydevd: Sending message related to process being replaced timed-out after 5 seconds\n"
          ]
        },
        {
          "name": "stdout",
          "output_type": "stream",
          "text": [
            "Collecting wikiextractor\n",
            "  Downloading wikiextractor-3.0.6-py3-none-any.whl (46 kB)\n",
            "\u001b[K     |████████████████████████████████| 46 kB 39 kB/s eta 0:00:0101\n",
            "\u001b[?25hInstalling collected packages: wikiextractor\n",
            "Successfully installed wikiextractor-3.0.6\n"
          ]
        }
      ],
      "source": [
        "! pip install wikiextractor"
      ]
    },
    {
      "cell_type": "markdown",
      "metadata": {
        "id": "l0jlwlM9TYtG"
      },
      "source": [
        "## Run the script to convert xml to json (this might take around 30 minutes)"
      ]
    },
    {
      "cell_type": "code",
      "execution_count": 11,
      "metadata": {
        "id": "_PspJR_ATYtG"
      },
      "outputs": [
        {
          "name": "stderr",
          "output_type": "stream",
          "text": [
            "12302.29s - pydevd: Sending message related to process being replaced timed-out after 5 seconds\n"
          ]
        },
        {
          "name": "stdout",
          "output_type": "stream",
          "text": [
            "INFO: Preprocessing 'fawiki-latest-pages-articles-multistream.xml' to collect template definitions: this may take some time.\n",
            "INFO: Preprocessed 100000 pages\n",
            "INFO: Preprocessed 200000 pages\n",
            "INFO: Preprocessed 300000 pages\n",
            "INFO: Preprocessed 400000 pages\n",
            "INFO: Preprocessed 500000 pages\n",
            "INFO: Preprocessed 600000 pages\n",
            "INFO: Preprocessed 700000 pages\n",
            "INFO: Preprocessed 800000 pages\n",
            "INFO: Preprocessed 900000 pages\n",
            "INFO: Preprocessed 1000000 pages\n",
            "INFO: Preprocessed 1100000 pages\n",
            "INFO: Preprocessed 1200000 pages\n",
            "INFO: Preprocessed 1300000 pages\n",
            "INFO: Preprocessed 1400000 pages\n",
            "INFO: Preprocessed 1500000 pages\n",
            "INFO: Preprocessed 1600000 pages\n",
            "INFO: Preprocessed 1700000 pages\n",
            "INFO: Preprocessed 1800000 pages\n",
            "INFO: Preprocessed 1900000 pages\n",
            "INFO: Preprocessed 2000000 pages\n",
            "INFO: Preprocessed 2100000 pages\n",
            "INFO: Preprocessed 2200000 pages\n",
            "INFO: Preprocessed 2300000 pages\n",
            "INFO: Preprocessed 2400000 pages\n",
            "INFO: Preprocessed 2500000 pages\n",
            "INFO: Preprocessed 2600000 pages\n",
            "INFO: Preprocessed 2700000 pages\n",
            "INFO: Preprocessed 2800000 pages\n",
            "INFO: Preprocessed 2900000 pages\n",
            "INFO: Preprocessed 3000000 pages\n",
            "INFO: Preprocessed 3100000 pages\n",
            "INFO: Preprocessed 3200000 pages\n",
            "INFO: Preprocessed 3300000 pages\n",
            "INFO: Preprocessed 3400000 pages\n",
            "INFO: Preprocessed 3500000 pages\n",
            "INFO: Preprocessed 3600000 pages\n",
            "INFO: Preprocessed 3700000 pages\n",
            "INFO: Loaded 166052 templates in 129.1s\n",
            "INFO: Starting page extraction from fawiki-latest-pages-articles-multistream.xml.\n",
            "INFO: Using 7 extract processes.\n",
            "INFO: Extracted 100000 articles (3101.1 art/s)\n",
            "INFO: Extracted 200000 articles (4431.4 art/s)\n",
            "INFO: Extracted 300000 articles (7057.8 art/s)\n",
            "INFO: Extracted 400000 articles (6568.5 art/s)\n",
            "INFO: Extracted 500000 articles (5749.5 art/s)\n",
            "INFO: Extracted 600000 articles (6777.8 art/s)\n",
            "INFO: Extracted 700000 articles (6735.1 art/s)\n",
            "INFO: Extracted 800000 articles (8307.5 art/s)\n",
            "INFO: Extracted 900000 articles (5420.4 art/s)\n",
            "INFO: Extracted 1000000 articles (6226.5 art/s)\n",
            "INFO: Extracted 1100000 articles (6913.3 art/s)\n",
            "INFO: Extracted 1200000 articles (7359.1 art/s)\n",
            "INFO: Extracted 1300000 articles (7994.7 art/s)\n",
            "INFO: Extracted 1400000 articles (6262.9 art/s)\n",
            "INFO: Extracted 1500000 articles (5626.3 art/s)\n",
            "INFO: Extracted 1600000 articles (7544.7 art/s)\n",
            "INFO: Extracted 1700000 articles (6467.1 art/s)\n",
            "INFO: Extracted 1800000 articles (5422.2 art/s)\n",
            "INFO: Extracted 1900000 articles (4974.8 art/s)\n",
            "INFO: Extracted 2000000 articles (5050.0 art/s)\n",
            "INFO: Extracted 2100000 articles (5129.0 art/s)\n",
            "INFO: Extracted 2200000 articles (5229.4 art/s)\n",
            "INFO: Extracted 2300000 articles (5670.2 art/s)\n",
            "INFO: Extracted 2400000 articles (5351.9 art/s)\n",
            "INFO: Extracted 2500000 articles (5143.1 art/s)\n",
            "INFO: Extracted 2600000 articles (5228.4 art/s)\n",
            "INFO: Extracted 2700000 articles (4569.7 art/s)\n",
            "INFO: Finished 7-process extraction of 2798542 articles in 499.3s (5605.4 art/s)\n"
          ]
        }
      ],
      "source": [
        "! python -m wikiextractor.WikiExtractor --json fawiki-latest-pages-articles-multistream.xml"
      ]
    },
    {
      "cell_type": "markdown",
      "metadata": {
        "id": "_NkdMpq4TYtH"
      },
      "source": [
        "## Ensure output files exist"
      ]
    },
    {
      "cell_type": "code",
      "execution_count": 12,
      "metadata": {
        "id": "ONN2PqvlTYtH"
      },
      "outputs": [
        {
          "name": "stderr",
          "output_type": "stream",
          "text": [
            "12954.24s - pydevd: Sending message related to process being replaced timed-out after 5 seconds\n"
          ]
        },
        {
          "name": "stdout",
          "output_type": "stream",
          "text": [
            "text/AA/wiki_00  text/AI/wiki_64  text/AR/wiki_28  text/AZ/wiki_92\n",
            "text/AA/wiki_01  text/AI/wiki_65  text/AR/wiki_29  text/AZ/wiki_93\n",
            "text/AA/wiki_02  text/AI/wiki_66  text/AR/wiki_30  text/AZ/wiki_94\n",
            "text/AA/wiki_03  text/AI/wiki_67  text/AR/wiki_31  text/AZ/wiki_95\n",
            "text/AA/wiki_04  text/AI/wiki_68  text/AR/wiki_32  text/AZ/wiki_96\n",
            "text/AA/wiki_05  text/AI/wiki_69  text/AR/wiki_33  text/AZ/wiki_97\n",
            "text/AA/wiki_06  text/AI/wiki_70  text/AR/wiki_34  text/AZ/wiki_98\n",
            "text/AA/wiki_07  text/AI/wiki_71  text/AR/wiki_35  text/AZ/wiki_99\n",
            "text/AA/wiki_08  text/AI/wiki_72  text/AR/wiki_36  text/BA/wiki_00\n",
            "text/AA/wiki_09  text/AI/wiki_73  text/AR/wiki_37  text/BA/wiki_01\n",
            "text/AA/wiki_10  text/AI/wiki_74  text/AR/wiki_38  text/BA/wiki_02\n",
            "text/AA/wiki_11  text/AI/wiki_75  text/AR/wiki_39  text/BA/wiki_03\n",
            "text/AA/wiki_12  text/AI/wiki_76  text/AR/wiki_40  text/BA/wiki_04\n",
            "text/AA/wiki_13  text/AI/wiki_77  text/AR/wiki_41  text/BA/wiki_05\n",
            "text/AA/wiki_14  text/AI/wiki_78  text/AR/wiki_42  text/BA/wiki_06\n",
            "text/AA/wiki_15  text/AI/wiki_79  text/AR/wiki_43  text/BA/wiki_07\n",
            "text/AA/wiki_16  text/AI/wiki_80  text/AR/wiki_44  text/BA/wiki_08\n",
            "text/AA/wiki_17  text/AI/wiki_81  text/AR/wiki_45  text/BA/wiki_09\n",
            "text/AA/wiki_18  text/AI/wiki_82  text/AR/wiki_46  text/BA/wiki_10\n",
            "text/AA/wiki_19  text/AI/wiki_83  text/AR/wiki_47  text/BA/wiki_11\n",
            "text/AA/wiki_20  text/AI/wiki_84  text/AR/wiki_48  text/BA/wiki_12\n",
            "text/AA/wiki_21  text/AI/wiki_85  text/AR/wiki_49  text/BA/wiki_13\n",
            "text/AA/wiki_22  text/AI/wiki_86  text/AR/wiki_50  text/BA/wiki_14\n",
            "text/AA/wiki_23  text/AI/wiki_87  text/AR/wiki_51  text/BA/wiki_15\n",
            "text/AA/wiki_24  text/AI/wiki_88  text/AR/wiki_52  text/BA/wiki_16\n",
            "text/AA/wiki_25  text/AI/wiki_89  text/AR/wiki_53  text/BA/wiki_17\n",
            "text/AA/wiki_26  text/AI/wiki_90  text/AR/wiki_54  text/BA/wiki_18\n",
            "text/AA/wiki_27  text/AI/wiki_91  text/AR/wiki_55  text/BA/wiki_19\n",
            "text/AA/wiki_28  text/AI/wiki_92  text/AR/wiki_56  text/BA/wiki_20\n",
            "text/AA/wiki_29  text/AI/wiki_93  text/AR/wiki_57  text/BA/wiki_21\n",
            "text/AA/wiki_30  text/AI/wiki_94  text/AR/wiki_58  text/BA/wiki_22\n",
            "text/AA/wiki_31  text/AI/wiki_95  text/AR/wiki_59  text/BA/wiki_23\n",
            "text/AA/wiki_32  text/AI/wiki_96  text/AR/wiki_60  text/BA/wiki_24\n",
            "text/AA/wiki_33  text/AI/wiki_97  text/AR/wiki_61  text/BA/wiki_25\n",
            "text/AA/wiki_34  text/AI/wiki_98  text/AR/wiki_62  text/BA/wiki_26\n",
            "text/AA/wiki_35  text/AI/wiki_99  text/AR/wiki_63  text/BA/wiki_27\n",
            "text/AA/wiki_36  text/AJ/wiki_00  text/AR/wiki_64  text/BA/wiki_28\n",
            "text/AA/wiki_37  text/AJ/wiki_01  text/AR/wiki_65  text/BA/wiki_29\n",
            "text/AA/wiki_38  text/AJ/wiki_02  text/AR/wiki_66  text/BA/wiki_30\n",
            "text/AA/wiki_39  text/AJ/wiki_03  text/AR/wiki_67  text/BA/wiki_31\n",
            "text/AA/wiki_40  text/AJ/wiki_04  text/AR/wiki_68  text/BA/wiki_32\n",
            "text/AA/wiki_41  text/AJ/wiki_05  text/AR/wiki_69  text/BA/wiki_33\n",
            "text/AA/wiki_42  text/AJ/wiki_06  text/AR/wiki_70  text/BA/wiki_34\n",
            "text/AA/wiki_43  text/AJ/wiki_07  text/AR/wiki_71  text/BA/wiki_35\n",
            "text/AA/wiki_44  text/AJ/wiki_08  text/AR/wiki_72  text/BA/wiki_36\n",
            "text/AA/wiki_45  text/AJ/wiki_09  text/AR/wiki_73  text/BA/wiki_37\n",
            "text/AA/wiki_46  text/AJ/wiki_10  text/AR/wiki_74  text/BA/wiki_38\n",
            "text/AA/wiki_47  text/AJ/wiki_11  text/AR/wiki_75  text/BA/wiki_39\n",
            "text/AA/wiki_48  text/AJ/wiki_12  text/AR/wiki_76  text/BA/wiki_40\n",
            "text/AA/wiki_49  text/AJ/wiki_13  text/AR/wiki_77  text/BA/wiki_41\n",
            "text/AA/wiki_50  text/AJ/wiki_14  text/AR/wiki_78  text/BA/wiki_42\n",
            "text/AA/wiki_51  text/AJ/wiki_15  text/AR/wiki_79  text/BA/wiki_43\n",
            "text/AA/wiki_52  text/AJ/wiki_16  text/AR/wiki_80  text/BA/wiki_44\n",
            "text/AA/wiki_53  text/AJ/wiki_17  text/AR/wiki_81  text/BA/wiki_45\n",
            "text/AA/wiki_54  text/AJ/wiki_18  text/AR/wiki_82  text/BA/wiki_46\n",
            "text/AA/wiki_55  text/AJ/wiki_19  text/AR/wiki_83  text/BA/wiki_47\n",
            "text/AA/wiki_56  text/AJ/wiki_20  text/AR/wiki_84  text/BA/wiki_48\n",
            "text/AA/wiki_57  text/AJ/wiki_21  text/AR/wiki_85  text/BA/wiki_49\n",
            "text/AA/wiki_58  text/AJ/wiki_22  text/AR/wiki_86  text/BA/wiki_50\n",
            "text/AA/wiki_59  text/AJ/wiki_23  text/AR/wiki_87  text/BA/wiki_51\n",
            "text/AA/wiki_60  text/AJ/wiki_24  text/AR/wiki_88  text/BA/wiki_52\n",
            "text/AA/wiki_61  text/AJ/wiki_25  text/AR/wiki_89  text/BA/wiki_53\n",
            "text/AA/wiki_62  text/AJ/wiki_26  text/AR/wiki_90  text/BA/wiki_54\n",
            "text/AA/wiki_63  text/AJ/wiki_27  text/AR/wiki_91  text/BA/wiki_55\n",
            "text/AA/wiki_64  text/AJ/wiki_28  text/AR/wiki_92  text/BA/wiki_56\n",
            "text/AA/wiki_65  text/AJ/wiki_29  text/AR/wiki_93  text/BA/wiki_57\n",
            "text/AA/wiki_66  text/AJ/wiki_30  text/AR/wiki_94  text/BA/wiki_58\n",
            "text/AA/wiki_67  text/AJ/wiki_31  text/AR/wiki_95  text/BA/wiki_59\n",
            "text/AA/wiki_68  text/AJ/wiki_32  text/AR/wiki_96  text/BA/wiki_60\n",
            "text/AA/wiki_69  text/AJ/wiki_33  text/AR/wiki_97  text/BA/wiki_61\n",
            "text/AA/wiki_70  text/AJ/wiki_34  text/AR/wiki_98  text/BA/wiki_62\n",
            "text/AA/wiki_71  text/AJ/wiki_35  text/AR/wiki_99  text/BA/wiki_63\n",
            "text/AA/wiki_72  text/AJ/wiki_36  text/AS/wiki_00  text/BA/wiki_64\n",
            "text/AA/wiki_73  text/AJ/wiki_37  text/AS/wiki_01  text/BA/wiki_65\n",
            "text/AA/wiki_74  text/AJ/wiki_38  text/AS/wiki_02  text/BA/wiki_66\n",
            "text/AA/wiki_75  text/AJ/wiki_39  text/AS/wiki_03  text/BA/wiki_67\n",
            "text/AA/wiki_76  text/AJ/wiki_40  text/AS/wiki_04  text/BA/wiki_68\n",
            "text/AA/wiki_77  text/AJ/wiki_41  text/AS/wiki_05  text/BA/wiki_69\n",
            "text/AA/wiki_78  text/AJ/wiki_42  text/AS/wiki_06  text/BA/wiki_70\n",
            "text/AA/wiki_79  text/AJ/wiki_43  text/AS/wiki_07  text/BA/wiki_71\n",
            "text/AA/wiki_80  text/AJ/wiki_44  text/AS/wiki_08  text/BA/wiki_72\n",
            "text/AA/wiki_81  text/AJ/wiki_45  text/AS/wiki_09  text/BA/wiki_73\n",
            "text/AA/wiki_82  text/AJ/wiki_46  text/AS/wiki_10  text/BA/wiki_74\n",
            "text/AA/wiki_83  text/AJ/wiki_47  text/AS/wiki_11  text/BA/wiki_75\n",
            "text/AA/wiki_84  text/AJ/wiki_48  text/AS/wiki_12  text/BA/wiki_76\n",
            "text/AA/wiki_85  text/AJ/wiki_49  text/AS/wiki_13  text/BA/wiki_77\n",
            "text/AA/wiki_86  text/AJ/wiki_50  text/AS/wiki_14  text/BA/wiki_78\n",
            "text/AA/wiki_87  text/AJ/wiki_51  text/AS/wiki_15  text/BA/wiki_79\n",
            "text/AA/wiki_88  text/AJ/wiki_52  text/AS/wiki_16  text/BA/wiki_80\n",
            "text/AA/wiki_89  text/AJ/wiki_53  text/AS/wiki_17  text/BA/wiki_81\n",
            "text/AA/wiki_90  text/AJ/wiki_54  text/AS/wiki_18  text/BA/wiki_82\n",
            "text/AA/wiki_91  text/AJ/wiki_55  text/AS/wiki_19  text/BA/wiki_83\n",
            "text/AA/wiki_92  text/AJ/wiki_56  text/AS/wiki_20  text/BA/wiki_84\n",
            "text/AA/wiki_93  text/AJ/wiki_57  text/AS/wiki_21  text/BA/wiki_85\n",
            "text/AA/wiki_94  text/AJ/wiki_58  text/AS/wiki_22  text/BA/wiki_86\n",
            "text/AA/wiki_95  text/AJ/wiki_59  text/AS/wiki_23  text/BA/wiki_87\n",
            "text/AA/wiki_96  text/AJ/wiki_60  text/AS/wiki_24  text/BA/wiki_88\n",
            "text/AA/wiki_97  text/AJ/wiki_61  text/AS/wiki_25  text/BA/wiki_89\n",
            "text/AA/wiki_98  text/AJ/wiki_62  text/AS/wiki_26  text/BA/wiki_90\n",
            "text/AA/wiki_99  text/AJ/wiki_63  text/AS/wiki_27  text/BA/wiki_91\n",
            "text/AB/wiki_00  text/AJ/wiki_64  text/AS/wiki_28  text/BA/wiki_92\n",
            "text/AB/wiki_01  text/AJ/wiki_65  text/AS/wiki_29  text/BA/wiki_93\n",
            "text/AB/wiki_02  text/AJ/wiki_66  text/AS/wiki_30  text/BA/wiki_94\n",
            "text/AB/wiki_03  text/AJ/wiki_67  text/AS/wiki_31  text/BA/wiki_95\n",
            "text/AB/wiki_04  text/AJ/wiki_68  text/AS/wiki_32  text/BA/wiki_96\n",
            "text/AB/wiki_05  text/AJ/wiki_69  text/AS/wiki_33  text/BA/wiki_97\n",
            "text/AB/wiki_06  text/AJ/wiki_70  text/AS/wiki_34  text/BA/wiki_98\n",
            "text/AB/wiki_07  text/AJ/wiki_71  text/AS/wiki_35  text/BA/wiki_99\n",
            "text/AB/wiki_08  text/AJ/wiki_72  text/AS/wiki_36  text/BB/wiki_00\n",
            "text/AB/wiki_09  text/AJ/wiki_73  text/AS/wiki_37  text/BB/wiki_01\n",
            "text/AB/wiki_10  text/AJ/wiki_74  text/AS/wiki_38  text/BB/wiki_02\n",
            "text/AB/wiki_11  text/AJ/wiki_75  text/AS/wiki_39  text/BB/wiki_03\n",
            "text/AB/wiki_12  text/AJ/wiki_76  text/AS/wiki_40  text/BB/wiki_04\n",
            "text/AB/wiki_13  text/AJ/wiki_77  text/AS/wiki_41  text/BB/wiki_05\n",
            "text/AB/wiki_14  text/AJ/wiki_78  text/AS/wiki_42  text/BB/wiki_06\n",
            "text/AB/wiki_15  text/AJ/wiki_79  text/AS/wiki_43  text/BB/wiki_07\n",
            "text/AB/wiki_16  text/AJ/wiki_80  text/AS/wiki_44  text/BB/wiki_08\n",
            "text/AB/wiki_17  text/AJ/wiki_81  text/AS/wiki_45  text/BB/wiki_09\n",
            "text/AB/wiki_18  text/AJ/wiki_82  text/AS/wiki_46  text/BB/wiki_10\n",
            "text/AB/wiki_19  text/AJ/wiki_83  text/AS/wiki_47  text/BB/wiki_11\n",
            "text/AB/wiki_20  text/AJ/wiki_84  text/AS/wiki_48  text/BB/wiki_12\n",
            "text/AB/wiki_21  text/AJ/wiki_85  text/AS/wiki_49  text/BB/wiki_13\n",
            "text/AB/wiki_22  text/AJ/wiki_86  text/AS/wiki_50  text/BB/wiki_14\n",
            "text/AB/wiki_23  text/AJ/wiki_87  text/AS/wiki_51  text/BB/wiki_15\n",
            "text/AB/wiki_24  text/AJ/wiki_88  text/AS/wiki_52  text/BB/wiki_16\n",
            "text/AB/wiki_25  text/AJ/wiki_89  text/AS/wiki_53  text/BB/wiki_17\n",
            "text/AB/wiki_26  text/AJ/wiki_90  text/AS/wiki_54  text/BB/wiki_18\n",
            "text/AB/wiki_27  text/AJ/wiki_91  text/AS/wiki_55  text/BB/wiki_19\n",
            "text/AB/wiki_28  text/AJ/wiki_92  text/AS/wiki_56  text/BB/wiki_20\n",
            "text/AB/wiki_29  text/AJ/wiki_93  text/AS/wiki_57  text/BB/wiki_21\n",
            "text/AB/wiki_30  text/AJ/wiki_94  text/AS/wiki_58  text/BB/wiki_22\n",
            "text/AB/wiki_31  text/AJ/wiki_95  text/AS/wiki_59  text/BB/wiki_23\n",
            "text/AB/wiki_32  text/AJ/wiki_96  text/AS/wiki_60  text/BB/wiki_24\n",
            "text/AB/wiki_33  text/AJ/wiki_97  text/AS/wiki_61  text/BB/wiki_25\n",
            "text/AB/wiki_34  text/AJ/wiki_98  text/AS/wiki_62  text/BB/wiki_26\n",
            "text/AB/wiki_35  text/AJ/wiki_99  text/AS/wiki_63  text/BB/wiki_27\n",
            "text/AB/wiki_36  text/AK/wiki_00  text/AS/wiki_64  text/BB/wiki_28\n",
            "text/AB/wiki_37  text/AK/wiki_01  text/AS/wiki_65  text/BB/wiki_29\n",
            "text/AB/wiki_38  text/AK/wiki_02  text/AS/wiki_66  text/BB/wiki_30\n",
            "text/AB/wiki_39  text/AK/wiki_03  text/AS/wiki_67  text/BB/wiki_31\n",
            "text/AB/wiki_40  text/AK/wiki_04  text/AS/wiki_68  text/BB/wiki_32\n",
            "text/AB/wiki_41  text/AK/wiki_05  text/AS/wiki_69  text/BB/wiki_33\n",
            "text/AB/wiki_42  text/AK/wiki_06  text/AS/wiki_70  text/BB/wiki_34\n",
            "text/AB/wiki_43  text/AK/wiki_07  text/AS/wiki_71  text/BB/wiki_35\n",
            "text/AB/wiki_44  text/AK/wiki_08  text/AS/wiki_72  text/BB/wiki_36\n",
            "text/AB/wiki_45  text/AK/wiki_09  text/AS/wiki_73  text/BB/wiki_37\n",
            "text/AB/wiki_46  text/AK/wiki_10  text/AS/wiki_74  text/BB/wiki_38\n",
            "text/AB/wiki_47  text/AK/wiki_11  text/AS/wiki_75  text/BB/wiki_39\n",
            "text/AB/wiki_48  text/AK/wiki_12  text/AS/wiki_76  text/BB/wiki_40\n",
            "text/AB/wiki_49  text/AK/wiki_13  text/AS/wiki_77  text/BB/wiki_41\n",
            "text/AB/wiki_50  text/AK/wiki_14  text/AS/wiki_78  text/BB/wiki_42\n",
            "text/AB/wiki_51  text/AK/wiki_15  text/AS/wiki_79  text/BB/wiki_43\n",
            "text/AB/wiki_52  text/AK/wiki_16  text/AS/wiki_80  text/BB/wiki_44\n",
            "text/AB/wiki_53  text/AK/wiki_17  text/AS/wiki_81  text/BB/wiki_45\n",
            "text/AB/wiki_54  text/AK/wiki_18  text/AS/wiki_82  text/BB/wiki_46\n",
            "text/AB/wiki_55  text/AK/wiki_19  text/AS/wiki_83  text/BB/wiki_47\n",
            "text/AB/wiki_56  text/AK/wiki_20  text/AS/wiki_84  text/BB/wiki_48\n",
            "text/AB/wiki_57  text/AK/wiki_21  text/AS/wiki_85  text/BB/wiki_49\n",
            "text/AB/wiki_58  text/AK/wiki_22  text/AS/wiki_86  text/BB/wiki_50\n",
            "text/AB/wiki_59  text/AK/wiki_23  text/AS/wiki_87  text/BB/wiki_51\n",
            "text/AB/wiki_60  text/AK/wiki_24  text/AS/wiki_88  text/BB/wiki_52\n",
            "text/AB/wiki_61  text/AK/wiki_25  text/AS/wiki_89  text/BB/wiki_53\n",
            "text/AB/wiki_62  text/AK/wiki_26  text/AS/wiki_90  text/BB/wiki_54\n",
            "text/AB/wiki_63  text/AK/wiki_27  text/AS/wiki_91  text/BB/wiki_55\n",
            "text/AB/wiki_64  text/AK/wiki_28  text/AS/wiki_92  text/BB/wiki_56\n",
            "text/AB/wiki_65  text/AK/wiki_29  text/AS/wiki_93  text/BB/wiki_57\n",
            "text/AB/wiki_66  text/AK/wiki_30  text/AS/wiki_94  text/BB/wiki_58\n",
            "text/AB/wiki_67  text/AK/wiki_31  text/AS/wiki_95  text/BB/wiki_59\n",
            "text/AB/wiki_68  text/AK/wiki_32  text/AS/wiki_96  text/BB/wiki_60\n",
            "text/AB/wiki_69  text/AK/wiki_33  text/AS/wiki_97  text/BB/wiki_61\n",
            "text/AB/wiki_70  text/AK/wiki_34  text/AS/wiki_98  text/BB/wiki_62\n",
            "text/AB/wiki_71  text/AK/wiki_35  text/AS/wiki_99  text/BB/wiki_63\n",
            "text/AB/wiki_72  text/AK/wiki_36  text/AT/wiki_00  text/BB/wiki_64\n",
            "text/AB/wiki_73  text/AK/wiki_37  text/AT/wiki_01  text/BB/wiki_65\n",
            "text/AB/wiki_74  text/AK/wiki_38  text/AT/wiki_02  text/BB/wiki_66\n",
            "text/AB/wiki_75  text/AK/wiki_39  text/AT/wiki_03  text/BB/wiki_67\n",
            "text/AB/wiki_76  text/AK/wiki_40  text/AT/wiki_04  text/BB/wiki_68\n",
            "text/AB/wiki_77  text/AK/wiki_41  text/AT/wiki_05  text/BB/wiki_69\n",
            "text/AB/wiki_78  text/AK/wiki_42  text/AT/wiki_06  text/BB/wiki_70\n",
            "text/AB/wiki_79  text/AK/wiki_43  text/AT/wiki_07  text/BB/wiki_71\n",
            "text/AB/wiki_80  text/AK/wiki_44  text/AT/wiki_08  text/BB/wiki_72\n",
            "text/AB/wiki_81  text/AK/wiki_45  text/AT/wiki_09  text/BB/wiki_73\n",
            "text/AB/wiki_82  text/AK/wiki_46  text/AT/wiki_10  text/BB/wiki_74\n",
            "text/AB/wiki_83  text/AK/wiki_47  text/AT/wiki_11  text/BB/wiki_75\n",
            "text/AB/wiki_84  text/AK/wiki_48  text/AT/wiki_12  text/BB/wiki_76\n",
            "text/AB/wiki_85  text/AK/wiki_49  text/AT/wiki_13  text/BB/wiki_77\n",
            "text/AB/wiki_86  text/AK/wiki_50  text/AT/wiki_14  text/BB/wiki_78\n",
            "text/AB/wiki_87  text/AK/wiki_51  text/AT/wiki_15  text/BB/wiki_79\n",
            "text/AB/wiki_88  text/AK/wiki_52  text/AT/wiki_16  text/BB/wiki_80\n",
            "text/AB/wiki_89  text/AK/wiki_53  text/AT/wiki_17  text/BB/wiki_81\n",
            "text/AB/wiki_90  text/AK/wiki_54  text/AT/wiki_18  text/BB/wiki_82\n",
            "text/AB/wiki_91  text/AK/wiki_55  text/AT/wiki_19  text/BB/wiki_83\n",
            "text/AB/wiki_92  text/AK/wiki_56  text/AT/wiki_20  text/BB/wiki_84\n",
            "text/AB/wiki_93  text/AK/wiki_57  text/AT/wiki_21  text/BB/wiki_85\n",
            "text/AB/wiki_94  text/AK/wiki_58  text/AT/wiki_22  text/BB/wiki_86\n",
            "text/AB/wiki_95  text/AK/wiki_59  text/AT/wiki_23  text/BB/wiki_87\n",
            "text/AB/wiki_96  text/AK/wiki_60  text/AT/wiki_24  text/BB/wiki_88\n",
            "text/AB/wiki_97  text/AK/wiki_61  text/AT/wiki_25  text/BB/wiki_89\n",
            "text/AB/wiki_98  text/AK/wiki_62  text/AT/wiki_26  text/BB/wiki_90\n",
            "text/AB/wiki_99  text/AK/wiki_63  text/AT/wiki_27  text/BB/wiki_91\n",
            "text/AC/wiki_00  text/AK/wiki_64  text/AT/wiki_28  text/BB/wiki_92\n",
            "text/AC/wiki_01  text/AK/wiki_65  text/AT/wiki_29  text/BB/wiki_93\n",
            "text/AC/wiki_02  text/AK/wiki_66  text/AT/wiki_30  text/BB/wiki_94\n",
            "text/AC/wiki_03  text/AK/wiki_67  text/AT/wiki_31  text/BB/wiki_95\n",
            "text/AC/wiki_04  text/AK/wiki_68  text/AT/wiki_32  text/BB/wiki_96\n",
            "text/AC/wiki_05  text/AK/wiki_69  text/AT/wiki_33  text/BB/wiki_97\n",
            "text/AC/wiki_06  text/AK/wiki_70  text/AT/wiki_34  text/BB/wiki_98\n",
            "text/AC/wiki_07  text/AK/wiki_71  text/AT/wiki_35  text/BB/wiki_99\n",
            "text/AC/wiki_08  text/AK/wiki_72  text/AT/wiki_36  text/BC/wiki_00\n",
            "text/AC/wiki_09  text/AK/wiki_73  text/AT/wiki_37  text/BC/wiki_01\n",
            "text/AC/wiki_10  text/AK/wiki_74  text/AT/wiki_38  text/BC/wiki_02\n",
            "text/AC/wiki_11  text/AK/wiki_75  text/AT/wiki_39  text/BC/wiki_03\n",
            "text/AC/wiki_12  text/AK/wiki_76  text/AT/wiki_40  text/BC/wiki_04\n",
            "text/AC/wiki_13  text/AK/wiki_77  text/AT/wiki_41  text/BC/wiki_05\n",
            "text/AC/wiki_14  text/AK/wiki_78  text/AT/wiki_42  text/BC/wiki_06\n",
            "text/AC/wiki_15  text/AK/wiki_79  text/AT/wiki_43  text/BC/wiki_07\n",
            "text/AC/wiki_16  text/AK/wiki_80  text/AT/wiki_44  text/BC/wiki_08\n",
            "text/AC/wiki_17  text/AK/wiki_81  text/AT/wiki_45  text/BC/wiki_09\n",
            "text/AC/wiki_18  text/AK/wiki_82  text/AT/wiki_46  text/BC/wiki_10\n",
            "text/AC/wiki_19  text/AK/wiki_83  text/AT/wiki_47  text/BC/wiki_11\n",
            "text/AC/wiki_20  text/AK/wiki_84  text/AT/wiki_48  text/BC/wiki_12\n",
            "text/AC/wiki_21  text/AK/wiki_85  text/AT/wiki_49  text/BC/wiki_13\n",
            "text/AC/wiki_22  text/AK/wiki_86  text/AT/wiki_50  text/BC/wiki_14\n",
            "text/AC/wiki_23  text/AK/wiki_87  text/AT/wiki_51  text/BC/wiki_15\n",
            "text/AC/wiki_24  text/AK/wiki_88  text/AT/wiki_52  text/BC/wiki_16\n",
            "text/AC/wiki_25  text/AK/wiki_89  text/AT/wiki_53  text/BC/wiki_17\n",
            "text/AC/wiki_26  text/AK/wiki_90  text/AT/wiki_54  text/BC/wiki_18\n",
            "text/AC/wiki_27  text/AK/wiki_91  text/AT/wiki_55  text/BC/wiki_19\n",
            "text/AC/wiki_28  text/AK/wiki_92  text/AT/wiki_56  text/BC/wiki_20\n",
            "text/AC/wiki_29  text/AK/wiki_93  text/AT/wiki_57  text/BC/wiki_21\n",
            "text/AC/wiki_30  text/AK/wiki_94  text/AT/wiki_58  text/BC/wiki_22\n",
            "text/AC/wiki_31  text/AK/wiki_95  text/AT/wiki_59  text/BC/wiki_23\n",
            "text/AC/wiki_32  text/AK/wiki_96  text/AT/wiki_60  text/BC/wiki_24\n",
            "text/AC/wiki_33  text/AK/wiki_97  text/AT/wiki_61  text/BC/wiki_25\n",
            "text/AC/wiki_34  text/AK/wiki_98  text/AT/wiki_62  text/BC/wiki_26\n",
            "text/AC/wiki_35  text/AK/wiki_99  text/AT/wiki_63  text/BC/wiki_27\n",
            "text/AC/wiki_36  text/AL/wiki_00  text/AT/wiki_64  text/BC/wiki_28\n",
            "text/AC/wiki_37  text/AL/wiki_01  text/AT/wiki_65  text/BC/wiki_29\n",
            "text/AC/wiki_38  text/AL/wiki_02  text/AT/wiki_66  text/BC/wiki_30\n",
            "text/AC/wiki_39  text/AL/wiki_03  text/AT/wiki_67  text/BC/wiki_31\n",
            "text/AC/wiki_40  text/AL/wiki_04  text/AT/wiki_68  text/BC/wiki_32\n",
            "text/AC/wiki_41  text/AL/wiki_05  text/AT/wiki_69  text/BC/wiki_33\n",
            "text/AC/wiki_42  text/AL/wiki_06  text/AT/wiki_70  text/BC/wiki_34\n",
            "text/AC/wiki_43  text/AL/wiki_07  text/AT/wiki_71  text/BC/wiki_35\n",
            "text/AC/wiki_44  text/AL/wiki_08  text/AT/wiki_72  text/BC/wiki_36\n",
            "text/AC/wiki_45  text/AL/wiki_09  text/AT/wiki_73  text/BC/wiki_37\n",
            "text/AC/wiki_46  text/AL/wiki_10  text/AT/wiki_74  text/BC/wiki_38\n",
            "text/AC/wiki_47  text/AL/wiki_11  text/AT/wiki_75  text/BC/wiki_39\n",
            "text/AC/wiki_48  text/AL/wiki_12  text/AT/wiki_76  text/BC/wiki_40\n",
            "text/AC/wiki_49  text/AL/wiki_13  text/AT/wiki_77  text/BC/wiki_41\n",
            "text/AC/wiki_50  text/AL/wiki_14  text/AT/wiki_78  text/BC/wiki_42\n",
            "text/AC/wiki_51  text/AL/wiki_15  text/AT/wiki_79  text/BC/wiki_43\n",
            "text/AC/wiki_52  text/AL/wiki_16  text/AT/wiki_80  text/BC/wiki_44\n",
            "text/AC/wiki_53  text/AL/wiki_17  text/AT/wiki_81  text/BC/wiki_45\n",
            "text/AC/wiki_54  text/AL/wiki_18  text/AT/wiki_82  text/BC/wiki_46\n",
            "text/AC/wiki_55  text/AL/wiki_19  text/AT/wiki_83  text/BC/wiki_47\n",
            "text/AC/wiki_56  text/AL/wiki_20  text/AT/wiki_84  text/BC/wiki_48\n",
            "text/AC/wiki_57  text/AL/wiki_21  text/AT/wiki_85  text/BC/wiki_49\n",
            "text/AC/wiki_58  text/AL/wiki_22  text/AT/wiki_86  text/BC/wiki_50\n",
            "text/AC/wiki_59  text/AL/wiki_23  text/AT/wiki_87  text/BC/wiki_51\n",
            "text/AC/wiki_60  text/AL/wiki_24  text/AT/wiki_88  text/BC/wiki_52\n",
            "text/AC/wiki_61  text/AL/wiki_25  text/AT/wiki_89  text/BC/wiki_53\n",
            "text/AC/wiki_62  text/AL/wiki_26  text/AT/wiki_90  text/BC/wiki_54\n",
            "text/AC/wiki_63  text/AL/wiki_27  text/AT/wiki_91  text/BC/wiki_55\n",
            "text/AC/wiki_64  text/AL/wiki_28  text/AT/wiki_92  text/BC/wiki_56\n",
            "text/AC/wiki_65  text/AL/wiki_29  text/AT/wiki_93  text/BC/wiki_57\n",
            "text/AC/wiki_66  text/AL/wiki_30  text/AT/wiki_94  text/BC/wiki_58\n",
            "text/AC/wiki_67  text/AL/wiki_31  text/AT/wiki_95  text/BC/wiki_59\n",
            "text/AC/wiki_68  text/AL/wiki_32  text/AT/wiki_96  text/BC/wiki_60\n",
            "text/AC/wiki_69  text/AL/wiki_33  text/AT/wiki_97  text/BC/wiki_61\n",
            "text/AC/wiki_70  text/AL/wiki_34  text/AT/wiki_98  text/BC/wiki_62\n",
            "text/AC/wiki_71  text/AL/wiki_35  text/AT/wiki_99  text/BC/wiki_63\n",
            "text/AC/wiki_72  text/AL/wiki_36  text/AU/wiki_00  text/BC/wiki_64\n",
            "text/AC/wiki_73  text/AL/wiki_37  text/AU/wiki_01  text/BC/wiki_65\n",
            "text/AC/wiki_74  text/AL/wiki_38  text/AU/wiki_02  text/BC/wiki_66\n",
            "text/AC/wiki_75  text/AL/wiki_39  text/AU/wiki_03  text/BC/wiki_67\n",
            "text/AC/wiki_76  text/AL/wiki_40  text/AU/wiki_04  text/BC/wiki_68\n",
            "text/AC/wiki_77  text/AL/wiki_41  text/AU/wiki_05  text/BC/wiki_69\n",
            "text/AC/wiki_78  text/AL/wiki_42  text/AU/wiki_06  text/BC/wiki_70\n",
            "text/AC/wiki_79  text/AL/wiki_43  text/AU/wiki_07  text/BC/wiki_71\n",
            "text/AC/wiki_80  text/AL/wiki_44  text/AU/wiki_08  text/BC/wiki_72\n",
            "text/AC/wiki_81  text/AL/wiki_45  text/AU/wiki_09  text/BC/wiki_73\n",
            "text/AC/wiki_82  text/AL/wiki_46  text/AU/wiki_10  text/BC/wiki_74\n",
            "text/AC/wiki_83  text/AL/wiki_47  text/AU/wiki_11  text/BC/wiki_75\n",
            "text/AC/wiki_84  text/AL/wiki_48  text/AU/wiki_12  text/BC/wiki_76\n",
            "text/AC/wiki_85  text/AL/wiki_49  text/AU/wiki_13  text/BC/wiki_77\n",
            "text/AC/wiki_86  text/AL/wiki_50  text/AU/wiki_14  text/BC/wiki_78\n",
            "text/AC/wiki_87  text/AL/wiki_51  text/AU/wiki_15  text/BC/wiki_79\n",
            "text/AC/wiki_88  text/AL/wiki_52  text/AU/wiki_16  text/BC/wiki_80\n",
            "text/AC/wiki_89  text/AL/wiki_53  text/AU/wiki_17  text/BC/wiki_81\n",
            "text/AC/wiki_90  text/AL/wiki_54  text/AU/wiki_18  text/BC/wiki_82\n",
            "text/AC/wiki_91  text/AL/wiki_55  text/AU/wiki_19  text/BC/wiki_83\n",
            "text/AC/wiki_92  text/AL/wiki_56  text/AU/wiki_20  text/BC/wiki_84\n",
            "text/AC/wiki_93  text/AL/wiki_57  text/AU/wiki_21  text/BC/wiki_85\n",
            "text/AC/wiki_94  text/AL/wiki_58  text/AU/wiki_22  text/BC/wiki_86\n",
            "text/AC/wiki_95  text/AL/wiki_59  text/AU/wiki_23  text/BC/wiki_87\n",
            "text/AC/wiki_96  text/AL/wiki_60  text/AU/wiki_24  text/BC/wiki_88\n",
            "text/AC/wiki_97  text/AL/wiki_61  text/AU/wiki_25  text/BC/wiki_89\n",
            "text/AC/wiki_98  text/AL/wiki_62  text/AU/wiki_26  text/BC/wiki_90\n",
            "text/AC/wiki_99  text/AL/wiki_63  text/AU/wiki_27  text/BC/wiki_91\n",
            "text/AD/wiki_00  text/AL/wiki_64  text/AU/wiki_28  text/BC/wiki_92\n",
            "text/AD/wiki_01  text/AL/wiki_65  text/AU/wiki_29  text/BC/wiki_93\n",
            "text/AD/wiki_02  text/AL/wiki_66  text/AU/wiki_30  text/BC/wiki_94\n",
            "text/AD/wiki_03  text/AL/wiki_67  text/AU/wiki_31  text/BC/wiki_95\n",
            "text/AD/wiki_04  text/AL/wiki_68  text/AU/wiki_32  text/BC/wiki_96\n",
            "text/AD/wiki_05  text/AL/wiki_69  text/AU/wiki_33  text/BC/wiki_97\n",
            "text/AD/wiki_06  text/AL/wiki_70  text/AU/wiki_34  text/BC/wiki_98\n",
            "text/AD/wiki_07  text/AL/wiki_71  text/AU/wiki_35  text/BC/wiki_99\n",
            "text/AD/wiki_08  text/AL/wiki_72  text/AU/wiki_36  text/BD/wiki_00\n",
            "text/AD/wiki_09  text/AL/wiki_73  text/AU/wiki_37  text/BD/wiki_01\n",
            "text/AD/wiki_10  text/AL/wiki_74  text/AU/wiki_38  text/BD/wiki_02\n",
            "text/AD/wiki_11  text/AL/wiki_75  text/AU/wiki_39  text/BD/wiki_03\n",
            "text/AD/wiki_12  text/AL/wiki_76  text/AU/wiki_40  text/BD/wiki_04\n",
            "text/AD/wiki_13  text/AL/wiki_77  text/AU/wiki_41  text/BD/wiki_05\n",
            "text/AD/wiki_14  text/AL/wiki_78  text/AU/wiki_42  text/BD/wiki_06\n",
            "text/AD/wiki_15  text/AL/wiki_79  text/AU/wiki_43  text/BD/wiki_07\n",
            "text/AD/wiki_16  text/AL/wiki_80  text/AU/wiki_44  text/BD/wiki_08\n",
            "text/AD/wiki_17  text/AL/wiki_81  text/AU/wiki_45  text/BD/wiki_09\n",
            "text/AD/wiki_18  text/AL/wiki_82  text/AU/wiki_46  text/BD/wiki_10\n",
            "text/AD/wiki_19  text/AL/wiki_83  text/AU/wiki_47  text/BD/wiki_11\n",
            "text/AD/wiki_20  text/AL/wiki_84  text/AU/wiki_48  text/BD/wiki_12\n",
            "text/AD/wiki_21  text/AL/wiki_85  text/AU/wiki_49  text/BD/wiki_13\n",
            "text/AD/wiki_22  text/AL/wiki_86  text/AU/wiki_50  text/BD/wiki_14\n",
            "text/AD/wiki_23  text/AL/wiki_87  text/AU/wiki_51  text/BD/wiki_15\n",
            "text/AD/wiki_24  text/AL/wiki_88  text/AU/wiki_52  text/BD/wiki_16\n",
            "text/AD/wiki_25  text/AL/wiki_89  text/AU/wiki_53  text/BD/wiki_17\n",
            "text/AD/wiki_26  text/AL/wiki_90  text/AU/wiki_54  text/BD/wiki_18\n",
            "text/AD/wiki_27  text/AL/wiki_91  text/AU/wiki_55  text/BD/wiki_19\n",
            "text/AD/wiki_28  text/AL/wiki_92  text/AU/wiki_56  text/BD/wiki_20\n",
            "text/AD/wiki_29  text/AL/wiki_93  text/AU/wiki_57  text/BD/wiki_21\n",
            "text/AD/wiki_30  text/AL/wiki_94  text/AU/wiki_58  text/BD/wiki_22\n",
            "text/AD/wiki_31  text/AL/wiki_95  text/AU/wiki_59  text/BD/wiki_23\n",
            "text/AD/wiki_32  text/AL/wiki_96  text/AU/wiki_60  text/BD/wiki_24\n",
            "text/AD/wiki_33  text/AL/wiki_97  text/AU/wiki_61  text/BD/wiki_25\n",
            "text/AD/wiki_34  text/AL/wiki_98  text/AU/wiki_62  text/BD/wiki_26\n",
            "text/AD/wiki_35  text/AL/wiki_99  text/AU/wiki_63  text/BD/wiki_27\n",
            "text/AD/wiki_36  text/AM/wiki_00  text/AU/wiki_64  text/BD/wiki_28\n",
            "text/AD/wiki_37  text/AM/wiki_01  text/AU/wiki_65  text/BD/wiki_29\n",
            "text/AD/wiki_38  text/AM/wiki_02  text/AU/wiki_66  text/BD/wiki_30\n",
            "text/AD/wiki_39  text/AM/wiki_03  text/AU/wiki_67  text/BD/wiki_31\n",
            "text/AD/wiki_40  text/AM/wiki_04  text/AU/wiki_68  text/BD/wiki_32\n",
            "text/AD/wiki_41  text/AM/wiki_05  text/AU/wiki_69  text/BD/wiki_33\n",
            "text/AD/wiki_42  text/AM/wiki_06  text/AU/wiki_70  text/BD/wiki_34\n",
            "text/AD/wiki_43  text/AM/wiki_07  text/AU/wiki_71  text/BD/wiki_35\n",
            "text/AD/wiki_44  text/AM/wiki_08  text/AU/wiki_72  text/BD/wiki_36\n",
            "text/AD/wiki_45  text/AM/wiki_09  text/AU/wiki_73  text/BD/wiki_37\n",
            "text/AD/wiki_46  text/AM/wiki_10  text/AU/wiki_74  text/BD/wiki_38\n",
            "text/AD/wiki_47  text/AM/wiki_11  text/AU/wiki_75  text/BD/wiki_39\n",
            "text/AD/wiki_48  text/AM/wiki_12  text/AU/wiki_76  text/BD/wiki_40\n",
            "text/AD/wiki_49  text/AM/wiki_13  text/AU/wiki_77  text/BD/wiki_41\n",
            "text/AD/wiki_50  text/AM/wiki_14  text/AU/wiki_78  text/BD/wiki_42\n",
            "text/AD/wiki_51  text/AM/wiki_15  text/AU/wiki_79  text/BD/wiki_43\n",
            "text/AD/wiki_52  text/AM/wiki_16  text/AU/wiki_80  text/BD/wiki_44\n",
            "text/AD/wiki_53  text/AM/wiki_17  text/AU/wiki_81  text/BD/wiki_45\n",
            "text/AD/wiki_54  text/AM/wiki_18  text/AU/wiki_82  text/BD/wiki_46\n",
            "text/AD/wiki_55  text/AM/wiki_19  text/AU/wiki_83  text/BD/wiki_47\n",
            "text/AD/wiki_56  text/AM/wiki_20  text/AU/wiki_84  text/BD/wiki_48\n",
            "text/AD/wiki_57  text/AM/wiki_21  text/AU/wiki_85  text/BD/wiki_49\n",
            "text/AD/wiki_58  text/AM/wiki_22  text/AU/wiki_86  text/BD/wiki_50\n",
            "text/AD/wiki_59  text/AM/wiki_23  text/AU/wiki_87  text/BD/wiki_51\n",
            "text/AD/wiki_60  text/AM/wiki_24  text/AU/wiki_88  text/BD/wiki_52\n",
            "text/AD/wiki_61  text/AM/wiki_25  text/AU/wiki_89  text/BD/wiki_53\n",
            "text/AD/wiki_62  text/AM/wiki_26  text/AU/wiki_90  text/BD/wiki_54\n",
            "text/AD/wiki_63  text/AM/wiki_27  text/AU/wiki_91  text/BD/wiki_55\n",
            "text/AD/wiki_64  text/AM/wiki_28  text/AU/wiki_92  text/BD/wiki_56\n",
            "text/AD/wiki_65  text/AM/wiki_29  text/AU/wiki_93  text/BD/wiki_57\n",
            "text/AD/wiki_66  text/AM/wiki_30  text/AU/wiki_94  text/BD/wiki_58\n",
            "text/AD/wiki_67  text/AM/wiki_31  text/AU/wiki_95  text/BD/wiki_59\n",
            "text/AD/wiki_68  text/AM/wiki_32  text/AU/wiki_96  text/BD/wiki_60\n",
            "text/AD/wiki_69  text/AM/wiki_33  text/AU/wiki_97  text/BD/wiki_61\n",
            "text/AD/wiki_70  text/AM/wiki_34  text/AU/wiki_98  text/BD/wiki_62\n",
            "text/AD/wiki_71  text/AM/wiki_35  text/AU/wiki_99  text/BD/wiki_63\n",
            "text/AD/wiki_72  text/AM/wiki_36  text/AV/wiki_00  text/BD/wiki_64\n",
            "text/AD/wiki_73  text/AM/wiki_37  text/AV/wiki_01  text/BD/wiki_65\n",
            "text/AD/wiki_74  text/AM/wiki_38  text/AV/wiki_02  text/BD/wiki_66\n",
            "text/AD/wiki_75  text/AM/wiki_39  text/AV/wiki_03  text/BD/wiki_67\n",
            "text/AD/wiki_76  text/AM/wiki_40  text/AV/wiki_04  text/BD/wiki_68\n",
            "text/AD/wiki_77  text/AM/wiki_41  text/AV/wiki_05  text/BD/wiki_69\n",
            "text/AD/wiki_78  text/AM/wiki_42  text/AV/wiki_06  text/BD/wiki_70\n",
            "text/AD/wiki_79  text/AM/wiki_43  text/AV/wiki_07  text/BD/wiki_71\n",
            "text/AD/wiki_80  text/AM/wiki_44  text/AV/wiki_08  text/BD/wiki_72\n",
            "text/AD/wiki_81  text/AM/wiki_45  text/AV/wiki_09  text/BD/wiki_73\n",
            "text/AD/wiki_82  text/AM/wiki_46  text/AV/wiki_10  text/BD/wiki_74\n",
            "text/AD/wiki_83  text/AM/wiki_47  text/AV/wiki_11  text/BD/wiki_75\n",
            "text/AD/wiki_84  text/AM/wiki_48  text/AV/wiki_12  text/BD/wiki_76\n",
            "text/AD/wiki_85  text/AM/wiki_49  text/AV/wiki_13  text/BD/wiki_77\n",
            "text/AD/wiki_86  text/AM/wiki_50  text/AV/wiki_14  text/BD/wiki_78\n",
            "text/AD/wiki_87  text/AM/wiki_51  text/AV/wiki_15  text/BD/wiki_79\n",
            "text/AD/wiki_88  text/AM/wiki_52  text/AV/wiki_16  text/BD/wiki_80\n",
            "text/AD/wiki_89  text/AM/wiki_53  text/AV/wiki_17  text/BD/wiki_81\n",
            "text/AD/wiki_90  text/AM/wiki_54  text/AV/wiki_18  text/BD/wiki_82\n",
            "text/AD/wiki_91  text/AM/wiki_55  text/AV/wiki_19  text/BD/wiki_83\n",
            "text/AD/wiki_92  text/AM/wiki_56  text/AV/wiki_20  text/BD/wiki_84\n",
            "text/AD/wiki_93  text/AM/wiki_57  text/AV/wiki_21  text/BD/wiki_85\n",
            "text/AD/wiki_94  text/AM/wiki_58  text/AV/wiki_22  text/BD/wiki_86\n",
            "text/AD/wiki_95  text/AM/wiki_59  text/AV/wiki_23  text/BD/wiki_87\n",
            "text/AD/wiki_96  text/AM/wiki_60  text/AV/wiki_24  text/BD/wiki_88\n",
            "text/AD/wiki_97  text/AM/wiki_61  text/AV/wiki_25  text/BD/wiki_89\n",
            "text/AD/wiki_98  text/AM/wiki_62  text/AV/wiki_26  text/BD/wiki_90\n",
            "text/AD/wiki_99  text/AM/wiki_63  text/AV/wiki_27  text/BD/wiki_91\n",
            "text/AE/wiki_00  text/AM/wiki_64  text/AV/wiki_28  text/BD/wiki_92\n",
            "text/AE/wiki_01  text/AM/wiki_65  text/AV/wiki_29  text/BD/wiki_93\n",
            "text/AE/wiki_02  text/AM/wiki_66  text/AV/wiki_30  text/BD/wiki_94\n",
            "text/AE/wiki_03  text/AM/wiki_67  text/AV/wiki_31  text/BD/wiki_95\n",
            "text/AE/wiki_04  text/AM/wiki_68  text/AV/wiki_32  text/BD/wiki_96\n",
            "text/AE/wiki_05  text/AM/wiki_69  text/AV/wiki_33  text/BD/wiki_97\n",
            "text/AE/wiki_06  text/AM/wiki_70  text/AV/wiki_34  text/BD/wiki_98\n",
            "text/AE/wiki_07  text/AM/wiki_71  text/AV/wiki_35  text/BD/wiki_99\n",
            "text/AE/wiki_08  text/AM/wiki_72  text/AV/wiki_36  text/BE/wiki_00\n",
            "text/AE/wiki_09  text/AM/wiki_73  text/AV/wiki_37  text/BE/wiki_01\n",
            "text/AE/wiki_10  text/AM/wiki_74  text/AV/wiki_38  text/BE/wiki_02\n",
            "text/AE/wiki_11  text/AM/wiki_75  text/AV/wiki_39  text/BE/wiki_03\n",
            "text/AE/wiki_12  text/AM/wiki_76  text/AV/wiki_40  text/BE/wiki_04\n",
            "text/AE/wiki_13  text/AM/wiki_77  text/AV/wiki_41  text/BE/wiki_05\n",
            "text/AE/wiki_14  text/AM/wiki_78  text/AV/wiki_42  text/BE/wiki_06\n",
            "text/AE/wiki_15  text/AM/wiki_79  text/AV/wiki_43  text/BE/wiki_07\n",
            "text/AE/wiki_16  text/AM/wiki_80  text/AV/wiki_44  text/BE/wiki_08\n",
            "text/AE/wiki_17  text/AM/wiki_81  text/AV/wiki_45  text/BE/wiki_09\n",
            "text/AE/wiki_18  text/AM/wiki_82  text/AV/wiki_46  text/BE/wiki_10\n",
            "text/AE/wiki_19  text/AM/wiki_83  text/AV/wiki_47  text/BE/wiki_11\n",
            "text/AE/wiki_20  text/AM/wiki_84  text/AV/wiki_48  text/BE/wiki_12\n",
            "text/AE/wiki_21  text/AM/wiki_85  text/AV/wiki_49  text/BE/wiki_13\n",
            "text/AE/wiki_22  text/AM/wiki_86  text/AV/wiki_50  text/BE/wiki_14\n",
            "text/AE/wiki_23  text/AM/wiki_87  text/AV/wiki_51  text/BE/wiki_15\n",
            "text/AE/wiki_24  text/AM/wiki_88  text/AV/wiki_52  text/BE/wiki_16\n",
            "text/AE/wiki_25  text/AM/wiki_89  text/AV/wiki_53  text/BE/wiki_17\n",
            "text/AE/wiki_26  text/AM/wiki_90  text/AV/wiki_54  text/BE/wiki_18\n",
            "text/AE/wiki_27  text/AM/wiki_91  text/AV/wiki_55  text/BE/wiki_19\n",
            "text/AE/wiki_28  text/AM/wiki_92  text/AV/wiki_56  text/BE/wiki_20\n",
            "text/AE/wiki_29  text/AM/wiki_93  text/AV/wiki_57  text/BE/wiki_21\n",
            "text/AE/wiki_30  text/AM/wiki_94  text/AV/wiki_58  text/BE/wiki_22\n",
            "text/AE/wiki_31  text/AM/wiki_95  text/AV/wiki_59  text/BE/wiki_23\n",
            "text/AE/wiki_32  text/AM/wiki_96  text/AV/wiki_60  text/BE/wiki_24\n",
            "text/AE/wiki_33  text/AM/wiki_97  text/AV/wiki_61  text/BE/wiki_25\n",
            "text/AE/wiki_34  text/AM/wiki_98  text/AV/wiki_62  text/BE/wiki_26\n",
            "text/AE/wiki_35  text/AM/wiki_99  text/AV/wiki_63  text/BE/wiki_27\n",
            "text/AE/wiki_36  text/AN/wiki_00  text/AV/wiki_64  text/BE/wiki_28\n",
            "text/AE/wiki_37  text/AN/wiki_01  text/AV/wiki_65  text/BE/wiki_29\n",
            "text/AE/wiki_38  text/AN/wiki_02  text/AV/wiki_66  text/BE/wiki_30\n",
            "text/AE/wiki_39  text/AN/wiki_03  text/AV/wiki_67  text/BE/wiki_31\n",
            "text/AE/wiki_40  text/AN/wiki_04  text/AV/wiki_68  text/BE/wiki_32\n",
            "text/AE/wiki_41  text/AN/wiki_05  text/AV/wiki_69  text/BE/wiki_33\n",
            "text/AE/wiki_42  text/AN/wiki_06  text/AV/wiki_70  text/BE/wiki_34\n",
            "text/AE/wiki_43  text/AN/wiki_07  text/AV/wiki_71  text/BE/wiki_35\n",
            "text/AE/wiki_44  text/AN/wiki_08  text/AV/wiki_72  text/BE/wiki_36\n",
            "text/AE/wiki_45  text/AN/wiki_09  text/AV/wiki_73  text/BE/wiki_37\n",
            "text/AE/wiki_46  text/AN/wiki_10  text/AV/wiki_74  text/BE/wiki_38\n",
            "text/AE/wiki_47  text/AN/wiki_11  text/AV/wiki_75  text/BE/wiki_39\n",
            "text/AE/wiki_48  text/AN/wiki_12  text/AV/wiki_76  text/BE/wiki_40\n",
            "text/AE/wiki_49  text/AN/wiki_13  text/AV/wiki_77  text/BE/wiki_41\n",
            "text/AE/wiki_50  text/AN/wiki_14  text/AV/wiki_78  text/BE/wiki_42\n",
            "text/AE/wiki_51  text/AN/wiki_15  text/AV/wiki_79  text/BE/wiki_43\n",
            "text/AE/wiki_52  text/AN/wiki_16  text/AV/wiki_80  text/BE/wiki_44\n",
            "text/AE/wiki_53  text/AN/wiki_17  text/AV/wiki_81  text/BE/wiki_45\n",
            "text/AE/wiki_54  text/AN/wiki_18  text/AV/wiki_82  text/BE/wiki_46\n",
            "text/AE/wiki_55  text/AN/wiki_19  text/AV/wiki_83  text/BE/wiki_47\n",
            "text/AE/wiki_56  text/AN/wiki_20  text/AV/wiki_84  text/BE/wiki_48\n",
            "text/AE/wiki_57  text/AN/wiki_21  text/AV/wiki_85  text/BE/wiki_49\n",
            "text/AE/wiki_58  text/AN/wiki_22  text/AV/wiki_86  text/BE/wiki_50\n",
            "text/AE/wiki_59  text/AN/wiki_23  text/AV/wiki_87  text/BE/wiki_51\n",
            "text/AE/wiki_60  text/AN/wiki_24  text/AV/wiki_88  text/BE/wiki_52\n",
            "text/AE/wiki_61  text/AN/wiki_25  text/AV/wiki_89  text/BE/wiki_53\n",
            "text/AE/wiki_62  text/AN/wiki_26  text/AV/wiki_90  text/BE/wiki_54\n",
            "text/AE/wiki_63  text/AN/wiki_27  text/AV/wiki_91  text/BE/wiki_55\n",
            "text/AE/wiki_64  text/AN/wiki_28  text/AV/wiki_92  text/BE/wiki_56\n",
            "text/AE/wiki_65  text/AN/wiki_29  text/AV/wiki_93  text/BE/wiki_57\n",
            "text/AE/wiki_66  text/AN/wiki_30  text/AV/wiki_94  text/BE/wiki_58\n",
            "text/AE/wiki_67  text/AN/wiki_31  text/AV/wiki_95  text/BE/wiki_59\n",
            "text/AE/wiki_68  text/AN/wiki_32  text/AV/wiki_96  text/BE/wiki_60\n",
            "text/AE/wiki_69  text/AN/wiki_33  text/AV/wiki_97  text/BE/wiki_61\n",
            "text/AE/wiki_70  text/AN/wiki_34  text/AV/wiki_98  text/BE/wiki_62\n",
            "text/AE/wiki_71  text/AN/wiki_35  text/AV/wiki_99  text/BE/wiki_63\n",
            "text/AE/wiki_72  text/AN/wiki_36  text/AW/wiki_00  text/BE/wiki_64\n",
            "text/AE/wiki_73  text/AN/wiki_37  text/AW/wiki_01  text/BE/wiki_65\n",
            "text/AE/wiki_74  text/AN/wiki_38  text/AW/wiki_02  text/BE/wiki_66\n",
            "text/AE/wiki_75  text/AN/wiki_39  text/AW/wiki_03  text/BE/wiki_67\n",
            "text/AE/wiki_76  text/AN/wiki_40  text/AW/wiki_04  text/BE/wiki_68\n",
            "text/AE/wiki_77  text/AN/wiki_41  text/AW/wiki_05  text/BE/wiki_69\n",
            "text/AE/wiki_78  text/AN/wiki_42  text/AW/wiki_06  text/BE/wiki_70\n",
            "text/AE/wiki_79  text/AN/wiki_43  text/AW/wiki_07  text/BE/wiki_71\n",
            "text/AE/wiki_80  text/AN/wiki_44  text/AW/wiki_08  text/BE/wiki_72\n",
            "text/AE/wiki_81  text/AN/wiki_45  text/AW/wiki_09  text/BE/wiki_73\n",
            "text/AE/wiki_82  text/AN/wiki_46  text/AW/wiki_10  text/BE/wiki_74\n",
            "text/AE/wiki_83  text/AN/wiki_47  text/AW/wiki_11  text/BE/wiki_75\n",
            "text/AE/wiki_84  text/AN/wiki_48  text/AW/wiki_12  text/BE/wiki_76\n",
            "text/AE/wiki_85  text/AN/wiki_49  text/AW/wiki_13  text/BE/wiki_77\n",
            "text/AE/wiki_86  text/AN/wiki_50  text/AW/wiki_14  text/BE/wiki_78\n",
            "text/AE/wiki_87  text/AN/wiki_51  text/AW/wiki_15  text/BE/wiki_79\n",
            "text/AE/wiki_88  text/AN/wiki_52  text/AW/wiki_16  text/BE/wiki_80\n",
            "text/AE/wiki_89  text/AN/wiki_53  text/AW/wiki_17  text/BE/wiki_81\n",
            "text/AE/wiki_90  text/AN/wiki_54  text/AW/wiki_18  text/BE/wiki_82\n",
            "text/AE/wiki_91  text/AN/wiki_55  text/AW/wiki_19  text/BE/wiki_83\n",
            "text/AE/wiki_92  text/AN/wiki_56  text/AW/wiki_20  text/BE/wiki_84\n",
            "text/AE/wiki_93  text/AN/wiki_57  text/AW/wiki_21  text/BE/wiki_85\n",
            "text/AE/wiki_94  text/AN/wiki_58  text/AW/wiki_22  text/BE/wiki_86\n",
            "text/AE/wiki_95  text/AN/wiki_59  text/AW/wiki_23  text/BE/wiki_87\n",
            "text/AE/wiki_96  text/AN/wiki_60  text/AW/wiki_24  text/BE/wiki_88\n",
            "text/AE/wiki_97  text/AN/wiki_61  text/AW/wiki_25  text/BE/wiki_89\n",
            "text/AE/wiki_98  text/AN/wiki_62  text/AW/wiki_26  text/BE/wiki_90\n",
            "text/AE/wiki_99  text/AN/wiki_63  text/AW/wiki_27  text/BE/wiki_91\n",
            "text/AF/wiki_00  text/AN/wiki_64  text/AW/wiki_28  text/BE/wiki_92\n",
            "text/AF/wiki_01  text/AN/wiki_65  text/AW/wiki_29  text/BE/wiki_93\n",
            "text/AF/wiki_02  text/AN/wiki_66  text/AW/wiki_30  text/BE/wiki_94\n",
            "text/AF/wiki_03  text/AN/wiki_67  text/AW/wiki_31  text/BE/wiki_95\n",
            "text/AF/wiki_04  text/AN/wiki_68  text/AW/wiki_32  text/BE/wiki_96\n",
            "text/AF/wiki_05  text/AN/wiki_69  text/AW/wiki_33  text/BE/wiki_97\n",
            "text/AF/wiki_06  text/AN/wiki_70  text/AW/wiki_34  text/BE/wiki_98\n",
            "text/AF/wiki_07  text/AN/wiki_71  text/AW/wiki_35  text/BE/wiki_99\n",
            "text/AF/wiki_08  text/AN/wiki_72  text/AW/wiki_36  text/BF/wiki_00\n",
            "text/AF/wiki_09  text/AN/wiki_73  text/AW/wiki_37  text/BF/wiki_01\n",
            "text/AF/wiki_10  text/AN/wiki_74  text/AW/wiki_38  text/BF/wiki_02\n",
            "text/AF/wiki_11  text/AN/wiki_75  text/AW/wiki_39  text/BF/wiki_03\n",
            "text/AF/wiki_12  text/AN/wiki_76  text/AW/wiki_40  text/BF/wiki_04\n",
            "text/AF/wiki_13  text/AN/wiki_77  text/AW/wiki_41  text/BF/wiki_05\n",
            "text/AF/wiki_14  text/AN/wiki_78  text/AW/wiki_42  text/BF/wiki_06\n",
            "text/AF/wiki_15  text/AN/wiki_79  text/AW/wiki_43  text/BF/wiki_07\n",
            "text/AF/wiki_16  text/AN/wiki_80  text/AW/wiki_44  text/BF/wiki_08\n",
            "text/AF/wiki_17  text/AN/wiki_81  text/AW/wiki_45  text/BF/wiki_09\n",
            "text/AF/wiki_18  text/AN/wiki_82  text/AW/wiki_46  text/BF/wiki_10\n",
            "text/AF/wiki_19  text/AN/wiki_83  text/AW/wiki_47  text/BF/wiki_11\n",
            "text/AF/wiki_20  text/AN/wiki_84  text/AW/wiki_48  text/BF/wiki_12\n",
            "text/AF/wiki_21  text/AN/wiki_85  text/AW/wiki_49  text/BF/wiki_13\n",
            "text/AF/wiki_22  text/AN/wiki_86  text/AW/wiki_50  text/BF/wiki_14\n",
            "text/AF/wiki_23  text/AN/wiki_87  text/AW/wiki_51  text/BF/wiki_15\n",
            "text/AF/wiki_24  text/AN/wiki_88  text/AW/wiki_52  text/BF/wiki_16\n",
            "text/AF/wiki_25  text/AN/wiki_89  text/AW/wiki_53  text/BF/wiki_17\n",
            "text/AF/wiki_26  text/AN/wiki_90  text/AW/wiki_54  text/BF/wiki_18\n",
            "text/AF/wiki_27  text/AN/wiki_91  text/AW/wiki_55  text/BF/wiki_19\n",
            "text/AF/wiki_28  text/AN/wiki_92  text/AW/wiki_56  text/BF/wiki_20\n",
            "text/AF/wiki_29  text/AN/wiki_93  text/AW/wiki_57  text/BF/wiki_21\n",
            "text/AF/wiki_30  text/AN/wiki_94  text/AW/wiki_58  text/BF/wiki_22\n",
            "text/AF/wiki_31  text/AN/wiki_95  text/AW/wiki_59  text/BF/wiki_23\n",
            "text/AF/wiki_32  text/AN/wiki_96  text/AW/wiki_60  text/BF/wiki_24\n",
            "text/AF/wiki_33  text/AN/wiki_97  text/AW/wiki_61  text/BF/wiki_25\n",
            "text/AF/wiki_34  text/AN/wiki_98  text/AW/wiki_62  text/BF/wiki_26\n",
            "text/AF/wiki_35  text/AN/wiki_99  text/AW/wiki_63  text/BF/wiki_27\n",
            "text/AF/wiki_36  text/AO/wiki_00  text/AW/wiki_64  text/BF/wiki_28\n",
            "text/AF/wiki_37  text/AO/wiki_01  text/AW/wiki_65  text/BF/wiki_29\n",
            "text/AF/wiki_38  text/AO/wiki_02  text/AW/wiki_66  text/BF/wiki_30\n",
            "text/AF/wiki_39  text/AO/wiki_03  text/AW/wiki_67  text/BF/wiki_31\n",
            "text/AF/wiki_40  text/AO/wiki_04  text/AW/wiki_68  text/BF/wiki_32\n",
            "text/AF/wiki_41  text/AO/wiki_05  text/AW/wiki_69  text/BF/wiki_33\n",
            "text/AF/wiki_42  text/AO/wiki_06  text/AW/wiki_70  text/BF/wiki_34\n",
            "text/AF/wiki_43  text/AO/wiki_07  text/AW/wiki_71  text/BF/wiki_35\n",
            "text/AF/wiki_44  text/AO/wiki_08  text/AW/wiki_72  text/BF/wiki_36\n",
            "text/AF/wiki_45  text/AO/wiki_09  text/AW/wiki_73  text/BF/wiki_37\n",
            "text/AF/wiki_46  text/AO/wiki_10  text/AW/wiki_74  text/BF/wiki_38\n",
            "text/AF/wiki_47  text/AO/wiki_11  text/AW/wiki_75  text/BF/wiki_39\n",
            "text/AF/wiki_48  text/AO/wiki_12  text/AW/wiki_76  text/BF/wiki_40\n",
            "text/AF/wiki_49  text/AO/wiki_13  text/AW/wiki_77  text/BF/wiki_41\n",
            "text/AF/wiki_50  text/AO/wiki_14  text/AW/wiki_78  text/BF/wiki_42\n",
            "text/AF/wiki_51  text/AO/wiki_15  text/AW/wiki_79  text/BF/wiki_43\n",
            "text/AF/wiki_52  text/AO/wiki_16  text/AW/wiki_80  text/BF/wiki_44\n",
            "text/AF/wiki_53  text/AO/wiki_17  text/AW/wiki_81  text/BF/wiki_45\n",
            "text/AF/wiki_54  text/AO/wiki_18  text/AW/wiki_82  text/BF/wiki_46\n",
            "text/AF/wiki_55  text/AO/wiki_19  text/AW/wiki_83  text/BF/wiki_47\n",
            "text/AF/wiki_56  text/AO/wiki_20  text/AW/wiki_84  text/BF/wiki_48\n",
            "text/AF/wiki_57  text/AO/wiki_21  text/AW/wiki_85  text/BF/wiki_49\n",
            "text/AF/wiki_58  text/AO/wiki_22  text/AW/wiki_86  text/BF/wiki_50\n",
            "text/AF/wiki_59  text/AO/wiki_23  text/AW/wiki_87  text/BF/wiki_51\n",
            "text/AF/wiki_60  text/AO/wiki_24  text/AW/wiki_88  text/BF/wiki_52\n",
            "text/AF/wiki_61  text/AO/wiki_25  text/AW/wiki_89  text/BF/wiki_53\n",
            "text/AF/wiki_62  text/AO/wiki_26  text/AW/wiki_90  text/BF/wiki_54\n",
            "text/AF/wiki_63  text/AO/wiki_27  text/AW/wiki_91  text/BF/wiki_55\n",
            "text/AF/wiki_64  text/AO/wiki_28  text/AW/wiki_92  text/BF/wiki_56\n",
            "text/AF/wiki_65  text/AO/wiki_29  text/AW/wiki_93  text/BF/wiki_57\n",
            "text/AF/wiki_66  text/AO/wiki_30  text/AW/wiki_94  text/BF/wiki_58\n",
            "text/AF/wiki_67  text/AO/wiki_31  text/AW/wiki_95  text/BF/wiki_59\n",
            "text/AF/wiki_68  text/AO/wiki_32  text/AW/wiki_96  text/BF/wiki_60\n",
            "text/AF/wiki_69  text/AO/wiki_33  text/AW/wiki_97  text/BF/wiki_61\n",
            "text/AF/wiki_70  text/AO/wiki_34  text/AW/wiki_98  text/BF/wiki_62\n",
            "text/AF/wiki_71  text/AO/wiki_35  text/AW/wiki_99  text/BF/wiki_63\n",
            "text/AF/wiki_72  text/AO/wiki_36  text/AX/wiki_00  text/BF/wiki_64\n",
            "text/AF/wiki_73  text/AO/wiki_37  text/AX/wiki_01  text/BF/wiki_65\n",
            "text/AF/wiki_74  text/AO/wiki_38  text/AX/wiki_02  text/BF/wiki_66\n",
            "text/AF/wiki_75  text/AO/wiki_39  text/AX/wiki_03  text/BF/wiki_67\n",
            "text/AF/wiki_76  text/AO/wiki_40  text/AX/wiki_04  text/BF/wiki_68\n",
            "text/AF/wiki_77  text/AO/wiki_41  text/AX/wiki_05  text/BF/wiki_69\n",
            "text/AF/wiki_78  text/AO/wiki_42  text/AX/wiki_06  text/BF/wiki_70\n",
            "text/AF/wiki_79  text/AO/wiki_43  text/AX/wiki_07  text/BF/wiki_71\n",
            "text/AF/wiki_80  text/AO/wiki_44  text/AX/wiki_08  text/BF/wiki_72\n",
            "text/AF/wiki_81  text/AO/wiki_45  text/AX/wiki_09  text/BF/wiki_73\n",
            "text/AF/wiki_82  text/AO/wiki_46  text/AX/wiki_10  text/BF/wiki_74\n",
            "text/AF/wiki_83  text/AO/wiki_47  text/AX/wiki_11  text/BF/wiki_75\n",
            "text/AF/wiki_84  text/AO/wiki_48  text/AX/wiki_12  text/BF/wiki_76\n",
            "text/AF/wiki_85  text/AO/wiki_49  text/AX/wiki_13  text/BF/wiki_77\n",
            "text/AF/wiki_86  text/AO/wiki_50  text/AX/wiki_14  text/BF/wiki_78\n",
            "text/AF/wiki_87  text/AO/wiki_51  text/AX/wiki_15  text/BF/wiki_79\n",
            "text/AF/wiki_88  text/AO/wiki_52  text/AX/wiki_16  text/BF/wiki_80\n",
            "text/AF/wiki_89  text/AO/wiki_53  text/AX/wiki_17  text/BF/wiki_81\n",
            "text/AF/wiki_90  text/AO/wiki_54  text/AX/wiki_18  text/BF/wiki_82\n",
            "text/AF/wiki_91  text/AO/wiki_55  text/AX/wiki_19  text/BF/wiki_83\n",
            "text/AF/wiki_92  text/AO/wiki_56  text/AX/wiki_20  text/BF/wiki_84\n",
            "text/AF/wiki_93  text/AO/wiki_57  text/AX/wiki_21  text/BF/wiki_85\n",
            "text/AF/wiki_94  text/AO/wiki_58  text/AX/wiki_22  text/BF/wiki_86\n",
            "text/AF/wiki_95  text/AO/wiki_59  text/AX/wiki_23  text/BF/wiki_87\n",
            "text/AF/wiki_96  text/AO/wiki_60  text/AX/wiki_24  text/BF/wiki_88\n",
            "text/AF/wiki_97  text/AO/wiki_61  text/AX/wiki_25  text/BF/wiki_89\n",
            "text/AF/wiki_98  text/AO/wiki_62  text/AX/wiki_26  text/BF/wiki_90\n",
            "text/AF/wiki_99  text/AO/wiki_63  text/AX/wiki_27  text/BF/wiki_91\n",
            "text/AG/wiki_00  text/AO/wiki_64  text/AX/wiki_28  text/BF/wiki_92\n",
            "text/AG/wiki_01  text/AO/wiki_65  text/AX/wiki_29  text/BF/wiki_93\n",
            "text/AG/wiki_02  text/AO/wiki_66  text/AX/wiki_30  text/BF/wiki_94\n",
            "text/AG/wiki_03  text/AO/wiki_67  text/AX/wiki_31  text/BF/wiki_95\n",
            "text/AG/wiki_04  text/AO/wiki_68  text/AX/wiki_32  text/BF/wiki_96\n",
            "text/AG/wiki_05  text/AO/wiki_69  text/AX/wiki_33  text/BF/wiki_97\n",
            "text/AG/wiki_06  text/AO/wiki_70  text/AX/wiki_34  text/BF/wiki_98\n",
            "text/AG/wiki_07  text/AO/wiki_71  text/AX/wiki_35  text/BF/wiki_99\n",
            "text/AG/wiki_08  text/AO/wiki_72  text/AX/wiki_36  text/BG/wiki_00\n",
            "text/AG/wiki_09  text/AO/wiki_73  text/AX/wiki_37  text/BG/wiki_01\n",
            "text/AG/wiki_10  text/AO/wiki_74  text/AX/wiki_38  text/BG/wiki_02\n",
            "text/AG/wiki_11  text/AO/wiki_75  text/AX/wiki_39  text/BG/wiki_03\n",
            "text/AG/wiki_12  text/AO/wiki_76  text/AX/wiki_40  text/BG/wiki_04\n",
            "text/AG/wiki_13  text/AO/wiki_77  text/AX/wiki_41  text/BG/wiki_05\n",
            "text/AG/wiki_14  text/AO/wiki_78  text/AX/wiki_42  text/BG/wiki_06\n",
            "text/AG/wiki_15  text/AO/wiki_79  text/AX/wiki_43  text/BG/wiki_07\n",
            "text/AG/wiki_16  text/AO/wiki_80  text/AX/wiki_44  text/BG/wiki_08\n",
            "text/AG/wiki_17  text/AO/wiki_81  text/AX/wiki_45  text/BG/wiki_09\n",
            "text/AG/wiki_18  text/AO/wiki_82  text/AX/wiki_46  text/BG/wiki_10\n",
            "text/AG/wiki_19  text/AO/wiki_83  text/AX/wiki_47  text/BG/wiki_11\n",
            "text/AG/wiki_20  text/AO/wiki_84  text/AX/wiki_48  text/BG/wiki_12\n",
            "text/AG/wiki_21  text/AO/wiki_85  text/AX/wiki_49  text/BG/wiki_13\n",
            "text/AG/wiki_22  text/AO/wiki_86  text/AX/wiki_50  text/BG/wiki_14\n",
            "text/AG/wiki_23  text/AO/wiki_87  text/AX/wiki_51  text/BG/wiki_15\n",
            "text/AG/wiki_24  text/AO/wiki_88  text/AX/wiki_52  text/BG/wiki_16\n",
            "text/AG/wiki_25  text/AO/wiki_89  text/AX/wiki_53  text/BG/wiki_17\n",
            "text/AG/wiki_26  text/AO/wiki_90  text/AX/wiki_54  text/BG/wiki_18\n",
            "text/AG/wiki_27  text/AO/wiki_91  text/AX/wiki_55  text/BG/wiki_19\n",
            "text/AG/wiki_28  text/AO/wiki_92  text/AX/wiki_56  text/BG/wiki_20\n",
            "text/AG/wiki_29  text/AO/wiki_93  text/AX/wiki_57  text/BG/wiki_21\n",
            "text/AG/wiki_30  text/AO/wiki_94  text/AX/wiki_58  text/BG/wiki_22\n",
            "text/AG/wiki_31  text/AO/wiki_95  text/AX/wiki_59  text/BG/wiki_23\n",
            "text/AG/wiki_32  text/AO/wiki_96  text/AX/wiki_60  text/BG/wiki_24\n",
            "text/AG/wiki_33  text/AO/wiki_97  text/AX/wiki_61  text/BG/wiki_25\n",
            "text/AG/wiki_34  text/AO/wiki_98  text/AX/wiki_62  text/BG/wiki_26\n",
            "text/AG/wiki_35  text/AO/wiki_99  text/AX/wiki_63  text/BG/wiki_27\n",
            "text/AG/wiki_36  text/AP/wiki_00  text/AX/wiki_64  text/BG/wiki_28\n",
            "text/AG/wiki_37  text/AP/wiki_01  text/AX/wiki_65  text/BG/wiki_29\n",
            "text/AG/wiki_38  text/AP/wiki_02  text/AX/wiki_66  text/BG/wiki_30\n",
            "text/AG/wiki_39  text/AP/wiki_03  text/AX/wiki_67  text/BG/wiki_31\n",
            "text/AG/wiki_40  text/AP/wiki_04  text/AX/wiki_68  text/BG/wiki_32\n",
            "text/AG/wiki_41  text/AP/wiki_05  text/AX/wiki_69  text/BG/wiki_33\n",
            "text/AG/wiki_42  text/AP/wiki_06  text/AX/wiki_70  text/BG/wiki_34\n",
            "text/AG/wiki_43  text/AP/wiki_07  text/AX/wiki_71  text/BG/wiki_35\n",
            "text/AG/wiki_44  text/AP/wiki_08  text/AX/wiki_72  text/BG/wiki_36\n",
            "text/AG/wiki_45  text/AP/wiki_09  text/AX/wiki_73  text/BG/wiki_37\n",
            "text/AG/wiki_46  text/AP/wiki_10  text/AX/wiki_74  text/BG/wiki_38\n",
            "text/AG/wiki_47  text/AP/wiki_11  text/AX/wiki_75  text/BG/wiki_39\n",
            "text/AG/wiki_48  text/AP/wiki_12  text/AX/wiki_76  text/BG/wiki_40\n",
            "text/AG/wiki_49  text/AP/wiki_13  text/AX/wiki_77  text/BG/wiki_41\n",
            "text/AG/wiki_50  text/AP/wiki_14  text/AX/wiki_78  text/BG/wiki_42\n",
            "text/AG/wiki_51  text/AP/wiki_15  text/AX/wiki_79  text/BG/wiki_43\n",
            "text/AG/wiki_52  text/AP/wiki_16  text/AX/wiki_80  text/BG/wiki_44\n",
            "text/AG/wiki_53  text/AP/wiki_17  text/AX/wiki_81  text/BG/wiki_45\n",
            "text/AG/wiki_54  text/AP/wiki_18  text/AX/wiki_82  text/BG/wiki_46\n",
            "text/AG/wiki_55  text/AP/wiki_19  text/AX/wiki_83  text/BG/wiki_47\n",
            "text/AG/wiki_56  text/AP/wiki_20  text/AX/wiki_84  text/BG/wiki_48\n",
            "text/AG/wiki_57  text/AP/wiki_21  text/AX/wiki_85  text/BG/wiki_49\n",
            "text/AG/wiki_58  text/AP/wiki_22  text/AX/wiki_86  text/BG/wiki_50\n",
            "text/AG/wiki_59  text/AP/wiki_23  text/AX/wiki_87  text/BG/wiki_51\n",
            "text/AG/wiki_60  text/AP/wiki_24  text/AX/wiki_88  text/BG/wiki_52\n",
            "text/AG/wiki_61  text/AP/wiki_25  text/AX/wiki_89  text/BG/wiki_53\n",
            "text/AG/wiki_62  text/AP/wiki_26  text/AX/wiki_90  text/BG/wiki_54\n",
            "text/AG/wiki_63  text/AP/wiki_27  text/AX/wiki_91  text/BG/wiki_55\n",
            "text/AG/wiki_64  text/AP/wiki_28  text/AX/wiki_92  text/BG/wiki_56\n",
            "text/AG/wiki_65  text/AP/wiki_29  text/AX/wiki_93  text/BG/wiki_57\n",
            "text/AG/wiki_66  text/AP/wiki_30  text/AX/wiki_94  text/BG/wiki_58\n",
            "text/AG/wiki_67  text/AP/wiki_31  text/AX/wiki_95  text/BG/wiki_59\n",
            "text/AG/wiki_68  text/AP/wiki_32  text/AX/wiki_96  text/BG/wiki_60\n",
            "text/AG/wiki_69  text/AP/wiki_33  text/AX/wiki_97  text/BG/wiki_61\n",
            "text/AG/wiki_70  text/AP/wiki_34  text/AX/wiki_98  text/BG/wiki_62\n",
            "text/AG/wiki_71  text/AP/wiki_35  text/AX/wiki_99  text/BG/wiki_63\n",
            "text/AG/wiki_72  text/AP/wiki_36  text/AY/wiki_00  text/BG/wiki_64\n",
            "text/AG/wiki_73  text/AP/wiki_37  text/AY/wiki_01  text/BG/wiki_65\n",
            "text/AG/wiki_74  text/AP/wiki_38  text/AY/wiki_02  text/BG/wiki_66\n",
            "text/AG/wiki_75  text/AP/wiki_39  text/AY/wiki_03  text/BG/wiki_67\n",
            "text/AG/wiki_76  text/AP/wiki_40  text/AY/wiki_04  text/BG/wiki_68\n",
            "text/AG/wiki_77  text/AP/wiki_41  text/AY/wiki_05  text/BG/wiki_69\n",
            "text/AG/wiki_78  text/AP/wiki_42  text/AY/wiki_06  text/BG/wiki_70\n",
            "text/AG/wiki_79  text/AP/wiki_43  text/AY/wiki_07  text/BG/wiki_71\n",
            "text/AG/wiki_80  text/AP/wiki_44  text/AY/wiki_08  text/BG/wiki_72\n",
            "text/AG/wiki_81  text/AP/wiki_45  text/AY/wiki_09  text/BG/wiki_73\n",
            "text/AG/wiki_82  text/AP/wiki_46  text/AY/wiki_10  text/BG/wiki_74\n",
            "text/AG/wiki_83  text/AP/wiki_47  text/AY/wiki_11  text/BG/wiki_75\n",
            "text/AG/wiki_84  text/AP/wiki_48  text/AY/wiki_12  text/BG/wiki_76\n",
            "text/AG/wiki_85  text/AP/wiki_49  text/AY/wiki_13  text/BG/wiki_77\n",
            "text/AG/wiki_86  text/AP/wiki_50  text/AY/wiki_14  text/BG/wiki_78\n",
            "text/AG/wiki_87  text/AP/wiki_51  text/AY/wiki_15  text/BG/wiki_79\n",
            "text/AG/wiki_88  text/AP/wiki_52  text/AY/wiki_16  text/BG/wiki_80\n",
            "text/AG/wiki_89  text/AP/wiki_53  text/AY/wiki_17  text/BG/wiki_81\n",
            "text/AG/wiki_90  text/AP/wiki_54  text/AY/wiki_18  text/BG/wiki_82\n",
            "text/AG/wiki_91  text/AP/wiki_55  text/AY/wiki_19  text/BG/wiki_83\n",
            "text/AG/wiki_92  text/AP/wiki_56  text/AY/wiki_20  text/BG/wiki_84\n",
            "text/AG/wiki_93  text/AP/wiki_57  text/AY/wiki_21  text/BG/wiki_85\n",
            "text/AG/wiki_94  text/AP/wiki_58  text/AY/wiki_22  text/BG/wiki_86\n",
            "text/AG/wiki_95  text/AP/wiki_59  text/AY/wiki_23  text/BG/wiki_87\n",
            "text/AG/wiki_96  text/AP/wiki_60  text/AY/wiki_24  text/BG/wiki_88\n",
            "text/AG/wiki_97  text/AP/wiki_61  text/AY/wiki_25  text/BG/wiki_89\n",
            "text/AG/wiki_98  text/AP/wiki_62  text/AY/wiki_26  text/BG/wiki_90\n",
            "text/AG/wiki_99  text/AP/wiki_63  text/AY/wiki_27  text/BG/wiki_91\n",
            "text/AH/wiki_00  text/AP/wiki_64  text/AY/wiki_28  text/BG/wiki_92\n",
            "text/AH/wiki_01  text/AP/wiki_65  text/AY/wiki_29  text/BG/wiki_93\n",
            "text/AH/wiki_02  text/AP/wiki_66  text/AY/wiki_30  text/BG/wiki_94\n",
            "text/AH/wiki_03  text/AP/wiki_67  text/AY/wiki_31  text/BG/wiki_95\n",
            "text/AH/wiki_04  text/AP/wiki_68  text/AY/wiki_32  text/BG/wiki_96\n",
            "text/AH/wiki_05  text/AP/wiki_69  text/AY/wiki_33  text/BG/wiki_97\n",
            "text/AH/wiki_06  text/AP/wiki_70  text/AY/wiki_34  text/BG/wiki_98\n",
            "text/AH/wiki_07  text/AP/wiki_71  text/AY/wiki_35  text/BG/wiki_99\n",
            "text/AH/wiki_08  text/AP/wiki_72  text/AY/wiki_36  text/BH/wiki_00\n",
            "text/AH/wiki_09  text/AP/wiki_73  text/AY/wiki_37  text/BH/wiki_01\n",
            "text/AH/wiki_10  text/AP/wiki_74  text/AY/wiki_38  text/BH/wiki_02\n",
            "text/AH/wiki_11  text/AP/wiki_75  text/AY/wiki_39  text/BH/wiki_03\n",
            "text/AH/wiki_12  text/AP/wiki_76  text/AY/wiki_40  text/BH/wiki_04\n",
            "text/AH/wiki_13  text/AP/wiki_77  text/AY/wiki_41  text/BH/wiki_05\n",
            "text/AH/wiki_14  text/AP/wiki_78  text/AY/wiki_42  text/BH/wiki_06\n",
            "text/AH/wiki_15  text/AP/wiki_79  text/AY/wiki_43  text/BH/wiki_07\n",
            "text/AH/wiki_16  text/AP/wiki_80  text/AY/wiki_44  text/BH/wiki_08\n",
            "text/AH/wiki_17  text/AP/wiki_81  text/AY/wiki_45  text/BH/wiki_09\n",
            "text/AH/wiki_18  text/AP/wiki_82  text/AY/wiki_46  text/BH/wiki_10\n",
            "text/AH/wiki_19  text/AP/wiki_83  text/AY/wiki_47  text/BH/wiki_11\n",
            "text/AH/wiki_20  text/AP/wiki_84  text/AY/wiki_48  text/BH/wiki_12\n",
            "text/AH/wiki_21  text/AP/wiki_85  text/AY/wiki_49  text/BH/wiki_13\n",
            "text/AH/wiki_22  text/AP/wiki_86  text/AY/wiki_50  text/BH/wiki_14\n",
            "text/AH/wiki_23  text/AP/wiki_87  text/AY/wiki_51  text/BH/wiki_15\n",
            "text/AH/wiki_24  text/AP/wiki_88  text/AY/wiki_52  text/BH/wiki_16\n",
            "text/AH/wiki_25  text/AP/wiki_89  text/AY/wiki_53  text/BH/wiki_17\n",
            "text/AH/wiki_26  text/AP/wiki_90  text/AY/wiki_54  text/BH/wiki_18\n",
            "text/AH/wiki_27  text/AP/wiki_91  text/AY/wiki_55  text/BH/wiki_19\n",
            "text/AH/wiki_28  text/AP/wiki_92  text/AY/wiki_56  text/BH/wiki_20\n",
            "text/AH/wiki_29  text/AP/wiki_93  text/AY/wiki_57  text/BH/wiki_21\n",
            "text/AH/wiki_30  text/AP/wiki_94  text/AY/wiki_58  text/BH/wiki_22\n",
            "text/AH/wiki_31  text/AP/wiki_95  text/AY/wiki_59  text/BH/wiki_23\n",
            "text/AH/wiki_32  text/AP/wiki_96  text/AY/wiki_60  text/BH/wiki_24\n",
            "text/AH/wiki_33  text/AP/wiki_97  text/AY/wiki_61  text/BH/wiki_25\n",
            "text/AH/wiki_34  text/AP/wiki_98  text/AY/wiki_62  text/BH/wiki_26\n",
            "text/AH/wiki_35  text/AP/wiki_99  text/AY/wiki_63  text/BH/wiki_27\n",
            "text/AH/wiki_36  text/AQ/wiki_00  text/AY/wiki_64  text/BH/wiki_28\n",
            "text/AH/wiki_37  text/AQ/wiki_01  text/AY/wiki_65  text/BH/wiki_29\n",
            "text/AH/wiki_38  text/AQ/wiki_02  text/AY/wiki_66  text/BH/wiki_30\n",
            "text/AH/wiki_39  text/AQ/wiki_03  text/AY/wiki_67  text/BH/wiki_31\n",
            "text/AH/wiki_40  text/AQ/wiki_04  text/AY/wiki_68  text/BH/wiki_32\n",
            "text/AH/wiki_41  text/AQ/wiki_05  text/AY/wiki_69  text/BH/wiki_33\n",
            "text/AH/wiki_42  text/AQ/wiki_06  text/AY/wiki_70  text/BH/wiki_34\n",
            "text/AH/wiki_43  text/AQ/wiki_07  text/AY/wiki_71  text/BH/wiki_35\n",
            "text/AH/wiki_44  text/AQ/wiki_08  text/AY/wiki_72  text/BH/wiki_36\n",
            "text/AH/wiki_45  text/AQ/wiki_09  text/AY/wiki_73  text/BH/wiki_37\n",
            "text/AH/wiki_46  text/AQ/wiki_10  text/AY/wiki_74  text/BH/wiki_38\n",
            "text/AH/wiki_47  text/AQ/wiki_11  text/AY/wiki_75  text/BH/wiki_39\n",
            "text/AH/wiki_48  text/AQ/wiki_12  text/AY/wiki_76  text/BH/wiki_40\n",
            "text/AH/wiki_49  text/AQ/wiki_13  text/AY/wiki_77  text/BH/wiki_41\n",
            "text/AH/wiki_50  text/AQ/wiki_14  text/AY/wiki_78  text/BH/wiki_42\n",
            "text/AH/wiki_51  text/AQ/wiki_15  text/AY/wiki_79  text/BH/wiki_43\n",
            "text/AH/wiki_52  text/AQ/wiki_16  text/AY/wiki_80  text/BH/wiki_44\n",
            "text/AH/wiki_53  text/AQ/wiki_17  text/AY/wiki_81  text/BH/wiki_45\n",
            "text/AH/wiki_54  text/AQ/wiki_18  text/AY/wiki_82  text/BH/wiki_46\n",
            "text/AH/wiki_55  text/AQ/wiki_19  text/AY/wiki_83  text/BH/wiki_47\n",
            "text/AH/wiki_56  text/AQ/wiki_20  text/AY/wiki_84  text/BH/wiki_48\n",
            "text/AH/wiki_57  text/AQ/wiki_21  text/AY/wiki_85  text/BH/wiki_49\n",
            "text/AH/wiki_58  text/AQ/wiki_22  text/AY/wiki_86  text/BH/wiki_50\n",
            "text/AH/wiki_59  text/AQ/wiki_23  text/AY/wiki_87  text/BH/wiki_51\n",
            "text/AH/wiki_60  text/AQ/wiki_24  text/AY/wiki_88  text/BH/wiki_52\n",
            "text/AH/wiki_61  text/AQ/wiki_25  text/AY/wiki_89  text/BH/wiki_53\n",
            "text/AH/wiki_62  text/AQ/wiki_26  text/AY/wiki_90  text/BH/wiki_54\n",
            "text/AH/wiki_63  text/AQ/wiki_27  text/AY/wiki_91  text/BH/wiki_55\n",
            "text/AH/wiki_64  text/AQ/wiki_28  text/AY/wiki_92  text/BH/wiki_56\n",
            "text/AH/wiki_65  text/AQ/wiki_29  text/AY/wiki_93  text/BH/wiki_57\n",
            "text/AH/wiki_66  text/AQ/wiki_30  text/AY/wiki_94  text/BH/wiki_58\n",
            "text/AH/wiki_67  text/AQ/wiki_31  text/AY/wiki_95  text/BH/wiki_59\n",
            "text/AH/wiki_68  text/AQ/wiki_32  text/AY/wiki_96  text/BH/wiki_60\n",
            "text/AH/wiki_69  text/AQ/wiki_33  text/AY/wiki_97  text/BH/wiki_61\n",
            "text/AH/wiki_70  text/AQ/wiki_34  text/AY/wiki_98  text/BH/wiki_62\n",
            "text/AH/wiki_71  text/AQ/wiki_35  text/AY/wiki_99  text/BH/wiki_63\n",
            "text/AH/wiki_72  text/AQ/wiki_36  text/AZ/wiki_00  text/BH/wiki_64\n",
            "text/AH/wiki_73  text/AQ/wiki_37  text/AZ/wiki_01  text/BH/wiki_65\n",
            "text/AH/wiki_74  text/AQ/wiki_38  text/AZ/wiki_02  text/BH/wiki_66\n",
            "text/AH/wiki_75  text/AQ/wiki_39  text/AZ/wiki_03  text/BH/wiki_67\n",
            "text/AH/wiki_76  text/AQ/wiki_40  text/AZ/wiki_04  text/BH/wiki_68\n",
            "text/AH/wiki_77  text/AQ/wiki_41  text/AZ/wiki_05  text/BH/wiki_69\n",
            "text/AH/wiki_78  text/AQ/wiki_42  text/AZ/wiki_06  text/BH/wiki_70\n",
            "text/AH/wiki_79  text/AQ/wiki_43  text/AZ/wiki_07  text/BH/wiki_71\n",
            "text/AH/wiki_80  text/AQ/wiki_44  text/AZ/wiki_08  text/BH/wiki_72\n",
            "text/AH/wiki_81  text/AQ/wiki_45  text/AZ/wiki_09  text/BH/wiki_73\n",
            "text/AH/wiki_82  text/AQ/wiki_46  text/AZ/wiki_10  text/BH/wiki_74\n",
            "text/AH/wiki_83  text/AQ/wiki_47  text/AZ/wiki_11  text/BH/wiki_75\n",
            "text/AH/wiki_84  text/AQ/wiki_48  text/AZ/wiki_12  text/BH/wiki_76\n",
            "text/AH/wiki_85  text/AQ/wiki_49  text/AZ/wiki_13  text/BH/wiki_77\n",
            "text/AH/wiki_86  text/AQ/wiki_50  text/AZ/wiki_14  text/BH/wiki_78\n",
            "text/AH/wiki_87  text/AQ/wiki_51  text/AZ/wiki_15  text/BH/wiki_79\n",
            "text/AH/wiki_88  text/AQ/wiki_52  text/AZ/wiki_16  text/BH/wiki_80\n",
            "text/AH/wiki_89  text/AQ/wiki_53  text/AZ/wiki_17  text/BH/wiki_81\n",
            "text/AH/wiki_90  text/AQ/wiki_54  text/AZ/wiki_18  text/BH/wiki_82\n",
            "text/AH/wiki_91  text/AQ/wiki_55  text/AZ/wiki_19  text/BH/wiki_83\n",
            "text/AH/wiki_92  text/AQ/wiki_56  text/AZ/wiki_20  text/BH/wiki_84\n",
            "text/AH/wiki_93  text/AQ/wiki_57  text/AZ/wiki_21  text/BH/wiki_85\n",
            "text/AH/wiki_94  text/AQ/wiki_58  text/AZ/wiki_22  text/BH/wiki_86\n",
            "text/AH/wiki_95  text/AQ/wiki_59  text/AZ/wiki_23  text/BH/wiki_87\n",
            "text/AH/wiki_96  text/AQ/wiki_60  text/AZ/wiki_24  text/BH/wiki_88\n",
            "text/AH/wiki_97  text/AQ/wiki_61  text/AZ/wiki_25  text/BH/wiki_89\n",
            "text/AH/wiki_98  text/AQ/wiki_62  text/AZ/wiki_26  text/BH/wiki_90\n",
            "text/AH/wiki_99  text/AQ/wiki_63  text/AZ/wiki_27  text/BH/wiki_91\n",
            "text/AI/wiki_00  text/AQ/wiki_64  text/AZ/wiki_28  text/BH/wiki_92\n",
            "text/AI/wiki_01  text/AQ/wiki_65  text/AZ/wiki_29  text/BH/wiki_93\n",
            "text/AI/wiki_02  text/AQ/wiki_66  text/AZ/wiki_30  text/BH/wiki_94\n",
            "text/AI/wiki_03  text/AQ/wiki_67  text/AZ/wiki_31  text/BH/wiki_95\n",
            "text/AI/wiki_04  text/AQ/wiki_68  text/AZ/wiki_32  text/BH/wiki_96\n",
            "text/AI/wiki_05  text/AQ/wiki_69  text/AZ/wiki_33  text/BH/wiki_97\n",
            "text/AI/wiki_06  text/AQ/wiki_70  text/AZ/wiki_34  text/BH/wiki_98\n",
            "text/AI/wiki_07  text/AQ/wiki_71  text/AZ/wiki_35  text/BH/wiki_99\n",
            "text/AI/wiki_08  text/AQ/wiki_72  text/AZ/wiki_36  text/BI/wiki_00\n",
            "text/AI/wiki_09  text/AQ/wiki_73  text/AZ/wiki_37  text/BI/wiki_01\n",
            "text/AI/wiki_10  text/AQ/wiki_74  text/AZ/wiki_38  text/BI/wiki_02\n",
            "text/AI/wiki_11  text/AQ/wiki_75  text/AZ/wiki_39  text/BI/wiki_03\n",
            "text/AI/wiki_12  text/AQ/wiki_76  text/AZ/wiki_40  text/BI/wiki_04\n",
            "text/AI/wiki_13  text/AQ/wiki_77  text/AZ/wiki_41  text/BI/wiki_05\n",
            "text/AI/wiki_14  text/AQ/wiki_78  text/AZ/wiki_42  text/BI/wiki_06\n",
            "text/AI/wiki_15  text/AQ/wiki_79  text/AZ/wiki_43  text/BI/wiki_07\n",
            "text/AI/wiki_16  text/AQ/wiki_80  text/AZ/wiki_44  text/BI/wiki_08\n",
            "text/AI/wiki_17  text/AQ/wiki_81  text/AZ/wiki_45  text/BI/wiki_09\n",
            "text/AI/wiki_18  text/AQ/wiki_82  text/AZ/wiki_46  text/BI/wiki_10\n",
            "text/AI/wiki_19  text/AQ/wiki_83  text/AZ/wiki_47  text/BI/wiki_11\n",
            "text/AI/wiki_20  text/AQ/wiki_84  text/AZ/wiki_48  text/BI/wiki_12\n",
            "text/AI/wiki_21  text/AQ/wiki_85  text/AZ/wiki_49  text/BI/wiki_13\n",
            "text/AI/wiki_22  text/AQ/wiki_86  text/AZ/wiki_50  text/BI/wiki_14\n",
            "text/AI/wiki_23  text/AQ/wiki_87  text/AZ/wiki_51  text/BI/wiki_15\n",
            "text/AI/wiki_24  text/AQ/wiki_88  text/AZ/wiki_52  text/BI/wiki_16\n",
            "text/AI/wiki_25  text/AQ/wiki_89  text/AZ/wiki_53  text/BI/wiki_17\n",
            "text/AI/wiki_26  text/AQ/wiki_90  text/AZ/wiki_54  text/BI/wiki_18\n",
            "text/AI/wiki_27  text/AQ/wiki_91  text/AZ/wiki_55  text/BI/wiki_19\n",
            "text/AI/wiki_28  text/AQ/wiki_92  text/AZ/wiki_56  text/BI/wiki_20\n",
            "text/AI/wiki_29  text/AQ/wiki_93  text/AZ/wiki_57  text/BI/wiki_21\n",
            "text/AI/wiki_30  text/AQ/wiki_94  text/AZ/wiki_58  text/BI/wiki_22\n",
            "text/AI/wiki_31  text/AQ/wiki_95  text/AZ/wiki_59  text/BI/wiki_23\n",
            "text/AI/wiki_32  text/AQ/wiki_96  text/AZ/wiki_60  text/BI/wiki_24\n",
            "text/AI/wiki_33  text/AQ/wiki_97  text/AZ/wiki_61  text/BI/wiki_25\n",
            "text/AI/wiki_34  text/AQ/wiki_98  text/AZ/wiki_62  text/BI/wiki_26\n",
            "text/AI/wiki_35  text/AQ/wiki_99  text/AZ/wiki_63  text/BI/wiki_27\n",
            "text/AI/wiki_36  text/AR/wiki_00  text/AZ/wiki_64  text/BI/wiki_28\n",
            "text/AI/wiki_37  text/AR/wiki_01  text/AZ/wiki_65  text/BI/wiki_29\n",
            "text/AI/wiki_38  text/AR/wiki_02  text/AZ/wiki_66  text/BI/wiki_30\n",
            "text/AI/wiki_39  text/AR/wiki_03  text/AZ/wiki_67  text/BI/wiki_31\n",
            "text/AI/wiki_40  text/AR/wiki_04  text/AZ/wiki_68  text/BI/wiki_32\n",
            "text/AI/wiki_41  text/AR/wiki_05  text/AZ/wiki_69  text/BI/wiki_33\n",
            "text/AI/wiki_42  text/AR/wiki_06  text/AZ/wiki_70  text/BI/wiki_34\n",
            "text/AI/wiki_43  text/AR/wiki_07  text/AZ/wiki_71  text/BI/wiki_35\n",
            "text/AI/wiki_44  text/AR/wiki_08  text/AZ/wiki_72  text/BI/wiki_36\n",
            "text/AI/wiki_45  text/AR/wiki_09  text/AZ/wiki_73  text/BI/wiki_37\n",
            "text/AI/wiki_46  text/AR/wiki_10  text/AZ/wiki_74  text/BI/wiki_38\n",
            "text/AI/wiki_47  text/AR/wiki_11  text/AZ/wiki_75  text/BI/wiki_39\n",
            "text/AI/wiki_48  text/AR/wiki_12  text/AZ/wiki_76  text/BI/wiki_40\n",
            "text/AI/wiki_49  text/AR/wiki_13  text/AZ/wiki_77  text/BI/wiki_41\n",
            "text/AI/wiki_50  text/AR/wiki_14  text/AZ/wiki_78  text/BI/wiki_42\n",
            "text/AI/wiki_51  text/AR/wiki_15  text/AZ/wiki_79  text/BI/wiki_43\n",
            "text/AI/wiki_52  text/AR/wiki_16  text/AZ/wiki_80  text/BI/wiki_44\n",
            "text/AI/wiki_53  text/AR/wiki_17  text/AZ/wiki_81  text/BI/wiki_45\n",
            "text/AI/wiki_54  text/AR/wiki_18  text/AZ/wiki_82  text/BI/wiki_46\n",
            "text/AI/wiki_55  text/AR/wiki_19  text/AZ/wiki_83  text/BI/wiki_47\n",
            "text/AI/wiki_56  text/AR/wiki_20  text/AZ/wiki_84  text/BI/wiki_48\n",
            "text/AI/wiki_57  text/AR/wiki_21  text/AZ/wiki_85  text/BI/wiki_49\n",
            "text/AI/wiki_58  text/AR/wiki_22  text/AZ/wiki_86  text/BI/wiki_50\n",
            "text/AI/wiki_59  text/AR/wiki_23  text/AZ/wiki_87  text/BI/wiki_51\n",
            "text/AI/wiki_60  text/AR/wiki_24  text/AZ/wiki_88  text/BI/wiki_52\n",
            "text/AI/wiki_61  text/AR/wiki_25  text/AZ/wiki_89\n",
            "text/AI/wiki_62  text/AR/wiki_26  text/AZ/wiki_90\n",
            "text/AI/wiki_63  text/AR/wiki_27  text/AZ/wiki_91\n"
          ]
        }
      ],
      "source": [
        "! ls text/*/*"
      ]
    },
    {
      "cell_type": "markdown",
      "metadata": {
        "id": "PCPaEaL7TYtH"
      },
      "source": [
        "## Install Pypark & Initialization\n",
        "Uncomment this section if you use google colab or local pc"
      ]
    },
    {
      "cell_type": "code",
      "execution_count": 13,
      "metadata": {
        "id": "isNdHD1HTYtH"
      },
      "outputs": [
        {
          "name": "stderr",
          "output_type": "stream",
          "text": [
            "13000.00s - pydevd: Sending message related to process being replaced timed-out after 5 seconds\n"
          ]
        },
        {
          "name": "stdout",
          "output_type": "stream",
          "text": [
            "Requirement already satisfied: pyspark in /home/vahid/SUT/sutenv/lib/python3.8/site-packages (3.3.1)\n",
            "Requirement already satisfied: py4j==0.10.9.5 in /home/vahid/SUT/sutenv/lib/python3.8/site-packages (from pyspark) (0.10.9.5)\n"
          ]
        }
      ],
      "source": [
        "! pip install pyspark"
      ]
    },
    {
      "cell_type": "code",
      "execution_count": 1,
      "metadata": {
        "id": "2WQVNsWITYtI"
      },
      "outputs": [
        {
          "name": "stdout",
          "output_type": "stream",
          "text": [
            "22/12/04 18:03:02 WARN Utils: Your hostname, vahid-PC resolves to a loopback address: 127.0.1.1; using 172.27.210.173 instead (on interface wlp2s0)\n",
            "22/12/04 18:03:02 WARN Utils: Set SPARK_LOCAL_IP if you need to bind to another address\n"
          ]
        },
        {
          "name": "stderr",
          "output_type": "stream",
          "text": [
            "Setting default log level to \"WARN\".\n",
            "To adjust logging level use sc.setLogLevel(newLevel). For SparkR, use setLogLevel(newLevel).\n"
          ]
        },
        {
          "name": "stdout",
          "output_type": "stream",
          "text": [
            "22/12/04 18:03:03 WARN NativeCodeLoader: Unable to load native-hadoop library for your platform... using builtin-java classes where applicable\n"
          ]
        }
      ],
      "source": [
        "from pyspark.sql import SparkSession\n",
        "spark = SparkSession \\\n",
        "    .builder \\\n",
        "    .appName(\"MDA_2021\") \\\n",
        "    .master(\"local[*]\") \\\n",
        "    .getOrCreate()\n",
        "\n",
        "sc=spark.sparkContext"
      ]
    },
    {
      "cell_type": "markdown",
      "metadata": {
        "id": "ywInWa6mTYtI"
      },
      "source": [
        "## Reading the data"
      ]
    },
    {
      "cell_type": "code",
      "execution_count": 2,
      "metadata": {
        "id": "w-4vcBCBTYtI"
      },
      "outputs": [
        {
          "name": "stderr",
          "output_type": "stream",
          "text": [
            "                                                                                \r"
          ]
        },
        {
          "data": {
            "text/plain": [
              "['{\"id\": \"2\", \"revid\": \"23528\", \"url\": \"https://fa.wikipedia.org/wiki?curid=2\", \"title\": \"\\\\u0635\\\\u0641\\\\u062d\\\\u0647\\\\u0654 \\\\u0627\\\\u0635\\\\u0644\\\\u06cc\", \"text\": \"&lt;templatestyles src=\\\\\"\\\\u0635\\\\u0641\\\\u062d\\\\u0647 \\\\u0627\\\\u0635\\\\u0644\\\\u06cc/styles.css\\\\\"/&gt;\\\\n \\\\n \\\\n \\\\n \\\\n \\\\n \\\\n \\\\n \\\\n \\\\n \\\\n \\\\n \\\\n\\\\u0627\\\\u0645\\\\u0631\\\\u0648\\\\u0632: \\\\u060c \\\\u0645\\\\u06cc\\\\u0644\\\\u0627\\\\u062f\\\\u06cc \\\\u0628\\\\u0631\\\\u0627\\\\u0628\\\\u0631 \\\\u0647\\\\u062c\\\\u0631\\\\u06cc \\\\u062e\\\\u0648\\\\u0631\\\\u0634\\\\u06cc\\\\u062f\\\\u06cc \\\\u0648 (UTC)\\\\n \\\\n \\\\n \\\\n \\\\n \\' \\\\u2013 \\'\\\\n \\\\n \\\\n \\\\n \\\\n \\\\n \\\\n __NOEDITSECTION__\"}']"
            ]
          },
          "execution_count": 2,
          "metadata": {},
          "output_type": "execute_result"
        }
      ],
      "source": [
        "articles_rdd = sc.textFile(\"text/*/*\") # Now you have a RDD with wikipedia posts\n",
        "articles_rdd.take(1)"
      ]
    },
    {
      "cell_type": "markdown",
      "metadata": {
        "id": "8jcfYLmOTYtJ"
      },
      "source": [
        "# Section 2: Preprocessing (25 Points)\n",
        "\n",
        "In this section we will remove useless part (for example /n and /u200c and ...) also find and remove stop words and remove the words with a low count in the corpus"
      ]
    },
    {
      "cell_type": "code",
      "execution_count": null,
      "metadata": {
        "id": "be6tvT5RTYtJ"
      },
      "outputs": [],
      "source": [
        "import json\n",
        "\n",
        "articles_rdd = #TODO: parse the json string\n",
        "cleansed_articles_rdd= #TODO: cleansed text\n",
        "words_rdd = #TODO: extract words from title and description\n",
        "words_count_rdd = #TODO: make an rdd with the count of each word\n",
        "top_100 = #TODO: find the 100 most common words\n",
        "stopwords = ['و', 'با'] #TODO: complete the list of stopwords based on top 100 common words\n",
        "articles_without_stopwords_rdd = #TODO: remove stopwords from the article title and text\n",
        "MIN_COUNT = 20\n",
        "uncommon_words = #TODO: list of the words that have occured less than MIN_COUNT in the whole corpus\n",
        "articles_cleaned_rdd = #TODO: remove uncommon words from articles_without_stopwords_rdd\n",
        "articles_cleaned_rdd.take(1) # This should output a dictionary with url,title and text keys. title and text should not have stopwords or uncommon."
      ]
    },
    {
      "cell_type": "code",
      "execution_count": 3,
      "metadata": {},
      "outputs": [
        {
          "data": {
            "text/plain": [
              "[{'id': '2',\n",
              "  'revid': '23528',\n",
              "  'url': 'https://fa.wikipedia.org/wiki?curid=2',\n",
              "  'title': 'صفحهٔ اصلی',\n",
              "  'text': '&lt;templatestyles src=\"صفحه اصلی/styles.css\"/&gt;\\n \\n \\n \\n \\n \\n \\n \\n \\n \\n \\n \\n \\nامروز: ، میلادی برابر هجری خورشیدی و (UTC)\\n \\n \\n \\n \\n \\' – \\'\\n \\n \\n \\n \\n \\n \\n __NOEDITSECTION__'}]"
            ]
          },
          "execution_count": 3,
          "metadata": {},
          "output_type": "execute_result"
        }
      ],
      "source": [
        "import json\n",
        "articles_rdd = articles_rdd.map(json.loads) # parse the json string\n",
        "articles_rdd.take(1)"
      ]
    },
    {
      "cell_type": "code",
      "execution_count": 4,
      "metadata": {},
      "outputs": [
        {
          "data": {
            "text/plain": [
              "[{'id': '643',\n",
              "  'revid': '962109',\n",
              "  'url': 'https://fa.wikipedia.org/wiki?curid=643',\n",
              "  'title': 'ویکی',\n",
              "  'text': 'ویکی معمولاً به انواعی از تارنما\\u200cها گفته می\\u200cشود که به تمام بازدیدکننده\\u200cهایش (حتی گاه، بدون نیاز به نام\\u200cنویسی در تارنما)، اجازهٔ ویرایش، افزودن یا حذف نوشته\\u200cها را می\\u200cدهد. معمولاً در ویکی\\u200cها متن\\u200cها با استفاده از یک زبان نشانه\\u200cگذاری ساده نوشته می\\u200cشوند و با کمک یک ویرایشگر متن غنی قابل ویرایش است.\\nبه نرم\\u200cافزارهای ویکی که پایهٔ چنین تارنماهایی را ممکن می\\u200cسازند، «موتور ویکی» گفته می\\u200cشود. موتور ویکی، یک سامانه مدیریت محتوا است که ساختار نامستقیم کمی دارد و کاربران می\\u200cتوانند بسته به نیازشان با تمام قسمت\\u200cها مستقیماً کار کنند. تفاوت این سامانهٔ مدیریت محتوا با سایر سامانه\\u200cها، ازجمله وبلاگ\\u200cها، این است که در ویکی ایجاد محتوا بدون مالک یا رهبرِ تعریف\\u200cشده انجام می\\u200cگیرد و ساختار غیرمستقیم کمتری وجود دارد؛ بنابراین، ساختار در ارتباط با نیازهای کاربران است.\\nتاکنون بزرگ\\u200cترین ویکی، ویکی\\u200cپدیا بوده\\u200cاست، اما ویکی\\u200cهای دیگری مثل ویکی\\u200cکتاب نیز وجود دارند. اولین ویکی در اینترنت را وارد کانینگهام در سال ۱۹۹۵ و با نام ویکی\\u200cویکی\\u200cوب ایجاد کرد. منشأ واژهٔ «ویکی\\u200cویکی»، که در نام این وبگاه به کار رفته\\u200cبود، از واژهٔ «ویکی» الهام\\u200cگرفته از نام یکی از خطوط اتوبوس\\u200cرانی یکی از خیابان\\u200cهای جنوبی در هاوایی بود. (عبارت WikiWiki در زبان مردم هاوایی به\\u200cمعنی «بدو بدو» است)\\nاصطلاح\\u200cهای «ویکی» و «ویکی\\u200cویکی» برای شناسایی نوع ویژه\\u200cای از فرامتن\\u200cها (پرونده\\u200cهای HTML) یا نرم\\u200cافزارهای مشارکت\\u200cگرای تولیدکنندهٔ آن\\u200cها به کار برده می\\u200cشود.\\nویژگی\\u200cها.\\nیک ویکی مجموعه صفحات وبی است که به هر کسی این اجازه را می\\u200cدهد تا در تهیهٔ محتوای آن مشارکت کند، یا دست\\u200cکم هر کسی که به نرم\\u200cافزار سرویس\\u200cدهندهٔ ویکی دسترسی دارد.\\nوارد کانینگهام، تولیدکنندهٔ اولین نرم\\u200cافزار ویکی به نام «ویکی\\u200cویکی\\u200cوب» (WikiWiki Web)، دربارهٔ ویکی\\u200cها می\\u200cگوید: «ساده\\u200cترین پایگاه دادهٔ برخط که عملاً کار می\\u200cکند.» وی در کتابی که به همراه بو لوف نوشته\\u200cاست (کتاب راه ویکی) مفهوم ویکی را به صورت\\u200cهای زیر تعریف کرده\\u200cاست:\\nویرایش کردن صفحه\\u200cهای ویکی.\\nویکی\\u200cها با واسط کاربریِ نسبتاً ساده\\u200cای امکان تولید فرامتن و استفاده از زبان\\u200cهای نشانه\\u200cگذاری را فراهم می\\u200cآورند و اغلب برای ایجاد پایگاه\\u200cهای وبِ گروهی و ارتقای پایگاه\\u200cهای اجتماعی و تحقق مدیریت دانش به کار برده می\\u200cشوند. برای مثال، دانشنامهٔ ویکی\\u200cپدیا بهترین نمونهٔ شناخته\\u200cشده از ویکی\\u200cها است.\\nدر برخی از ویکی\\u200cها یک دکمه یا پیوند در بالای صفحه قرار دارد که با کلیک روی آن، فوراً می\\u200cتوانید صفحه را ویرایش کنید البته به شرطی که کاربر اجازه ویرایش داشته باشد. بدین ترتیب یک صفحه قابل ویرایش مبتنی بر متن در اختیار کاربر قرار می\\u200cگیرد که در آن از زبان نشانه\\u200cگذاری ساده مثل ویکی\\u200cمتن یا ویکی\\u200cکد استفاده شده\\u200cاست (این صفحه ویرایش شدنی از نوع دریافت عین مشاهده است). به عنوان مثال اگر در آغاز سطرها ستاره بگذارید، یک فهرست گلوله\\u200cای ایجاد می\\u200cشود.\\nناوبری.\\nدر لابلای متن بیشتر صفحه\\u200cها پیوندهای ابرمتن به سایر صفحات متن وجود دارد. این شکل ناوبری غیر خطی بیشتر بومی ویکی است تا الگوهای ناوبری رسمی\\u200cشده.\\nبرخی از ویکی\\u200cها در صفحات\\u200cشان پیوند ورودی دارند که نشان می\\u200cدهد چه صفحه\\u200cهایی به صفحه مورد نظر پیوند داده\\u200cاند. همچنین به\\u200cطور معمول می\\u200cتوان پیوندهایی به صفحاتی که هنوز وجود ندارند ایجاد کرد به عنوان راهی که دیگران را دعوت کنیم آنچه را دربارهٔ یک موضوع جدید در ویکی می\\u200cدانند تبادل کنند.\\nپیوند دادن و ایجاد صفحه جدید.\\nبرای ایجاد پیوندها قاعده مشخصی رعایت می\\u200cشود که «الگوی پیوند» نامیده می\\u200cشود. در اصل بیشتر ویکی\\u200cها برای نام\\u200cگذاری صفحات و ایجاد پیوندها از نگارش شتری پیروی می\\u200cکردند. به این صورت که واژه\\u200cها را با حرف اول بزرگ می\\u200cنوشتند و بین واژه\\u200cها فاصله نمی\\u200cدادند.\\nجستجو کردن.\\nدر اکثر ویکی\\u200cها فقط امکان جستجوی عنوان مقاله وجود دارد اما هستند ویکی\\u200cهایی که جستجوی تمام متن نیز دارند. این موضوع به این بر می\\u200cگردد که موتور ویکی از یک پایگاه داده استفاده می\\u200cکند یا نه. بعضی از ویکی\\u200cها مثل پی\\u200cام\\u200cویکی از پایگاه داده flat files استفاده می\\u200cکنند. نسخه\\u200cهای ابتدایی مدیاویکی نیز از پایگاه داده flat files استفاده می\\u200cکردند که در اوایل سال\\u200cهای ۲۰۰۰ توسط لی دانیل کروکر نوشته شده بود.\\nتاریخچه.\\nکانینگهام در سال ۱۹۹۴ نرم\\u200cافزار و وبگاه را توسعه داد تا تبادل اطلاعات را بین برنامه\\u200cنویسان ساده\\u200cتر کند. این ایده بر پایه فایل\\u200cهای استک هایپرکارد بنا شده بود که در اواخر سال\\u200cهای ۱۹۸۰ ایجاد شده بودند. کانینگهام در ۲۵ مارس ۱۹۹۵ این نرم\\u200cافزار را روی وبگاه شرکت خودش (کانینگهام اند کانینگهام) نصب کرد. کانینگهام به یاد مسئول باجه فرودگاه هونولولو که به او گفته بود برای رفتن به پایانه فرودگاه سوار اتوبوس ویکی\\u200cویکی شود این نام را برگزید. ویکی\\u200cویکی دوگان\\u200cسازی واژه «ویکی» است که در زبان هاوایی به معنی \"تند و زود\" به کار می\\u200cرود.\\nتعریف\\u200cهای جایگزین.\\nدر سال\\u200cهای ۱۹۹۰ و ۲۰۰۰ واژه ویکی هم به وبگاه\\u200cهای قابل ویرایشی و هم به نرم\\u200cافزاری که این قدرت قابل ویرایش بودن را به آن\\u200cها می\\u200cدهد اطلاق می\\u200cشد، البته هنوز هم از این معنای دوم استفاده می\\u200cشود. خالق ویکی، وارد کانینگهام در سال ۲۰۱۴ نوشت فقط وقتی می\\u200cتوانیم از واژه «ویکی» برای نامیدن یک وبگاه استفاده کنیم که صفحاتش توسط کاربران قابل ویرایش باشد.\\nمزایای ویکی\\u200cها.\\nویکی\\u200cها به کاربران این اجازه را می\\u200cدهند که بدون دانش برنامه\\u200cنویسی برای وب، اقدام به ایجاد صفحات اینترنتی دربارهٔ موضوعات مختلف بکنند. برای این منظور، ویکی\\u200cها از قراردادهای ساده\\u200cتری برای اصلاح ظاهر متونی که در ویکی گذاشته می\\u200cشوند استفاده می\\u200cکنند، که این قواعد در هر ویکی متفاوت با دیگری است.\\nیکی دیگر از مزایای ویکی\\u200cها آن است که هرگونه تغییر در صفحات ثبت می\\u200cشود، و صفحات قابل بازگرداندن به وضعیت قبل از تغییر هستند. هم\\u200cچنین، بسیاری از ویکی\\u200cها (نظیر ویکی\\u200cپدیا) این امکان را برای کاربران فراهم می\\u200cکنند که محتوای یک صفحه را قبل و بعد از اِعمال چندین مرحله تغییر، مقایسه کنند.\\nویژگی\\u200cای که به صورت\\u200cهای مختلف در ویکی\\u200cها دیده می\\u200cشود، قابلیت پیوند به صفحه\\u200cای دیگر است، چه آن صفحه موجود باشد چه نه. در ویکی\\u200cپدیا، متن\\u200cهای به\\u200cصورت ویکی\\u200cپدیا به شکل پیوند درمی\\u200cآیند، و اگر صفحهٔ مربوط به متن موجود نباشد، پیوند با رنگ قرمز نمایش داده می\\u200cشود.\\nهمایش\\u200cهای مرتبط با ویکی\\u200cها.\\nبه\\u200cطور کلی همایش\\u200cها و نشست\\u200cهای مرتبط با ویکی موارد زیر هستند:\\nهمایش\\u200cهای دربارهٔ وبگاه\\u200cهای ویکی خاص و برنامه\\u200cها موارد زیر هستند:\\nویکی\\u200cمدیا و زبان فارسی.\\nبر اساس چهارچوب پروژه\\u200cهای چندزبانهٔ بنیادِ ویکی\\u200cمدیا، در زبان فارسی نیز از یک نرم\\u200cافزار ویکی استفاده شده\\u200cاست. برخی از پروژه\\u200cهای فارسیِ این بنیاد از این قرارند:\\nسایر پروژه\\u200cهای ویکی\\u200cمدیا مثل ویکی\\u200cانبار، ویکی\\u200cداده و ویکی\\u200cگونه چند زبانه هستند.'},\n",
              " {'id': '663',\n",
              "  'revid': '181',\n",
              "  'url': 'https://fa.wikipedia.org/wiki?curid=663',\n",
              "  'title': 'نرم\\u200cافزارهای آزاد',\n",
              "  'text': ''}]"
            ]
          },
          "execution_count": 4,
          "metadata": {},
          "output_type": "execute_result"
        }
      ],
      "source": [
        "# sample_rdd = articles_rdd.sample(withReplacement=False, fraction=0.2, seed=10)\n",
        "# sample_rdd.take(2)"
      ]
    },
    {
      "cell_type": "code",
      "execution_count": 4,
      "metadata": {},
      "outputs": [
        {
          "data": {
            "text/plain": [
              "[{'id': '2',\n",
              "  'revid': '23528',\n",
              "  'url': 'https://fa.wikipedia.org/wiki?curid=2',\n",
              "  'title': 'صفحهٔ اصلی',\n",
              "  'text': '&lt;templatestyles src=\"صفحه اصلی/styles.css\"/&gt;            امروز: ، میلادی برابر هجری خورشیدی و (UTC)     \\' – \\'       __NOEDITSECTION__'},\n",
              " {'id': '594',\n",
              "  'revid': '349698',\n",
              "  'url': 'https://fa.wikipedia.org/wiki?curid=594',\n",
              "  'title': 'ویکیپدیا',\n",
              "  'text': 'ویکیپدیا (کوتهنوشت بهصورت «وپ» و «WP») یک دانشنامه برخط چندزبانه مبتنی بر وب با محتوای آزاد و همکاری باز است که با همکاری افراد داوطلب نوشته میشود و هر کسی که به اینترنت و وب دسترسی داشته باشد میتواند مقالات آن را ببیند و ویرایش کند. نام ویکیپدیا واژهای ترکیبی است که از واژههای ویکی (وبگاه مشارکتی) و اِنسایکلوپدیا (Encyclopedia) (دانشنامه یا دائرةالمعارف) گرفته شدهاست. هدف ویکیپدیا آفرینش و انتشار جهانی یک دانشنامه با محتوای آزاد به تمامی زبانهای زندهٔ دنیا است.ویکیپدیای انگلیسی در تاریخ ۱۵ ژانویه ۲۰۰۱ (۲۶ دی ۱۳۷۹) به صورت مکملی برای دانشنامهٔ تخصصی نیوپدیا نوشته شد. بنیانگذاران آن «جیمی ویلز» و «لری سنگر» هستند. هماکنون بنیاد غیرانتفاعی ویکیمدیا پروژهٔ ویکیپدیا را پشتیبانی میکند. میزبانهای اینترنتی اصلی این وبگاه در شهر تامپای فلوریدا هستند. همچنین میزبانهای اضافی دیگری هم در شهرهای آمستردام و سئول به این وبگاه یاری میرسانند.\"ویکیپدیا\" از پایان آوریل ۲۰۰۷ تا اکتبر ۲۰۱۹، یکی از ۱۰ وبگاه برتر جهان از لحاظ شمار بازدیدکنندگان بودهاست که بیش از نیمی از بازدیدها به ویکیپدیای انگلیسی مربوط میشود.در میان تمام زبانهای ویکیپدیا تا دسامبر ۲۰۱۵ (آذر ۱۳۹۴) بیش از ۱۴۱ میلیون صفحه وجود دارد که بیش از سی و هفت میلیون عدد از آنها مقاله است. از زبانهای مشهور به ترتیب زبان انگلیسی بیش از ۵ میلیون، سوئدی ۲٫۱ میلیون، آلمانی ۱٫۸ میلیون، هلندی ۱٫۸ میلیون، فرانسوی ۱٫۷ میلیون، روسی ۱٫۲ میلیون، ایتالیایی ۱٫۲ میلیون، اسپانیایی ۱٫۲ میلیون، لهستانی ۱٫۱ میلیون، ویتنامی ۱٫۱ میلیون و ژاپنی و پرتغالی و چینی هر کدام بیش از ۸۵۰ هزار مقاله دارند. تعداد کاربران ثبتنام شده حدود ۵۹ میلیون نفر است که از میان آنها، ۴٫۰۲۲ نفر مدیر هستند. ویکیپدیا دربرگیرندهٔ ۲۸۱ زبان با بیش از ۱۰ مقاله و در کل دارای ۲۹۱ گونهٔ زبان ملل دنیا است.اعتبار \"ویکیپدیا\" دائماً مورد اختلاف بودهاست. برخی آن را بهخاطر انتشار رایگان، ویژگی قابل ویرایش بودن، سیاست بیطرفی و گستردگی عنوانها ستودهاند. از سوی دیگر، منتقدین درستی و اعتبار ویکیپدیا را بهخاطر آزادی ویرایش زیر سؤال بردهاند، همچنین ویکیپدیا به خاطر آسیبپذیری در برابر خرابکاری، کیفیت غیریکنواخت، سوگیری نظام مند، بیثباتی و نیز به خاطر ترجیح اجماع بر اعتبار در سبک ویرایش مقالات نقد شدهاست. در مقابل و ویکیپدیا توسط کاربرانی تهیه میشود که در پی رفع این نگرانیها هستند. پژوهشگران در دو مطالعهٔ علمی به این نتیجه دست یافتهاند که خرابکاریها عموماً زودگذر هستند و ویکیپدیا نسبتاً به درستی سایر دانشنامهها است.\"ویکیپدیا\" بر سیاست «دیدگاه بیطرفانه» تأکید میکند. طبق این سیاست دیدگاههایی که توسط شخصیتهای برجسته ارائه شدهاند بدون هیچ تلاشی برای تأیید آنها بهطور خلاصه بیان میشوند. از آن رو که هر داوطلب میتواند مقالهها را به سبک ویکی اضافه یا ویرایش کند، تخریب و عدم اطمینان به صحت همهٔ مطالب از مشکلات همیشگی این دانشنامه بودهاست. با این حال در موارد متعددی مقالههای ویکیپدیا را در رسانههای گروهی و مراکز علمی نقل کردهاند. مقالههای این دانشنامه تحت مجوز حق تألیف آزاد گنو قابل دسترسی هستند. نسخه زبان آلمانی و انگلیسی \"ویکیپدیا\" بهوسیله دیسکهای فشرده منتشر شده و نسخههای دیگر آن روی وبگاههای دیگر به صورت Fork یا آینه قرار داده شدهاند. با رشد روزافزون این دانشنامه گردانندگان آن در بنیاد ویکیمدیا چندین پروژهٔ مشابه دیگر همچون ویکیواژه، ویکیکتاب، ویکیگفتاورد و ویکیخبر را پدیدآوردند.تاریخچه.\"ویکیپدیا\" بهعنوان نسخهٔ تکمیلیو یا نسخه جدید نیوپدیا آغاز به کار کرد. نیوپدیا پروژهٔ دانشنامهٔ رایگان و برخطی بود که مقالههایش به دست کارشناسان و از طریق یک جریان رسمی نوشته میشدند. نیوپدیا در تاریخ ۹ مارس ۲۰۰۰ (۱۹ اسفند ۱۳۷۸) تحت مالکیت شرکت بومیس که یک شرکت پورتال وب بود، بنیانگذاری شد. شرکت بومیس که در سال ۱۹۹۶ بنیانگذاری شده بود، یک پایگاه اینترنتی تفریحات شهوانی و دارای محتوای جنسی برای مردان بود؛ و سرمایه نخستین دانشنامه آزاد نیوپدیا، و جانشین آن ویکیپدیا، توسط آن تا سال ۲۰۰۳ تأمین میشد. پهنای باند و سرور استفاده شده برای پروژه ویکیپدیا، توسط بومیس اهدا شد؛ و بسیاری از کارمندان شرکت بومیس و نیز مدیرعامل این شرکت در ایجاد اولیه ویکیپدیا همکاری کردند. اعضای برجستهٔ نیوپدیا عبارت بودند از جیمی ویلز، رئیس شرکت و تصمیمگیرندهٔ نهایی و لری سَنگِر رئیس بخش ویرایش و نوشتار نیوپدیا و (بعدها) \"ویکیپدیا\". سنگر، نیوپدیا را اینطور توصیف میکند که بین همه دانشنامههای موجود آن دوره، تنها نیوپدیا دارای مطالب آزاد بود و محدودیت اندازه نداشت؛ زیرا روی اینترنت قرار داشت. ضمناً به خاطر ماهیت عمومی و محدودهٔ گسترده شرکتکنندگان بالقوهٔ خود، بیطرف بود. نیوپدیا دارای هفت مرحله بازنگری توسط کارشناسان متخصص در زمینههای مختلف بود؛ ولی بعدها همگان به این باور رسیدند که این روند برای تولید مقالهها بسیار کند است. شرکت بومیس که پایهگذار این دانشنامه بود نقشههایی برای تبلیغات داشت تا از طریق آن، جبران سرمایه کند. این دانشنامه در ابتدا دارای مجوز مطلب آزاد نیوپدیا بود؛ ولی درست قبل از تشکیل \"ویکیپدیا\" و با اصرار ریچارد استالمن، مجوز خود را تبدیل به مجوز حق تألیف آزاد گنو کرد.ویکیپدیا برای نخستین بار در تاریخ ۱۵ ژانویه ۲۰۰۱ (۲۶ دی ۱۳۷۹) و فقط به زبان انگلیسی به نام wikipedia.com به دنیای تازه اینترنت وصل شد. \"ویکیپدیا\" از ۱۰ ژانویه یکی از قابلیتهای Nupedia.com بهشمار میرفت. به این صورت که نویسندگان عمومی میتوانستند مقالههای خود را در آن وارد کنند تا پس از مرور در نیوپدیا قرار گیرد؛ ولی پس از آنکه هیئت مشورتی کارشناسان نیوپدیا مدل تولید آن را رد کرد، از وبگاه نیوپدیا برداشته شد. بعد از آن \"ویکیپدیا\" به صورت پروژهای جدا از نیوپدیا شروع به کار کرد. سیاست «» که شبیه به سیاست پیشین «بیطرفی» نیوپدیا بود در همان ماههای اول برنامهریزی شد. \"ویکیپدیا\" سریعاً شرکتکنندگانی از نیوپدیا، اسلش دات و راهنماهای موتورهای جستجو بدست آورد. در پایان سال اول به تعداد ۲۰٬۰۰۰ مقاله بین ۱۸ زبان خود رسید. تا پایان سال ۲۰۰۲ تعداد زبانها به ۲۶، پایان سال ۲۰۰۳ به ۴۶ و در پایان ۲۰۰۴ به تعداد ۱۶۱ زبان رسید. نیوپدیا و \"ویکیپدیا\" آنقدر کنار هم زیستند تا میزبان (سِرور) نیوپدیا از کار افتاد و در سال ۲۰۰۳ متون آن به \"ویکیپدیا\" منتقل شد.ویلز و سنگر، فکر استفاده از ویکی را به وبگاه \"ویکیویکیوب\" متعلق به وارد کانینگهام نسبت میدهند. ویلز اینگونه بیان میدارد که او برای اولین بار در دسامبر ۲۰۰۰ فکر استفاده از ویکی را از جرمی رُزنفیلد که کارمند شرکت بومیس بود و یک ویکی مشابه را به او نشان داده بود شنید؛ اما این واقعه، بعد از آن بود که سنگر، خبر وجود چیزی به نام ویکی را از کوویتز-که یکی از استفادهکنندگان ویکی بود-شنید و پیشنهاد ساخت چیزی مثل ویکی برای نیوپدیا را به ویلز داد؛ از همینجا بود که تاریخ ویکی شروع شد. پروژهای به نام گنوپدیا تحت همان ایدهٔ مطلب آزاد (و نه تولید ویکی) همراه با نیوپدیا شروع به کار کرده بود. این پروژه متعاقباً غیرفعال شد و سازندهٔ آن، ریچارد استالمن-که بنیانگذار بنیاد نرمافزارهای آزاد است-شروع به پشتیبانی از \"ویکیپدیا\" کرد.کاربران اسپانیایی در فوریه ۲۰۰۲ از ترس تبلیغات تجاری و نبود کنترل در یک ویکیپدیای انگلیسیمحور از \"ویکیپدیا\" به روی Encyclopedia Libre رفتند. کمی بعد در همان سال، ویلز اعلام کرد که \"ویکیپدیا\" از این پس هیچ تبلیغی نشان نخواهد داد و وبگاه آن را به wikipedia.org انتقال داد. بعضی پروژهها به دلایل ویرایشی خاص به جاهای دیگری نظیر ویکیاینفو انتقال داده شدهاند. در ویکیاینفو خبری از «دیدگاه بیطرفانه» نیست.در تاریخ ۲۱ ژوئن ۲۰۰۳ (۳۰ خرداد ۱۳۸۲) بنیاد ویکیمدیا از بین \"ویکیپدیا\" و نیوپدیا شکل گرفت. \"ویکیپدیا\" و پروژههای خواهرش تا به حال تحت ادارهٔ این سازمان ناسودبر کار کردهاند. اولین پروژه خواهر \"ویکیپدیا\" در ماه اکتبر ۲۰۰۲، به یاد حملات ۱۱ سپتامبر برای یادآوری حوادث آن روز ساخته شد. ویکیواژه که پروژهٔ فرهنگ واژهها بود در دسامبر ۲۰۰۲، ویکیگفتاورد که مجموعهای از گفتههای معروف بود درست یک هفته بعد از افتتاح ویکیمدیا و پروژه ویکیکتاب که مجموعهای از کتابهای رایگانی است که با مشارکت همگانی گردآوری شدهاند در ماه بعد به کار افتاد. ویکیمدیا پس از آن شروع به تشکیل پروژههای جدیدی کرد که در زیر توضیح داده خواهند شد.\"ویکیپدیا\" از ابتدا وضعیت خود را با شمارش مقالههایش سنجیدهاست. در دو سال ابتدایی پیدایش خود روزانه در حدود ۱۰۰ مقاله یا کمتر به آن اضافه میشد. \"ویکیپدیای انگلیسی\" در تاریخ ۲۲ ژانویه ۲۰۰۳ (۲ بهمن ۱۳۸۱) به سرعت ۱۰۰٬۰۰۰ مقاله رسید. در سال ۲۰۰۴ مقالههای ویکیپدیا به نرخ رشد تقریبی ۱٬۰۰۰ تا ۳٬۰۰۰ مقاله در روز رسیدند. در ۲۵ فوریه ۲۰۰۴ (۶ اسفند ۱۳۸۲) \"ویکیپدیا\" در تمامی زبانهای خود به میزان ۵۰۰٬۰۰۰ مقاله دست یافت. در تاریخ ۲۰ سپتامبر ۲۰۰۴ (۲۹ شهریور ۱۳۸۳) مقالههای \"ویکیپدیا\" در ۱۰۵ زبان به یک میلیون رسید.ویژگیها.این دانشنامه روی وبگاه wikipedia.org با استفاده از نرمافزاری به نام «ویکی» که به زبان جزیرهٔ هاوایی به معنی «تند» است ساخته شدهاست. ویلز بر این باور است که \"ویکیپدیا\" باید به کیفیت دانشنامه بریتانیکا یا بهتر برسد و چاپ هم بشود. جیمی ویلز بنیانگذار \"ویکیپدیا\" آن را اینگونه توصیف میکند. «\"ویکیپدیا\" کوششی برای آفرینش و پخش دانشنامهای با بالاترین کیفیت ممکن برای همه مردم روی زمین و به زبان مادریشان است.»ویکیپدیا در میان دانشنامههای اینترنتی.دانشنامههای گوناگون دیگری روی اینترنت هستند یا قبلاً وجود داشتهاند. در برخی از آنها مانند \"دانشنامه فلسفه استانفورد\" و \"نیوپدیا\" (که دیگر وجود ندارد) سیاستهای مقالهنویسی سنتی و مالکیت مقاله وجود دارند. بهطور اتفاقی وبگاههایی مانند h2g2 یا اوریتینگ۲ وجود دارند که به مانند راهنماهایی کلی عمل میکنند و مقالههایشان توسط همگان نوشته و بازنگری میشوند. پروژههایی همچون \"ویکیپدیا\"، Susning.nu و Enciclopedia Libre همگی ویکی هستند و در همه آنها مقالهها به دست نویسندههای بیشماری نوشته میشوند و هیچ گونه بازنگری رسمی روی آنها اعمال نمیشود. \"ویکیپدیا\" تبدیل به بزرگترین نوع دانشنامه ویکی چه از نظر تعداد مقالهها و چه از نظر تعداد واژهها شدهاست. از بین تمامی دانشنامههای موجود، \"ویکیپدیا\" به خاطر داشتن حق تألیف آزاد گنو متمایز گشتهاست.\"ویکیپدیا\" مصرانه میخواهد تنها یک دانشنامه باقی بماند. هدف آن تبدیل شدن به مجموعه کاملی از دانش بشری نیست. مجموعه سیاستهایی تحت عنوان «» وجود دارند که مشخص میکنند چه اطلاعاتی نباید در \"ویکیپدیا\" گنجانده شوند. این سیاستها تا به حال غالباً باعث مشاجره بر سر اضافه کردن، حذف یا اصلاح مطلبی خاص شدهاند.مطالب آزاد.مجوز حق تألیف آزاد گنو (GFDL) که مقالههای \"ویکیپدیا\" با استفاده از آن عرضه میشوند یکی از مجموعه «کپیلفت» کپیرایت است که اجازه توزیع دوباره، خلق آثار مشتق شده و استفاده تجاری از مطالب مقالهها به شرط ذکر نام نویسنده و ماندن اثر تحت مجوز GFDL را میدهد. هنگامی که یک نویسنده اصل اثر خود را به پروژه تحویل میدهد، حق تألیف او روی آن اعمال میشود ولی باید قبول کند که اثرش را تحت مجوز GFDL در اختیار عموم بگذارد. ممکن است مطالب موجود در \"ویکیپدیا\" روی منابع دیگری که از این مجوز استفاده میکنند قرار بگیرند یا از آن منابع گرفته شده باشند. مطالب \"ویکیپدیا\" از طریق انبارهای اطلاعاتی روی صدها منبع به صورت آینه یا fork قرار گرفتهاند. اگر چه تمامی متون عرضه شده در \"ویکیپدیا\" از مجوز GFDL استفاده میکنند، درصد بالایی از تصاویر و پروندههای صوتی \"ویکیپدیا\" رایگان نیستند. اقلامی چون لوگوی شرکتها، نمونهٔ آهنگها یا تصویرهای دارای حق تألیفِ خبری با درخواست استفاده منصفانه استفاده میشوند. اقلامی نیز وجود دارند که با شرط عدم اشتقاق یا «فقط برای ویکیپدیا» به این دانشنامه داده شدهاند.زبانها.\"ویکیپدیا\" تا (تا آذر ۱۳۹۴/ دسامبر ۲۰۱۵) دربرگیرندهٔ ۲۸۱ زبان با بیش از ده مقاله بودهاست. بهطور کلی \"ویکیپدیا\" دارای ۲۹۱ گونه زبان ملل دنیا و نزدیک به ۳۵ میلیون مقاله است.زبانهای مختلف به صورت مستقل از هم کار میکنند. ویرایشهای زبانی به بقیه زبانهای دیگر محدود یا وصل نشدهاند و فقط محدود به سیاستهای کلی نظیر «دیدگاه بیطرفانه» هستند. با اینکه مقالهها و تصاویر بین زبانها به اشتراک گذاشته نشدهاند ولی اولی از طریق صفحاتی که در آنها درخواست ترجمه میشود و روی زبانهای بزرگتر قرار دارند و دومی از راه انبار عمومی \"ویکیپدیا\" حل شدهاند. مقالههای ترجمه شده بخش کوچکی از مقالههای موجود همهٔ زبانها را تشکیل میدهند.ویکیپدیای فارسی هماکنون با نوشتار (شمارش زنده) در ردهٔ هجدهم، و در میان زبانهایی که عموماً در خاورمیانه تکلم میشود، بالاتر از زبان ترکی استانبولی و زبان عبری قرار دارد.آمار کلی ویکیپدیاها (انتهای سال ۲۰۱۵):ویکیپدیاهای موجود به زبانهای خانوادهٔ زبانهای ایرانی از این قرارند:نرمافزار و سختافزار.\"ویکیپدیا\" توسط برنامه متنباز مدیاویکی روی دستهای از میزبانان وب مستقر در فلوریدا اجرا میشود. مدیاویکی نسخه سوم این برنامهاست. در ابتدا \"ویکیپدیا\" روی UseModWiki که توسط کلیفورد آدامز (نسخه ۱) نوشته شده بود کار میکرد. در ابتدا برای پیوندهایش از سرهمنویسی نگارش شتری استفاده میکرد ولی بعدها امکان استفاده از کروشه (bracket) هم در آن ایجاد شد. ویکیپدیا ژانویه ۲۰۰۲ در نسخه جدید خود (فاز دوم پروژه) از موتور پیاچپیویکی روی پایگاه داده مایاسکیوال استفاده کرد. این نرمافزار که نسخه دوم به حساب میآمد توسط ماگنوس مانسک و مخصوص دانشنامهٔ \"ویکیپدیا\" نوشته شده بود. به خاطر تقاضاهای زیاد به منظور بهبود کیفیت، اصلاحات زیادی روی آن انجام شد. سرانجام این نرمافزار توسط لی دانیل کراکر دوبارهنویسی شد. این نرمافزار که نسخه شماره سه محسوب میشد در ژوئیه ۲۰۰۲ نوشته شد و مدیاویکی نامگذاری گردید. مجوز استفاده از آن تحت گنو است و در تمامی پروژههای ویکیمدیا از آن استفاده میشود.ویکیپدیا روی دستهای از میزبانهای وب لینوکس در فلوریدا و چهار مکان دیگر میزبانی میشود. این وبگاه تا سال ۲۰۰۴ تنها روی یک سرور بود تا آنجا که تنظیمات میزبان آن تقسیم به چندین قسمت شد. در ژانویه ۲۰۰۵ \"ویکیپدیا\" روی ۳۹ سرور مختلف در فلوریدا مشغول به کار بود. پیکربندی آن عبارت است از یک بانک اطلاعاتی بزرگ تحت مایاسکیوال، چندین میزبان خادم بانک اطلاعاتی و ۲۱ میزبان وب که با نرمافزار آپاچی کار میکنند و ۷ تا که تحت میزبان Squid Cache کار میکنند.در سپتامبر ۲۰۰۵، گروه میزبانهای وب \"ویکیپدیا\" به بیش از ۱۰۰ عدد افزایش یافت و بنابر تقاضای مسئول مرکز دادهها، تمامی میزبانها با موفقیت، به ساختمان جدید واقع در مرکز شهر تامپا منتقل شدند.تقاضاهای صفحهٔ وب ابتدا به میزبانان مخزن Squid caching فرستاده میشوند. درخواستهایی که قابلیت انجام شدن در این میزبانها را ندارند به دو میزبان متعادلساز که نرمافزار perlbal روی آنها نصب است فرستاده میشوند. سپس تقاضاها برای یکی از میزبانهای وب آپاچی فرستاده میشوند تا مورد پردازش قرار گیرند. میزبانهای وب، صفحات را به شکل لازم پردازش میکنند. برای افزایش سرعت، صفحاتی که برای کاربران ناشناس پردازش شدهاند در یک فایلسیستم ذخیره (cache) میشوند تا زمانیکه از درجه اعتبار ساقط شوند. این امر باعث عدم پردازش صفحات معمول شده و در نتیجه در زمان و انرژی صرفهجویی میشود. ویکیمدیا ساخت شبکهای جهانی از میزبانان مخزن در کنار ۳ میزبان مخزن خود در فرانسه را آغاز کردهاست تا سرعت پاسخگویی را بالاتر ببرد. در حال حاضر یک گروه میزبان جدید در هلند و در کره جنوبی شروع به کار کردهاند و پاسخگوی بخش بزرگی از ترافیک ویکیپدیا هستند.گزارش وضعیت رو به رشد وبگاه ویکیپدیا به صفحه وضعیت فرستاده میشود.ویرایش.تقریباً هر کاربری میتواند مقالههای \"ویکیپدیا\" را ویرایش کند و تغییرات خود را سریعاً ببیند. فکر ویرایش مقالهها بر این اساس شکل گرفته که همکاری کاربران با یکدیگر میتواند در بهبود کیفیت مقالهها در طول زمان تأثیر به سزایی داشته باشد؛ همانطور که در توسعهٔ نرمافزارهای متنباز داشتهاست. نویسندگان آن نیازی به داشتن مدارک رسمی یا تخصص در زمینهٔ موضوعی که ویرایش میکنند ندارند. به آنها اخطار داده میشود که ممکن است مقالههای آنها توسط هر کس و به هر نحوی که میخواهد، بیرحمانه مورد ویرایش قرار گیرند و توزیع شوند. مقالههای آنها توسط هیچ شخص خاصی یا گروه تحریریهای بازنگری نمیشوند. تصمیمگیری در مورد مطالب و سیاستهای ویرایشی \"ویکیپدیا\" با توافق عام و رأیگیری صورت میگیرد.به دلیل بازبودن \"ویکیپدیا\" «جنگهای ویرایشی» (که «جنگهای بازنگری» نیز گفته میشوند) و مشاجرههای طولانی غالباً وقتی اتفاق میافتند که ویرایشگران با نظرات مختلف خود، با هم به توافق نمیرسند. اعضای انجمنهای \"ویکیپدیا\" روند ویرایشی آن را یک عمل دستهجمعی و نوعی جریان اجتماعی و تکامل تدریجی داروینی میدانند. مقالهها همیشه در معرض ویرایش قرار دارند بدینگونه که \"ویکیپدیا\" هیچگاه مقالهای را تمام شده تلقی نمیکند. تخریب، مشکل دائمی \"ویکیپدیا\" بودهاست، امّا در این سایت اگر در مقالهای اقدام به تخریب ویا لجنپراکنی صورت پذیرد بلافاصله با اضافات دیگران تصحیح خواهد شد.سیاستها.ویکیپدیا از تمام ویرایشگران خود میخواهد تا هنگام نوشتن «دیدگاه بیطرفانه» ای داشته باشند و پژوهش ابتکاری خود را در ویکیپدیا قرار ندهند. نگاه بیطرفانه که خود سیاستی «غیرقابل بازگشت» است هدف دانشنامه را اینگونه برمیشمرد: «نشان دادن عوامل اختلاف، توصیف آنها به جای وارد شدن در آنها». اگر به این مهم برسیم دیگر \"ویکیپدیا\" تنها از یک «دیدگاه بیطرفانه» بیان نشدهاست بلکه حاوی تمامی نظرات بیطرفانه مربوط به یک موضوع خواهد بود. این سیاست بیان میدارد که به هر دیدگاهی بسته به اعتبارش باید بها داد. از این سیاست به خاطر داشتن هدفی غیرقابل دسترس که در مورد آثار بیاعتبار بیمورد است و به دیدگاههای «ضد اخلاقی» اجازهٔ ظهور میدهد انتقاد شدهاست.آرا و نظراتی که تا پیش از نوشته شدن در ویکیپدیا منتشر نشده باشند، «تحقیقهای ابتکاری» تلقی میشوند و اجازهٔ ورود نخواهند داشت. سیاست «تحقیق غیر ابتکاری» اینگونه بیان میدارد که آثار اینچنینی نمیتوانند نمایانگر دیدگاهی بیطرفانه باشند. پس نظرات یا دیدگاههای جدیدِ ویرایشگران نباید در \"ویکیپدیا\" معرفی شوند.همکاران \"ویکیپدیا\" از سیاستها و خطمشیهای متنوع کوچکتری نیز پشتیبانی میکنند. بر خلاف دیگر ویکیهای موجود مانند Ward Cunningham\\'s Portland Pattern Repository، \"ویکیپدیا\" به جای قرار دادن بحثهای مربوط به تغییرات مقالهها در درون آنها، صفحاتی جداگانه را به نام «بحث» به این کار اختصاص دادهاست. همکاران \"ویکیپدیا\" گاهی مقالههایی را که احساس میکنند مناسب یک دانشنامه نیست، تغییر یا انتقال داده یا حذف میکنند. تعاریف فرهنگ واژهها (dicdefs) یا اصل متنها از اینگونه مقالهها هستند. گاهی ویرایشهای مختلف \"ویکیپدیا\" برای خود سبک نوشتاری خاصی ایجاد میکنند.مدیریت و ویرایشگری.تفاوتهای منحصربهفرد خاصی بین ویرایشگرهای \"ویکیپدیا\" وجود ندارد و تصمیمها با رأی اکثریت گرفته میشوند. در ماه دسامبر ۲۰۰۵، ویکیپدیا حدوداً ۲۷٬۰۰۰ کاربر داشتهاست که هر کدام دستکم در روز پنج ویرایش یا اثر از خود به جا گذاشتهاست. بنابر آمارهای ویکیمدیا، یکچهارم ترافیک \"ویکیپدیا\" از سوی کاربرانی است که حساب ندارند و کمتر دست به ویرایش مقاله میزنند.وظایف نگهداری بر عهدهٔ گروههای داوطلبی از توسعهدهندگان، ناظران، مأموران و مدیران است که شمارِ آنان به صدها نفر میرسد. مدیران، بزرگترین گروه بین آنها هستند که توانایی جلوگیری از ویرایش یک مقاله یا جلوگیری از دسترسی کاربران خاص طبق سیاستهای جامعه را دارند. کاربران زیادی تا به حال به صورت اضطراری یا دائم از ویرایش مقاله در \"ویکیپدیا\" منع شدهاند. ممکن است تخریب یا تخلف از سیاستها، باعث منع اضطراری یک کاربر گردد. در حالیکه تصمیم اخراج بلندمدت یا همیشگی توسط آقای ویلز یا کمیته داوری تخلفات جدی و دامنهدار اتخاذ میشود.ویکیپدیا از طریق بنیاد ویکیمدیا برپا شد. هزینههای ربع چهارم سال ۲۰۰۵ آن معادل ۳۲۱٬۰۰۰ دلار آمریکا بوده که ۶۰٪ آن مربوط به سختافزار است. هماکنون بنیاد ویکیمدیا بر روی کمکهای خصوصی تکیه دارد و از رایزنهای مالی استفاده میکند. رایزنی مالی سال ۲۰۰۷ موجب جمعآوری مبلغی بیش از ۱ میلیون دلار شد.رئیس پیشین بخش ویرایش \"ویکیپدیا\"، لری سنگر گفتهاست وجود مجوز جیافدیال (GFDL) «بهعنوان ضمانت آزادی، انگیزه خوبی برای کار در یک دانشنامه آزاد است.» پروفسور آندریا سیفولیلی در مطالعه \"ویکیپدیا\" بهعنوان یک انجمن، اینطور مطرح میکند که: «هزینههای پایین شرکت در نرمافزار ویکی، خود عامل فروگشایی برای توسعه جمعی است و دیدگاه «ساختِ خلاقانه» میزان شرکتپذیری را بالا میبرد». \"ویکیپدیا\" را از منظر تجربهای اجتماعی در آنارشیسم یا دموکراسی نیز مورد بررسی قرار دادهاند. بنیانگذار آن اینگونه پاسخ میدهد که حتماً قرار نیست اینطور باشد اگرچه ممکن است دستاوردش این بوده باشد. در جستجویی که داخل \"ویکیپدیا\" انجام شد صفحهای پیدا شد که نویسنده آن اینگونه بیان داشته که ارزش این دانشنامه به خاطر آن است که \"ویکیپدیا\" انجمنی اجتماعی است. به این معنا که میتوان از نویسندگان خواست تا از کار خود دفاع کرده یا آن را روشن سازند و بحثها سریعاً قابل مشاهدهاند. ویرایشهای گوناگون \"ویکیپدیا\" غالباً دارای میزهای مرجعی هستند که اعضای انجمن در آنجا به پرسشها پاسخ میدهند.جامعهٔ کاربری.ویکیپدیا به عنوان یک دانشنامه آنلاین همزمان به بسیاری از زبانها نوشته میشود و همکاران آن افرادی از سراسر جهان هستند و هر کسی میتواند به رشد آن کمک کند. این دانشنامه از زمان تولد تاکنون، رشد بسیار سریعی داشته و بزرگترین وبگاه دانشنامهای با بیش از ۸۰ میلیون بازدیدکننده در ماه است و بیش از ۹۰٬۰۰۰ کاربر فعال دارد که بر روی بیش از به کار میکنند.در یک مقالهٔ تحقیقاتی منتشرشده در سال ۲۰۱۲ در پلاس وان، طاها یاسری و همکاران با بررسی میزان مشارکت کاربران در طول شبانهروز سهم مناطق جهان را در ویرایش چند نسخهٔ مختلف ویکیپدیا تخمین زدند. این بررسیها نشان دادند برای مثال غالب مشارکتهای انجامشده در ویکیپدیای فارسی از اروپا و آمریکای شمالی بودهاست. یا مثلاً ۵۰٪ ویرایشهای انجامشده از آمریکای شمالی در ویکیپدیای انگلیسی بودهاند و برای ویکیپدیای انگلیسی ساده این مقدار ۲۵٪ بودهاست.ارزیابیها.انتقادات.منتقدین بر این باورند که مجوز ویرایش همگانی، \"ویکیپدیا\" را دانشنامهای غیرقابل اعتماد ساختهاست. فیلیپ بردلی در مصاحبهای که با روزنامه گاردین در سال ۲۰۰۴ انجام داد گفت که او هرگز از \"ویکیپدیا\" استفاده نمیکند و «هیچ کتابدار دیگری را نمیشناسد که این کار را انجام دهد. مشکل اصلی عدم وجود قدرت کنترلکننده در \"ویکیپدیا\" است. در کتب منتشرشده، ناشر باید تضمین کند که اطلاعات کتابش درست است زیرا امرار معاش او بستگی به آن دارد. اما با وجود چیزی مثل \"ویکیپدیا\" همه آن بر باد میرود.» تد پاپاس رئیس ویرایشگران دانشنامه بریتانیکا در مصاحبهای با گاردین اینطور میگوید که: «فرضیهٔ \"ویکیپدیا\" بر این استوار است که پیشرفت مداوم به کمال میانجامد. این فرضیه هیچگاه ثابت نشدهاست.» دانا بوید در سال ۲۰۰۵ در بحثی پیرامون \"ویکیپدیا\" بهعنوان یک منبع دانشگاهی اینطور میگوید که «\"ویکیپدیا\" هیچگاه یک دانشنامه نخواهد شد ولی حتماً در آینده تبدیل به منبع گستردهای از دانش میشود که برای اهداف مختلف ارزش زیادی خواهند داشت.» با اینحال هنوز هم دانشنامههای سنتی حق خود میدانند که هیچ مسئولیتی در قبال خطاهای احتمالی به گردن نگیرند.رابرت مکهنری ویرایشگر سابق بریتانیکا در مقالهای تحت عنوان «دانشنامهٔ مورد اعتماد» \"ویکیپدیا\" را مورد انتقاد قرار دادهاست و مینویسد «هر چند که ممکن است مقالهای در \"ویکیپدیا\" به درجه اعتبار بالایی دست یابد ولی تا ابد در معرض تغییر دخالتکنندگان بیاطلاع یا کمسواد قرار خواهد داشت.» آرون کرون مقاله تکذیبیهای در رد روشهای مکهنری نوشته و آنها را FUD که نوعی فن تجاری به حساب میآید و در زبان انگلیسی مخفف سه واژه به معنای «ترس، عدم اطمینان و شک» است اطلاق کردهاست. رئیس بخش تحریریهٔ سابق، لَری سَنگر، در اواخر سال ۲۰۰۴ از \"ویکیپدیا\" به دلیل داشتن ماهیت «ضد نخبه» که باعث رد بازنگری رسمی میشود و در نتیجه موجب کاهش اعتبار مقالههای آن میگردد انتقاد کرد.\"ویکیپدیا\" را به خاطر فراگیر نبودن مورد اتهام قرار دادهاند، زیرا ماهیت آن داوطلبانه است و میتواند بازتاب جانبداریهای جهتدار نویسندگانش باشد. دال هویبرگ رئیس بخش تحریریه دانشنامهٔ بریتانیکا اینطور بیان میدارد که «مردم دربارهٔ چیزهایی مینویسند که به آنها علاقه دارند در نتیجه بسیاری از موضوعات پوشش داده نمیشوند ولی وقایع خبری با تمام جزئیاتشان ذکر میشوند. مدخل مربوط به تندباد فرنسس پنج برابر بزرگی مدخل مربوط به هنر چین است و مدخل خیابان کورونیشن دو برابر مدخل مربوط به تونی بلر است.» لری سنگر رئیس بخش سابق ویرایش نیوپدیا در سال ۲۰۰۴ گفت: «هنگامی که به یک مسئله نسبتاً تخصصی میرسیم (که خارج از علاقه مردم است) اعتبار مقالهها بسیار غیرقابل اعتماد میشود.»در ماه مه سال ۲۰۰۵ (خرداد ۱۳۸۴) مثال هویبرگ صحت خود را از دست داد: مقالهٔ مربوط به هنر چین تقریباً سه برابر مقالهٔ مربوط به تندباد فرنسس شد و مقاله مربوط به تونی بلر در حدود ۵۰٪ بزرگتر از مقالهٔ خیابان کورونیشن گردید. این نکته کاملاً روشن است که مقالههایی که در پرسش مطرح شده بودند تنها بهعنوان مثالهایی برای گرایش متمایل نویسندگان آورده شده بودند؛ اگر چه میتوان از این مثالها برای نشان دادن روند رو به تعادل منطقی \"ویکیپدیا\" استفاده کرد.\"ویکیپدیا\"به دلیل اینکه اجازه میدهد مقالههایش ضمن وقایع جاری به روز شوند یا مقالهای بر اساس رویداد روز خلق شوند ستایش شدهاست. برای نمونه مقالهٔ مربوط به زلزله اقیانوس هند که اندکی بعد از وقوع آن در ویکیپدیای انگلیسی نوشته شد به سرعت توسط بعضی از مطبوعات چاپ شد. به همین دلیل محدودهٔ موضوعی این دانشنامه میتواند بسیار وسیعتر از بقیه دانشنامهها باشد.در سال ۲۰۰۵ نیچر نتایج یک داوری همتا را که ۴۲ مقاله علمی در بریتانیکا و ویکیپدیا را مقایسه کرده بود منتشر کرد. این پژوهش نتیجهگیری کرد که درجه دقت ویکیپدیا به درجه دقت بریتانیکا رسیدهاست. مجله تایم مینویسد که سیاست درهای باز که اجازه ویرایش را به همه میدهد مسبب این شدهاست که ویکیپدیا بزرگترین و احتمالاً بهترین دانشنامه در دنیا باشد که این شاهدی بر دیدگاه جیمی ویلز است.ویرایش دستهجمعی.روند ویرایشی \"ویکیپدیا\" اینطور فرض میکند که قرار دادن مقالات در معرض ویرایش همگانی باعث صحت مطالب میشود. سانگر پیش از این با اشاره به قانون لینوس در مورد توسعه متنبازگفته بود: «با داشتن چشمهای زیاد، خطاهای کمتری رخ خواهند داد.». مرورگران زیاد مقالههای ویکیپدیا باعث میشود تا مطالب خرابکارانه و جانبدارانه به سرعت واگردانی شوند. جوی ایتو یکی از شخصیتهای برجستهٔ فناوری در مورد صحت مطالب \"ویکیپدیا\" اینطور مینویسد که «هر چند این مسئله کمی بستگی به نوع رشته دارد، پرسش این است که آیا مطلبی که از یک منبع اطلاعاتی دقیق به دست میآید درستتر است یا مطلبی که توسط صدها هزار نفر (با امکان ویرایش) دیده شده و هنوز باقیمانده!» در آزمایش غیررسمی که روی توانایی \"ویکیپدیا\" در کشف اطلاعات غیرصحیح انجام شد، نویسنده اینطور بیان میدارد که این جریان «مکانیسمی حقیقت یاب نیست بلکه بیشتر شبیه مکانیسم رایگیری است، در نتیجه ممکن است مطلبی که اشتباه به «نظر» نرسد صحیح تلقی شود.»ارجاع به ویکیپدیا.\"ویکیپدیا\" تا به حال توسط رسانهها، مراکز علمی و دیگر منابع بهعنوان مرجع یا ضمیمه، مورد استفاده قرار گرفتهاست. سازمانهای خبری مقالههای \"ویکیپدیا\" را بهعنوان منبع نام بردهاند یا در گوشهٔ صفحهٔ وب خود، برای کسب اطلاعات بیشتر، ارجاعی به آن گذاشتهاند. بعضی از آنها این کار را بهطور مرتب انجام میدهند. بنابر فهرستی که توسط ویرایشگران \"ویکیپدیا\" تهیه شدهاست، مقالههای \"ویکیپدیا\" بیشتر از همه جا در رسانههای خبری ذکر شدهاند. در ردههای پایینتر، تحقیقات علمی، کتابها، همایشها و دادگاهها قرار دارند. ارجاعهای زیادی به مقالههای \"ویکیپدیا\" در بخش «دیدگاههای بهتر» روزنامهٔ علم (Science Journal) قرار گرفتهاست. اولین ارجاع این روزنامه، پیوندی به مقالهٔ ویکیپدیا تحت عنوان «A White Collar Protein Senses Blue Light» (لیدن، ۲۰۰۲) بود. پس از آن مقالههای زیادی به پیوندهای مشابه ارجاع دادهاند.ارجاع به ویکیپدیا در رسانههای فارسی.در رسانههای فارسی بسیاری از مقالات ویکی فارسی کپی و منتشر میشود و غالباً منبع آن نیز ذکر نمیشود در پایاننامههای دانشجویی به وفور از منابع ویکیپدیا استفاده میشود با این تفاوت که دانشجو منابع ویکیپدیا را با نام خودش جا میزند و بسیاری از استادان نیز دانسته یا نادانسته مطالب را میپذیرند. همین کار در خصوص مقالههای انگلیسی ویکیپدیا میشود. البته موارد بسیار زیادی نیز بهخوبی منبع: ویکیپدیا را میآورند. در سالهای اخیر مراجعه به ویکیپدیای فارسی افزایش چشمگیری داشته که علت آن جلب اعتماد و همچنین مزایای متعددی است که سایت ویکیپدیا از آن برخوردار است. آمار نشان میدهد که در سال ۲۰۰۹ میلادی در حدود نیمی از بازدیدهای کاربران ایرانی از نسخه انگلیسی ویکیپدیا انجام میشده و کمی بیشتر از نیمی از دیگر مراجعات به نسخه فارسی این دانشنامه جهانی بودهاست. بررسی همین آمار برای سالهای پیاپی اما حکایت از استقبال فزاینده جامعه ایرانی از نسخه فارسی ویکیپدیا دارد بهطوریکه در سال ۲۰۱۳ در حدود ۷۵ درصد از مراجعات ایرانیان برای کسب اطلاعات از این دانشنامه به نسخه فارسی بوده و نسخه انگلیسی تنها حدود ۲۲ درصد از مراجعات از ایران را به خود جلب کردهاست.طی این مدت البته تعداد مقالات نسخهٔ فارسی ویکیپدیا نیز رشد چشمگیری را نشان میدهد بهطوریکه شمار مقالات این دائرةالمعارف فارسی از مرز ۳۴۶ هزار مقاله گذشته و از این نظر، زبان پیشرو در میان زبانهای منطقه خاورمیانه است.فیلترینگ و سانسور.سانسور ویکیپدیای فارسی.بر اساس یک بررسی در ژوئیهٔ ۲۰۱۳ از میان حدود ۳۳۱هزار مقاله ویکیپدیای زبان فارسی ۹۶۳ مقاله در زمینههای سیاست، سکس و مذهب در ایران فیلتر هستند. از این میان بیشترین حجم به مسایل سیاسی و بیش از همه به «انتخابات ۸۸» و «جنبش سبز» اختصاص دارد. در سال ۲۰۱۵ فیلتر هدفمند مقالات ویکی دربارهٔ موضوعات مذهبی، سیاسی، جنسی یا غیره در ایران برداشته شد اما سرور فایلهای تصویری ویکی در ایران به صورت طولانی مدت از دسترس خارج شد و هنوز قابل دسترسی نیست.قطع دسترسی به ویکیپدیا در ترکیه.از ساعت ۸ بامداد روز شنبه ۲۹ آوریل (۹ اردیبهشت) دسترسی به پایگاه اینترنتی دانشنامهٔ ویکیپدیا به تمامی زبانهای آن، و از آنجمله زبان ترکی استانبولی، در این کشور قطع شد. سازمان اطلاعات و فناوری اطلاعرسانی ترکیه در بیانیهای اعلام کرد که «بعد از ارزیابیهای فنی و بررسیهای حقوقی بر اساس ماده ۵۶۵۱ قانون نظارت اینترنتی این تصمیم اتخاذ شدهاست.» خبرگزاری فرانسه به نقل از رسانههای دولتی ترکیه نوشتهاست که این محدودیت به دلیل ناموفق بودن ویکیپدیا در «حذف محتوای مشوق تروریسم و حاوی اتهام همکاری ترکیه با گروههای تروریستی» صورت گرفتهاست. جیمی ویلز، بنیانگذار ویکیپدیا در واکنش به این اقدام ترکیه، در صفحه توئیتر خود تصریح کرد که «دسترسی به اطلاعات از حقوق اساسی بشر است» و خطاب به مردم ترکیه گفت که «در جدال برای دستیابی به این حق، همواره در کنار شما خواهم بود».جوایز و توجه سازمانهای بینالمللی.\"ویکیپدیا\" در ماه می۲۰۰۴ (خرداد ۸۳) دو جایزهٔ مهم را از آن خود کرد. نخستین جایزه Golden Nica برای Digital Communities بود که توسط Prix Ars Electronica اعطا شد. این جایزه به همراه ۱۰٬۰۰۰ یورو و دعوت از \"ویکیپدیا\" به جشنوارهٔ سال بعد PAE Cyberarts اتریش بود. دومی جایزه Judges\\' Webby برای بخش «انجمن» بود. همچنین \"ویکیپدیا\" نامزد جایزه «بهترین کوشش» از سوی Webby شد.در سپتامبر ۲۰۰۴ (شهریور ۱۳۸۳) ویکیپدیای ژاپنی موفق به دریافت جایزهٔ ساخت وب (Web Creation) از سوی انجمن تبلیغکنندگان ژاپن شد. این جایزه معمولاً به افرادی اعطا میشود که سهم بزرگی در پیشبرد وب به زبان ژاپنی دارند و این بار جایزه به شرکتکنندگان دائم ویکیپدیای ژاپنی داده شد.در سال ۲۰۰۶ گزارش تحقیقی مولتیاسکوپ نشان داد که ویکیپدیای هلندی با امتیاز ۸/۱ پس از گوگل و جیمیل محبوبترین وبگاه اینترنتی به زبان هلندی بودهاست.مجلهٔ تایم در گزارش سال ۲۰۰۶ خود، جیمی ویلز را در گروه ۱۰۰ فرد اثرگذار سال اعلام کرد.همچنین در همین سال ویکیپدیای روسی برندهٔ جایزهٔ رانِت (روسی: Премия Рунета) در بخش «دانش و آموزش» شد. این جایزه از طرف دولت اعطا میشود.همچنین ویکیپدیا جایزهٔ یک میلیون دلاریِ مدیریت پروژه را از همایش دکرت صفاجو دریافت کرد.سازمان ملل متحد.طی سالهای گذشته، ویکیپدیا از طرف سازمان ملل متحد نیز بهعنوان عامل گسترش دانش به صورت مردمنهاد معرفی شده و حتی در راستای رشد و گسترش ویکی به این پروژه کمک شدهاست.پلتفورم اهداف توسعه پایدار United Nations:پروژههای مشابه و خواهر.\"ویکیمدیا\" چندین پروژهٔ متن-آزاد دارد که وظایف غیردانشنامهای را انجام میدهند، از جمله:'}]"
            ]
          },
          "execution_count": 4,
          "metadata": {},
          "output_type": "execute_result"
        }
      ],
      "source": [
        "import re\n",
        "\n",
        "def remove_useless_part(article):\n",
        "    article['title'] = re.sub(\"\\u200c|\\n\", '', article['title'])\n",
        "    article['text'] = re.sub(\"\\u200c|\\n\", '', article['text'])\n",
        "    return article\n",
        "\n",
        "# cleansed_articles_rdd = sample_rdd.map(remove_useless_part)\n",
        "cleansed_articles_rdd = articles_rdd.map(remove_useless_part)\n",
        "cleansed_articles_rdd.take(2)\n"
      ]
    },
    {
      "cell_type": "code",
      "execution_count": 5,
      "metadata": {},
      "outputs": [
        {
          "data": {
            "text/plain": [
              "['صفحهٔ', 'اصلی', 'صفحه', 'اصلی']"
            ]
          },
          "execution_count": 5,
          "metadata": {},
          "output_type": "execute_result"
        }
      ],
      "source": [
        "def extracting_words(article):\n",
        "    words_list = re.findall(r\"[\\u0600-\\u06FF]+\", article['title'])\n",
        "    words_list.extend(re.findall(r\"[\\u0600-\\u06FF]+\", article['text']))\n",
        "    return words_list\n",
        "\n",
        "words_rdd = cleansed_articles_rdd.flatMap(extracting_words)\n",
        "words_rdd.take(4)"
      ]
    },
    {
      "cell_type": "code",
      "execution_count": 6,
      "metadata": {},
      "outputs": [
        {
          "name": "stderr",
          "output_type": "stream",
          "text": [
            "                                                                                \r"
          ]
        },
        {
          "data": {
            "text/plain": [
              "[('پایدار', 5745), ('دهی', 3845), ('بدیعالزمان', 273), ('جمال', 2641)]"
            ]
          },
          "execution_count": 6,
          "metadata": {},
          "output_type": "execute_result"
        }
      ],
      "source": [
        "words_count_rdd = words_rdd.map(lambda x: (x, 1)).reduceByKey(lambda x, y: x + y)\n",
        "words_count_rdd.take(4)"
      ]
    },
    {
      "cell_type": "code",
      "execution_count": 7,
      "metadata": {},
      "outputs": [
        {
          "name": "stderr",
          "output_type": "stream",
          "text": [
            "[Stage 11:===================================================>(3441 + 8) / 3453]\r"
          ]
        },
        {
          "name": "stdout",
          "output_type": "stream",
          "text": [
            "[('در', 5116152), ('و', 4594310), ('به', 3210577), ('از', 2984884), ('که', 2198568), ('است', 1681996), ('این', 1549773), ('را', 1425403), ('با', 1168502), ('یک', 980079), ('سال', 774946), ('آن', 708627), ('برای', 622487), ('شد', 587026), ('بود', 547357), ('او', 506533), ('کرد', 457724), ('شدهاست', 436021), ('دارد', 408657), ('بر', 367294), ('تا', 361450), ('خود', 354377), ('یا', 346920), ('میشود', 329330), ('ایران', 328814), ('شده', 323214), ('،', 320880), ('واقع', 316725), ('وی', 284891), ('فوتبال', 284655), ('قرار', 273003), ('جمعیت', 272027), ('نام', 258697), ('نیز', 256903), ('عنوان', 248156), ('دو', 237699), ('نفر', 235633), ('پس', 227028), ('شهرستان', 206649), ('یکی', 206332), ('توسط', 205506), ('استفاده', 203349), ('شهر', 202664), ('آنها', 201073), ('اهل', 200965), ('میکند', 184457), ('بازی', 184267), ('همچنین', 183235), ('فیلم', 175021), ('بخش', 173106), ('باشگاه', 166041), ('استان', 163778), ('اما', 162070), ('دیگر', 158087), ('آمریکا', 157626), ('؛', 157555), ('میتوان', 151828), ('ملی', 149470), ('هم', 148579), ('اشاره', 148417), ('کشور', 146784), ('هر', 145441), ('مورد', 144331), ('ایالات', 142503), ('متحده', 138145), ('وجود', 134385), ('کار', 133967), ('شرکت', 130692), ('زادهٔ', 130306), ('بودهاست', 124877), ('صورت', 123278), ('هستند', 121640), ('روی', 119277), ('تاریخ', 118865), ('میلادی', 118014), ('زیر', 116426), ('میباشد', 115431), ('بین', 114699), ('کردهاست', 113000), ('روستا', 110700), ('سطح', 109842), ('باشد', 109483), ('زمان', 109349), ('داشت', 108913), ('داد', 108327), ('کند', 107213), ('می', 106600), ('دست', 105897), ('تیم', 104911), ('انجام', 100368), ('دانشگاه', 99823), ('شود', 99376), ('بازیکن', 97680), ('پیش', 97053), ('زبان', 97019), ('مرکز', 96177), ('ای', 94591), ('دارای', 94219), ('مانند', 92946), ('متر', 92227)]\n"
          ]
        },
        {
          "name": "stderr",
          "output_type": "stream",
          "text": [
            "                                                                                \r"
          ]
        }
      ],
      "source": [
        "top_100 = words_count_rdd.sortBy(lambda x : x[1], ascending = False).take(100)\n",
        "print(top_100)"
      ]
    },
    {
      "cell_type": "code",
      "execution_count": 8,
      "metadata": {},
      "outputs": [],
      "source": [
        "stopwords = ['در', 'و', 'به', 'از', 'که', 'است', 'این', 'را', 'با', 'یک', 'سال', 'آن', 'برای', 'شد', 'بود', 'او', 'کرد', 'شدهاست', 'دارد', 'بر', 'تا', 'خود', 'یا', 'میشود', 'شده', '،', 'واقع', 'وی', 'قرار', 'نام', 'نیز', 'عنوان', 'دو', 'نفر', 'پس', 'یکی', 'توسط', 'آنها', 'استفاده', 'میکند', 'همچنین', 'بخش', 'اما', 'دیگر', '؛', 'هم', 'میتوان', 'هر', 'اشاره', 'مورد', 'وجود', 'زادهٔ', 'صورت', 'بودهاست', 'هستند', 'روی', 'زیر', 'بین', 'میباشد', 'باشد', 'داشت', 'کردهاست', 'داد', 'کند', 'می', 'انجام', 'پیش', 'شود', 'ای', 'دارای', 'مانند', 'بعد']"
      ]
    },
    {
      "cell_type": "code",
      "execution_count": 9,
      "metadata": {},
      "outputs": [
        {
          "data": {
            "text/plain": [
              "[{'id': '2',\n",
              "  'revid': '23528',\n",
              "  'url': 'https://fa.wikipedia.org/wiki?curid=2',\n",
              "  'title': 'صفحهٔ اصلی',\n",
              "  'text': '&lt;templatestyles src=\"صفحه اصلی/styles.css\"/&gt;            امروز:  میلادی برابر هجری خورشیدی  (UTC)     \\' – \\'       __NOEDITSECTION__'},\n",
              " {'id': '594',\n",
              "  'revid': '349698',\n",
              "  'url': 'https://fa.wikipedia.org/wiki?curid=594',\n",
              "  'title': 'ویکیپدیا',\n",
              "  'text': 'ویکیپدیا (کوتهنوشت بهصورت «وپ»  «WP»)  دانشنامه برخط چندزبانه مبتنی  وب  محتوای آزاد  همکاری باز    همکاری افراد داوطلب نوشته    کسی   اینترنت  وب دسترسی داشته  میتواند مقالات   ببیند  ویرایش کند.  ویکیپدیا واژهای ترکیبی    واژههای ویکی (وبگاه مشارکتی)  اِنسایکلوپدیا (Encyclopedia) (دانشنامه  دائرةالمعارف) گرفته شدهاست. هدف ویکیپدیا آفرینش  انتشار جهانی  دانشنامه  محتوای آزاد  تمامی زبانهای زندهٔ دنیا است.ویکیپدیای انگلیسی  تاریخ ۱۵ ژانویه ۲۰۰۱ (۲۶ دی ۱۳۷۹)   مکملی  دانشنامهٔ تخصصی نیوپدیا نوشته شد. بنیانگذاران  «جیمی ویلز»  «لری سنگر» هستند. هماکنون بنیاد غیرانتفاعی ویکیمدیا پروژهٔ ویکیپدیا  پشتیبانی میکند. میزبانهای اینترنتی اصلی  وبگاه  شهر تامپای فلوریدا هستند.  میزبانهای اضافی دیگری   شهرهای آمستردام  سئول   وبگاه یاری میرسانند.\"ویکیپدیا\"  پایان آوریل ۲۰۰۷  اکتبر ۲۰۱۹،   ۱۰ وبگاه برتر جهان  لحاظ شمار بازدیدکنندگان   بیش  نیمی  بازدیدها  ویکیپدیای انگلیسی مربوط میشود.در میان تمام زبانهای ویکیپدیا  دسامبر ۲۰۱۵ (آذر ۱۳۹۴) بیش  ۱۴۱ میلیون صفحه    بیش  سی  هفت میلیون عدد   مقاله است.  زبانهای مشهور  ترتیب زبان انگلیسی بیش  ۵ میلیون، سوئدی ۲٫۱ میلیون، آلمانی ۱٫۸ میلیون، هلندی ۱٫۸ میلیون، فرانسوی ۱٫۷ میلیون، روسی ۱٫۲ میلیون، ایتالیایی ۱٫۲ میلیون، اسپانیایی ۱٫۲ میلیون، لهستانی ۱٫۱ میلیون، ویتنامی ۱٫۱ میلیون  ژاپنی  پرتغالی  چینی  کدام بیش  ۸۵۰ هزار مقاله دارند. تعداد کاربران ثبتنام  حدود ۵۹ میلیون     میان آنها، ۴٫۰۲۲  مدیر هستند. ویکیپدیا دربرگیرندهٔ ۲۸۱ زبان  بیش  ۱۰ مقاله   کل  ۲۹۱ گونهٔ زبان ملل دنیا است.اعتبار \"ویکیپدیا\" دائماً  اختلاف بودهاست. برخی   بهخاطر انتشار رایگان، ویژگی قابل ویرایش بودن، سیاست بیطرفی  گستردگی عنوانها ستودهاند.  سوی دیگر، منتقدین درستی  اعتبار ویکیپدیا  بهخاطر آزادی ویرایش  سؤال بردهاند،  ویکیپدیا  خاطر آسیبپذیری  برابر خرابکاری، کیفیت غیریکنواخت، سوگیری نظام مند، بیثباتی    خاطر ترجیح اجماع  اعتبار  سبک ویرایش مقالات نقد شدهاست.  مقابل  ویکیپدیا  کاربرانی تهیه    پی رفع  نگرانیها هستند. پژوهشگران   مطالعهٔ علمی   نتیجه دست یافتهاند  خرابکاریها عموماً زودگذر   ویکیپدیا نسبتاً  درستی سایر دانشنامهها است.\"ویکیپدیا\"  سیاست «دیدگاه بیطرفانه» تأکید میکند. طبق  سیاست دیدگاههایی   شخصیتهای برجسته ارائه شدهاند بدون هیچ تلاشی  تأیید  بهطور خلاصه بیان میشوند.   رو   داوطلب میتواند مقالهها   سبک ویکی اضافه  ویرایش کند، تخریب  عدم اطمینان  صحت همهٔ مطالب  مشکلات همیشگی  دانشنامه بودهاست.   حال  موارد متعددی مقالههای ویکیپدیا   رسانههای گروهی  مراکز علمی نقل کردهاند. مقالههای  دانشنامه تحت مجوز حق تألیف آزاد گنو قابل دسترسی هستند. نسخه زبان آلمانی  انگلیسی \"ویکیپدیا\" بهوسیله دیسکهای فشرده منتشر   نسخههای    وبگاههای    Fork  آینه  داده شدهاند.  رشد روزافزون  دانشنامه گردانندگان   بنیاد ویکیمدیا چندین پروژهٔ مشابه  همچون ویکیواژه، ویکیکتاب، ویکیگفتاورد  ویکیخبر  پدیدآوردند.تاریخچه.\"ویکیپدیا\" بهعنوان نسخهٔ تکمیلیو  نسخه جدید نیوپدیا آغاز  کار کرد. نیوپدیا پروژهٔ دانشنامهٔ رایگان  برخطی   مقالههایش  دست کارشناسان   طریق  جریان رسمی نوشته میشدند. نیوپدیا  تاریخ ۹ مارس ۲۰۰۰ (۱۹ اسفند ۱۳۷۸) تحت مالکیت شرکت بومیس   شرکت پورتال وب بود، بنیانگذاری شد. شرکت بومیس    ۱۹۹۶ بنیانگذاری  بود،  پایگاه اینترنتی تفریحات شهوانی   محتوای جنسی  مردان بود؛  سرمایه نخستین دانشنامه آزاد نیوپدیا،  جانشین  ویکیپدیا،     ۲۰۰۳ تأمین میشد. پهنای باند  سرور    پروژه ویکیپدیا،  بومیس اهدا شد؛  بسیاری  کارمندان شرکت بومیس   مدیرعامل  شرکت  ایجاد اولیه ویکیپدیا همکاری کردند. اعضای برجستهٔ نیوپدیا عبارت بودند  جیمی ویلز، رئیس شرکت  تصمیمگیرندهٔ نهایی  لری سَنگِر رئیس  ویرایش  نوشتار نیوپدیا  (بعدها) \"ویکیپدیا\". سنگر، نیوپدیا  اینطور توصیف    همه دانشنامههای موجود  دوره، تنها نیوپدیا  مطالب آزاد   محدودیت اندازه نداشت؛ زیرا  اینترنت  داشت. ضمناً  خاطر ماهیت عمومی  محدودهٔ گسترده شرکتکنندگان بالقوهٔ خود، بیطرف بود. نیوپدیا  هفت مرحله بازنگری  کارشناسان متخصص  زمینههای مختلف بود؛ ولی بعدها همگان   باور رسیدند   روند  تولید مقالهها بسیار  است. شرکت بومیس  پایهگذار  دانشنامه  نقشههایی  تبلیغات    طریق آن، جبران سرمایه کند.  دانشنامه  ابتدا  مجوز مطلب آزاد نیوپدیا بود؛ ولی درست قبل  تشکیل \"ویکیپدیا\"   اصرار ریچارد استالمن، مجوز   تبدیل  مجوز حق تألیف آزاد گنو کرد.ویکیپدیا  نخستین بار  تاریخ ۱۵ ژانویه ۲۰۰۱ (۲۶ دی ۱۳۷۹)  فقط  زبان انگلیسی   wikipedia.com  دنیای تازه اینترنت وصل شد. \"ویکیپدیا\"  ۱۰ ژانویه   قابلیتهای Nupedia.com بهشمار میرفت.     نویسندگان عمومی میتوانستند مقالههای     وارد کنند    مرور  نیوپدیا  گیرد؛ ولی   آنکه هیئت مشورتی کارشناسان نیوپدیا مدل تولید   رد کرد،  وبگاه نیوپدیا برداشته شد.    \"ویکیپدیا\"   پروژهای جدا  نیوپدیا شروع  کار کرد. سیاست «»  شبیه  سیاست پیشین «بیطرفی» نیوپدیا   همان ماههای اول برنامهریزی شد. \"ویکیپدیا\" سریعاً شرکتکنندگانی  نیوپدیا، اسلش دات  راهنماهای موتورهای جستجو بدست آورد.  پایان  اول  تعداد ۲۰٬۰۰۰ مقاله  ۱۸ زبان  رسید.  پایان  ۲۰۰۲ تعداد زبانها  ۲۶، پایان  ۲۰۰۳  ۴۶   پایان ۲۰۰۴  تعداد ۱۶۱ زبان رسید. نیوپدیا  \"ویکیپدیا\" آنقدر کنار  زیستند  میزبان (سِرور) نیوپدیا  کار افتاد    ۲۰۰۳ متون   \"ویکیپدیا\" منتقل شد.ویلز  سنگر، فکر   ویکی   وبگاه \"ویکیویکیوب\" متعلق  وارد کانینگهام نسبت میدهند. ویلز اینگونه بیان میدارد    اولین بار  دسامبر ۲۰۰۰ فکر   ویکی   جرمی رُزنفیلد  کارمند شرکت بومیس    ویکی مشابه    نشان داده  شنید؛   واقعه،      سنگر، خبر  چیزی   ویکی   کوویتز-که   استفادهکنندگان ویکی بود-شنید  پیشنهاد ساخت چیزی مثل ویکی  نیوپدیا   ویلز داد؛  همینجا   تاریخ ویکی شروع شد. پروژهای   گنوپدیا تحت همان ایدهٔ مطلب آزاد ( نه تولید ویکی) همراه  نیوپدیا شروع  کار کرده بود.  پروژه متعاقباً غیرفعال   سازندهٔ آن، ریچارد استالمن-که بنیانگذار بنیاد نرمافزارهای آزاد است-شروع  پشتیبانی  \"ویکیپدیا\" کرد.کاربران اسپانیایی  فوریه ۲۰۰۲  ترس تبلیغات تجاری  نبود کنترل   ویکیپدیای انگلیسیمحور  \"ویکیپدیا\"   Encyclopedia Libre رفتند. کمی   همان سال، ویلز اعلام   \"ویکیپدیا\"    هیچ تبلیغی نشان نخواهد   وبگاه    wikipedia.org انتقال داد. بعضی پروژهها  دلایل ویرایشی خاص  جاهای دیگری نظیر ویکیاینفو انتقال داده شدهاند.  ویکیاینفو خبری  «دیدگاه بیطرفانه» نیست.در تاریخ ۲۱ ژوئن ۲۰۰۳ (۳۰ خرداد ۱۳۸۲) بنیاد ویکیمدیا   \"ویکیپدیا\"  نیوپدیا شکل گرفت. \"ویکیپدیا\"  پروژههای خواهرش   حال تحت ادارهٔ  سازمان ناسودبر کار کردهاند. اولین پروژه خواهر \"ویکیپدیا\"  ماه اکتبر ۲۰۰۲،  یاد حملات ۱۱ سپتامبر  یادآوری حوادث  روز ساخته شد. ویکیواژه  پروژهٔ فرهنگ واژهها   دسامبر ۲۰۰۲، ویکیگفتاورد  مجموعهای  گفتههای معروف  درست  هفته   افتتاح ویکیمدیا  پروژه ویکیکتاب  مجموعهای  کتابهای رایگانی    مشارکت همگانی گردآوری شدهاند  ماه   کار افتاد. ویکیمدیا    شروع  تشکیل پروژههای جدیدی     توضیح داده خواهند شد.\"ویکیپدیا\"  ابتدا وضعیت    شمارش مقالههایش سنجیدهاست.    ابتدایی پیدایش  روزانه  حدود ۱۰۰ مقاله  کمتر   اضافه میشد. \"ویکیپدیای انگلیسی\"  تاریخ ۲۲ ژانویه ۲۰۰۳ (۲ بهمن ۱۳۸۱)  سرعت ۱۰۰٬۰۰۰ مقاله رسید.   ۲۰۰۴ مقالههای ویکیپدیا  نرخ رشد تقریبی ۱٬۰۰۰  ۳٬۰۰۰ مقاله  روز رسیدند.  ۲۵ فوریه ۲۰۰۴ (۶ اسفند ۱۳۸۲) \"ویکیپدیا\"  تمامی زبانهای   میزان ۵۰۰٬۰۰۰ مقاله دست یافت.  تاریخ ۲۰ سپتامبر ۲۰۰۴ (۲۹ شهریور ۱۳۸۳) مقالههای \"ویکیپدیا\"  ۱۰۵ زبان   میلیون رسید.ویژگیها.این دانشنامه  وبگاه wikipedia.org    نرمافزاری   «ویکی»   زبان جزیرهٔ هاوایی  معنی «تند»  ساخته شدهاست. ویلز   باور   \"ویکیپدیا\" باید  کیفیت دانشنامه بریتانیکا  بهتر برسد  چاپ  بشود. جیمی ویلز بنیانگذار \"ویکیپدیا\"   اینگونه توصیف میکند. «\"ویکیپدیا\" کوششی  آفرینش  پخش دانشنامهای  بالاترین کیفیت ممکن  همه مردم  زمین   زبان مادریشان است.»ویکیپدیا  میان دانشنامههای اینترنتی.دانشنامههای گوناگون دیگری  اینترنت   قبلاً  داشتهاند.  برخی    \"دانشنامه فلسفه استانفورد\"  \"نیوپدیا\" (   ندارد) سیاستهای مقالهنویسی سنتی  مالکیت مقاله  دارند. بهطور اتفاقی وبگاههایی  h2g2  اوریتینگ۲  دارند    راهنماهایی کلی عمل میکنند  مقالههایشان  همگان نوشته  بازنگری میشوند. پروژههایی همچون \"ویکیپدیا\"، Susning.nu  Enciclopedia Libre همگی ویکی    همه  مقالهها  دست نویسندههای بیشماری نوشته میشوند  هیچ گونه بازنگری رسمی   اعمال نمیشود. \"ویکیپدیا\" تبدیل  بزرگترین نوع دانشنامه ویکی چه  نظر تعداد مقالهها  چه  نظر تعداد واژهها شدهاست.   تمامی دانشنامههای موجود، \"ویکیپدیا\"  خاطر داشتن حق تألیف آزاد گنو متمایز گشتهاست.\"ویکیپدیا\" مصرانه میخواهد تنها  دانشنامه باقی بماند. هدف  تبدیل شدن  مجموعه کاملی  دانش بشری نیست. مجموعه سیاستهایی تحت  «»  دارند  مشخص میکنند چه اطلاعاتی نباید  \"ویکیپدیا\" گنجانده شوند.  سیاستها   حال غالباً باعث مشاجره  سر اضافه کردن، حذف  اصلاح مطلبی خاص شدهاند.مطالب آزاد.مجوز حق تألیف آزاد گنو (GFDL)  مقالههای \"ویکیپدیا\"     عرضه میشوند   مجموعه «کپیلفت» کپیرایت   اجازه توزیع دوباره، خلق آثار مشتق    تجاری  مطالب مقالهها  شرط ذکر  نویسنده  ماندن اثر تحت مجوز GFDL  میدهد. هنگامی   نویسنده اصل اثر    پروژه تحویل میدهد، حق تألیف    اعمال  ولی باید قبول   اثرش  تحت مجوز GFDL  اختیار عموم بگذارد. ممکن  مطالب موجود  \"ویکیپدیا\"  منابع دیگری    مجوز  میکنند  بگیرند    منابع گرفته  باشند. مطالب \"ویکیپدیا\"  طریق انبارهای اطلاعاتی  صدها منبع   آینه  fork  گرفتهاند. اگر چه تمامی متون عرضه   \"ویکیپدیا\"  مجوز GFDL  میکنند، درصد بالایی  تصاویر  پروندههای صوتی \"ویکیپدیا\" رایگان نیستند. اقلامی چون لوگوی شرکتها، نمونهٔ آهنگها  تصویرهای  حق تألیفِ خبری  درخواست  منصفانه  میشوند. اقلامی   دارند   شرط عدم اشتقاق  «فقط  ویکیپدیا»   دانشنامه داده شدهاند.زبانها.\"ویکیپدیا\"  ( آذر ۱۳۹۴/ دسامبر ۲۰۱۵) دربرگیرندهٔ ۲۸۱ زبان  بیش  ده مقاله بودهاست. بهطور کلی \"ویکیپدیا\"  ۲۹۱ گونه زبان ملل دنیا  نزدیک  ۳۵ میلیون مقاله است.زبانهای مختلف   مستقل   کار میکنند. ویرایشهای زبانی  بقیه زبانهای  محدود  وصل نشدهاند  فقط محدود  سیاستهای کلی نظیر «دیدگاه بیطرفانه» هستند.  اینکه مقالهها  تصاویر  زبانها  اشتراک گذاشته نشدهاند ولی اولی  طریق صفحاتی    درخواست ترجمه    زبانهای بزرگتر  دارند  دومی  راه انبار عمومی \"ویکیپدیا\" حل شدهاند. مقالههای ترجمه   کوچکی  مقالههای موجود همهٔ زبانها  تشکیل میدهند.ویکیپدیای فارسی هماکنون  نوشتار (شمارش زنده)  ردهٔ هجدهم،   میان زبانهایی  عموماً  خاورمیانه تکلم میشود، بالاتر  زبان ترکی استانبولی  زبان عبری  دارد.آمار کلی ویکیپدیاها (انتهای  ۲۰۱۵):ویکیپدیاهای موجود  زبانهای خانوادهٔ زبانهای ایرانی   قرارند:نرمافزار  سختافزار.\"ویکیپدیا\"  برنامه متنباز مدیاویکی  دستهای  میزبانان وب مستقر  فلوریدا اجرا میشود. مدیاویکی نسخه سوم  برنامهاست.  ابتدا \"ویکیپدیا\"  UseModWiki   کلیفورد آدامز (نسخه ۱) نوشته   کار میکرد.  ابتدا  پیوندهایش  سرهمنویسی نگارش شتری  میکرد ولی بعدها امکان   کروشه (bracket)    ایجاد شد. ویکیپدیا ژانویه ۲۰۰۲  نسخه جدید  (فاز دوم پروژه)  موتور پیاچپیویکی  پایگاه داده مایاسکیوال  کرد.  نرمافزار  نسخه دوم  حساب میآمد  ماگنوس مانسک  مخصوص دانشنامهٔ \"ویکیپدیا\" نوشته  بود.  خاطر تقاضاهای زیاد  منظور بهبود کیفیت، اصلاحات زیادی    شد. سرانجام  نرمافزار  لی دانیل کراکر دوبارهنویسی شد.  نرمافزار  نسخه شماره سه محسوب میشد  ژوئیه ۲۰۰۲ نوشته   مدیاویکی نامگذاری گردید. مجوز    تحت گنو    تمامی پروژههای ویکیمدیا    میشود.ویکیپدیا  دستهای  میزبانهای وب لینوکس  فلوریدا  چهار مکان  میزبانی میشود.  وبگاه   ۲۰۰۴ تنها   سرور   آنجا  تنظیمات میزبان  تقسیم  چندین قسمت شد.  ژانویه ۲۰۰۵ \"ویکیپدیا\"  ۳۹ سرور مختلف  فلوریدا مشغول  کار بود. پیکربندی  عبارت    بانک اطلاعاتی بزرگ تحت مایاسکیوال، چندین میزبان خادم بانک اطلاعاتی  ۲۱ میزبان وب   نرمافزار آپاچی کار میکنند  ۷   تحت میزبان Squid Cache کار میکنند.در سپتامبر ۲۰۰۵، گروه میزبانهای وب \"ویکیپدیا\"  بیش  ۱۰۰ عدد افزایش یافت  بنابر تقاضای مسئول مرکز دادهها، تمامی میزبانها  موفقیت،  ساختمان جدید   مرکز شهر تامپا منتقل شدند.تقاضاهای صفحهٔ وب ابتدا  میزبانان مخزن Squid caching فرستاده میشوند. درخواستهایی  قابلیت  شدن   میزبانها  ندارند   میزبان متعادلساز  نرمافزار perlbal   نصب  فرستاده میشوند. سپس تقاضاها    میزبانهای وب آپاچی فرستاده میشوند   پردازش  گیرند. میزبانهای وب، صفحات   شکل لازم پردازش میکنند.  افزایش سرعت، صفحاتی   کاربران ناشناس پردازش شدهاند   فایلسیستم ذخیره (cache) میشوند  زمانیکه  درجه اعتبار ساقط شوند.  امر باعث عدم پردازش صفحات معمول    نتیجه  زمان  انرژی صرفهجویی میشود. ویکیمدیا ساخت شبکهای جهانی  میزبانان مخزن  کنار ۳ میزبان مخزن   فرانسه  آغاز   سرعت پاسخگویی  بالاتر ببرد.  حال حاضر  گروه میزبان جدید  هلند   کره جنوبی شروع  کار کردهاند  پاسخگوی  بزرگی  ترافیک ویکیپدیا هستند.گزارش وضعیت رو  رشد وبگاه ویکیپدیا  صفحه وضعیت فرستاده میشود.ویرایش.تقریباً  کاربری میتواند مقالههای \"ویکیپدیا\"  ویرایش   تغییرات   سریعاً ببیند. فکر ویرایش مقالهها   اساس شکل گرفته  همکاری کاربران  یکدیگر میتواند  بهبود کیفیت مقالهها  طول زمان تأثیر  سزایی داشته باشد؛ همانطور   توسعهٔ نرمافزارهای متنباز داشتهاست. نویسندگان  نیازی  داشتن مدارک رسمی  تخصص  زمینهٔ موضوعی  ویرایش میکنند ندارند.   اخطار داده   ممکن  مقالههای    کس    نحوی  میخواهد، بیرحمانه  ویرایش  گیرند  توزیع شوند. مقالههای   هیچ شخص خاصی  گروه تحریریهای بازنگری نمیشوند. تصمیمگیری   مطالب  سیاستهای ویرایشی \"ویکیپدیا\"  توافق عام  رأیگیری  میگیرد.به دلیل بازبودن \"ویکیپدیا\" «جنگهای ویرایشی» ( «جنگهای بازنگری»  گفته میشوند)  مشاجرههای طولانی غالباً وقتی اتفاق میافتند  ویرایشگران  نظرات مختلف خود،    توافق نمیرسند. اعضای انجمنهای \"ویکیپدیا\" روند ویرایشی    عمل دستهجمعی  نوعی جریان اجتماعی  تکامل تدریجی داروینی میدانند. مقالهها همیشه  معرض ویرایش  دارند بدینگونه  \"ویکیپدیا\" هیچگاه مقالهای  تمام  تلقی نمیکند. تخریب، مشکل دائمی \"ویکیپدیا\" بودهاست، امّا   سایت اگر  مقالهای اقدام  تخریب ویا لجنپراکنی  پذیرد بلافاصله  اضافات دیگران تصحیح خواهد شد.سیاستها.ویکیپدیا  تمام ویرایشگران  میخواهد  هنگام نوشتن «دیدگاه بیطرفانه»  داشته باشند  پژوهش ابتکاری    ویکیپدیا  ندهند. نگاه بیطرفانه   سیاستی «غیرقابل بازگشت»  هدف دانشنامه  اینگونه برمیشمرد: «نشان دادن عوامل اختلاف، توصیف   جای وارد شدن  آنها». اگر   مهم برسیم  \"ویکیپدیا\" تنها   «دیدگاه بیطرفانه» بیان نشدهاست بلکه حاوی تمامی نظرات بیطرفانه مربوط   موضوع خواهد بود.  سیاست بیان میدارد    دیدگاهی بسته  اعتبارش باید بها داد.   سیاست  خاطر داشتن هدفی غیرقابل دسترس    آثار بیاعتبار بیمورد    دیدگاههای «ضد اخلاقی» اجازهٔ ظهور میدهد انتقاد شدهاست.آرا  نظراتی     نوشته شدن  ویکیپدیا منتشر نشده باشند، «تحقیقهای ابتکاری» تلقی میشوند  اجازهٔ ورود نخواهند داشت. سیاست «تحقیق غیر ابتکاری» اینگونه بیان میدارد  آثار اینچنینی نمیتوانند نمایانگر دیدگاهی بیطرفانه باشند.  نظرات  دیدگاههای جدیدِ ویرایشگران نباید  \"ویکیپدیا\" معرفی شوند.همکاران \"ویکیپدیا\"  سیاستها  خطمشیهای متنوع کوچکتری  پشتیبانی میکنند.  خلاف  ویکیهای موجود  Ward Cunningham\\'s Portland Pattern Repository، \"ویکیپدیا\"  جای  دادن بحثهای مربوط  تغییرات مقالهها  درون آنها، صفحاتی جداگانه    «بحث»   کار اختصاص دادهاست. همکاران \"ویکیپدیا\" گاهی مقالههایی   احساس میکنند مناسب  دانشنامه نیست، تغییر  انتقال داده  حذف میکنند. تعاریف فرهنگ واژهها (dicdefs)  اصل متنها  اینگونه مقالهها هستند. گاهی ویرایشهای مختلف \"ویکیپدیا\"   سبک نوشتاری خاصی ایجاد میکنند.مدیریت  ویرایشگری.تفاوتهای منحصربهفرد خاصی  ویرایشگرهای \"ویکیپدیا\"  ندارد  تصمیمها  رأی اکثریت گرفته میشوند.  ماه دسامبر ۲۰۰۵، ویکیپدیا حدوداً ۲۷٬۰۰۰ کاربر داشتهاست   کدام دستکم  روز پنج ویرایش  اثر    جا گذاشتهاست. بنابر آمارهای ویکیمدیا، یکچهارم ترافیک \"ویکیپدیا\"  سوی کاربرانی   حساب ندارند  کمتر دست  ویرایش مقاله میزنند.وظایف نگهداری  عهدهٔ گروههای داوطلبی  توسعهدهندگان، ناظران، مأموران  مدیران   شمارِ آنان  صدها  میرسد. مدیران، بزرگترین گروه     توانایی جلوگیری  ویرایش  مقاله  جلوگیری  دسترسی کاربران خاص طبق سیاستهای جامعه  دارند. کاربران زیادی   حال   اضطراری  دائم  ویرایش مقاله  \"ویکیپدیا\" منع شدهاند. ممکن  تخریب  تخلف  سیاستها، باعث منع اضطراری  کاربر گردد.  حالیکه تصمیم اخراج بلندمدت  همیشگی  آقای ویلز  کمیته داوری تخلفات جدی  دامنهدار اتخاذ میشود.ویکیپدیا  طریق بنیاد ویکیمدیا برپا شد. هزینههای ربع چهارم  ۲۰۰۵  معادل ۳۲۱٬۰۰۰ دلار آمریکا بوده  ۶۰٪  مربوط  سختافزار است. هماکنون بنیاد ویکیمدیا   کمکهای خصوصی تکیه    رایزنهای مالی  میکند. رایزنی مالی  ۲۰۰۷ موجب جمعآوری مبلغی بیش  ۱ میلیون دلار شد.رئیس پیشین  ویرایش \"ویکیپدیا\"، لری سنگر گفتهاست  مجوز جیافدیال (GFDL) «بهعنوان ضمانت آزادی، انگیزه خوبی  کار   دانشنامه آزاد است.» پروفسور آندریا سیفولیلی  مطالعه \"ویکیپدیا\" بهعنوان  انجمن، اینطور مطرح  که: «هزینههای پایین شرکت  نرمافزار ویکی،  عامل فروگشایی  توسعه جمعی   دیدگاه «ساختِ خلاقانه» میزان شرکتپذیری  بالا میبرد». \"ویکیپدیا\"   منظر تجربهای اجتماعی  آنارشیسم  دموکراسی   بررسی  دادهاند. بنیانگذار  اینگونه پاسخ میدهد  حتماً  نیست اینطور  اگرچه ممکن  دستاوردش  بوده باشد.  جستجویی  داخل \"ویکیپدیا\"   صفحهای پیدا   نویسنده  اینگونه بیان داشته  ارزش  دانشنامه  خاطر    \"ویکیپدیا\" انجمنی اجتماعی است.   معنا    نویسندگان خواست   کار  دفاع کرده    روشن سازند  بحثها سریعاً قابل مشاهدهاند. ویرایشهای گوناگون \"ویکیپدیا\" غالباً  میزهای مرجعی   اعضای انجمن  آنجا  پرسشها پاسخ میدهند.جامعهٔ کاربری.ویکیپدیا    دانشنامه آنلاین همزمان  بسیاری  زبانها نوشته   همکاران  افرادی  سراسر جهان    کسی میتواند  رشد  کمک کند.  دانشنامه  زمان تولد تاکنون، رشد بسیار سریعی داشته  بزرگترین وبگاه دانشنامهای  بیش  ۸۰ میلیون بازدیدکننده  ماه   بیش  ۹۰٬۰۰۰ کاربر فعال     بیش   کار میکنند.در  مقالهٔ تحقیقاتی منتشرشده   ۲۰۱۲  پلاس وان، طاها یاسری  همکاران  بررسی میزان مشارکت کاربران  طول شبانهروز سهم مناطق جهان   ویرایش چند نسخهٔ مختلف ویکیپدیا تخمین زدند.  بررسیها نشان دادند  مثال غالب مشارکتهای انجامشده  ویکیپدیای فارسی  اروپا  آمریکای شمالی بودهاست.  مثلاً ۵۰٪ ویرایشهای انجامشده  آمریکای شمالی  ویکیپدیای انگلیسی بودهاند   ویکیپدیای انگلیسی ساده  مقدار ۲۵٪ بودهاست.ارزیابیها.انتقادات.منتقدین   باورند  مجوز ویرایش همگانی، \"ویکیپدیا\"  دانشنامهای غیرقابل اعتماد ساختهاست. فیلیپ بردلی  مصاحبهای   روزنامه گاردین   ۲۰۰۴   گفت   هرگز  \"ویکیپدیا\"  نمیکند  «هیچ کتابدار دیگری  نمیشناسد   کار   دهد. مشکل اصلی عدم  قدرت کنترلکننده  \"ویکیپدیا\" است.  کتب منتشرشده، ناشر باید تضمین   اطلاعات کتابش درست  زیرا امرار معاش  بستگی   دارد.    چیزی مثل \"ویکیپدیا\" همه   باد میرود.» تد پاپاس رئیس ویرایشگران دانشنامه بریتانیکا  مصاحبهای  گاردین اینطور میگوید که: «فرضیهٔ \"ویکیپدیا\"   استوار   پیشرفت مداوم  کمال میانجامد.  فرضیه هیچگاه ثابت نشدهاست.» دانا بوید   ۲۰۰۵  بحثی پیرامون \"ویکیپدیا\" بهعنوان  منبع دانشگاهی اینطور میگوید  «\"ویکیپدیا\" هیچگاه  دانشنامه نخواهد  ولی حتماً  آینده تبدیل  منبع گستردهای  دانش    اهداف مختلف ارزش زیادی خواهند داشت.»  اینحال هنوز  دانشنامههای سنتی حق  میدانند  هیچ مسئولیتی  قبال خطاهای احتمالی  گردن نگیرند.رابرت مکهنری ویرایشگر سابق بریتانیکا  مقالهای تحت  «دانشنامهٔ  اعتماد» \"ویکیپدیا\"   انتقاد  دادهاست  مینویسد «هر چند  ممکن  مقالهای  \"ویکیپدیا\"  درجه اعتبار بالایی دست یابد ولی  ابد  معرض تغییر دخالتکنندگان بیاطلاع  کمسواد  خواهد داشت.» آرون کرون مقاله تکذیبیهای  رد روشهای مکهنری نوشته    FUD  نوعی فن تجاری  حساب میآید   زبان انگلیسی مخفف سه واژه  معنای «ترس، عدم اطمینان  شک»  اطلاق کردهاست. رئیس  تحریریهٔ سابق، لَری سَنگر،  اواخر  ۲۰۰۴  \"ویکیپدیا\"  دلیل داشتن ماهیت «ضد نخبه»  باعث رد بازنگری رسمی    نتیجه موجب کاهش اعتبار مقالههای  میگردد انتقاد کرد.\"ویکیپدیا\"   خاطر فراگیر نبودن  اتهام  دادهاند، زیرا ماهیت  داوطلبانه   میتواند بازتاب جانبداریهای جهتدار نویسندگانش باشد. دال هویبرگ رئیس  تحریریه دانشنامهٔ بریتانیکا اینطور بیان میدارد  «مردم دربارهٔ چیزهایی مینویسند    علاقه دارند  نتیجه بسیاری  موضوعات پوشش داده نمیشوند ولی وقایع خبری  تمام جزئیاتشان ذکر میشوند. مدخل مربوط  تندباد فرنسس پنج برابر بزرگی مدخل مربوط  هنر چین   مدخل خیابان کورونیشن  برابر مدخل مربوط  تونی بلر است.» لری سنگر رئیس  سابق ویرایش نیوپدیا   ۲۰۰۴ گفت: «هنگامی    مسئله نسبتاً تخصصی میرسیم ( خارج  علاقه مردم ) اعتبار مقالهها بسیار غیرقابل اعتماد میشود.»در ماه مه  ۲۰۰۵ (خرداد ۱۳۸۴) مثال هویبرگ صحت    دست داد: مقالهٔ مربوط  هنر چین تقریباً سه برابر مقالهٔ مربوط  تندباد فرنسس   مقاله مربوط  تونی بلر  حدود ۵۰٪ بزرگتر  مقالهٔ خیابان کورونیشن گردید.  نکته کاملاً روشن   مقالههایی   پرسش مطرح  بودند تنها بهعنوان مثالهایی  گرایش متمایل نویسندگان آورده  بودند؛ اگر چه    مثالها  نشان دادن روند رو  تعادل منطقی \"ویکیپدیا\"  کرد.\"ویکیپدیا\"به دلیل اینکه اجازه میدهد مقالههایش ضمن وقایع جاری  روز شوند  مقالهای  اساس رویداد روز خلق شوند ستایش شدهاست.  نمونه مقالهٔ مربوط  زلزله اقیانوس هند  اندکی   وقوع   ویکیپدیای انگلیسی نوشته   سرعت  بعضی  مطبوعات چاپ شد.  همین دلیل محدودهٔ موضوعی  دانشنامه میتواند بسیار وسیعتر  بقیه دانشنامهها باشد.در  ۲۰۰۵ نیچر نتایج  داوری همتا   ۴۲ مقاله علمی  بریتانیکا  ویکیپدیا  مقایسه کرده  منتشر کرد.  پژوهش نتیجهگیری   درجه دقت ویکیپدیا  درجه دقت بریتانیکا رسیدهاست. مجله تایم مینویسد  سیاست درهای باز  اجازه ویرایش   همه میدهد مسبب    ویکیپدیا بزرگترین  احتمالاً بهترین دانشنامه  دنیا    شاهدی  دیدگاه جیمی ویلز است.ویرایش دستهجمعی.روند ویرایشی \"ویکیپدیا\" اینطور فرض    دادن مقالات  معرض ویرایش همگانی باعث صحت مطالب میشود. سانگر       قانون لینوس   توسعه متنبازگفته بود: «با داشتن چشمهای زیاد، خطاهای کمتری رخ خواهند داد.». مرورگران زیاد مقالههای ویکیپدیا باعث   مطالب خرابکارانه  جانبدارانه  سرعت واگردانی شوند. جوی ایتو   شخصیتهای برجستهٔ فناوری   صحت مطالب \"ویکیپدیا\" اینطور مینویسد  «هر چند  مسئله کمی بستگی  نوع رشته دارد، پرسش    آیا مطلبی    منبع اطلاعاتی دقیق  دست میآید درستتر   مطلبی   صدها هزار  ( امکان ویرایش) دیده   هنوز باقیمانده!»  آزمایش غیررسمی   توانایی \"ویکیپدیا\"  کشف اطلاعات غیرصحیح  شد، نویسنده اینطور بیان میدارد   جریان «مکانیسمی حقیقت یاب نیست بلکه بیشتر شبیه مکانیسم رایگیری است،  نتیجه ممکن  مطلبی  اشتباه  «نظر» نرسد صحیح تلقی شود.»ارجاع  ویکیپدیا.\"ویکیپدیا\"   حال  رسانهها، مراکز علمی   منابع بهعنوان مرجع  ضمیمه،    گرفتهاست. سازمانهای خبری مقالههای \"ویکیپدیا\"  بهعنوان منبع  بردهاند   گوشهٔ صفحهٔ وب خود،  کسب اطلاعات بیشتر، ارجاعی   گذاشتهاند. بعضی    کار  بهطور مرتب  میدهند. بنابر فهرستی   ویرایشگران \"ویکیپدیا\" تهیه شدهاست، مقالههای \"ویکیپدیا\" بیشتر  همه جا  رسانههای خبری ذکر شدهاند.  ردههای پایینتر، تحقیقات علمی، کتابها، همایشها  دادگاهها  دارند. ارجاعهای زیادی  مقالههای \"ویکیپدیا\"   «دیدگاههای بهتر» روزنامهٔ علم (Science Journal)  گرفتهاست. اولین ارجاع  روزنامه، پیوندی  مقالهٔ ویکیپدیا تحت  «A White Collar Protein Senses Blue Light» (لیدن، ۲۰۰۲) بود.    مقالههای زیادی  پیوندهای مشابه ارجاع دادهاند.ارجاع  ویکیپدیا  رسانههای فارسی.در رسانههای فارسی بسیاری  مقالات ویکی فارسی کپی  منتشر   غالباً منبع   ذکر نمیشود  پایاننامههای دانشجویی  وفور  منابع ویکیپدیا     تفاوت  دانشجو منابع ویکیپدیا    خودش جا میزند  بسیاری  استادان  دانسته  نادانسته مطالب  میپذیرند. همین کار  خصوص مقالههای انگلیسی ویکیپدیا میشود. البته موارد بسیار زیادی  بهخوبی منبع: ویکیپدیا  میآورند.  سالهای اخیر مراجعه  ویکیپدیای فارسی افزایش چشمگیری داشته  علت  جلب اعتماد   مزایای متعددی   سایت ویکیپدیا   برخوردار است. آمار نشان میدهد    ۲۰۰۹ میلادی  حدود نیمی  بازدیدهای کاربران ایرانی  نسخه انگلیسی ویکیپدیا  میشده  کمی بیشتر  نیمی   مراجعات  نسخه فارسی  دانشنامه جهانی بودهاست. بررسی همین آمار  سالهای پیاپی  حکایت  استقبال فزاینده جامعه ایرانی  نسخه فارسی ویکیپدیا  بهطوریکه   ۲۰۱۳  حدود ۷۵ درصد  مراجعات ایرانیان  کسب اطلاعات   دانشنامه  نسخه فارسی بوده  نسخه انگلیسی تنها حدود ۲۲ درصد  مراجعات  ایران    جلب کردهاست.طی  مدت البته تعداد مقالات نسخهٔ فارسی ویکیپدیا  رشد چشمگیری  نشان میدهد بهطوریکه شمار مقالات  دائرةالمعارف فارسی  مرز ۳۴۶ هزار مقاله گذشته    نظر، زبان پیشرو  میان زبانهای منطقه خاورمیانه است.فیلترینگ  سانسور.سانسور ویکیپدیای فارسی.بر اساس  بررسی  ژوئیهٔ ۲۰۱۳  میان حدود ۳۳۱هزار مقاله ویکیپدیای زبان فارسی ۹۶۳ مقاله  زمینههای سیاست، سکس  مذهب  ایران فیلتر هستند.   میان بیشترین حجم  مسایل سیاسی  بیش  همه  «انتخابات ۸۸»  «جنبش سبز» اختصاص دارد.   ۲۰۱۵ فیلتر هدفمند مقالات ویکی دربارهٔ موضوعات مذهبی، سیاسی، جنسی  غیره  ایران برداشته   سرور فایلهای تصویری ویکی  ایران   طولانی مدت  دسترس خارج   هنوز قابل دسترسی نیست.قطع دسترسی  ویکیپدیا  ترکیه.از ساعت ۸ بامداد روز شنبه ۲۹ آوریل (۹ اردیبهشت) دسترسی  پایگاه اینترنتی دانشنامهٔ ویکیپدیا  تمامی زبانهای آن،   آنجمله زبان ترکی استانبولی،   کشور قطع شد. سازمان اطلاعات  فناوری اطلاعرسانی ترکیه  بیانیهای اعلام   «بعد  ارزیابیهای فنی  بررسیهای حقوقی  اساس ماده ۵۶۵۱ قانون نظارت اینترنتی  تصمیم اتخاذ شدهاست.» خبرگزاری فرانسه  نقل  رسانههای دولتی ترکیه نوشتهاست   محدودیت  دلیل ناموفق بودن ویکیپدیا  «حذف محتوای مشوق تروریسم  حاوی اتهام همکاری ترکیه  گروههای تروریستی»  گرفتهاست. جیمی ویلز، بنیانگذار ویکیپدیا  واکنش   اقدام ترکیه،  صفحه توئیتر  تصریح   «دسترسی  اطلاعات  حقوق اساسی بشر است»  خطاب  مردم ترکیه گفت  «در جدال  دستیابی   حق، همواره  کنار شما خواهم بود».جوایز  توجه سازمانهای بینالمللی.\"ویکیپدیا\"  ماه می۲۰۰۴ (خرداد ۸۳)  جایزهٔ مهم     کرد. نخستین جایزه Golden Nica  Digital Communities    Prix Ars Electronica اعطا شد.  جایزه  همراه ۱۰٬۰۰۰ یورو  دعوت  \"ویکیپدیا\"  جشنوارهٔ   PAE Cyberarts اتریش بود. دومی جایزه Judges\\' Webby   «انجمن» بود.  \"ویکیپدیا\" نامزد جایزه «بهترین کوشش»  سوی Webby شد.در سپتامبر ۲۰۰۴ (شهریور ۱۳۸۳) ویکیپدیای ژاپنی موفق  دریافت جایزهٔ ساخت وب (Web Creation)  سوی انجمن تبلیغکنندگان ژاپن شد.  جایزه معمولاً  افرادی اعطا   سهم بزرگی  پیشبرد وب  زبان ژاپنی دارند   بار جایزه  شرکتکنندگان دائم ویکیپدیای ژاپنی داده شد.در  ۲۰۰۶ گزارش تحقیقی مولتیاسکوپ نشان   ویکیپدیای هلندی  امتیاز ۸/۱   گوگل  جیمیل محبوبترین وبگاه اینترنتی  زبان هلندی بودهاست.مجلهٔ تایم  گزارش  ۲۰۰۶ خود، جیمی ویلز   گروه ۱۰۰ فرد اثرگذار  اعلام کرد.همچنین  همین  ویکیپدیای روسی برندهٔ جایزهٔ رانِت (روسی: Премия Рунета)   «دانش  آموزش» شد.  جایزه  طرف دولت اعطا میشود.همچنین ویکیپدیا جایزهٔ  میلیون دلاریِ مدیریت پروژه   همایش دکرت صفاجو دریافت کرد.سازمان ملل متحد.طی سالهای گذشته، ویکیپدیا  طرف سازمان ملل متحد  بهعنوان عامل گسترش دانش   مردمنهاد معرفی   حتی  راستای رشد  گسترش ویکی   پروژه کمک شدهاست.پلتفورم اهداف توسعه پایدار United Nations:پروژههای مشابه  خواهر.\"ویکیمدیا\" چندین پروژهٔ متن-آزاد   وظایف غیردانشنامهای   میدهند،  جمله:'}]"
            ]
          },
          "execution_count": 9,
          "metadata": {},
          "output_type": "execute_result"
        }
      ],
      "source": [
        "def removing_stopwords(article):\n",
        "    for word in stopwords:\n",
        "        article['title']= re.sub(r\"(\\s+|\\()\"+word+ \"(\\s+|\\))\", r'\\1\\2', article['title'])\n",
        "        article['text']= re.sub(r\"(\\s+|\\()\"+word+ \"(\\s+|\\))\", r'\\1\\2', article['text'])   \n",
        "    return article\n",
        "\n",
        "articles_without_stopwords_rdd = cleansed_articles_rdd.map(removing_stopwords)\n",
        "articles_without_stopwords_rdd.take(2)"
      ]
    },
    {
      "cell_type": "code",
      "execution_count": 10,
      "metadata": {},
      "outputs": [
        {
          "name": "stderr",
          "output_type": "stream",
          "text": [
            "                                                                                \r"
          ]
        },
        {
          "name": "stdout",
          "output_type": "stream",
          "text": [
            "[('سفالگری؛', 1), ('قادیسه', 1), ('افرازهروح', 1), ('ململ', 11), ('کاننها،', 1), ('تیرگان،', 13), ('لایموتش', 1), ('پررنگترین', 14), ('اباباسل', 2), ('المشخاب', 4)]\n"
          ]
        },
        {
          "name": "stderr",
          "output_type": "stream",
          "text": [
            "                                                                                \r"
          ]
        },
        {
          "name": "stdout",
          "output_type": "stream",
          "text": [
            "1659595\n"
          ]
        }
      ],
      "source": [
        "MIN_COUNT = 20\n",
        "uncommon_words = words_count_rdd.filter(lambda x : x[1] < MIN_COUNT)\n",
        "print(uncommon_words.collect()[0:10])\n",
        "uncommon_words = uncommon_words.map(lambda x : x[0]).collect()\n",
        "print(str(len(uncommon_words)))"
      ]
    },
    {
      "cell_type": "code",
      "execution_count": 16,
      "metadata": {},
      "outputs": [
        {
          "name": "stderr",
          "output_type": "stream",
          "text": [
            "                                                                                \r"
          ]
        },
        {
          "data": {
            "text/plain": [
              "[{'id': '2',\n",
              "  'revid': '23528',\n",
              "  'url': 'https://fa.wikipedia.org/wiki?curid=2',\n",
              "  'title': 'صفٔ لی',\n",
              "  'text': '&lt;templatestyles src=\"صف لی/styles.css\"/&gt;            ا:  م ر ری   (UTC)     \\' – \\'       __NOEDITSECTION__'},\n",
              " {'id': '594',\n",
              "  'revid': '349698',\n",
              "  'url': 'https://fa.wikipedia.org/wiki?curid=594',\n",
              "  'title': 'یا',\n",
              "  'text': 'یا (کووشت ب «وپ»  «WP»)  دنامه ب  تنی  وب   آزاد  ه باز    ه اد  نوشته    کسی   ارنت  وب سی د  میت لات   بب  ویش کند.  یا وهای ترکی    وی ویکی (ه تی)  ا (Encyclopedia) (دنامه  درالف) گر ش. هدف یا نش  ان جهانی  دنامه   آزاد  تمامی نهای ز دنیا است.یای اسی  ت ۱۵ ژ ۲۰۰۱ (۲۶ دی ۱۳۷۹)   م  دنامهٔ  نیا نوشته شد. نن  «جیمی ویلز»  «لری سنگر» هد. همون د غتفی ویکیمدیا پرو یا  ی م. م ارنتی لی  ه  شهر ای فا هد.  م افی د   شه آمم  س   ه یاری .\"یا\"  پایان آ ۲۰۰۷  ا ۲،   ۱۰ ه ب جهان  لظ شمار باکن   بیش  نیمی  ا  یای اسی مط مد.در میان تمام نهای یا  دسر ۲ (ر ۱۳۹۴) بیش  ۱۴۱ م صف    بیش  سی  هفت م د   م است.  نهای مر  ترت ن اسی بیش  ۵ م، دی ۱ م، آلمانی ۸ م، هلندی ۸ م، فر ۷ م، روسی ۲ م،  ۲ م، ا ۲ م، لی ۱ م، ویی ۱ م  پنی    چینی  کدام بیش  ۸۵۰ ار م دارند. ت ران   حدود ۵۹ م     میان آ ۲  مدیر هد. یا هٔ ۲۸۱ ن  بیش  ۱۰ م   کل  ۲۹۱ گ ن ملل دنیا است.ر \"یا\" دم  ف بو. برخی   ر ان ن، ی بل ویش ب، س بیفی  گ نها ستد.  سوی د دین د  ر یا  ر آزادی ویش  سال برد  یا  خر آسی  ر ، کیفیت خت، سی م م تی    خر  اجم  ر  سبک ویش لات نقد ش.  بل  یا  رانی تهیه    پی ر  نگ هد. گران   مل می   ن دست   بکا عموم زودر   یا نسبت  د سایر دنام است.\"یا\"  س «ه ه» ت م. طبق  س دید   شیی ه اه ند بدون ه ت    ر خه بیان مند.   رو    میت ا   سبک ویکی ا  ویش ک ر  م م  ص همهٔ ملب  ت همیشگی  دنامه بو.   ل  موارد مدی ای یا   رس گ  ز می نقل کند. ای  دنامه ت ز حق لیف آزاد گنو بل سی هد. ن ن آلمانی  اسی \"یا\" سیله دیسی فه من   نی    ی    Fork  آ  داده ند.  رشد ن  دنامه گ   د ویکیمدیا چندین پرو م  ون  ،   و  پدیود..\"یا\"  نس   ن جدید نیا آز  کار کرد. نیا پرو دنامهٔ ن     ایش  دست سان   ق  ن رسمی نوشته م. نیا  ت ۹ مارس ۲۰۰۰ (۱۹ د ۱۳۷۸) ت ما ش ب   ش پ وب ب نگ شد. ش ب    ۱۹۹۶ نگ  ب  پا ارنتی یت انی    جنسی  ن بو  س نن دنامه آزاد نیا،  جان  یا،     ۲ ین میشد. پ باند  سرور    پر یا،  ب اهدا ش  ری  کارم ش ب   امل  ش  ااد ا یا ه کد.  برج نیا ت بد  جیمی ویلز، یس ش   نهایی  لری ر یس  ویش  نو نیا  (ا) \"یا\". سنگر، نیا  ایور تو    همه دنا موجود  د تنها نیا  ملب آزاد   د اند ند ز  ارنت  داشت. ضمن  خر مت عمومی  د گ شر ب خ بیف بود. نیا  هفت مله بای  سان   ای م بو ولی ا ان   باور ر   روند  تولید ا ر  است. ش ب  پایهگر  دنامه  ایی  تبت    ق آن، جبران س کند.  دنامه  اا  ز  آزاد نیا بو ولی درست ل  ل \"یا\"   ار د است ز   یل  ز حق لیف آزاد گنو کرد.یا  نن بار  ت ۱۵ ژ ۲۰۰۱ (۲۶ دی ۱۳۷۹)  ف  ن اسی   wikipedia.com  دنیای ت ارنت وصل شد. \"یا\"  ۱۰ ژ   ب Nupedia.com بار میرفت.     نویس عمومی میت ای     وارد ک    مرور  نیا  گیر ولی   آنکه هت مش سان نیا مدل تولید   رد کرد،  ه نیا برد شد.    \"یا\"   پرای جدا  نیا شر  کار کرد. س «»  شبیه  س پن «بیفی» نیا   همان م اول ب شد. \"یا\" س شری  نیا، ا دات  ر موتو جس بدست آورد.  پایان  اول  ت ۲۰۰ م  ۱۸ ن  رسید.  پایان  ۲۰۰۲ ت نها  ۲۶، پایان  ۲  ۴۶   پایان ۲  ت ۱۶۱ ن رسید. نیا  \"یا\" آ کنار  ز  مین (رور) نیا  کار ا    ۲ متون   \"یا\" من شد.ویلز  سنگر، فکر   ویکی   ه \"وب\" ملق  وارد کم نسبت مند. ویلز انه بیان مد    اولین بار  دسر ۲۰۰۰ فکر   ویکی   جرمی   کاد ش ب    ویکی م    نشان داده  شنی         سنگر، خبر  چی   ویکی   کوو-که   اسن ویکی بود-شنید  هاد ت چی م ویکی  نیا   ویلز دا  ها   ت ویکی شر شد. پرای    ت همان أ  آزاد ( نه تولید ویکی) ه  نیا شر  کار کرده بود.  پر متق رفل   ساز آن، د امن-که نگر د نرمی آزاد است-شر  ی  \"یا\" کرد.ران ا  ف ۲۰۰۲  ترس تبت ری  ود ک   یای اسیور  \"یا\"   Encyclopedia Libre رد. کمی   همان سا ویلز لام   \"یا\"    ه  نشان د   ه    wikipedia.org ال داد. بی پرها  ل و خ  ج د نر وی ال داده ند.  وی خبری  «ه ه» ن.در ت ۲۱ ژن ۲ (۳۰ خ ۱۳۸۲) د ویکیمدیا   \"یا\"  نیا شکل گرفت. \"یا\"  پ هرش   ل ت هٔ  س نا کار کند. اولین پر هر \"یا\"  ماه ا ۲۰  یاد لات ۱۱   یا ادث  روز ته شد. وه  پرو گ و   دسر ۲۰   ی  گفی م  درست  ه   افت ویکیمدیا  پر   ی  ای ر    ت انی گوری ند  ماه   کار ا. ویکیمدیا    شر  ل پ جدیدی     ت داده  شد.\"یا\"  اا     شمارش ایش س.    ی پی  رنه  حدود ۱۰۰ م  ر   ا میشد. \"یای اسی\"  ت ۲۲ ژ ۲ (۲ بهمن ۱۳۸۱)  ت ۱۰۰۰ م رسید.   ۲ ای یا  نرخ رشد ی ۰۰۰  ۰۰ م  روز ر.  ۲۵ ف ۲ (۶ د ۱۳۸۲) \"یا\"  تمامی نهای   من ۵۰۰۰ م دست ت.  ت ۲۰  ۲ (۲۹ ر ۱۳۸۳) ای \"یا\"  ۱۰۵ ن   م رسید..این دنامه  ه wikipedia.org    نی   «ویکی»   ن جز یی  م «تند»  ته ش. ویلز   باور   \"یا\" باید  کیفیت دنامه   بهتر برسد  چاپ  بشود. جیمی ویلز نگر \"یا\"   انه تو م. «\"یا\" کوششی  نش  پخش دنی  بال کیفیت ن  همه م  زمین   ن ماان است.»یا  میان دنا ارنتی.دنا گو د  ارنت   ق  دا.  برخی    \"دنامه فل اس\"  \"نیا\" (   ندارد) سیای مسی سنتی  ما م  دارند. ر قی وب  h2g2  اوگ۲  دارند    ری کلی عمل میک  ان  ان نوشته  بای مند. پر ون \"یا\"، Susning.nu  Enciclopedia Libre ی ویکی    همه  ا  دست نی ری نوشته مند  ه گونه بای رسمی   مال ود. \"یا\" یل  بترین ن دنامه ویکی چه  ر ت ا  چه  ر ت و ش.   تمامی دنا موج \"یا\"  خر د حق لیف آزاد گنو  گشست.\"یا\" مانه اهد تنها  دنامه ی بماند. هدف  یل شدن  مه کاملی  د بشری ن. مه س ت  «»  دارند  مش میک چه ااتی ید  \"یا\" ده شوند.  سیا   ل ل بث مش  سر ا ک، ف  ل  خ ند.ملب آزاد.ز حق لیف آزاد گنو (GFDL)  ای \"یا\"      مند   مه «کپیلفت» کپیت   زه توز د، خلق آر مشتق    ری  ملب ا  ش ر  نه  ما اثر ت ز GFDL  مد. می   نه ل اثر    پر تیل مد، حق لیف    مال  ولی باید ل   ا  ت ز GFDL  ار عموم . ن  ملب موجود  \"یا\"  م د    ز  میک  بد    م گر  ب. ملب \"یا\"  ق ی ااتی  صدها ع   آ  fork  گرند. اگر چه تمامی متون    \"یا\"  ز GFDL  میک د ب  تر  پ ص \"یا\" ن ن. می چون ل شر، ن آا    حق لی خبری    منه  مند. می   دارند   ش م اشق  «ف  یا»   دنامه داده ند.نها.\"یا\"  ( ر ۱۳۹۴/ دسر ۲) هٔ ۲۸۱ ن  بیش  ده م بو. ر کلی \"یا\"  ۲۹۱ گونه ن ملل دنیا  ک  ۳۵ م م است.نهای م   مل   کار میک. وی نی  بقیه نهای  دود  وصل   ف دود  سیای کلی نر «ه ه» هد.  اه ا  تر  نها  ک گه  ولی اولی  ق صفتی     تر    نهای بتر  دارند  دومی  راه ا عمومی \"یا\" حل ند. ای تر   ککی  ای موجود همهٔ نها  ل مند.یای فارسی همون  نو (شمارش زنده)  ردهٔ دهم،   میان ز  عموم   تکلم میش با  ن ترکی اسی  ن ی  دارد.آمار کلی ویکی (انی  ۲):وی موجود  نهای خٔ نهای ای   د:ن  .\"یا\"  ب مت   دی  م وب مر  فا اجرا مد.  ن سوم  ست.  اا \"یا\"  UseModWiki   د آد (ن ۱) نوشته   کار م.  اا  پیایش  سریسی ن شتری  م ولی ا ان   کروشه (bracket)    ااد شد. یا ژ ۲۰۰۲  ن جدید  (فاز دوم پر)  م پپی  پا داده ماوال  کرد.  ن  ن دوم  ب میآمد  مس م   دنامهٔ \"یا\" نوشته  بود.  خر ای زیاد  ر بد کیف  زیادی    شد. سام  ن  لی دانیل کراکر سی شد.  ن  ن شماره سه سوب میشد  ژه ۲۰۰۲ نوشته    نای گردید. ز    ت گنو    تمامی پ ویکیمدیا    مد.یا  دی  م وب لس  فا  چهار مکان  مینی مد.  ه   ۲ تنها   سرور   آ  ت مین  تم  چندین قسمت شد.  ژ ۲ \"یا\"  ۳۹ سرور م  فا مل  کار بود. ندی  ت    ب ااتی ب ت م چندین مین خادم ب ااتی  ۲۱ مین وب   ن آی کار میک  ۷   ت مین Squid Cache کار میک.در  ۲ گروه م وب \"یا\"  بیش  ۱۰۰ د اش ت  ب تای مس م دا تمامی مینها  ق  سان جدید   م شهر ا من شدند.ای صفٔ وب اا  م م Squid caching فرس مند. در  بلیت  شدن   مینها  د   مین متز  ن perlbal   ن  فرس مند. سپس ا    م وب آی فرس مند   پر  د. م وب، صفت   شکل لازم پر میک.  اش ت، صفتی   ران س پر ند   فا ه (cache) مند  زم  درجه ر سا شوند.  امر بث م پر صفت ل    ن  زمان  ی ص مد. ویکیمدیا ت ی جهانی  م م  کنار ۳ مین م   فر  آز   ت پگویی  با ببرد.  ل   گروه مین جدید  هلند   کره جنوبی شر  کار کند  پگوی  بی  یک یا هد.گزارش  رو  رشد ه یا  صف  فرس مد.ویش.ی  ری میت ای \"یا\"  ویش   ت   س بب. فکر ویش ا   اساس شکل گر  ه ران  یگر میت  بد کیفیت ا  ل زمان ت  سزایی د باش هم   تهٔ نرمی مت . نویس  نیازی  د مدارک رسمی  ص  زمٔ می  ویش میک د.   اخر داده   ن  ای    کس    نی  اهد، بیر  ویش  د  توز شوند. ای   ه ش خا  گروه  بای وند. ی   ملب  سیای و \"یا\"  ت م  ری  د.به دلیل ب \"یا\" «جن و» ( «جن بای»  گ مند)  می نی ل تی ق میاد  ران  رات م خ    ت نمیرسند.  انای \"یا\" روند و    عمل دستم  نی ن   ل جی د د. ا هم  مع ویش  دارند بدنه  \"یا\" هگاه می  تمام  ی نم. ر، مشکل دمی \"یا\" بو، امّا   سایت اگر  می ام  ر ویا لج  پد بلصله  ت ن ح هد شد.سیا.یا  تمام ران  اهد  م ن «ه ه»  د ب   اب    یا  ندهند. نگاه ه   سی «ل ب»  هدف دنامه  انه مرد: «نشان دادن ع  تو   جای وارد شدن  آنها». اگر   مهم برسیم  \"یا\" تنها   «ه ه» بیان نش بلکه وی تمامی رات ه مط   م هد بود.  س بیان مد    دیدگ بسته  رش باید بها داد.   س  خر د ه ل س    آر ر برد    دیدگ «ضد اخی»  ر مد اد ش.آرا  راتی     نوشته شدن  یا من نشده ب، «قی اب» ی مند   ورود ند داشت. س « ر اب» انه بیان مد  آر ی  نگر دیدگ ه ب.  رات  دیدگ جد ران ید  \"یا\" مفی شوند.ه \"یا\"  سیا  ی متن کوی  ی میک.  خلاف  وی موجود  Ward Cunningham\\'s Portland Pattern Repository، \"یا\"  جای  دادن ای مط  ت ا  درون آ صفتی جنه    «ث»   کار اخ دا. ه \"یا\" گ ایی   ساس میک م  دنامه ن، یر  ال داده  ف میک. ت گ و (dicdefs)  ل ا  انه ا هد. گ وی م \"یا\"   سبک نوی خا ااد میک.م  وی.تف بد خا   \"یا\"  ندارد  مها  ی ت گر مند.  ماه دسر ۲ یا حدود ۲۰۰ ر    کدام دم  روز پنج ویش  اثر    جا گشست. ب آمی  ارم یک \"یا\"  سوی رانی   ب د  ر دست  ویش م د. اری  ع گروی ی  ت ناان، ران  مد   ش آنان  صدها  میرسد. مد، بترین گروه     تو جلی  ویش  م  جلی  سی ران خ طبق سیای جا  دارند. ران زیادی   ل   ط  دم  ویش م  \"یا\" م ند. ن  ر  لف  سیا، بث م ط  ر گ.  ه م اج   همیشگی  آ ویلز  کم داوری ت جدی  داار  مد.یا  ق د ویکیمدیا ب شد. های ربع چهارم  ۲  مدل ۳۲۰۰۰ دلار کا بوده  ۶۰٪  مط   است. همون د ویکیمدیا   کمی و تکیه    ی مالی  م. را مالی  ۲۰۰۷ موجب وری می بیش  ۱ م دلار شد.یس پن  ویش \"یا\"، لری سنگر گست  ز جیال (GFDL) « ضمانت آ انگ خوبی  کار   دنامه آزاد است.» پ آا سیف  ه \"یا\"   من، ایور مط  که: «های پایین ش  ن ویکی،  مل   ته جم   ه «تِ خانه» من شپی  بالا م». \"یا\"   ر ت   آ  راسی   بسی  دند. نگر  انه پ مد  م  ن ایور  اگ ن    بوده باشد.  ج  ل \"یا\"   صف پیدا   نه  انه بیان د  ا  دنامه  خر    \"یا\" منی  است.   م    نویس ت   کار  ع کرده    ر سازند  ا س بل ماند. وی گو \"یا\" ل  ای م    من  آ  پرس پ مند.جأ ری.یا    دنامه ین مان  ری  نها نوشته   ه  ادی  ر جهان    کسی میت  رشد  کمک کند.  دنامه  زمان تولد تون، رشد ر سر د  بترین ه دنی  بیش  ۸۰ م باکه  ماه   بیش  ۹۰۰ ر فل     بیش   کار میک.در  مٔ تتی    ۲  پلاس وان، ها ی  ه  بسی من ت ران  ل شبوز سهم منا جهان   ویش چند نس م یا مین زدند.  بس نشان د  ل لب  انده  یای فارسی  اروپا  کای شمالی بو.  م ۵۰٪ وی انده  کای شمالی  یای اسی بد   یای اسی ساده  ار ۲۵٪ بو.ب.ادات.دین   با  ز ویش هم \"یا\"  دنی ل ااد ست. فیل بی  می   رمه ن   ۲   گفت   ز  \"یا\"  نم  «ه کت د  ند   کار   دهد. مشکل لی م  ق ککه  \"یا\" است.  کتب  ناشر باید تضمین   اات کتابش درست  ز ام مش  بی   دارد.    چی م \"یا\" همه   باد م.» تد پ یس ران دنامه   می  ن ایور م که: « \"یا\"   اس   ت م  کمال م.  فیه هگاه ت نش.» دانا بوید   ۲   ن \"یا\"   ع دگ ایور م  «\"یا\" هگاه  دنامه د  ولی م  آه یل  ع گستر  د    ا م ا زیادی  داشت.»  اینل هنوز  دنا سنتی حق  د  ه   ال خهای ای  گ ند.رابرت مکهنری ر س   می ت  «دنامهٔ  ااد» \"یا\"   اد  دا  مینو «هر چند  ن  می  \"یا\"  درجه ر ب دست یابد ولی  ابد  مع یر دکن بیا  اد  هد داشت.» آرون کرون م تکذی  رد رو مکهنری نوشته    FUD  نی فن ری  ب د   ن اسی ف سه وه  م «ترس، م م  شک»   کر. یس  تٔ س، ی نگر،  ر  ۲  \"یا\"  دلیل د مت «ضد ن»  بث رد بای رسمی    ن موجب ک ر ای  میگ اد کرد.\"یا\"   خر فر   ام  د ز مت  انه   میت ب ج جار نوی باشد. دال گ یس  ت دنامهٔ  ایور بیان مد  «م دٔ چایی مین     دارند  ن ری  مت پوشش داده وند ولی ا خبری  تمام  ر مند. مل مط  تاد ف پنج ر بی مل مط  هنر چین   مل خ کور  ر مل مط  تونی بلر است.» لری سنگر یس  س ویش نیا   ۲ گفت: «می    مله نسبت  مم ( خارج   م ) ر ا ر ل ااد مد.»در ماه مه  ۲ (خ ۱۳۸۴) ل گ ص    دست داد: مٔ مط  هنر چین ی سه ر مٔ مط  تاد ف   م مط  تونی بلر  حدود ۵۰٪ بتر  مٔ خ کور گردید.  ه کامل ر   ایی   پر مط  بد تنها  یی  گرایش یل نویس آورده  ب اگر چه      نشان دادن روند رو  ل منی \"یا\"  کرد.\"یا\"به دلیل اه زه مد ایش ضمن ا جاری  روز شوند  می  اساس ر روز خلق شوند ش ش.  ه مٔ مط  ز انوس هند  ا      یای اسی نوشته   ت  بی  م چاپ شد.  همین دلیل د می  دنامه میت ر وستر  بقیه دنام باشد.در  ۲ نر ج  داوری همتا   ۴۲ م می    یا   کرده  من کرد.      درجه د یا  درجه د  ر. ه تایم مینو  س د باز  زه ویش   همه مد ب    یا بترین  ا ب دنامه  دنیا    ش  ه جیمی ویلز است.ویش دستم.روند و \"یا\" ایور ف    دادن لات  مع ویش انی بث ص ملب مد.        ن ل   ته  بود: «با د  ز خهای ری رخ  داد.».  زیاد ای یا بث   ملب بک  ه  ت واگی شوند. جوی ا   شیی برج ف   ص ملب \"یا\" ایور مینو  «هر چند  مله کمی بی  ن رشته د پر    آیا     ع ااتی د  دست د درستتر      صدها ار  ( ان ویش) د   هنوز ه!»  آش    تو \"یا\"  کشف اات   شد، نه ایور بیان مد   ن «مکان حقی یاب ن بلکه ر شبیه مکان راری است،  ن ن    ا  «ر» نرسد صح ی شود.»ارج  یا.\"یا\"   ل  رس ز می   م  مر      گت. ای خبری ای \"یا\"   ع  بند   گ صفٔ وب خ  کسب اات ر، ارجی   گ. بی    کار  ر م  مند. ب فه   ران \"یا\" تهیه ش، ای \"یا\" ر  همه جا  رس خبری ر ند.  ای ، تت ع کت هما  د  دارند. ا زیادی  ای \"یا\"   «دیدگ بهتر» رمهٔ م (Science Journal)  گت. اولین ارج  روزن پ  مٔ یا ت  «A White Collar Protein Senses Blue Light» (ل، ۲۰۰۲) بود.    ای زیادی  پیای م ارج دند.ارج  یا  رس فارسی.در رس فارسی ری  لات ویکی فارسی کپی  من   ل ع   ر ود  پای ی  ور  م یا     ت  و م یا    خودش جا م  ری  است  دا   ملب  مذد. همین کار  وص ای اسی یا مد. ه موارد ر زیادی  وبی ع: یا  ند.  سای اخیر   یای فارسی اش ی د  ت  جلب ااد   ای مدی   سایت یا   ب است. آمار نشان مد    ۲ م  حدود نیمی  ای ران ای  ن اسی یا  م  کمی ر  نیمی   ت  ن فارسی  دنامه جهانی بو. بسی همین آمار  سای پ  یت   نده جا ای  ن فارسی یا     ۲  حدود ۷۵ د  ت ایان  کسب اات   دنامه  ن فارسی بوده  ن اسی تنها حدود ۲۲ د  ت  ا    جلب کر.طی  مدت ه ت لات نس فارسی یا  رشد ی  نشان مد  شمار لات  درالف فارسی  مرز ۳۴۶ ار م گته    ر، ن و  میان نهای منه  است.  ر.ر یای فارسی.بر اساس  بسی   ۲  میان حدود ۳۳ر م یای ن فارسی ۹۶۳ م  ای س سکس  هب  ا ر هد.   میان رین حجم  ل سیاسی  بیش  همه  «اات ۸۸»  «جش سبز» اخ دارد.   ۲ ر ند لات ویکی دٔ مت  سی جنسی  غ  ا برد   سرور فایی ری ویکی  ا   نی مدت  س خارج   هنوز بل سی ن.ع سی  یا  ترکیه.از ت ۸ د روز ش ۲۹ آ (۹ ارشت) سی  پا ارنتی دنامهٔ یا  تمامی نهای آن،   مله ن ترکی    کشور ع شد. س اات  ف نی ترکیه  بی لام   «ب  ارز فنی  بسی حقی  اساس ماده  ن رت ارنتی  م  ش.» ی فر  نقل  رس دولتی ترکیه ن   د  دلیل ناق ب یا  «ف  مش م  وی ام ه ترکیه  گروی تی»  گت. جیمی ویلز، نگر یا  وش   ام ترک  صف ت     «سی  اات  حق اساسی بشر است»  خب  م ترکیه گفت  «در جدال  دس   حق، ه  کنار شما هم بود».ز  توجه ای بینا.\"یا\"  ماه م (خ ۸۳)  ج مهم     کرد. نن جا Golden Nica  Digital Communities    Prix Ars Electronica  شد.  جا  ه ۱۰۰ یورو  ت  \"یا\"     PAE Cyberarts اتریش بود. دومی جا Judges\\' Webby   «من» بود.  \"یا\" د جا «ب کوشش»  سوی Webby شد.در  ۲ (ر ۱۳۸۳) یای پنی ق  ت ج ت وب (Web Creation)  سوی من یغکن پن شد.  جا ل  ادی    سهم بی  د وب  ن پنی دارند   بار جا  شر دم یای پنی داده شد.در  ۲ گزارش ق مولتیا نشان   یای هلندی  ز ۸/۱   گوگل  جیمیل بو ه ارنتی  ن هلندی بو.م تایم  گزارش  ۲ خ جیمی ویلز   گروه ۱۰۰ فرد اثرگر  لام کرد.ین  همین  یای روسی ب ج را (روسی: Премия Рунета)   «د  آ» شد.  جا  ف دولت  مد.ین یا ج  م  م پر   ه  صف ت کرد.س ملل م.طی سای گته، یا  ف س ملل م   مل گ د   مرد مفی   ی  را رشد  گ ویکی   پر کمک ش.پلم ا ته ر United Nations:پ م  هر.\"ویکیمدیا\" چندین پرو متن-آزاد       م  جمله:'}]"
            ]
          },
          "execution_count": 16,
          "metadata": {},
          "output_type": "execute_result"
        }
      ],
      "source": [
        "def remove_uncommon(article):\n",
        "    for word in uncommon_words:\n",
        "        article['title']= re.sub(word,'', article['title'])\n",
        "        article['text']= re.sub(word,'', article['text'])\n",
        "    return article\n",
        "\n",
        "articles_cleaned_rdd = articles_without_stopwords_rdd.map(remove_uncommon)\n",
        "articles_cleaned_rdd.take(2)"
      ]
    },
    {
      "cell_type": "markdown",
      "metadata": {
        "id": "79dgk7QHTYtK"
      },
      "source": [
        "# Section 3: Exploration (20 Points)\n",
        "Please answer the following questions regarding the dataset:\n",
        "* How many unique 3-Letter words remain after the cleaning procedure?\n",
        "* What are the top 20 most common English trigrams in the corpus?\n",
        "* Plot a distribution from document lengths using appropriate bin sizes with 100 bins\n",
        "* What are the titles and urls of the 5 longest articles? \n",
        "* How many and what percentage of articles contain these words? [History, Politics, Medicine, Law, Economics, Engineering]"
      ]
    },
    {
      "cell_type": "code",
      "execution_count": 17,
      "metadata": {},
      "outputs": [
        {
          "name": "stderr",
          "output_type": "stream",
          "text": [
            "[Stage 23:===========================================>              (3 + 1) / 4]\r"
          ]
        },
        {
          "name": "stdout",
          "output_type": "stream",
          "text": [
            "[('دهی', 3845), ('۲۷،', 102), ('گئو', 35), ('۱۳۹', 607), ('رهش', 80), ('سیز', 89), ('اجم', 44), ('جيپ', 34), ('نیپ', 20), ('سنو', 96)]\n"
          ]
        },
        {
          "name": "stderr",
          "output_type": "stream",
          "text": [
            "                                                                                \r"
          ]
        }
      ],
      "source": [
        "unique_3letter_words = words_count_rdd.filter(lambda x : (x[0] not in (stopwords + uncommon_words)) & (len(x[0]) == 3))\n",
        "print(unique_3letter_words.take(10))\n",
        "# print(len(unique_3letter_words.collect())) # takes too long"
      ]
    },
    {
      "cell_type": "code",
      "execution_count": 19,
      "metadata": {},
      "outputs": [
        {
          "name": "stderr",
          "output_type": "stream",
          "text": [
            "                                                                                \r"
          ]
        },
        {
          "data": {
            "text/plain": [
              "[(('formula', 'formula', 'formula'), 31782),\n",
              " (('en', 'wikipedia', 'org'), 4796),\n",
              " (('http', 'en', 'wikipedia'), 3726),\n",
              " (('The', 'Free', 'Encyclopedia'), 3645),\n",
              " (('Wikipedia', 'The', 'Free'), 3645),\n",
              " (('w', 'index', 'php'), 3471),\n",
              " (('org', 'w', 'index'), 3470),\n",
              " (('wikipedia', 'org', 'w'), 3470),\n",
              " (('under', 'football', 'team'), 3462),\n",
              " (('national', 'under', 'football'), 3462),\n",
              " (('index', 'php', 'title'), 3456),\n",
              " (('amp', 'oldid', 'accessed'), 2885),\n",
              " (('Free', 'Encyclopedia', 'http'), 2814),\n",
              " (('Encyclopedia', 'http', 'en'), 2809),\n",
              " ((\"'\", \"'\", \"'\"), 1987),\n",
              " ((\"women's\", 'national', 'under'), 1893),\n",
              " (('wikipedia', 'org', 'wiki'), 1574),\n",
              " (('C', 'H', 'O'), 1322),\n",
              " (('ns', 'gt', 'lt'), 1255),\n",
              " (('gt', 'lt', 'contributor'), 1254)]"
            ]
          },
          "execution_count": 19,
          "metadata": {},
          "output_type": "execute_result"
        }
      ],
      "source": [
        "def extracting_english_trigram_words(article):\n",
        "    # words_list = re.findall(r\"[a-zA-Z]+\", article['title'])\n",
        "    words_list = re.findall(r\"[a-zA-Z']+\", article['text'])\n",
        "    trigram_list = []\n",
        "    for i in range(len(words_list)-2):\n",
        "        trigram_list.append(tuple([words_list[i], words_list[i+1], words_list[i+2]]))\n",
        "    return trigram_list\n",
        "\n",
        "# top_20_english_trigram = sample_rdd.flatMap(extracting_english_trigram_words) \\\n",
        "top_20_english_trigram = articles_rdd.flatMap(extracting_english_trigram_words) \\\n",
        "    .map(lambda x: (x, 1)) \\\n",
        "        .reduceByKey(lambda x, y: x + y) \\\n",
        "            .sortBy(lambda x : x[1], ascending = False).take(20)\n",
        "top_20_english_trigram"
      ]
    },
    {
      "cell_type": "code",
      "execution_count": 20,
      "metadata": {},
      "outputs": [
        {
          "name": "stderr",
          "output_type": "stream",
          "text": [
            "                                                                                \r"
          ]
        },
        {
          "data": {
            "image/png": "[encoded data removed]",
            "text/plain": [
              "<Figure size 640x480 with 1 Axes>"
            ]
          },
          "metadata": {},
          "output_type": "display_data"
        }
      ],
      "source": [
        "import matplotlib.pyplot as plt\n",
        "\n",
        "doc_len_rdd =  articles_rdd.map(lambda article : len(article['title']) + len(article['text']))\n",
        "doc_len_list = doc_len_rdd.collect()\n",
        "plt.hist(doc_len_list, bins = 100)\n",
        "plt.xlabel('Letter Count'), plt.ylabel('Number of Article')\n",
        "plt.title('Distribution of document length')\n",
        "plt.show()"
      ]
    },
    {
      "cell_type": "code",
      "execution_count": 23,
      "metadata": {},
      "outputs": [
        {
          "data": {
            "text/plain": [
              "(2798541, 133852)"
            ]
          },
          "execution_count": 23,
          "metadata": {},
          "output_type": "execute_result"
        }
      ],
      "source": [
        "len(doc_len_list), max(doc_len_list)"
      ]
    },
    {
      "cell_type": "code",
      "execution_count": 24,
      "metadata": {},
      "outputs": [
        {
          "name": "stderr",
          "output_type": "stream",
          "text": [
            "                                                                                \r"
          ]
        },
        {
          "data": {
            "text/plain": [
              "[('https://fa.wikipedia.org/wiki?curid=10787', 133852),\n",
              " ('https://fa.wikipedia.org/wiki?curid=163930', 120314),\n",
              " ('https://fa.wikipedia.org/wiki?curid=44114', 113063),\n",
              " ('https://fa.wikipedia.org/wiki?curid=2322946', 111528),\n",
              " ('https://fa.wikipedia.org/wiki?curid=26519', 109690)]"
            ]
          },
          "execution_count": 24,
          "metadata": {},
          "output_type": "execute_result"
        }
      ],
      "source": [
        "url_of_lengthest_rdd =  articles_rdd.map(lambda article : (article['url'], len(article['title']) + len(article['text']))) \\\n",
        "    .sortBy(lambda x : x[1], ascending = False) \\\n",
        "        .take(5)\n",
        "url_of_lengthest_rdd"
      ]
    },
    {
      "cell_type": "code",
      "execution_count": 26,
      "metadata": {},
      "outputs": [
        {
          "name": "stdout",
          "output_type": "stream",
          "text": [
            "How many and what percentage of articles contain these words? [History, Politics, Medicine, Law, Economics, Engineering]\n"
          ]
        },
        {
          "name": "stderr",
          "output_type": "stream",
          "text": [
            "[Stage 49:===================================================>(3413 + 8) / 3453]\r"
          ]
        },
        {
          "name": "stdout",
          "output_type": "stream",
          "text": [
            "[183, 32, 68, 276, 40, 121]\n",
            "[0.006539121635166324, 0.0011434529635263517, 0.0024298375474934974, 0.009862281810414784, 0.0014293162044079397, 0.004323681518334017]\n"
          ]
        },
        {
          "name": "stderr",
          "output_type": "stream",
          "text": [
            "                                                                                \r"
          ]
        }
      ],
      "source": [
        "print(\"How many and what percentage of articles contain these words? [History, Politics, Medicine, Law, Economics, Engineering]\")\n",
        "the_words = ['History', 'Politics', 'Medicine', 'Law', 'Economics', 'Engineering']\n",
        "\n",
        "num_articles_contain_the_words = [None] * len(the_words)\n",
        "\n",
        "for i, word in enumerate(the_words):\n",
        "    # num_articles_contain_the_words[i]= sample_rdd.map(lambda article : int( (word in article['title']) or (word in article['text']))) \\\n",
        "    num_articles_contain_the_words[i]= articles_rdd.map(lambda article : int( (word in article['title']) or (word in article['text']))) \\\n",
        "        .filter(lambda x : x == 1).count()\n",
        "print(num_articles_contain_the_words)\n",
        "print([x/len(doc_len_list)*100 for x in num_articles_contain_the_words])"
      ]
    },
    {
      "cell_type": "markdown",
      "metadata": {
        "id": "JS2K-g_4TYtK"
      },
      "source": [
        "# Section 4: TF-IDF + Searching (55 Points)"
      ]
    },
    {
      "cell_type": "code",
      "execution_count": null,
      "metadata": {
        "id": "FsJEBmbrTYtK"
      },
      "outputs": [],
      "source": [
        "word_df_rdd = #TODO: calculate document frequncy for each word\n",
        "articles_tf_idf_vectors = #TODO: add `vector` key to articles_cleaned_rdd dictionary with the tf_idf dictionary"
      ]
    },
    {
      "cell_type": "code",
      "execution_count": null,
      "metadata": {},
      "outputs": [],
      "source": [
        "num_docs = articles_rdd.count()\n",
        "num_word = words_count_rdd.filter(lambda x : x[0] not in (stopwords + uncommon_words)).collect()"
      ]
    },
    {
      "cell_type": "code",
      "execution_count": null,
      "metadata": {},
      "outputs": [],
      "source": [
        "import math\n",
        "\n",
        "def tf_vector(article):\n",
        "    words_list = re.findall(r\"[\\u0600-\\u06FF]+\", article['title'])\n",
        "    words_list.extend(re.findall(r\"[\\u0600-\\u06FF]+\", article['text']))\n",
        "    num_word_article = len(words_list)\n",
        "    return [(word[0], (article['id'], words_list.count(word[0])/num_word_article)) for word in num_word if ((num_word_article != 0) and (words_list.count(word[0]) != 0))]\n",
        "\n",
        "tf_rdd = articles_without_stopwords_rdd.flatMap(tf_vector)\n",
        "word_df_rdd = tf_rdd.filter(lambda tuples: tuples[1][1] > 0 ).map(lambda tuples: (tuples[0], 1)).reduceByKey(lambda x,y: x+y).map(lambda tuples : (tuples[0], tuples[1]/num_docs))\n",
        "\n",
        "def add_tfidf(article):\n",
        "    article['vector'] = dict(tf_grouped_list[article['id']])\n",
        "    return article\n",
        "    \n",
        "idf_rdd = word_df_rdd.map(lambda tuples : (tuples[0], math.log10(1+ 1/(tuples[1]+1))))\n",
        "tf_idf_rdd = tf_rdd.join(idf_rdd).map(lambda tuples: (tuples[1][0][0], (tuples[0], tuples[1][0][1]*tuples[1][1])))\n",
        "tf_grouped = tf_idf_rdd.groupByKey()\n",
        "tf_grouped_list = dict(tf_grouped.collect())\n",
        "articles_tf_idf_vectors = articles_without_stopwords_rdd.map(add_tfidf)\n",
        "articles_tf_idf_vectors.take(4)"
      ]
    },
    {
      "cell_type": "markdown",
      "metadata": {
        "id": "UZn3_bnLTYtL"
      },
      "source": [
        "## Searching\n",
        "In this section you should find articles that are about the topics mentioned in the last part of the third section.\n",
        "Report the percentage of articles that are about the mentioned topics, for example, report what percentage of the articles were about history?\n",
        "For each topic, report two of the most relevant articles along with the title and the url.\n",
        "Check this part in **theory** before practical implementation (Hint: Use the concept of tf-idf).\n",
        "All innovative solutions are also welcome. Compare the obtained results with the third part."
      ]
    },
    {
      "cell_type": "code",
      "execution_count": null,
      "metadata": {},
      "outputs": [],
      "source": [
        "from scipy.spatial.distance import cosine\n",
        "import pandas as pd\n",
        "\n",
        "def similarity(dict1, dict2):\n",
        "    return cosine(pd.Series(dict1), pd.Series(dict2))\n",
        "\n",
        "topic = 'history'\n",
        "tf_topic = {topic : 1}\n",
        "wd_list = articles_without_stopwords_rdd.flatMap(lambda article: [(topic, 1)] if (topic in article['title'] or topic in article['text']) else [(topic, 0)]) \\\n",
        "    .reduceByKey(lambda x,y : x+y).collect()\n",
        "\n",
        "wd_dict = dict([(tuples[0], tuples[1]/num_docs) for tuples in wd_list])\n",
        "tf_idf_topic = {word: tf * wd_dict[word] for word, tf in tf_topic.items()}\n",
        "# top_2_similar = articles_tf_idf_vectors.sortBy(lambda article: similarity(article['vector'], tf_idf_topic), ascending= False).take(2)\n",
        "# top_2_similar = articles_tf_idf_vectors.sortBy(lambda article: cosine(pd.Series(article['vector']), pd.Series(tf_idf_topic)), ascending= False).take(2)\n",
        "top_2_similar = articles_tf_idf_vectors.map(lambda article: (article, similarity(article['vector'], tf_idf_topic))).take(10) #\\\n",
        "\n",
        "top_2_similar.sort(key=lambda tup: tup[1], reverse=True)\n",
        "print (\"{:<25} {:<25} {:<20}\".format('similarity','title', 'url'))\n",
        "for article in top_2_similar:\n",
        "    print (\"{:<25} {:<25} {:<20}\".format(article[1], article[0]['title'], article[0]['url']))"
      ]
    }
  ],
  "metadata": {
    "colab": {
      "collapsed_sections": [],
      "provenance": []
    },
    "kernelspec": {
      "display_name": "Python 3.8.10 ('sutenv')",
      "language": "python",
      "name": "python3"
    },
    "language_info": {
      "codemirror_mode": {
        "name": "ipython",
        "version": 3
      },
      "file_extension": ".py",
      "mimetype": "text/x-python",
      "name": "python",
      "nbconvert_exporter": "python",
      "pygments_lexer": "ipython3",
      "version": "3.8.10"
    },
    "name": "SUT - Data Mining Spark Exercise",
    "notebookId": 3958686303135329,
    "toc": {
      "base_numbering": 1,
      "nav_menu": {},
      "number_sections": true,
      "sideBar": true,
      "skip_h1_title": false,
      "title_cell": "Table of Contents",
      "title_sidebar": "Contents",
      "toc_cell": false,
      "toc_position": {},
      "toc_section_display": true,
      "toc_window_display": false
    },
    "vscode": {
      "interpreter": {
        "hash": "0adefe4d64cffa239f82aa887f9830c9ded26d4dfec06c1cabc1e14ef705e9d1"
      }
    }
  },
  "nbformat": 4,
  "nbformat_minor": 0
}
