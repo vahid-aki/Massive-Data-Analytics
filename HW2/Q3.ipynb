{
 "cells": [
  {
   "attachments": {},
   "cell_type": "markdown",
   "metadata": {},
   "source": [
    "<h1 align=\"center\">\n",
    "<img src=\"https://drive.google.com/uc?export=view&id=1_ZkE3dnYg9KykzdZE6lIK2s_q_nbiKk_\" width=\"160\" height=\"160\">\n",
    "</h1>\n",
    "<h1 align=\"center\">Massive Data Analytics - 25577</h1>\n",
    "<h3 align=\"center\">Dr. Gholampour</h3>\n",
    "<h5 align=\"center\">Sharif University of Technology<br/>Electrical Engineering Department<br/>  Fall 2022</h5>\n",
    "\n",
    "---\n",
    "\n",
    "# Problem Set 02\n",
    "<h4 align=\"center\">Vahid Pourakbar     400205511</h4>"
   ]
  },
  {
   "attachments": {},
   "cell_type": "markdown",
   "metadata": {},
   "source": [
    "# Question 3"
   ]
  },
  {
   "cell_type": "markdown",
   "metadata": {},
   "source": [
    "## Part 1"
   ]
  },
  {
   "cell_type": "code",
   "execution_count": 2,
   "metadata": {},
   "outputs": [
    {
     "name": "stdout",
     "output_type": "stream",
     "text": [
      "22/12/20 18:04:04 WARN Utils: Your hostname, vahid-PC resolves to a loopback address: 127.0.1.1; using 172.27.210.205 instead (on interface wlp2s0)\n",
      "22/12/20 18:04:04 WARN Utils: Set SPARK_LOCAL_IP if you need to bind to another address\n"
     ]
    },
    {
     "name": "stderr",
     "output_type": "stream",
     "text": [
      "Setting default log level to \"WARN\".\n",
      "To adjust logging level use sc.setLogLevel(newLevel). For SparkR, use setLogLevel(newLevel).\n"
     ]
    },
    {
     "name": "stdout",
     "output_type": "stream",
     "text": [
      "22/12/20 18:04:06 WARN NativeCodeLoader: Unable to load native-hadoop library for your platform... using builtin-java classes where applicable\n"
     ]
    }
   ],
   "source": [
    "from pyspark.sql import SparkSession\n",
    "\n",
    "spark = SparkSession \\\n",
    "    .builder \\\n",
    "    .appName(\"MDA_2022_PS2_Q3\") \\\n",
    "    .master(\"local[*]\") \\\n",
    "    .getOrCreate()\n",
    "\n",
    "sc=spark.sparkContext"
   ]
  },
  {
   "cell_type": "code",
   "execution_count": 3,
   "metadata": {},
   "outputs": [
    {
     "name": "stderr",
     "output_type": "stream",
     "text": [
      "                                                                                \r"
     ]
    },
    {
     "data": {
      "text/plain": [
       "['FRO11987 ELE17451 ELE89019 SNA90258 GRO99222 ',\n",
       " 'GRO99222 GRO12298 FRO12685 ELE91550 SNA11465 ELE26917 ELE52966 FRO90334 SNA30755 ELE17451 FRO84225 SNA80192 ']"
      ]
     },
     "execution_count": 3,
     "metadata": {},
     "output_type": "execute_result"
    }
   ],
   "source": [
    "records = sc.textFile(\"records.txt\")\n",
    "records.take(2)"
   ]
  },
  {
   "cell_type": "code",
   "execution_count": 4,
   "metadata": {},
   "outputs": [
    {
     "data": {
      "text/plain": [
       "[['FRO11987', 'ELE17451', 'ELE89019', 'SNA90258', 'GRO99222'],\n",
       " ['GRO99222',\n",
       "  'GRO12298',\n",
       "  'FRO12685',\n",
       "  'ELE91550',\n",
       "  'SNA11465',\n",
       "  'ELE26917',\n",
       "  'ELE52966',\n",
       "  'FRO90334',\n",
       "  'SNA30755',\n",
       "  'ELE17451',\n",
       "  'FRO84225',\n",
       "  'SNA80192']]"
      ]
     },
     "execution_count": 4,
     "metadata": {},
     "output_type": "execute_result"
    }
   ],
   "source": [
    "baskets = records.map(lambda x: x.strip().split(' '))\n",
    "baskets.take(2)"
   ]
  },
  {
   "cell_type": "code",
   "execution_count": 5,
   "metadata": {},
   "outputs": [
    {
     "data": {
      "text/plain": [
       "[['ELE17451', 'FRO11987', 'SNA90258', 'ELE89019', 'GRO99222'],\n",
       " ['ELE17451',\n",
       "  'SNA11465',\n",
       "  'FRO90334',\n",
       "  'SNA80192',\n",
       "  'SNA30755',\n",
       "  'FRO12685',\n",
       "  'GRO12298',\n",
       "  'ELE91550',\n",
       "  'FRO84225',\n",
       "  'ELE26917',\n",
       "  'ELE52966',\n",
       "  'GRO99222']]"
      ]
     },
     "execution_count": 5,
     "metadata": {},
     "output_type": "execute_result"
    }
   ],
   "source": [
    "baskets_without_duplicates = baskets.map(lambda x: list(set(x)))\n",
    "baskets_without_duplicates.take(2)"
   ]
  },
  {
   "cell_type": "code",
   "execution_count": 6,
   "metadata": {},
   "outputs": [
    {
     "data": {
      "text/plain": [
       "['ELE17451',\n",
       " 'FRO11987',\n",
       " 'SNA90258',\n",
       " 'ELE89019',\n",
       " 'GRO99222',\n",
       " 'ELE17451',\n",
       " 'SNA11465',\n",
       " 'FRO90334',\n",
       " 'SNA80192',\n",
       " 'SNA30755',\n",
       " 'FRO12685',\n",
       " 'GRO12298',\n",
       " 'ELE91550',\n",
       " 'FRO84225',\n",
       " 'ELE26917']"
      ]
     },
     "execution_count": 6,
     "metadata": {},
     "output_type": "execute_result"
    }
   ],
   "source": [
    "items = baskets_without_duplicates.flatMap(lambda x:x)\n",
    "items.take(15)"
   ]
  },
  {
   "cell_type": "code",
   "execution_count": 7,
   "metadata": {},
   "outputs": [
    {
     "name": "stderr",
     "output_type": "stream",
     "text": [
      "                                                                                \r"
     ]
    },
    {
     "data": {
      "text/plain": [
       "[('FRO11987', 104),\n",
       " ('SNA90258', 550),\n",
       " ('FRO90334', 63),\n",
       " ('SNA80192', 258),\n",
       " ('ELE91550', 23),\n",
       " ('FRO84225', 74),\n",
       " ('ELE52966', 380),\n",
       " ('GRO73461', 3602),\n",
       " ('DAI22896', 1219),\n",
       " ('FRO86643', 235)]"
      ]
     },
     "execution_count": 7,
     "metadata": {},
     "output_type": "execute_result"
    }
   ],
   "source": [
    "item_counts = items.map(lambda x: (x, 1)) \\\n",
    "    .reduceByKey(lambda x,y: x+y)\n",
    "item_counts.take(10)"
   ]
  },
  {
   "cell_type": "code",
   "execution_count": 8,
   "metadata": {},
   "outputs": [
    {
     "data": {
      "text/plain": [
       "[('FRO11987', 104),\n",
       " ('SNA90258', 550),\n",
       " ('SNA80192', 258),\n",
       " ('ELE52966', 380),\n",
       " ('GRO73461', 3602),\n",
       " ('DAI22896', 1219),\n",
       " ('FRO86643', 235),\n",
       " ('SNA69641', 599),\n",
       " ('GRO39357', 296),\n",
       " ('ELE11375', 214)]"
      ]
     },
     "execution_count": 8,
     "metadata": {},
     "output_type": "execute_result"
    }
   ],
   "source": [
    "support_threshold = 100\n",
    "frequent_items = item_counts.filter(lambda x: x[1] >= support_threshold)\n",
    "frequent_items.take(10)"
   ]
  },
  {
   "cell_type": "code",
   "execution_count": 9,
   "metadata": {},
   "outputs": [
    {
     "data": {
      "text/plain": [
       "['FRO11987',\n",
       " 'SNA90258',\n",
       " 'SNA80192',\n",
       " 'ELE52966',\n",
       " 'GRO73461',\n",
       " 'DAI22896',\n",
       " 'FRO86643',\n",
       " 'SNA69641',\n",
       " 'GRO39357',\n",
       " 'ELE11375']"
      ]
     },
     "execution_count": 9,
     "metadata": {},
     "output_type": "execute_result"
    }
   ],
   "source": [
    "frequent_item_list = frequent_items.map(lambda x: x[0]).collect()\n",
    "frequent_item_list[:10]"
   ]
  },
  {
   "cell_type": "code",
   "execution_count": 10,
   "metadata": {},
   "outputs": [
    {
     "data": {
      "text/plain": [
       "[['ELE17451', 'FRO11987', 'SNA90258', 'GRO99222'],\n",
       " ['ELE17451',\n",
       "  'SNA11465',\n",
       "  'SNA80192',\n",
       "  'SNA30755',\n",
       "  'GRO12298',\n",
       "  'ELE26917',\n",
       "  'ELE52966',\n",
       "  'GRO99222']]"
      ]
     },
     "execution_count": 10,
     "metadata": {},
     "output_type": "execute_result"
    }
   ],
   "source": [
    "# remove non-frequent items in each basket\n",
    "basket_of_frequent_items = baskets_without_duplicates.map(lambda x: [i for i in x if i in frequent_item_list])\n",
    "basket_of_frequent_items.take(2)"
   ]
  },
  {
   "attachments": {},
   "cell_type": "markdown",
   "metadata": {},
   "source": [
    "## k = 2"
   ]
  },
  {
   "cell_type": "code",
   "execution_count": 11,
   "metadata": {},
   "outputs": [
    {
     "data": {
      "text/plain": [
       "[('ELE17451', 'FRO11987'),\n",
       " ('ELE17451', 'GRO99222'),\n",
       " ('ELE17451', 'SNA90258'),\n",
       " ('FRO11987', 'GRO99222'),\n",
       " ('FRO11987', 'SNA90258'),\n",
       " ('GRO99222', 'SNA90258'),\n",
       " ('ELE17451', 'ELE26917'),\n",
       " ('ELE17451', 'ELE52966'),\n",
       " ('ELE17451', 'GRO12298'),\n",
       " ('ELE17451', 'GRO99222')]"
      ]
     },
     "execution_count": 11,
     "metadata": {},
     "output_type": "execute_result"
    }
   ],
   "source": [
    "paired_frequent_items_list = basket_of_frequent_items.map(lambda x: sorted(x)) \\\n",
    "    .flatMap(lambda x: [(a, b) for idx, a in enumerate(x) for b in x[idx + 1:]])\n",
    "paired_frequent_items_list.take(10)"
   ]
  },
  {
   "cell_type": "code",
   "execution_count": 12,
   "metadata": {},
   "outputs": [
    {
     "name": "stderr",
     "output_type": "stream",
     "text": [
      "                                                                                \r"
     ]
    },
    {
     "data": {
      "text/plain": [
       "[(('ELE17451', 'GRO99222'), 148),\n",
       " (('FRO11987', 'SNA90258'), 2),\n",
       " (('ELE17451', 'ELE26917'), 314),\n",
       " (('ELE17451', 'GRO12298'), 36),\n",
       " (('ELE17451', 'SNA11465'), 17),\n",
       " (('ELE17451', 'SNA30755'), 111),\n",
       " (('ELE26917', 'GRO12298'), 17),\n",
       " (('ELE26917', 'GRO99222'), 192),\n",
       " (('ELE26917', 'SNA11465'), 20),\n",
       " (('ELE26917', 'SNA30755'), 67)]"
      ]
     },
     "execution_count": 12,
     "metadata": {},
     "output_type": "execute_result"
    }
   ],
   "source": [
    "paired_frequent_items_count = paired_frequent_items_list.map(lambda x: (x,1)) \\\n",
    "    .reduceByKey(lambda x, y: x+y)\n",
    "paired_frequent_items_count.take(10)"
   ]
  },
  {
   "cell_type": "code",
   "execution_count": 13,
   "metadata": {},
   "outputs": [
    {
     "data": {
      "text/plain": [
       "[(('ELE17451', 'GRO99222'), 148),\n",
       " (('ELE17451', 'ELE26917'), 314),\n",
       " (('ELE17451', 'SNA30755'), 111),\n",
       " (('ELE26917', 'GRO99222'), 192),\n",
       " (('DAI22896', 'GRO73461'), 304),\n",
       " (('ELE17451', 'SNA99873'), 270),\n",
       " (('ELE17451', 'GRO56989'), 129),\n",
       " (('ELE17451', 'FRO78087'), 218),\n",
       " (('DAI22177', 'ELE66810'), 105),\n",
       " (('DAI22177', 'GRO73461'), 248)]"
      ]
     },
     "execution_count": 13,
     "metadata": {},
     "output_type": "execute_result"
    }
   ],
   "source": [
    "frequent_pairs = paired_frequent_items_count.filter(lambda x: x[1]>= support_threshold)\n",
    "frequent_pairs.take(10)"
   ]
  },
  {
   "cell_type": "code",
   "execution_count": 55,
   "metadata": {},
   "outputs": [
    {
     "data": {
      "text/plain": [
       "[(('DAI93865', 'FRO40251'), 1.0),\n",
       " (('GRO85051', 'FRO40251'), 0.999176276771005),\n",
       " (('GRO38636', 'FRO40251'), 0.9906542056074766),\n",
       " (('ELE12951', 'FRO40251'), 0.9905660377358491),\n",
       " (('DAI88079', 'FRO40251'), 0.9867256637168141),\n",
       " (('FRO92469', 'FRO40251'), 0.983510011778563),\n",
       " (('DAI43868', 'SNA82528'), 0.972972972972973),\n",
       " (('DAI23334', 'DAI62779'), 0.9545454545454546),\n",
       " (('ELE92920', 'DAI62779'), 0.7326649958228906),\n",
       " (('DAI53152', 'FRO40251'), 0.717948717948718)]"
      ]
     },
     "execution_count": 55,
     "metadata": {},
     "output_type": "execute_result"
    }
   ],
   "source": [
    "frequent_items_count = dict(frequent_items.collect())\n",
    "\n",
    "def Confidence_Score(pair):\n",
    "  result = []\n",
    "  X, Y, count = pair[0][0], pair[0][1], pair[1]\n",
    "  # X->Y, Y->X\n",
    "  result.append(((X, Y), count/frequent_items_count[X]))\n",
    "  result.append(((Y, X), count/frequent_items_count[Y]))\n",
    "  return result\n",
    "\n",
    "confidencescore = frequent_pairs.flatMap(lambda pairCount: Confidence_Score(pairCount)) \\\n",
    "          .sortBy(lambda a: -a[1])\n",
    "confidencescore.take(10)"
   ]
  },
  {
   "attachments": {},
   "cell_type": "markdown",
   "metadata": {},
   "source": [
    "## k = 3"
   ]
  },
  {
   "cell_type": "code",
   "execution_count": 20,
   "metadata": {},
   "outputs": [
    {
     "data": {
      "text/plain": [
       "{'DAI16732',\n",
       " 'DAI18527',\n",
       " 'DAI22177',\n",
       " 'DAI22240',\n",
       " 'DAI22534',\n",
       " 'DAI22896',\n",
       " 'DAI23334',\n",
       " 'DAI29159',\n",
       " 'DAI31081',\n",
       " 'DAI33336',\n",
       " 'DAI35347',\n",
       " 'DAI37288',\n",
       " 'DAI38969',\n",
       " 'DAI42083',\n",
       " 'DAI42493',\n",
       " 'DAI43223',\n",
       " 'DAI43868',\n",
       " 'DAI46755',\n",
       " 'DAI48126',\n",
       " 'DAI48891',\n",
       " 'DAI49199',\n",
       " 'DAI50913',\n",
       " 'DAI50921',\n",
       " 'DAI51880',\n",
       " 'DAI53152',\n",
       " 'DAI55148',\n",
       " 'DAI55911',\n",
       " 'DAI59508',\n",
       " 'DAI62779',\n",
       " 'DAI63921',\n",
       " 'DAI67189',\n",
       " 'DAI67621',\n",
       " 'DAI70456',\n",
       " 'DAI73122',\n",
       " 'DAI75645',\n",
       " 'DAI83031',\n",
       " 'DAI83733',\n",
       " 'DAI83948',\n",
       " 'DAI85309',\n",
       " 'DAI86167',\n",
       " 'DAI87448',\n",
       " 'DAI88079',\n",
       " 'DAI88088',\n",
       " 'DAI88352',\n",
       " 'DAI88807',\n",
       " 'DAI91290',\n",
       " 'DAI92600',\n",
       " 'DAI93865',\n",
       " 'DAI94679',\n",
       " 'DAI95741',\n",
       " 'ELE11111',\n",
       " 'ELE11160',\n",
       " 'ELE12792',\n",
       " 'ELE12845',\n",
       " 'ELE12951',\n",
       " 'ELE14480',\n",
       " 'ELE17451',\n",
       " 'ELE20196',\n",
       " 'ELE20398',\n",
       " 'ELE20847',\n",
       " 'ELE21353',\n",
       " 'ELE24630',\n",
       " 'ELE25077',\n",
       " 'ELE26917',\n",
       " 'ELE28189',\n",
       " 'ELE30182',\n",
       " 'ELE30933',\n",
       " 'ELE32164',\n",
       " 'ELE32244',\n",
       " 'ELE34057',\n",
       " 'ELE36909',\n",
       " 'ELE37048',\n",
       " 'ELE37770',\n",
       " 'ELE37798',\n",
       " 'ELE38289',\n",
       " 'ELE49801',\n",
       " 'ELE53126',\n",
       " 'ELE55848',\n",
       " 'ELE56788',\n",
       " 'ELE59028',\n",
       " 'ELE59935',\n",
       " 'ELE60381',\n",
       " 'ELE62598',\n",
       " 'ELE66600',\n",
       " 'ELE66810',\n",
       " 'ELE68605',\n",
       " 'ELE69552',\n",
       " 'ELE74009',\n",
       " 'ELE74482',\n",
       " 'ELE78169',\n",
       " 'ELE81534',\n",
       " 'ELE85027',\n",
       " 'ELE86561',\n",
       " 'ELE87456',\n",
       " 'ELE88583',\n",
       " 'ELE91337',\n",
       " 'ELE92629',\n",
       " 'ELE92920',\n",
       " 'ELE99737',\n",
       " 'FRO16142',\n",
       " 'FRO17734',\n",
       " 'FRO19221',\n",
       " 'FRO24098',\n",
       " 'FRO31317',\n",
       " 'FRO32293',\n",
       " 'FRO35729',\n",
       " 'FRO35904',\n",
       " 'FRO40251',\n",
       " 'FRO41939',\n",
       " 'FRO43226',\n",
       " 'FRO47962',\n",
       " 'FRO48038',\n",
       " 'FRO53271',\n",
       " 'FRO61354',\n",
       " 'FRO64631',\n",
       " 'FRO66272',\n",
       " 'FRO73056',\n",
       " 'FRO74605',\n",
       " 'FRO75586',\n",
       " 'FRO78087',\n",
       " 'FRO78994',\n",
       " 'FRO79022',\n",
       " 'FRO80039',\n",
       " 'FRO81176',\n",
       " 'FRO85978',\n",
       " 'FRO89565',\n",
       " 'FRO92261',\n",
       " 'FRO92469',\n",
       " 'FRO98184',\n",
       " 'FRO98729',\n",
       " 'FRO99372',\n",
       " 'FRO99783',\n",
       " 'GRO15017',\n",
       " 'GRO17075',\n",
       " 'GRO18367',\n",
       " 'GRO21487',\n",
       " 'GRO23573',\n",
       " 'GRO24246',\n",
       " 'GRO29598',\n",
       " 'GRO30386',\n",
       " 'GRO30912',\n",
       " 'GRO32086',\n",
       " 'GRO33815',\n",
       " 'GRO35122',\n",
       " 'GRO36567',\n",
       " 'GRO38636',\n",
       " 'GRO38814',\n",
       " 'GRO38983',\n",
       " 'GRO39357',\n",
       " 'GRO44993',\n",
       " 'GRO46854',\n",
       " 'GRO50832',\n",
       " 'GRO56726',\n",
       " 'GRO56989',\n",
       " 'GRO59710',\n",
       " 'GRO61133',\n",
       " 'GRO64900',\n",
       " 'GRO68067',\n",
       " 'GRO69543',\n",
       " 'GRO71621',\n",
       " 'GRO73461',\n",
       " 'GRO81045',\n",
       " 'GRO81087',\n",
       " 'GRO81647',\n",
       " 'GRO82670',\n",
       " 'GRO83463',\n",
       " 'GRO85051',\n",
       " 'GRO88324',\n",
       " 'GRO88505',\n",
       " 'GRO88511',\n",
       " 'GRO89004',\n",
       " 'GRO89148',\n",
       " 'GRO94173',\n",
       " 'GRO94758',\n",
       " 'GRO95519',\n",
       " 'GRO99222',\n",
       " 'SNA12663',\n",
       " 'SNA18336',\n",
       " 'SNA20554',\n",
       " 'SNA24799',\n",
       " 'SNA29014',\n",
       " 'SNA30533',\n",
       " 'SNA30755',\n",
       " 'SNA30859',\n",
       " 'SNA31619',\n",
       " 'SNA38068',\n",
       " 'SNA40408',\n",
       " 'SNA40784',\n",
       " 'SNA42528',\n",
       " 'SNA43319',\n",
       " 'SNA44190',\n",
       " 'SNA44451',\n",
       " 'SNA45677',\n",
       " 'SNA47306',\n",
       " 'SNA49107',\n",
       " 'SNA50789',\n",
       " 'SNA53220',\n",
       " 'SNA55617',\n",
       " 'SNA55762',\n",
       " 'SNA55952',\n",
       " 'SNA57865',\n",
       " 'SNA59061',\n",
       " 'SNA59903',\n",
       " 'SNA62128',\n",
       " 'SNA66583',\n",
       " 'SNA66979',\n",
       " 'SNA69641',\n",
       " 'SNA71332',\n",
       " 'SNA72163',\n",
       " 'SNA74022',\n",
       " 'SNA80324',\n",
       " 'SNA82528',\n",
       " 'SNA85241',\n",
       " 'SNA88283',\n",
       " 'SNA90094',\n",
       " 'SNA90258',\n",
       " 'SNA93730',\n",
       " 'SNA93860',\n",
       " 'SNA95666',\n",
       " 'SNA96271',\n",
       " 'SNA96466',\n",
       " 'SNA99873'}"
      ]
     },
     "execution_count": 20,
     "metadata": {},
     "output_type": "execute_result"
    }
   ],
   "source": [
    "candidate_list = set(frequent_pairs.flatMap(lambda x: x[0]).collect())"
   ]
  },
  {
   "cell_type": "code",
   "execution_count": 23,
   "metadata": {},
   "outputs": [
    {
     "data": {
      "text/plain": [
       "[['ELE17451', 'SNA90258', 'GRO99222'],\n",
       " ['ELE17451', 'SNA30755', 'ELE26917', 'GRO99222']]"
      ]
     },
     "execution_count": 23,
     "metadata": {},
     "output_type": "execute_result"
    }
   ],
   "source": [
    "baskets_of_paired_frequent_items = baskets_without_duplicates.map(lambda x: [i for i in x if i in candidate_list])\n",
    "baskets_of_paired_frequent_items.take(2)"
   ]
  },
  {
   "cell_type": "code",
   "execution_count": 26,
   "metadata": {},
   "outputs": [
    {
     "data": {
      "text/plain": [
       "[('ELE17451', 'GRO99222', 'SNA90258'),\n",
       " ('ELE17451', 'ELE26917', 'GRO99222'),\n",
       " ('ELE17451', 'ELE26917', 'SNA30755'),\n",
       " ('ELE17451', 'GRO99222', 'SNA30755'),\n",
       " ('ELE26917', 'GRO99222', 'SNA30755'),\n",
       " ('DAI22896', 'ELE17451', 'GRO73461'),\n",
       " ('DAI22896', 'ELE17451', 'SNA99873'),\n",
       " ('DAI22896', 'GRO73461', 'SNA99873'),\n",
       " ('ELE17451', 'GRO73461', 'SNA99873'),\n",
       " ('ELE17451', 'ELE37798', 'GRO56989')]"
      ]
     },
     "execution_count": 26,
     "metadata": {},
     "output_type": "execute_result"
    }
   ],
   "source": [
    "triple_frequent_items_list = baskets_of_paired_frequent_items.map(lambda x: sorted(x)) \\\n",
    "    .flatMap(lambda x: [(a, b, c) for idx, a in enumerate(x) for idx2, b in enumerate(x[idx + 1:]) for c in x[idx+idx2+2:]])\n",
    "triple_frequent_items_list.take(10)"
   ]
  },
  {
   "cell_type": "code",
   "execution_count": 27,
   "metadata": {},
   "outputs": [
    {
     "name": "stderr",
     "output_type": "stream",
     "text": [
      "                                                                                \r"
     ]
    },
    {
     "data": {
      "text/plain": [
       "[(('ELE17451', 'ELE26917', 'GRO99222'), 32),\n",
       " (('ELE17451', 'ELE26917', 'SNA30755'), 22),\n",
       " (('ELE17451', 'GRO99222', 'SNA30755'), 4),\n",
       " (('ELE26917', 'GRO99222', 'SNA30755'), 2),\n",
       " (('DAI22896', 'ELE17451', 'GRO73461'), 48),\n",
       " (('DAI22896', 'GRO73461', 'SNA99873'), 28),\n",
       " (('ELE17451', 'ELE37798', 'GRO56989'), 8),\n",
       " (('ELE17451', 'GRO39357', 'SNA69641'), 1),\n",
       " (('FRO78087', 'GRO39357', 'SNA69641'), 2),\n",
       " (('DAI22896', 'DAI50921', 'ELE17451'), 3)]"
      ]
     },
     "execution_count": 27,
     "metadata": {},
     "output_type": "execute_result"
    }
   ],
   "source": [
    "triple_frequent_items_count = triple_frequent_items_list.map(lambda x: (x,1)) \\\n",
    "    .reduceByKey(lambda x, y: x+y)\n",
    "triple_frequent_items_count.take(10)"
   ]
  },
  {
   "cell_type": "code",
   "execution_count": 29,
   "metadata": {},
   "outputs": [
    {
     "data": {
      "text/plain": [
       "[(('ELE17451', 'SNA59903', 'SNA72163'), 127),\n",
       " (('DAI62779', 'ELE17451', 'FRO78087'), 121),\n",
       " (('DAI62779', 'ELE17451', 'ELE26917'), 160),\n",
       " (('DAI62779', 'ELE17451', 'SNA55762'), 157),\n",
       " (('DAI62779', 'ELE17451', 'SNA99873'), 126),\n",
       " (('DAI62779', 'ELE17451', 'SNA45677'), 158),\n",
       " (('DAI62779', 'ELE17451', 'FRO40251'), 406),\n",
       " (('DAI62779', 'FRO31317', 'GRO73461'), 100),\n",
       " (('DAI62779', 'ELE17451', 'GRO30386'), 218),\n",
       " (('DAI62779', 'ELE32164', 'GRO73461'), 131)]"
      ]
     },
     "execution_count": 29,
     "metadata": {},
     "output_type": "execute_result"
    }
   ],
   "source": [
    "frequent_triple_pairs = triple_frequent_items_count.filter(lambda x: x[1]>= support_threshold)\n",
    "frequent_triple_pairs.take(10)"
   ]
  },
  {
   "cell_type": "code",
   "execution_count": 54,
   "metadata": {},
   "outputs": [
    {
     "data": {
      "text/plain": [
       "[(('GRO73461', 'GRO85051', 'FRO40251'), 1.0),\n",
       " (('GRO85051', 'SNA80324', 'FRO40251'), 1.0),\n",
       " (('DAI75645', 'GRO85051', 'FRO40251'), 1.0),\n",
       " (('DAI55911', 'GRO85051', 'FRO40251'), 1.0),\n",
       " (('ELE20847', 'GRO85051', 'FRO40251'), 1.0),\n",
       " (('DAI23334', 'ELE92920', 'DAI62779'), 1.0),\n",
       " (('DAI62779', 'DAI88079', 'FRO40251'), 1.0),\n",
       " (('ELE17451', 'GRO85051', 'FRO40251'), 1.0),\n",
       " (('ELE26917', 'GRO85051', 'FRO40251'), 1.0),\n",
       " (('GRO38814', 'GRO85051', 'FRO40251'), 1.0),\n",
       " (('GRO85051', 'SNA45677', 'FRO40251'), 1.0),\n",
       " (('FRO53271', 'GRO85051', 'FRO40251'), 1.0),\n",
       " (('DAI31081', 'GRO85051', 'FRO40251'), 1.0),\n",
       " (('ELE20847', 'FRO92469', 'FRO40251'), 1.0),\n",
       " (('GRO21487', 'GRO85051', 'FRO40251'), 1.0),\n",
       " (('DAI62779', 'GRO85051', 'FRO40251'), 0.9973821989528796),\n",
       " (('DAI75645', 'DAI88079', 'FRO40251'), 0.9932885906040269),\n",
       " (('DAI88079', 'GRO73461', 'FRO40251'), 0.993103448275862),\n",
       " (('DAI88079', 'ELE17451', 'FRO40251'), 0.9919354838709677),\n",
       " (('FRO92469', 'GRO73461', 'FRO40251'), 0.9906103286384976),\n",
       " (('DAI62779', 'FRO92469', 'FRO40251'), 0.9834710743801653),\n",
       " (('ELE17451', 'FRO92469', 'FRO40251'), 0.9818181818181818),\n",
       " (('DAI75645', 'FRO92469', 'FRO40251'), 0.98046875),\n",
       " (('DAI88079', 'SNA80324', 'FRO40251'), 0.9788732394366197),\n",
       " (('FRO92469', 'SNA80324', 'FRO40251'), 0.9744318181818182),\n",
       " (('DAI55148', 'FRO92469', 'FRO40251'), 0.9722222222222222),\n",
       " (('ELE92920', 'GRO81087', 'DAI62779'), 0.9571428571428572),\n",
       " (('DAI85309', 'ELE92920', 'DAI62779'), 0.9502487562189055),\n",
       " (('ELE92920', 'SNA18336', 'DAI62779'), 0.9494505494505494),\n",
       " (('GRO15017', 'SNA18336', 'DAI62779'), 0.9292035398230089)]"
      ]
     },
     "execution_count": 54,
     "metadata": {},
     "output_type": "execute_result"
    }
   ],
   "source": [
    "frequent_pairs_count = dict(frequent_pairs.collect())\n",
    "\n",
    "def Confidence_Score_3(pair):\n",
    "  result = []\n",
    "  X, Y, Z, count = pair[0][0], pair[0][1], pair[0][2], pair[1]\n",
    "  \n",
    "  result.append(((X, Y, Z), count/frequent_pairs_count[(X, Y)]))\n",
    "  result.append(((X, Z, Y), count/frequent_pairs_count[(X, Z)]))\n",
    "  result.append(((Y, Z, X), count/frequent_pairs_count[(Y, Z)]))\n",
    "  return result\n",
    "\n",
    "confidencescore_3 = frequent_triple_pairs.flatMap(lambda pairCount: Confidence_Score_3(pairCount)) \\\n",
    "        .sortBy(lambda a: -a[1])\n",
    "confidencescore_3.take(30)"
   ]
  }
 ],
 "metadata": {
  "kernelspec": {
   "display_name": "Python 3.9.10 64-bit",
   "language": "python",
   "name": "python3"
  },
  "language_info": {
   "codemirror_mode": {
    "name": "ipython",
    "version": 3
   },
   "file_extension": ".py",
   "mimetype": "text/x-python",
   "name": "python",
   "nbconvert_exporter": "python",
   "pygments_lexer": "ipython3",
   "version": "3.9.10"
  },
  "orig_nbformat": 4,
  "vscode": {
   "interpreter": {
    "hash": "8546e49cd07bc51e379dea706c5a9d4cd7a31d6ad972a644c83d3722f7520f6b"
   }
  }
 },
 "nbformat": 4,
 "nbformat_minor": 2
}
