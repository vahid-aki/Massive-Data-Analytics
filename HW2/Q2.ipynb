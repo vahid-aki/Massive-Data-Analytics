{
 "cells": [
  {
   "cell_type": "markdown",
   "metadata": {},
   "source": [
    "<h1 align=\"center\">\n",
    "<img src=\"https://drive.google.com/uc?export=view&id=1_ZkE3dnYg9KykzdZE6lIK2s_q_nbiKk_\" width=\"160\" height=\"160\">\n",
    "</h1>\n",
    "<h1 align=\"center\">Massive Data Analytics - 25577</h1>\n",
    "<h3 align=\"center\">Dr. Gholampour</h3>\n",
    "<h5 align=\"center\">Sharif University of Technology<br/>Electrical Engineering Department<br/>  Fall 2022</h5>\n",
    "\n",
    "---\n",
    "\n",
    "# Problem Set 02\n",
    "<h4 align=\"center\">Vahid Pourakbar     400205511</h4>"
   ]
  },
  {
   "cell_type": "markdown",
   "metadata": {},
   "source": [
    "# Question 2"
   ]
  },
  {
   "cell_type": "code",
   "execution_count": 2,
   "metadata": {},
   "outputs": [],
   "source": [
    "import numpy as np"
   ]
  },
  {
   "cell_type": "markdown",
   "metadata": {},
   "source": [
    "Item i is in basket b if i is a factor of b. In other words, i is in basket b if and only if there exists a constant integer k>=1 such that b=k*i. As a result, item i is found in 5 or more baskets if 100/i >=5. Therefore items {1},{2},...,{20} represent the frequent singletons.\n",
    "Can get the set of frequent pairs, by explicitly counting the support set of each pair and returning those whose counts are greater than 5."
   ]
  },
  {
   "cell_type": "code",
   "execution_count": 1,
   "metadata": {},
   "outputs": [
    {
     "name": "stdout",
     "output_type": "stream",
     "text": [
      "(1, 2) (1, 3) (1, 4) (1, 5) (1, 6) (1, 7) (1, 8) (1, 9) (1, 10) (1, 11) (1, 12) (1, 13) (1, 14) (1, 15) (1, 16) (1, 17) (1, 18) (1, 19) (1, 20) (2, 3) (2, 4) (2, 5) (2, 6) (2, 7) (2, 8) (2, 9) (2, 10) (2, 12) (2, 14) (2, 16) (2, 18) (2, 20) (3, 4) (3, 5) (3, 6) (3, 9) (3, 12) (3, 15) (3, 18) (4, 5) (4, 6) (4, 8) (4, 10) (4, 12) (4, 16) (4, 20) (5, 10) (5, 15) (5, 20) (6, 9) (6, 12) (6, 18) (7, 14) (8, 16) (9, 18) (10, 20) "
     ]
    }
   ],
   "source": [
    "# baskets[i] gives the list of baskets in which item i is in contained\n",
    "baskets = {}\n",
    "for i in range(1,101):\n",
    "    baskets[i] = []\n",
    "    k = 1\n",
    "    while (i*k) <= 100:\n",
    "        baskets[i].append(k*i)\n",
    "        k += 1\n",
    "\n",
    "# finding frequent pairs using a nested loop to select the pairs (i,j) which appear in 5 or more baskets\n",
    "for i in range(1,20): # these are the only singletons which are frequent\n",
    "    for j in range(i+1,21):\n",
    "        commonbask = [b for b in baskets[i] if b in baskets[j]]\n",
    "        if len(commonbask) >= 5:\n",
    "            print((i,j), end=\" \")"
   ]
  },
  {
   "cell_type": "code",
   "execution_count": 3,
   "metadata": {},
   "outputs": [],
   "source": [
    "def primes(n):\n",
    "    primfac = []\n",
    "    d = 2\n",
    "    while d*d <= n:\n",
    "        while (n % d) == 0:\n",
    "            primfac.append(d)  # supposing you want multiple factors repeated\n",
    "            n /= d\n",
    "        d += 1\n",
    "    if n > 1:\n",
    "        primfac.append(n)\n",
    "    return primfac\n",
    "\n",
    "# create dictionaries for prime factors of baskets 1,2,...,100\n",
    "primefactors = {}\n",
    "for b in range(1,101):\n",
    "    # initializing the dictionary for each basket b\n",
    "    primefactors[b] = {fac:0 for fac in primes(b)}\n",
    "    for key in primes(b):\n",
    "        primefactors[b][key] += 1"
   ]
  },
  {
   "cell_type": "code",
   "execution_count": 4,
   "metadata": {},
   "outputs": [
    {
     "data": {
      "text/plain": [
       "{2: 2, 3.0: 1}"
      ]
     },
     "execution_count": 4,
     "metadata": {},
     "output_type": "execute_result"
    }
   ],
   "source": [
    "# for example, the prime factorization of 12 = 2^2 * 3\n",
    "primefactors[12]"
   ]
  },
  {
   "cell_type": "markdown",
   "metadata": {},
   "source": [
    "### L1 and L2"
   ]
  },
  {
   "cell_type": "code",
   "execution_count": 5,
   "metadata": {},
   "outputs": [
    {
     "data": {
      "text/plain": [
       "range(1, 21)"
      ]
     },
     "execution_count": 5,
     "metadata": {},
     "output_type": "execute_result"
    }
   ],
   "source": [
    "# frequent singletons\n",
    "L1 = range(1,21)\n",
    "L1"
   ]
  },
  {
   "cell_type": "code",
   "execution_count": 6,
   "metadata": {},
   "outputs": [
    {
     "name": "stdout",
     "output_type": "stream",
     "text": [
      "[1, 2] [1, 3] [1, 4] [1, 5] [1, 6] [1, 7] [1, 8] [1, 9] [1, 10] [1, 11] [1, 12] [1, 13] [1, 14] [1, 15] [1, 16] [1, 17] [1, 18] [1, 19] [1, 20] [2, 3] [2, 4] [2, 5] [2, 6] [2, 7] [2, 8] [2, 9] [2, 10] [2, 12] [2, 14] [2, 16] [2, 18] [2, 20] [3, 4] [3, 5] [3, 6] [3, 9] [3, 12] [3, 15] [3, 18] [4, 5] [4, 6] [4, 8] [4, 10] [4, 12] [4, 16] [4, 20] [5, 10] [5, 15] [5, 20] [6, 9] [6, 12] [6, 18] [7, 14] [8, 16] [9, 18] [10, 20] "
     ]
    }
   ],
   "source": [
    "# frequent pairs\n",
    "L2 = []\n",
    "for i in range(1,20): # these are the only singletons which are frequent\n",
    "    for j in range(i+1,21):\n",
    "        commonbask = [b for b in baskets[i] if b in baskets[j]]\n",
    "        if len(commonbask) >= 5:\n",
    "            L2.append([i,j])\n",
    "\n",
    "for pair in L2:\n",
    "    print(pair, end=\" \")"
   ]
  },
  {
   "cell_type": "markdown",
   "metadata": {},
   "source": [
    "Maximal singletons"
   ]
  },
  {
   "cell_type": "code",
   "execution_count": 7,
   "metadata": {},
   "outputs": [
    {
     "data": {
      "text/plain": [
       "[1, 2, 3, 4, 5, 6, 7, 8, 9, 10, 11, 12, 13, 14, 15, 16, 17, 18, 19, 20]"
      ]
     },
     "execution_count": 7,
     "metadata": {},
     "output_type": "execute_result"
    }
   ],
   "source": [
    "L2_flatten = []\n",
    "for pair in L2:\n",
    "    L2_flatten += pair\n",
    "    \n",
    "L2_flatten = list(set(L2_flatten))\n",
    "L2_flatten"
   ]
  },
  {
   "cell_type": "markdown",
   "metadata": {},
   "source": [
    "Therefore, there are no maximal singletons."
   ]
  },
  {
   "cell_type": "markdown",
   "metadata": {},
   "source": [
    "### L3"
   ]
  },
  {
   "cell_type": "code",
   "execution_count": 11,
   "metadata": {},
   "outputs": [],
   "source": [
    "# to get number of factors, we add 1 to each rep of factor and apply multiplication rule\n",
    "def num_factors(b):\n",
    "    numfac = 1\n",
    "    for fac,reps in primefactors[b].items():\n",
    "        numfac *= reps + 1\n",
    "    return numfac\n",
    "    \n",
    "def lexorders_ofexp(b):\n",
    "    \"\"\"\n",
    "    This function returns the lexicographic ordering of the exponents\n",
    "    of the prime factors of b. We can use this to get all the factors\n",
    "    of b.\n",
    "    \"\"\"\n",
    "    n = len(primefactors[b])\n",
    "    ati = list(primefactors[b].values())\n",
    "    foo = []\n",
    "    if n == 1:\n",
    "        for j in range(ati[0]+1):\n",
    "            foo.append([j])\n",
    "    if n == 2:\n",
    "        i = 0\n",
    "        while i < ati[0]+1:\n",
    "            j = 0\n",
    "            while j < ati[1]+1:\n",
    "                foo.append([i,j])\n",
    "                j+=1\n",
    "            i+=1\n",
    "    if n == 3:\n",
    "        i = 0\n",
    "        while i < ati[0]+1:\n",
    "            j = 0\n",
    "            while j < ati[1]+1:\n",
    "                k = 0\n",
    "                while k < ati[2]+1:\n",
    "                    foo.append([i,j,k])\n",
    "                    k+=1\n",
    "                j+=1\n",
    "            i+=1\n",
    "    return foo \n",
    "\n",
    "# getting all factors of b from its prime factors\n",
    "def factors(b):\n",
    "    facs = []\n",
    "    exps = lexorders_ofexp(b)\n",
    "    for i in range(num_factors(b)):\n",
    "        bar = 1 # this also takes care of base case factors(1)\n",
    "        for el,key in enumerate(primefactors[b].keys()):\n",
    "            bar *= int(key**exps[i][el])\n",
    "        facs.append(bar)\n",
    "    return facs\n",
    "\n",
    "def supportset_611(I):\n",
    "    sup = []\n",
    "    for b in range(1,101):\n",
    "        # check if all items in I are factors of b\n",
    "        if all(item in factors(b) for item in I):\n",
    "             sup.append(b)\n",
    "    return sup"
   ]
  },
  {
   "cell_type": "code",
   "execution_count": 12,
   "metadata": {},
   "outputs": [],
   "source": [
    "# frequent triples\n",
    "L3 = []\n",
    "for i in range(1,21):\n",
    "    for pair in L2:\n",
    "        if i not in pair:\n",
    "            foo = pair+[i]\n",
    "            foo.sort() # works in place\n",
    "            if len(supportset_611(foo)) >= 5 and foo not in L3:\n",
    "                L3.append(foo)"
   ]
  },
  {
   "cell_type": "markdown",
   "metadata": {},
   "source": [
    "Maximal doubletons"
   ]
  },
  {
   "cell_type": "code",
   "execution_count": 13,
   "metadata": {},
   "outputs": [
    {
     "data": {
      "text/plain": [
       "[[1, 11], [1, 13], [1, 17], [1, 19]]"
      ]
     },
     "execution_count": 13,
     "metadata": {},
     "output_type": "execute_result"
    }
   ],
   "source": [
    "# check for maximal doubletons\n",
    "maximal_doub = []\n",
    "for pair in L2:\n",
    "    pair_max = False\n",
    "    for trip in L3:\n",
    "        if all(item in trip for item in pair):\n",
    "            pair_max = True\n",
    "            break\n",
    "    if not pair_max:    \n",
    "        maximal_doub.append(pair)\n",
    "\n",
    "maximal_doub"
   ]
  },
  {
   "cell_type": "markdown",
   "metadata": {},
   "source": [
    "### L4"
   ]
  },
  {
   "cell_type": "code",
   "execution_count": 14,
   "metadata": {},
   "outputs": [],
   "source": [
    "# frequent quads\n",
    "L4 = []\n",
    "for i in range(1,21):\n",
    "    for trip in L3:\n",
    "        if i not in trip:\n",
    "            foo = trip+[i]\n",
    "            foo.sort() # works in place\n",
    "            if len(supportset_611(foo)) >= 5 and foo not in L4:\n",
    "                L4.append(foo)"
   ]
  },
  {
   "cell_type": "markdown",
   "metadata": {},
   "source": [
    "maximal triples"
   ]
  },
  {
   "cell_type": "code",
   "execution_count": 15,
   "metadata": {},
   "outputs": [
    {
     "data": {
      "text/plain": [
       "[]"
      ]
     },
     "execution_count": 15,
     "metadata": {},
     "output_type": "execute_result"
    }
   ],
   "source": [
    "# check for maximal triples\n",
    "maximal_triples = []\n",
    "for trip in L3:\n",
    "    trip_max = False\n",
    "    for quad in L4:\n",
    "        if all(item in quad for item in trip):\n",
    "            trip_max = True\n",
    "            break\n",
    "    if not trip_max:    \n",
    "        maximal_triples.append(trip)\n",
    "maximal_triples"
   ]
  },
  {
   "cell_type": "markdown",
   "metadata": {},
   "source": [
    "### L5"
   ]
  },
  {
   "cell_type": "code",
   "execution_count": 16,
   "metadata": {},
   "outputs": [
    {
     "data": {
      "text/plain": [
       "[[1, 2, 3, 4, 6],\n",
       " [1, 2, 3, 4, 12],\n",
       " [1, 2, 3, 6, 9],\n",
       " [1, 2, 3, 6, 12],\n",
       " [1, 2, 3, 6, 18],\n",
       " [1, 2, 3, 9, 18],\n",
       " [1, 2, 4, 5, 10],\n",
       " [1, 2, 4, 5, 20],\n",
       " [1, 2, 4, 6, 12],\n",
       " [1, 2, 4, 8, 16],\n",
       " [1, 2, 4, 10, 20],\n",
       " [1, 2, 5, 10, 20],\n",
       " [1, 2, 6, 9, 18],\n",
       " [1, 3, 4, 6, 12],\n",
       " [1, 3, 6, 9, 18],\n",
       " [1, 4, 5, 10, 20],\n",
       " [2, 3, 4, 6, 12],\n",
       " [2, 3, 6, 9, 18],\n",
       " [2, 4, 5, 10, 20]]"
      ]
     },
     "execution_count": 16,
     "metadata": {},
     "output_type": "execute_result"
    }
   ],
   "source": [
    "# frequent quintiples\n",
    "L5 = []\n",
    "for i in range(1,21):\n",
    "    for quad in L4:\n",
    "        if i not in quad:\n",
    "            foo = quad+[i]\n",
    "            foo.sort() # works in place\n",
    "            if len(supportset_611(foo)) >= 5 and foo not in L5:\n",
    "                L5.append(foo)\n",
    "L5"
   ]
  },
  {
   "cell_type": "markdown",
   "metadata": {},
   "source": [
    "Maximal quads"
   ]
  },
  {
   "cell_type": "code",
   "execution_count": 17,
   "metadata": {},
   "outputs": [
    {
     "data": {
      "text/plain": [
       "[[1, 2, 7, 14], [1, 3, 5, 15]]"
      ]
     },
     "execution_count": 17,
     "metadata": {},
     "output_type": "execute_result"
    }
   ],
   "source": [
    "# check for maximal quads\n",
    "maximal_quads = []\n",
    "for quad in L4:\n",
    "    quad_max = False\n",
    "    for quint in L5:\n",
    "        if all(item in quint for item in quad):\n",
    "            quad_max = True\n",
    "            break\n",
    "    if not quad_max:    \n",
    "        maximal_quads.append(quad)\n",
    "\n",
    "maximal_quads"
   ]
  },
  {
   "cell_type": "code",
   "execution_count": 18,
   "metadata": {},
   "outputs": [
    {
     "data": {
      "text/plain": [
       "[15, 30, 45, 60, 75, 90]"
      ]
     },
     "execution_count": 18,
     "metadata": {},
     "output_type": "execute_result"
    }
   ],
   "source": [
    "# looking at one of these\n",
    "supportset_611([1, 3, 5, 15])"
   ]
  },
  {
   "cell_type": "markdown",
   "metadata": {},
   "source": [
    "### L6"
   ]
  },
  {
   "cell_type": "code",
   "execution_count": 19,
   "metadata": {},
   "outputs": [
    {
     "data": {
      "text/plain": [
       "[[1, 2, 3, 4, 6, 12], [1, 2, 3, 6, 9, 18], [1, 2, 4, 5, 10, 20]]"
      ]
     },
     "execution_count": 19,
     "metadata": {},
     "output_type": "execute_result"
    }
   ],
   "source": [
    "# frequent sixtuplets\n",
    "L6 = []\n",
    "for i in range(1,21):\n",
    "    for quint in L5:\n",
    "        if i not in quint:\n",
    "            foo = quint+[i]\n",
    "            foo.sort() # works in place\n",
    "            if len(supportset_611(foo)) >= 5 and foo not in L6:\n",
    "                L6.append(foo)\n",
    "L6"
   ]
  },
  {
   "cell_type": "markdown",
   "metadata": {},
   "source": [
    "Maximal quintuplets"
   ]
  },
  {
   "cell_type": "code",
   "execution_count": 20,
   "metadata": {},
   "outputs": [
    {
     "data": {
      "text/plain": [
       "[[1, 2, 4, 8, 16]]"
      ]
     },
     "execution_count": 20,
     "metadata": {},
     "output_type": "execute_result"
    }
   ],
   "source": [
    "# check for maximal quints\n",
    "maximal_quints = []\n",
    "for quint in L5:\n",
    "    quint_max = False\n",
    "    for sixt in L6:\n",
    "        if all(item in sixt for item in quint):\n",
    "            quint_max = True\n",
    "            break\n",
    "    if not quint_max:    \n",
    "        maximal_quints.append(quint)\n",
    "\n",
    "maximal_quints"
   ]
  },
  {
   "cell_type": "markdown",
   "metadata": {},
   "source": [
    "### L7"
   ]
  },
  {
   "cell_type": "code",
   "execution_count": 21,
   "metadata": {},
   "outputs": [
    {
     "data": {
      "text/plain": [
       "[]"
      ]
     },
     "execution_count": 21,
     "metadata": {},
     "output_type": "execute_result"
    }
   ],
   "source": [
    "# frequent septuplets\n",
    "L7 = []\n",
    "for i in range(1,21):\n",
    "    for sixt in L6:\n",
    "        if i not in sixt:\n",
    "            foo = sixt+[i]\n",
    "            foo.sort() # works in place\n",
    "            if len(supportset_611(foo)) >= 5 and foo not in L7:\n",
    "                L7.append(foo)\n",
    "L7"
   ]
  },
  {
   "cell_type": "markdown",
   "metadata": {},
   "source": [
    "No septuplets implies that all frequent sixtuplets are maximal!"
   ]
  },
  {
   "cell_type": "code",
   "execution_count": 22,
   "metadata": {},
   "outputs": [
    {
     "name": "stdout",
     "output_type": "stream",
     "text": [
      "[12, 24, 36, 48, 60, 72, 84, 96]\n",
      "[18, 36, 54, 72, 90]\n",
      "[20, 40, 60, 80, 100]\n"
     ]
    }
   ],
   "source": [
    "# here are the support sets of each of sixtuplets\n",
    "for sixt in L6:\n",
    "    print(supportset_611(sixt))"
   ]
  }
 ],
 "metadata": {
  "kernelspec": {
   "display_name": "Python 3.9.10 64-bit",
   "language": "python",
   "name": "python3"
  },
  "language_info": {
   "codemirror_mode": {
    "name": "ipython",
    "version": 3
   },
   "file_extension": ".py",
   "mimetype": "text/x-python",
   "name": "python",
   "nbconvert_exporter": "python",
   "pygments_lexer": "ipython3",
   "version": "3.9.10"
  },
  "orig_nbformat": 4,
  "vscode": {
   "interpreter": {
    "hash": "8546e49cd07bc51e379dea706c5a9d4cd7a31d6ad972a644c83d3722f7520f6b"
   }
  }
 },
 "nbformat": 4,
 "nbformat_minor": 2
}
