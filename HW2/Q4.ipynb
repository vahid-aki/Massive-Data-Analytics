{
 "cells": [
  {
   "attachments": {},
   "cell_type": "markdown",
   "metadata": {},
   "source": [
    "<h1 align=\"center\">\n",
    "<img src=\"https://drive.google.com/uc?export=view&id=1_ZkE3dnYg9KykzdZE6lIK2s_q_nbiKk_\" width=\"160\" height=\"160\">\n",
    "</h1>\n",
    "<h1 align=\"center\">Massive Data Analytics - 25577</h1>\n",
    "<h3 align=\"center\">Dr. Gholampour</h3>\n",
    "<h5 align=\"center\">Sharif University of Technology<br/>Electrical Engineering Department<br/>  Fall 2022</h5>\n",
    "\n",
    "---\n",
    "\n",
    "# Problem Set 02\n",
    "<h4 align=\"center\">Vahid Pourakbar     400205511</h4>"
   ]
  },
  {
   "attachments": {},
   "cell_type": "markdown",
   "metadata": {},
   "source": [
    "# Question 4"
   ]
  },
  {
   "cell_type": "markdown",
   "metadata": {},
   "source": [
    "## Part 1"
   ]
  },
  {
   "cell_type": "code",
   "execution_count": 2,
   "metadata": {},
   "outputs": [
    {
     "name": "stdout",
     "output_type": "stream",
     "text": [
      "22/12/23 15:27:43 WARN Utils: Your hostname, vahid-PC resolves to a loopback address: 127.0.1.1; using 172.27.210.240 instead (on interface wlp2s0)\n",
      "22/12/23 15:27:43 WARN Utils: Set SPARK_LOCAL_IP if you need to bind to another address\n"
     ]
    },
    {
     "name": "stderr",
     "output_type": "stream",
     "text": [
      "Setting default log level to \"WARN\".\n",
      "To adjust logging level use sc.setLogLevel(newLevel). For SparkR, use setLogLevel(newLevel).\n"
     ]
    },
    {
     "name": "stdout",
     "output_type": "stream",
     "text": [
      "22/12/23 15:27:44 WARN NativeCodeLoader: Unable to load native-hadoop library for your platform... using builtin-java classes where applicable\n"
     ]
    }
   ],
   "source": [
    "from pyspark.sql import SparkSession\n",
    "\n",
    "spark = SparkSession \\\n",
    "    .builder \\\n",
    "    .appName(\"MDA_2022_PS2_Q4\") \\\n",
    "    .master(\"local[*]\") \\\n",
    "    .getOrCreate()\n",
    "\n",
    "sc=spark.sparkContext"
   ]
  },
  {
   "cell_type": "code",
   "execution_count": 3,
   "metadata": {},
   "outputs": [
    {
     "name": "stderr",
     "output_type": "stream",
     "text": [
      "                                                                                \r"
     ]
    },
    {
     "name": "stdout",
     "output_type": "stream",
     "text": [
      "+-----------+---------+---------------+-------------+----------------+----------+-------------------+\n",
      "|DEVICE_CODE|SYSTEM_ID|ORIGINE_CAR_KEY|FINAL_CAR_KEY|CHECK_STATUS_KEY|COMPANY_ID|      PASS_DAY_TIME|\n",
      "+-----------+---------+---------------+-------------+----------------+----------+-------------------+\n",
      "|     200501|       81|       10477885|     10477885|               5|       161|2021-06-01 03:54:39|\n",
      "|        155|       81|       87625017|     87625017|               5|       161|2021-06-01 04:14:21|\n",
      "|     631757|       81|        8652928|      8652928|               5|       161|2021-06-01 03:58:57|\n",
      "|     631757|       81|        8548123|      8548123|               5|       161|2021-06-01 04:01:38|\n",
      "|     631757|       81|       24715264|     24715264|               5|       161|2021-06-01 03:56:57|\n",
      "+-----------+---------+---------------+-------------+----------------+----------+-------------------+\n",
      "\n"
     ]
    }
   ],
   "source": [
    "dataframe = spark.read.csv(\"Sample_Traffic.csv\", header=True, inferSchema=True)\n",
    "dataframe.limit(5).show()"
   ]
  },
  {
   "cell_type": "code",
   "execution_count": 4,
   "metadata": {},
   "outputs": [
    {
     "name": "stderr",
     "output_type": "stream",
     "text": [
      "                                                                                \r"
     ]
    },
    {
     "data": {
      "text/plain": [
       "[((40682798, datetime.date(2021, 6, 1)), [206602]),\n",
       " ((101646406, datetime.date(2021, 6, 1)), [202901]),\n",
       " ((25742182, datetime.date(2021, 6, 1)), [128]),\n",
       " ((9305118, datetime.date(2021, 6, 1)),\n",
       "  [230204, 900191, 900107, 100700820, 100700853, 900276]),\n",
       " ((58406846, datetime.date(2021, 6, 1)), [230204]),\n",
       " ((8361950, datetime.date(2021, 6, 1)),\n",
       "  [631362,\n",
       "   631757,\n",
       "   631757,\n",
       "   631362,\n",
       "   631362,\n",
       "   631757,\n",
       "   900203,\n",
       "   900203,\n",
       "   100700820,\n",
       "   900141,\n",
       "   900269,\n",
       "   900167,\n",
       "   900226,\n",
       "   900246]),\n",
       " ((8550078, datetime.date(2021, 6, 1)),\n",
       "  [631829, 631361, 631759, 631360, 631361, 900222, 900202]),\n",
       " ((17261950, datetime.date(2021, 6, 1)),\n",
       "  [205201,\n",
       "   631795,\n",
       "   137,\n",
       "   900167,\n",
       "   900240,\n",
       "   900135,\n",
       "   900171,\n",
       "   22009977,\n",
       "   900212,\n",
       "   900142,\n",
       "   900245,\n",
       "   900265,\n",
       "   100700804,\n",
       "   631633,\n",
       "   209103]),\n",
       " ((19783430, datetime.date(2021, 6, 1)), [205201]),\n",
       " ((25934494, datetime.date(2021, 6, 1)), [631830])]"
      ]
     },
     "execution_count": 4,
     "metadata": {},
     "output_type": "execute_result"
    }
   ],
   "source": [
    "# key = (plate, date), value=[list of device codes]\n",
    "dataframe_rdd = dataframe[\"DEVICE_CODE\",\"FINAL_CAR_KEY\", \"PASS_DAY_TIME\"].rdd \\\n",
    "    .map(lambda x: ((x[1], x[2].date()), [x[0]])) \\\n",
    "        .reduceByKey(lambda x, y: x+y)\n",
    "dataframe_rdd.take(10)"
   ]
  },
  {
   "attachments": {},
   "cell_type": "markdown",
   "metadata": {},
   "source": [
    "# Apriori"
   ]
  },
  {
   "cell_type": "code",
   "execution_count": 126,
   "metadata": {},
   "outputs": [
    {
     "name": "stdout",
     "output_type": "stream",
     "text": [
      "(path, traffic)\n"
     ]
    },
    {
     "name": "stderr",
     "output_type": "stream",
     "text": [
      "                                                                                \r"
     ]
    },
    {
     "data": {
      "text/plain": [
       "[(128, 8382),\n",
       " (631360, 3145),\n",
       " (900240, 15481),\n",
       " (631368, 15162),\n",
       " (100701144, 6176),\n",
       " (100700864, 29701),\n",
       " (100700824, 39176),\n",
       " (100700832, 4484),\n",
       " (144, 6307),\n",
       " (631832, 13483)]"
      ]
     },
     "execution_count": 126,
     "metadata": {},
     "output_type": "execute_result"
    }
   ],
   "source": [
    "support_threshold = 1000\n",
    "frequent_cameras_count = dataframe_rdd.flatMap(lambda x: x[1]) \\\n",
    "    .map(lambda x: (x , 1)) \\\n",
    "        .reduceByKey(lambda x, y: x + y) \\\n",
    "            .filter(lambda x: x[1] >= support_threshold)\n",
    "print(\"(path, traffic)\")\n",
    "frequent_cameras_count.take(10)"
   ]
  },
  {
   "cell_type": "code",
   "execution_count": 127,
   "metadata": {},
   "outputs": [
    {
     "data": {
      "text/plain": [
       "398"
      ]
     },
     "execution_count": 127,
     "metadata": {},
     "output_type": "execute_result"
    }
   ],
   "source": [
    "len(frequent_cameras_count.collect())"
   ]
  },
  {
   "cell_type": "code",
   "execution_count": 128,
   "metadata": {},
   "outputs": [
    {
     "data": {
      "text/plain": [
       "[128, 631360, 900240, 631368, 100701144]"
      ]
     },
     "execution_count": 128,
     "metadata": {},
     "output_type": "execute_result"
    }
   ],
   "source": [
    "frequent_cameras = frequent_cameras_count.map(lambda x: x[0])\n",
    "frequent_cameras_list = frequent_cameras.collect()\n",
    "frequent_cameras.take(5)"
   ]
  },
  {
   "cell_type": "code",
   "execution_count": 112,
   "metadata": {},
   "outputs": [
    {
     "name": "stderr",
     "output_type": "stream",
     "text": [
      "                                                                                \r"
     ]
    },
    {
     "data": {
      "text/plain": [
       "1520404"
      ]
     },
     "execution_count": 112,
     "metadata": {},
     "output_type": "execute_result"
    }
   ],
   "source": [
    "pathes_rdd = dataframe_rdd.map(lambda x: x[1])\n",
    "pathes_list = pathes_rdd.collect()\n",
    "len(pathes_list)"
   ]
  },
  {
   "attachments": {},
   "cell_type": "markdown",
   "metadata": {},
   "source": [
    "## k = 2"
   ]
  },
  {
   "cell_type": "code",
   "execution_count": 129,
   "metadata": {},
   "outputs": [
    {
     "data": {
      "text/plain": [
       "752531"
      ]
     },
     "execution_count": 129,
     "metadata": {},
     "output_type": "execute_result"
    }
   ],
   "source": [
    "# #  removing non-frequent pathes\n",
    "# pathes_list_e1 = [[p for p in path if p in frequent_cameras_list] for path in pathes_list] \n",
    "\n",
    "# # removing one way pathes, duplicates and sorting \n",
    "# pathes_list_e2 = [sorted(list(set(i))) for i in pathes_list_e1 if len(set(i))>1]\n",
    "\n",
    "# len(pathes_list_e2)"
   ]
  },
  {
   "cell_type": "code",
   "execution_count": 134,
   "metadata": {},
   "outputs": [
    {
     "name": "stderr",
     "output_type": "stream",
     "text": [
      "                                                                                \r"
     ]
    },
    {
     "data": {
      "text/plain": [
       "[[230204, 900107, 900191, 900276, 100700820, 100700853],\n",
       " [631362, 631757, 900141, 900167, 900203, 900226, 900246, 900269, 100700820],\n",
       " [631360, 631361, 631759, 631829, 900202, 900222],\n",
       " [137,\n",
       "  205201,\n",
       "  209103,\n",
       "  631633,\n",
       "  631795,\n",
       "  900135,\n",
       "  900142,\n",
       "  900167,\n",
       "  900171,\n",
       "  900212,\n",
       "  900240,\n",
       "  900245,\n",
       "  900265,\n",
       "  22009977,\n",
       "  100700804],\n",
       " [113, 202101, 213402, 900185, 900243, 22010031],\n",
       " [153, 213402, 230103, 631368, 631763, 631765, 900164, 900276, 100700820],\n",
       " [213402, 631346, 900185, 22010031, 100700864, 100701144],\n",
       " [230101, 900185, 900265, 100700824],\n",
       " [202901, 203902, 900164, 900197, 900217, 100700832],\n",
       " [118,\n",
       "  128,\n",
       "  144,\n",
       "  202601,\n",
       "  205201,\n",
       "  205202,\n",
       "  206701,\n",
       "  207101,\n",
       "  208601,\n",
       "  631763,\n",
       "  631771]]"
      ]
     },
     "execution_count": 134,
     "metadata": {},
     "output_type": "execute_result"
    }
   ],
   "source": [
    "pathes_rdd_e1 = pathes_rdd.map(lambda x: sorted(list(set(x)))) \\\n",
    "    .map(lambda x: [p for p in x if p in frequent_cameras_list]) \\\n",
    "        .filter(lambda x: len(x) > 1)     \n",
    "pathes_rdd_e1.take(10)"
   ]
  },
  {
   "cell_type": "code",
   "execution_count": 146,
   "metadata": {},
   "outputs": [
    {
     "name": "stderr",
     "output_type": "stream",
     "text": [
      "                                                                                \r"
     ]
    },
    {
     "data": {
      "text/plain": [
       "[(230204, 900107),\n",
       " (230204, 900191),\n",
       " (230204, 900276),\n",
       " (230204, 100700820),\n",
       " (230204, 100700853),\n",
       " (900107, 900191),\n",
       " (900107, 900276),\n",
       " (900107, 100700820),\n",
       " (900107, 100700853),\n",
       " (900191, 900276)]"
      ]
     },
     "execution_count": 146,
     "metadata": {},
     "output_type": "execute_result"
    }
   ],
   "source": [
    "paired_frequent_cameras = pathes_rdd_e1.flatMap(lambda x: [(i,j) for i in x for j in x if i<j])\n",
    "paired_frequent_cameras.take(10)"
   ]
  },
  {
   "cell_type": "code",
   "execution_count": 147,
   "metadata": {},
   "outputs": [
    {
     "name": "stderr",
     "output_type": "stream",
     "text": [
      "                                                                                \r"
     ]
    },
    {
     "data": {
      "text/plain": [
       "[((900107, 900191), 1535),\n",
       " ((900167, 900203), 490),\n",
       " ((900246, 100700820), 1812),\n",
       " ((631360, 900222), 281),\n",
       " ((631361, 631829), 1932),\n",
       " ((137, 900245), 9),\n",
       " ((205201, 900245), 27),\n",
       " ((209103, 631795), 330),\n",
       " ((209103, 900171), 242),\n",
       " ((631633, 900245), 173)]"
      ]
     },
     "execution_count": 147,
     "metadata": {},
     "output_type": "execute_result"
    }
   ],
   "source": [
    "paired_frequent_cameras_count = paired_frequent_cameras.map(lambda x: (x, 1)) \\\n",
    "    .reduceByKey(lambda x, y: x + y)\n",
    "paired_frequent_cameras_count.take(10)"
   ]
  },
  {
   "cell_type": "code",
   "execution_count": 148,
   "metadata": {},
   "outputs": [
    {
     "data": {
      "text/plain": [
       "78886"
      ]
     },
     "execution_count": 148,
     "metadata": {},
     "output_type": "execute_result"
    }
   ],
   "source": [
    "len(paired_frequent_cameras_count.collect())"
   ]
  },
  {
   "cell_type": "code",
   "execution_count": 149,
   "metadata": {},
   "outputs": [
    {
     "data": {
      "text/plain": [
       "[((900107, 900191), 1535),\n",
       " ((900246, 100700820), 1812),\n",
       " ((631361, 631829), 1932),\n",
       " ((900142, 900212), 24495),\n",
       " ((900245, 22009977), 2578),\n",
       " ((202601, 900101), 1595),\n",
       " ((900215, 22009971), 2889),\n",
       " ((900222, 900228), 2357),\n",
       " ((900216, 100700862), 1129),\n",
       " ((900240, 100700862), 1615)]"
      ]
     },
     "execution_count": 149,
     "metadata": {},
     "output_type": "execute_result"
    }
   ],
   "source": [
    "frequent_camera_paires_count = paired_frequent_cameras_count.filter(lambda x: x[1]>= support_threshold)\n",
    "frequent_camera_paires_count.take(10)"
   ]
  },
  {
   "cell_type": "code",
   "execution_count": 150,
   "metadata": {},
   "outputs": [
    {
     "data": {
      "text/plain": [
       "1545"
      ]
     },
     "execution_count": 150,
     "metadata": {},
     "output_type": "execute_result"
    }
   ],
   "source": [
    "frequent_camera_paires = frequent_camera_paires_count.map(lambda x: x[0])\n",
    "frequent_camera_paires_list = frequent_camera_paires.collect()\n",
    "len(frequent_camera_paires_list)"
   ]
  },
  {
   "attachments": {},
   "cell_type": "markdown",
   "metadata": {},
   "source": [
    "## k = 3"
   ]
  },
  {
   "cell_type": "code",
   "execution_count": 204,
   "metadata": {},
   "outputs": [],
   "source": [
    "def subset(x, d):\n",
    "    if d == 4:\n",
    "        return [(i, j, k, m) for i in x for j in x for k in x for m in x if i<j and j<k and k<m]\n",
    "    elif d == 3:\n",
    "        return [(i, j, k) for i in x for j in x for k in x if i<j and j<k]\n",
    "    elif d == 2:\n",
    "        return [(i, j) for i in x for j in x if i<j]\n",
    "\n",
    "def flatten(list):\n",
    "    return [item for sublist in list for item in sublist]"
   ]
  },
  {
   "cell_type": "code",
   "execution_count": 196,
   "metadata": {},
   "outputs": [
    {
     "name": "stderr",
     "output_type": "stream",
     "text": [
      "                                                                                \r"
     ]
    },
    {
     "data": {
      "text/plain": [
       "[[230204, 900107, 900191, 900276, 100700820, 100700853],\n",
       " [631362, 631757, 900167, 900203, 900226, 900246, 900269, 100700820],\n",
       " [631361, 631829, 900202, 900222],\n",
       " [137,\n",
       "  209103,\n",
       "  631633,\n",
       "  631795,\n",
       "  900135,\n",
       "  900142,\n",
       "  900167,\n",
       "  900212,\n",
       "  900240,\n",
       "  900245,\n",
       "  900265,\n",
       "  22009977,\n",
       "  100700804],\n",
       " [202101, 213402, 900185, 22010031],\n",
       " [631368, 631763, 631765, 900164, 900276, 100700820],\n",
       " [213402, 900185, 22010031, 100700864],\n",
       " [900185, 900265, 100700824],\n",
       " [202901, 203902, 900164, 900217],\n",
       " [175, 202901, 900191, 100700864]]"
      ]
     },
     "execution_count": 196,
     "metadata": {},
     "output_type": "execute_result"
    }
   ],
   "source": [
    "pathes_rdd_e2 = pathes_rdd_e1.map(lambda x: sorted(set(flatten([ss for ss in subset(x, 2) if ss in frequent_camera_paires_list])))) \\\n",
    "        .filter(lambda x: len(x) > 2)     \n",
    "pathes_rdd_e2.take(10)"
   ]
  },
  {
   "cell_type": "code",
   "execution_count": 151,
   "metadata": {},
   "outputs": [
    {
     "name": "stderr",
     "output_type": "stream",
     "text": [
      "                                                                                \r"
     ]
    },
    {
     "data": {
      "text/plain": [
       "[(230204, 900107, 900276),\n",
       " (230204, 900107, 100700820),\n",
       " (230204, 900276, 100700820),\n",
       " (900107, 900191, 100700853),\n",
       " (900107, 900276, 100700820),\n",
       " (900107, 900276, 100700853),\n",
       " (900167, 900246, 100700820),\n",
       " (900203, 900246, 900269),\n",
       " (900203, 900246, 100700820),\n",
       " (900226, 900246, 900269)]"
      ]
     },
     "execution_count": 151,
     "metadata": {},
     "output_type": "execute_result"
    }
   ],
   "source": [
    "triple_frequent_cameras_list = pathes_rdd_e2.flatMap(lambda x: [(i, j, k) for i in x for j in x for k in x if i<j and j<k])\n",
    "triple_frequent_cameras_list.take(10)"
   ]
  },
  {
   "cell_type": "code",
   "execution_count": 152,
   "metadata": {},
   "outputs": [
    {
     "name": "stderr",
     "output_type": "stream",
     "text": [
      "                                                                                \r"
     ]
    },
    {
     "data": {
      "text/plain": [
       "[((230204, 900107, 900276), 2762),\n",
       " ((230204, 900107, 100700820), 895),\n",
       " ((900203, 900246, 100700820), 156),\n",
       " ((631829, 900202, 900222), 341),\n",
       " ((119, 900266, 100700804), 879),\n",
       " ((135, 900266, 100700804), 183),\n",
       " ((900216, 900240, 900265), 385),\n",
       " ((900216, 900265, 900266), 623),\n",
       " ((900240, 900256, 900265), 247),\n",
       " ((900240, 900265, 900266), 509)]"
      ]
     },
     "execution_count": 152,
     "metadata": {},
     "output_type": "execute_result"
    }
   ],
   "source": [
    "triple_frequent_cameras_count = triple_frequent_cameras_list.map(lambda x: (x,1)) \\\n",
    "    .reduceByKey(lambda x, y: x+y)\n",
    "triple_frequent_cameras_count.take(10)"
   ]
  },
  {
   "cell_type": "code",
   "execution_count": 156,
   "metadata": {},
   "outputs": [
    {
     "name": "stderr",
     "output_type": "stream",
     "text": [
      "                                                                                \r"
     ]
    },
    {
     "data": {
      "text/plain": [
       "[((230204, 900107, 900276), 2762),\n",
       " ((900102, 900142, 100700853), 1389),\n",
       " ((205802, 900215, 900234), 2014),\n",
       " ((205802, 900234, 100700845), 1007),\n",
       " ((212802, 900215, 900234), 1501),\n",
       " ((212802, 900234, 100700845), 1083),\n",
       " ((900212, 900227, 900244), 1111),\n",
       " ((900212, 900244, 22009977), 2312),\n",
       " ((900212, 900244, 100700841), 3680),\n",
       " ((631829, 900226, 900246), 1221)]"
      ]
     },
     "execution_count": 156,
     "metadata": {},
     "output_type": "execute_result"
    }
   ],
   "source": [
    "frequent_triple_camera_pairs_count = triple_frequent_cameras_count.filter(lambda x: x[1]>= support_threshold)\n",
    "frequent_triple_camera_pairs_count.take(10)"
   ]
  },
  {
   "cell_type": "code",
   "execution_count": 157,
   "metadata": {},
   "outputs": [
    {
     "data": {
      "text/plain": [
       "438"
      ]
     },
     "execution_count": 157,
     "metadata": {},
     "output_type": "execute_result"
    }
   ],
   "source": [
    "frequent_triple_camera_pairs = frequent_triple_camera_pairs_count.map(lambda x: x[0])\n",
    "frequent_triple_camera_pairs_list = frequent_triple_camera_pairs.collect()\n",
    "len(frequent_triple_camera_pairs_list)"
   ]
  },
  {
   "cell_type": "code",
   "execution_count": 161,
   "metadata": {},
   "outputs": [
    {
     "data": {
      "text/plain": [
       "[(230204, 900107, 900276),\n",
       " (900102, 900142, 100700853),\n",
       " (205802, 900215, 900234),\n",
       " (205802, 900234, 100700845),\n",
       " (212802, 900215, 900234),\n",
       " (212802, 900234, 100700845),\n",
       " (900212, 900227, 900244),\n",
       " (900212, 900244, 22009977),\n",
       " (900212, 900244, 100700841),\n",
       " (631829, 900226, 900246)]"
      ]
     },
     "execution_count": 161,
     "metadata": {},
     "output_type": "execute_result"
    }
   ],
   "source": [
    "frequent_triple_camera_pairs.take(10)"
   ]
  },
  {
   "attachments": {},
   "cell_type": "markdown",
   "metadata": {},
   "source": [
    "## k = 4"
   ]
  },
  {
   "cell_type": "code",
   "execution_count": 197,
   "metadata": {},
   "outputs": [
    {
     "name": "stderr",
     "output_type": "stream",
     "text": [
      "                                                                                \r"
     ]
    },
    {
     "data": {
      "text/plain": [
       "[[230204, 900107, 900276, 100700820],\n",
       " [209103, 631633, 900142, 900167, 900212, 900265, 100700804],\n",
       " [631368, 631765, 900164, 900276, 100700820],\n",
       " [119, 135, 900216, 900265, 900266, 100700804],\n",
       " [117, 900135, 900233, 900234, 900240],\n",
       " [212802,\n",
       "  631829,\n",
       "  900102,\n",
       "  900182,\n",
       "  900223,\n",
       "  900234,\n",
       "  900240,\n",
       "  900246,\n",
       "  900256,\n",
       "  22010118,\n",
       "  100701100,\n",
       "  100701130],\n",
       " [135, 175, 900191, 900216, 900265, 100700804],\n",
       " [900102, 900142, 900212, 100700853],\n",
       " [631368, 900107, 900164, 100700824],\n",
       " [631357, 631363, 631829, 900246]]"
      ]
     },
     "execution_count": 197,
     "metadata": {},
     "output_type": "execute_result"
    }
   ],
   "source": [
    "pathes_rdd_e3 = pathes_rdd_e2.map(lambda x: sorted(set(flatten([ss for ss in subset(x, 3) if ss in frequent_triple_camera_pairs_list])))) \\\n",
    "        .filter(lambda x: len(x) > 3)     \n",
    "pathes_rdd_e3.take(10)"
   ]
  },
  {
   "cell_type": "code",
   "execution_count": 199,
   "metadata": {},
   "outputs": [
    {
     "name": "stderr",
     "output_type": "stream",
     "text": [
      "                                                                                \r"
     ]
    },
    {
     "data": {
      "text/plain": [
       "[(631368, 631765, 900164, 100700820),\n",
       " (631765, 900164, 900276, 100700820),\n",
       " (135, 900216, 900265, 100700804),\n",
       " (212802, 900234, 900256, 22010118),\n",
       " (135, 900216, 900265, 100700804),\n",
       " (900102, 900142, 900212, 100700853),\n",
       " (900102, 900212, 900244, 100700853),\n",
       " (900139, 900212, 900244, 100700853),\n",
       " (900142, 900212, 900244, 100700853),\n",
       " (205802, 212802, 900234, 22010118)]"
      ]
     },
     "execution_count": 199,
     "metadata": {},
     "output_type": "execute_result"
    }
   ],
   "source": [
    "quad_frequent_cameras_list = pathes_rdd_e3.flatMap(lambda x: [(i, j, k, m) for i in x for j in x for k in x for m in x if i<j and j<k and k<m])\n",
    "quad_frequent_cameras_list.take(10)"
   ]
  },
  {
   "cell_type": "code",
   "execution_count": 200,
   "metadata": {},
   "outputs": [
    {
     "name": "stderr",
     "output_type": "stream",
     "text": [
      "                                                                                \r"
     ]
    },
    {
     "data": {
      "text/plain": [
       "[((900139, 900212, 900244, 100700853), 923),\n",
       " ((205802, 212802, 900234, 22010118), 1026),\n",
       " ((900139, 900212, 900268, 100700853), 364),\n",
       " ((900108, 900259, 900268, 22010119), 859),\n",
       " ((900102, 900142, 900212, 900244), 1928),\n",
       " ((900101, 900212, 900249, 900268), 346),\n",
       " ((631765, 900107, 900276, 100700820), 697),\n",
       " ((22010087, 22010088, 22010094, 22010095), 2098),\n",
       " ((900212, 900225, 900244, 900269), 757),\n",
       " ((900212, 900244, 900273, 100700839), 702)]"
      ]
     },
     "execution_count": 200,
     "metadata": {},
     "output_type": "execute_result"
    }
   ],
   "source": [
    "quad_frequent_cameras_count = quad_frequent_cameras_list.map(lambda x: (x,1)) \\\n",
    "    .reduceByKey(lambda x, y: x+y)\n",
    "quad_frequent_cameras_count.take(10)"
   ]
  },
  {
   "cell_type": "code",
   "execution_count": 201,
   "metadata": {},
   "outputs": [
    {
     "data": {
      "text/plain": [
       "[((205802, 212802, 900234, 22010118), 1026),\n",
       " ((900102, 900142, 900212, 900244), 1928),\n",
       " ((22010087, 22010088, 22010094, 22010095), 2098),\n",
       " ((900142, 900212, 900273, 100700853), 1116),\n",
       " ((900193, 900212, 900244, 100700839), 1543),\n",
       " ((900142, 900212, 900249, 100700853), 1387),\n",
       " ((900212, 900244, 900249, 100700839), 1023),\n",
       " ((900102, 900212, 900244, 100700853), 1243),\n",
       " ((900142, 900212, 900244, 100700853), 4949),\n",
       " ((142, 900215, 900234, 900256), 1126)]"
      ]
     },
     "execution_count": 201,
     "metadata": {},
     "output_type": "execute_result"
    }
   ],
   "source": [
    "frequent_quad_camera_pairs_count = quad_frequent_cameras_count.filter(lambda x: x[1]>= support_threshold)\n",
    "frequent_quad_camera_pairs_count.take(10)"
   ]
  },
  {
   "cell_type": "code",
   "execution_count": 203,
   "metadata": {},
   "outputs": [
    {
     "data": {
      "text/plain": [
       "41"
      ]
     },
     "execution_count": 203,
     "metadata": {},
     "output_type": "execute_result"
    }
   ],
   "source": [
    "frequent_quad_camera_pairs = frequent_quad_camera_pairs_count.map(lambda x: x[0])\n",
    "frequent_quad_camera_pairs_list = frequent_quad_camera_pairs.collect()\n",
    "len(frequent_quad_camera_pairs_list)"
   ]
  },
  {
   "attachments": {},
   "cell_type": "markdown",
   "metadata": {},
   "source": [
    "## k = 5"
   ]
  },
  {
   "cell_type": "code",
   "execution_count": 205,
   "metadata": {},
   "outputs": [
    {
     "name": "stderr",
     "output_type": "stream",
     "text": [
      "                                                                                \r"
     ]
    },
    {
     "data": {
      "text/plain": [
       "[[205802, 212802, 900215, 900234, 22010118],\n",
       " [900102, 900142, 900212, 900244, 100701130],\n",
       " [900142, 900152, 900212, 900244, 900249],\n",
       " [205802, 212802, 900215, 900234, 22010118],\n",
       " [142, 205802, 900215, 900234, 900256],\n",
       " [205802, 212802, 900215, 900234, 22010118],\n",
       " [142, 205802, 900215, 900234, 900256, 22010118],\n",
       " [900102, 900142, 900212, 900244, 100700839],\n",
       " [900102, 900212, 900244, 100700853, 100701130],\n",
       " [900142, 900202, 900212, 900244, 100700841]]"
      ]
     },
     "execution_count": 205,
     "metadata": {},
     "output_type": "execute_result"
    }
   ],
   "source": [
    "pathes_rdd_e4 = pathes_rdd_e3.map(lambda x: sorted(set(flatten([ss for ss in subset(x, 4) if ss in frequent_quad_camera_pairs_list])))) \\\n",
    "        .filter(lambda x: len(x) > 4)     \n",
    "pathes_rdd_e4.take(10)"
   ]
  },
  {
   "cell_type": "code",
   "execution_count": 207,
   "metadata": {},
   "outputs": [
    {
     "name": "stderr",
     "output_type": "stream",
     "text": [
      "                                                                                \r"
     ]
    },
    {
     "data": {
      "text/plain": [
       "10060"
      ]
     },
     "execution_count": 207,
     "metadata": {},
     "output_type": "execute_result"
    }
   ],
   "source": [
    "pathes_rdd_e4.count()"
   ]
  },
  {
   "cell_type": "code",
   "execution_count": 209,
   "metadata": {},
   "outputs": [
    {
     "name": "stderr",
     "output_type": "stream",
     "text": [
      "                                                                                \r"
     ]
    },
    {
     "data": {
      "text/plain": [
       "[(205802, 212802, 900215, 900234, 22010118),\n",
       " (900102, 900142, 900212, 900244, 100701130),\n",
       " (900142, 900152, 900212, 900244, 900249),\n",
       " (205802, 212802, 900215, 900234, 22010118),\n",
       " (142, 205802, 900215, 900234, 900256),\n",
       " (205802, 212802, 900215, 900234, 22010118),\n",
       " (142, 205802, 900215, 900234, 900256),\n",
       " (142, 205802, 900215, 900234, 22010118),\n",
       " (142, 205802, 900215, 900256, 22010118),\n",
       " (142, 205802, 900234, 900256, 22010118)]"
      ]
     },
     "execution_count": 209,
     "metadata": {},
     "output_type": "execute_result"
    }
   ],
   "source": [
    "quint_frequent_cameras_list = pathes_rdd_e4.flatMap(lambda x: [(i, j, k, m, n) for i in x for j in x for k in x for m in x for n in x if i<j and j<k and k<m and m<n])\n",
    "quint_frequent_cameras_list.take(10)"
   ]
  },
  {
   "cell_type": "code",
   "execution_count": 213,
   "metadata": {},
   "outputs": [
    {
     "name": "stderr",
     "output_type": "stream",
     "text": [
      "                                                                                \r"
     ]
    },
    {
     "data": {
      "text/plain": [
       "[((205802, 212802, 900215, 900234, 22010118), 413),\n",
       " ((900142, 900152, 900212, 900244, 900249), 263),\n",
       " ((205802, 900215, 900234, 900256, 22010118), 743),\n",
       " ((900102, 900212, 900244, 100700853, 100701130), 222),\n",
       " ((212802, 900215, 900234, 900256, 22010118), 303),\n",
       " ((900193, 900212, 900225, 900244, 100700839), 13),\n",
       " ((900193, 900212, 900225, 900268, 100700839), 13),\n",
       " ((900193, 900212, 900244, 900259, 100700839), 13),\n",
       " ((900193, 900212, 900259, 900268, 900269), 20),\n",
       " ((900193, 900244, 900259, 900268, 900269), 20)]"
      ]
     },
     "execution_count": 213,
     "metadata": {},
     "output_type": "execute_result"
    }
   ],
   "source": [
    "quint_frequent_cameras_count = quint_frequent_cameras_list.map(lambda x: (x,1)) \\\n",
    "    .reduceByKey(lambda x, y: x+y)\n",
    "quint_frequent_cameras_count.take(10)"
   ]
  },
  {
   "cell_type": "code",
   "execution_count": 215,
   "metadata": {},
   "outputs": [
    {
     "name": "stderr",
     "output_type": "stream",
     "text": [
      "                                                                                \r"
     ]
    },
    {
     "data": {
      "text/plain": [
       "[((900142, 900152, 900212, 900244, 100700853), 882),\n",
       " ((900142, 900212, 900244, 100700839, 100700853), 843),\n",
       " ((900102, 900142, 900212, 900244, 100700853), 820),\n",
       " ((205802, 900215, 900234, 900256, 22010118), 743),\n",
       " ((142, 900215, 900234, 900256, 22010118), 732),\n",
       " ((900142, 900212, 900244, 900249, 100700853), 721),\n",
       " ((900142, 900193, 900212, 900244, 100700853), 718),\n",
       " ((900142, 900202, 900212, 900244, 100700853), 593),\n",
       " ((900193, 900212, 900244, 100700839, 100700853), 545),\n",
       " ((142, 205802, 900215, 900234, 900256), 540)]"
      ]
     },
     "execution_count": 215,
     "metadata": {},
     "output_type": "execute_result"
    }
   ],
   "source": [
    "quint_frequent_cameras_count.sortBy(lambda a: -a[1]) \\\n",
    "    .take(10)"
   ]
  },
  {
   "cell_type": "code",
   "execution_count": 214,
   "metadata": {},
   "outputs": [
    {
     "data": {
      "text/plain": [
       "[]"
      ]
     },
     "execution_count": 214,
     "metadata": {},
     "output_type": "execute_result"
    }
   ],
   "source": [
    "frequent_quint_camera_pairs_count = quint_frequent_cameras_count.filter(lambda x: x[1]>= support_threshold)\n",
    "frequent_quint_camera_pairs_count.take(10)"
   ]
  },
  {
   "cell_type": "code",
   "execution_count": 216,
   "metadata": {},
   "outputs": [
    {
     "data": {
      "text/plain": [
       "0"
      ]
     },
     "execution_count": 216,
     "metadata": {},
     "output_type": "execute_result"
    }
   ],
   "source": [
    "frequent_quint_camera_pairs = frequent_quint_camera_pairs_count.map(lambda x: x[0])\n",
    "frequent_quint_camera_pairs_list = frequent_quint_camera_pairs.collect()\n",
    "len(frequent_quint_camera_pairs_list)"
   ]
  },
  {
   "attachments": {},
   "cell_type": "markdown",
   "metadata": {},
   "source": [
    "# SON"
   ]
  },
  {
   "cell_type": "code",
   "execution_count": 219,
   "metadata": {},
   "outputs": [],
   "source": [
    "def aprioriPass1(rdd, p):\n",
    "    son_support_threshold = p*support_threshold\n",
    "\n",
    "    son_frequent_cameras_count = rdd.flatMap(lambda x: x[1]) \\\n",
    "        .map(lambda x: (x, 1)) \\\n",
    "            .reduceByKey(lambda x, y: x + y) \\\n",
    "                .filter(lambda x: x[1] >= son_support_threshold)\n",
    "    \n",
    "    son_frequent_cameras = frequent_cameras_count.map(lambda x: (x[0], 1))#.reduceBykey(add)\n",
    "    son_pathes = rdd.map(lambda x: x[1])\n",
    " \n",
    "    return son_frequent_cameras_count, son_frequent_cameras, son_pathes"
   ]
  },
  {
   "cell_type": "code",
   "execution_count": 225,
   "metadata": {},
   "outputs": [],
   "source": [
    "# p1, p2, p3 = 0.4, 0.3, 0.3\n",
    "p1, p2 = 0.5, 0.5\n",
    "df_rdd1 = dataframe_rdd.sample(False, p1)\n",
    "df_rdd = dataframe_rdd.subtractByKey(df_rdd1)\n",
    "df_rdd2 = df_rdd.sample(False, p2)\n",
    "# df_rdd3 = df_rdd.subtractByKey(df_rdd2)\n",
    "\n",
    "son1_support_threshold = p1*support_threshold\n",
    "son2_support_threshold = p2*support_threshold"
   ]
  },
  {
   "attachments": {},
   "cell_type": "markdown",
   "metadata": {},
   "source": [
    "## k = 1"
   ]
  },
  {
   "attachments": {},
   "cell_type": "markdown",
   "metadata": {},
   "source": [
    "### Pass 1"
   ]
  },
  {
   "cell_type": "code",
   "execution_count": 226,
   "metadata": {},
   "outputs": [],
   "source": [
    "son1_frequent_cameras_count, son1_frequent_cameras, son1_pathes = aprioriPass1(df_rdd1, p1)\n",
    "son2_frequent_cameras_count, son2_frequent_cameras, son2_pathes = aprioriPass1(df_rdd2, p2)\n",
    "# son3_frequent_cameras_count, son3_frequent_cameras, son3_pathes = aprioriPass1(df_rdd3, p3)\n",
    "\n",
    "union_candidates = son1_frequent_cameras.union(son2_frequent_cameras)#.union(son3_frequent_cameras)"
   ]
  },
  {
   "cell_type": "code",
   "execution_count": 227,
   "metadata": {},
   "outputs": [
    {
     "name": "stdout",
     "output_type": "stream",
     "text": [
      "Map: (F,1)   # F: frequent itemset(camera)\n"
     ]
    },
    {
     "data": {
      "text/plain": [
       "[(128, 1),\n",
       " (631360, 1),\n",
       " (900240, 1),\n",
       " (631368, 1),\n",
       " (100701144, 1),\n",
       " (100700864, 1),\n",
       " (100700824, 1),\n",
       " (100700832, 1),\n",
       " (144, 1),\n",
       " (631832, 1),\n",
       " (900216, 1),\n",
       " (900256, 1),\n",
       " (900160, 1),\n",
       " (22010112, 1),\n",
       " (900272, 1),\n",
       " (631352, 1),\n",
       " (100701096, 1),\n",
       " (22010048, 1),\n",
       " (900104, 1),\n",
       " (900176, 1),\n",
       " (900224, 1),\n",
       " (232, 1),\n",
       " (900208, 1),\n",
       " (112, 1),\n",
       " (631776, 1),\n",
       " (900120, 1),\n",
       " (160, 1),\n",
       " (900152, 1),\n",
       " (22010088, 1),\n",
       " (900232, 1),\n",
       " (22010072, 1),\n",
       " (631784, 1),\n",
       " (100700816, 1),\n",
       " (168, 1),\n",
       " (100700880, 1),\n",
       " (22010120, 1),\n",
       " (22010040, 1),\n",
       " (22010080, 1),\n",
       " (900264, 1),\n",
       " (900144, 1),\n",
       " (631640, 1),\n",
       " (104, 1),\n",
       " (900184, 1),\n",
       " (22009832, 1),\n",
       " (22009912, 1),\n",
       " (631608, 1),\n",
       " (100701264, 1),\n",
       " (22010128, 1),\n",
       " (631361, 1),\n",
       " (205201, 1),\n",
       " (137, 1),\n",
       " (22009977, 1),\n",
       " (900265, 1),\n",
       " (631633, 1),\n",
       " (113, 1),\n",
       " (900185, 1),\n",
       " (153, 1),\n",
       " (900217, 1),\n",
       " (145, 1),\n",
       " (208601, 1),\n",
       " (202601, 1),\n",
       " (203001, 1),\n",
       " (206601, 1),\n",
       " (900241, 1),\n",
       " (103001, 1),\n",
       " (100700857, 1),\n",
       " (900225, 1),\n",
       " (169, 1),\n",
       " (900233, 1),\n",
       " (212001, 1),\n",
       " (100700881, 1),\n",
       " (100700841, 1),\n",
       " (900273, 1),\n",
       " (211401, 1),\n",
       " (803001, 1),\n",
       " (631833, 1),\n",
       " (900249, 1),\n",
       " (900129, 1),\n",
       " (22010057, 1),\n",
       " (900193, 1),\n",
       " (631825, 1),\n",
       " (900113, 1),\n",
       " (204401, 1),\n",
       " (800801, 1),\n",
       " (100701129, 1),\n",
       " (201801, 1),\n",
       " (213401, 1),\n",
       " (100700929, 1),\n",
       " (203401, 1),\n",
       " (230201, 1),\n",
       " (200601, 1),\n",
       " (900161, 1),\n",
       " (22000601, 1),\n",
       " (22010121, 1),\n",
       " (205801, 1),\n",
       " (22010073, 1),\n",
       " (22010137, 1),\n",
       " (100701145, 1),\n",
       " (212601, 1),\n",
       " (100701265, 1),\n",
       " (22010113, 1),\n",
       " (22010129, 1),\n",
       " (22009913, 1),\n",
       " (631609, 1),\n",
       " (206602, 1),\n",
       " (631362, 1),\n",
       " (900226, 1),\n",
       " (900202, 1),\n",
       " (213402, 1),\n",
       " (631346, 1),\n",
       " (205202, 1),\n",
       " (200202, 1),\n",
       " (900234, 1),\n",
       " (900266, 1),\n",
       " (205802, 1),\n",
       " (631370, 1),\n",
       " (212802, 1),\n",
       " (100701130, 1),\n",
       " (900218, 1),\n",
       " (103002, 1),\n",
       " (230106, 1),\n",
       " (900138, 1),\n",
       " (900170, 1),\n",
       " (100700834, 1),\n",
       " (22010122, 1),\n",
       " (100701250, 1),\n",
       " (900274, 1),\n",
       " (100700826, 1),\n",
       " (900258, 1),\n",
       " (900242, 1),\n",
       " (114, 1),\n",
       " (100700866, 1),\n",
       " (200402, 1),\n",
       " (210602, 1),\n",
       " (208602, 1),\n",
       " (900162, 1),\n",
       " (100701090, 1),\n",
       " (631826, 1),\n",
       " (100701266, 1),\n",
       " (631354, 1),\n",
       " (212002, 1),\n",
       " (900178, 1),\n",
       " (100700978, 1),\n",
       " (22010058, 1),\n",
       " (900130, 1),\n",
       " (100700914, 1),\n",
       " (900194, 1),\n",
       " (810410, 1),\n",
       " (631610, 1),\n",
       " (100701146, 1),\n",
       " (22010130, 1),\n",
       " (22010138, 1),\n",
       " (802010, 1),\n",
       " (900107, 1),\n",
       " (900203, 1),\n",
       " (631795, 1),\n",
       " (900171, 1),\n",
       " (900243, 1),\n",
       " (631763, 1),\n",
       " (631771, 1),\n",
       " (22009971, 1),\n",
       " (631363, 1),\n",
       " (100701059, 1),\n",
       " (900251, 1),\n",
       " (900235, 1),\n",
       " (900211, 1),\n",
       " (163, 1),\n",
       " (115, 1),\n",
       " (900227, 1),\n",
       " (100701251, 1),\n",
       " (900123, 1),\n",
       " (900139, 1),\n",
       " (100700835, 1),\n",
       " (900259, 1),\n",
       " (900155, 1),\n",
       " (900163, 1),\n",
       " (22010083, 1),\n",
       " (631355, 1),\n",
       " (155, 1),\n",
       " (22010123, 1),\n",
       " (22010059, 1),\n",
       " (230107, 1),\n",
       " (900275, 1),\n",
       " (22010051, 1),\n",
       " (123, 1),\n",
       " (900179, 1),\n",
       " (22010043, 1),\n",
       " (100701131, 1),\n",
       " (100701267, 1),\n",
       " (100701147, 1),\n",
       " (22009923, 1),\n",
       " (22010139, 1),\n",
       " (22010099, 1),\n",
       " (631611, 1),\n",
       " (22010115, 1),\n",
       " (230204, 1),\n",
       " (100700820, 1),\n",
       " (900276, 1),\n",
       " (900212, 1),\n",
       " (100700804, 1),\n",
       " (900164, 1),\n",
       " (100, 1),\n",
       " (900124, 1),\n",
       " (22010052, 1),\n",
       " (900268, 1),\n",
       " (900236, 1),\n",
       " (900228, 1),\n",
       " (22009972, 1),\n",
       " (100701100, 1),\n",
       " (100700812, 1),\n",
       " (900244, 1),\n",
       " (900108, 1),\n",
       " (100701132, 1),\n",
       " (100701252, 1),\n",
       " (100700868, 1),\n",
       " (100700932, 1),\n",
       " (22010084, 1),\n",
       " (631356, 1),\n",
       " (230108, 1),\n",
       " (100701092, 1),\n",
       " (900156, 1),\n",
       " (100700836, 1),\n",
       " (900180, 1),\n",
       " (22010060, 1),\n",
       " (900132, 1),\n",
       " (100701156, 1),\n",
       " (156, 1),\n",
       " (100701068, 1),\n",
       " (631828, 1),\n",
       " (100700964, 1),\n",
       " (22010100, 1),\n",
       " (631748, 1),\n",
       " (22010044, 1),\n",
       " (140, 1),\n",
       " (22010116, 1),\n",
       " (100701148, 1),\n",
       " (202901, 1),\n",
       " (100700853, 1),\n",
       " (631757, 1),\n",
       " (900141, 1),\n",
       " (900269, 1),\n",
       " (631829, 1),\n",
       " (900245, 1),\n",
       " (202101, 1),\n",
       " (631765, 1),\n",
       " (230101, 1),\n",
       " (900197, 1),\n",
       " (207101, 1),\n",
       " (206701, 1),\n",
       " (22010117, 1),\n",
       " (900253, 1),\n",
       " (631357, 1),\n",
       " (900237, 1),\n",
       " (900101, 1),\n",
       " (117, 1),\n",
       " (900149, 1),\n",
       " (100700845, 1),\n",
       " (22010053, 1),\n",
       " (207501, 1),\n",
       " (205501, 1),\n",
       " (900221, 1),\n",
       " (900277, 1),\n",
       " (631781, 1),\n",
       " (107301, 1),\n",
       " (101301, 1),\n",
       " (900117, 1),\n",
       " (211901, 1),\n",
       " (212101, 1),\n",
       " (900213, 1),\n",
       " (212501, 1),\n",
       " (200301, 1),\n",
       " (203101, 1),\n",
       " (211301, 1),\n",
       " (203501, 1),\n",
       " (100701045, 1),\n",
       " (149, 1),\n",
       " (204901, 1),\n",
       " (211701, 1),\n",
       " (100700965, 1),\n",
       " (100701253, 1),\n",
       " (900125, 1),\n",
       " (22010061, 1),\n",
       " (22009829, 1),\n",
       " (212701, 1),\n",
       " (22010125, 1),\n",
       " (100701125, 1),\n",
       " (203701, 1),\n",
       " (203301, 1),\n",
       " (100700901, 1),\n",
       " (900261, 1),\n",
       " (157, 1),\n",
       " (22010085, 1),\n",
       " (100700861, 1),\n",
       " (900205, 1),\n",
       " (631349, 1),\n",
       " (100700973, 1),\n",
       " (100701093, 1),\n",
       " (900133, 1),\n",
       " (100701269, 1),\n",
       " (22010077, 1),\n",
       " (22010109, 1),\n",
       " (209101, 1),\n",
       " (900246, 1),\n",
       " (900222, 1),\n",
       " (900142, 1),\n",
       " (631830, 1),\n",
       " (203902, 1),\n",
       " (118, 1),\n",
       " (631366, 1),\n",
       " (200502, 1),\n",
       " (900238, 1),\n",
       " (22010062, 1),\n",
       " (100700862, 1),\n",
       " (22010134, 1),\n",
       " (900214, 1),\n",
       " (900182, 1),\n",
       " (900102, 1),\n",
       " (22010118, 1),\n",
       " (900278, 1),\n",
       " (900126, 1),\n",
       " (100700958, 1),\n",
       " (900174, 1),\n",
       " (200902, 1),\n",
       " (900158, 1),\n",
       " (100701254, 1),\n",
       " (22010110, 1),\n",
       " (230102, 1),\n",
       " (900150, 1),\n",
       " (22010094, 1),\n",
       " (150, 1),\n",
       " (100700902, 1),\n",
       " (900134, 1),\n",
       " (102, 1),\n",
       " (142, 1),\n",
       " (22010086, 1),\n",
       " (110, 1),\n",
       " (209102, 1),\n",
       " (22010078, 1),\n",
       " (631758, 1),\n",
       " (900230, 1),\n",
       " (204902, 1),\n",
       " (100701262, 1),\n",
       " (22010054, 1),\n",
       " (100700814, 1),\n",
       " (100700910, 1),\n",
       " (100701126, 1),\n",
       " (100701150, 1),\n",
       " (900191, 1),\n",
       " (900167, 1),\n",
       " (631759, 1),\n",
       " (900135, 1),\n",
       " (209103, 1),\n",
       " (22010031, 1),\n",
       " (230103, 1),\n",
       " (175, 1),\n",
       " (143, 1),\n",
       " (900239, 1),\n",
       " (22010119, 1),\n",
       " (900215, 1),\n",
       " (100701143, 1),\n",
       " (100700847, 1),\n",
       " (135, 1),\n",
       " (119, 1),\n",
       " (100701119, 1),\n",
       " (900143, 1),\n",
       " (900255, 1),\n",
       " (900223, 1),\n",
       " (22010039, 1),\n",
       " (900271, 1),\n",
       " (231, 1),\n",
       " (900151, 1),\n",
       " (22010071, 1),\n",
       " (900207, 1),\n",
       " (631367, 1),\n",
       " (631719, 1),\n",
       " (103, 1),\n",
       " (631775, 1),\n",
       " (100700839, 1),\n",
       " (631831, 1),\n",
       " (900247, 1),\n",
       " (800103, 1),\n",
       " (900199, 1),\n",
       " (100700871, 1),\n",
       " (22010087, 1),\n",
       " (100701263, 1),\n",
       " (22010047, 1),\n",
       " (22010095, 1),\n",
       " (22010111, 1),\n",
       " (22010127, 1),\n",
       " (22010079, 1),\n",
       " (631799, 1),\n",
       " (631791, 1),\n",
       " (900103, 1),\n",
       " (900183, 1),\n",
       " (22010135, 1),\n",
       " (631359, 1),\n",
       " (900159, 1),\n",
       " (22010063, 1),\n",
       " (128, 1),\n",
       " (631360, 1),\n",
       " (900240, 1),\n",
       " (631368, 1),\n",
       " (100701144, 1),\n",
       " (100700864, 1),\n",
       " (100700824, 1),\n",
       " (100700832, 1),\n",
       " (144, 1),\n",
       " (631832, 1),\n",
       " (900216, 1),\n",
       " (900256, 1),\n",
       " (900160, 1),\n",
       " (22010112, 1),\n",
       " (900272, 1),\n",
       " (631352, 1),\n",
       " (100701096, 1),\n",
       " (22010048, 1),\n",
       " (900104, 1),\n",
       " (900176, 1),\n",
       " (900224, 1),\n",
       " (232, 1),\n",
       " (900208, 1),\n",
       " (112, 1),\n",
       " (631776, 1),\n",
       " (900120, 1),\n",
       " (160, 1),\n",
       " (900152, 1),\n",
       " (22010088, 1),\n",
       " (900232, 1),\n",
       " (22010072, 1),\n",
       " (631784, 1),\n",
       " (100700816, 1),\n",
       " (168, 1),\n",
       " (100700880, 1),\n",
       " (22010120, 1),\n",
       " (22010040, 1),\n",
       " (22010080, 1),\n",
       " (900264, 1),\n",
       " (900144, 1),\n",
       " (631640, 1),\n",
       " (104, 1),\n",
       " (900184, 1),\n",
       " (22009832, 1),\n",
       " (22009912, 1),\n",
       " (631608, 1),\n",
       " (100701264, 1),\n",
       " (22010128, 1),\n",
       " (631361, 1),\n",
       " (205201, 1),\n",
       " (137, 1),\n",
       " (22009977, 1),\n",
       " (900265, 1),\n",
       " (631633, 1),\n",
       " (113, 1),\n",
       " (900185, 1),\n",
       " (153, 1),\n",
       " (900217, 1),\n",
       " (145, 1),\n",
       " (208601, 1),\n",
       " (202601, 1),\n",
       " (203001, 1),\n",
       " (206601, 1),\n",
       " (900241, 1),\n",
       " (103001, 1),\n",
       " (100700857, 1),\n",
       " (900225, 1),\n",
       " (169, 1),\n",
       " (900233, 1),\n",
       " (212001, 1),\n",
       " (100700881, 1),\n",
       " (100700841, 1),\n",
       " (900273, 1),\n",
       " (211401, 1),\n",
       " (803001, 1),\n",
       " (631833, 1),\n",
       " (900249, 1),\n",
       " (900129, 1),\n",
       " (22010057, 1),\n",
       " (900193, 1),\n",
       " (631825, 1),\n",
       " (900113, 1),\n",
       " (204401, 1),\n",
       " (800801, 1),\n",
       " (100701129, 1),\n",
       " (201801, 1),\n",
       " (213401, 1),\n",
       " (100700929, 1),\n",
       " (203401, 1),\n",
       " (230201, 1),\n",
       " (200601, 1),\n",
       " (900161, 1),\n",
       " (22000601, 1),\n",
       " (22010121, 1),\n",
       " (205801, 1),\n",
       " (22010073, 1),\n",
       " (22010137, 1),\n",
       " (100701145, 1),\n",
       " (212601, 1),\n",
       " (100701265, 1),\n",
       " (22010113, 1),\n",
       " (22010129, 1),\n",
       " (22009913, 1),\n",
       " (631609, 1),\n",
       " (206602, 1),\n",
       " (631362, 1),\n",
       " (900226, 1),\n",
       " (900202, 1),\n",
       " (213402, 1),\n",
       " (631346, 1),\n",
       " (205202, 1),\n",
       " (200202, 1),\n",
       " (900234, 1),\n",
       " (900266, 1),\n",
       " (205802, 1),\n",
       " (631370, 1),\n",
       " (212802, 1),\n",
       " (100701130, 1),\n",
       " (900218, 1),\n",
       " (103002, 1),\n",
       " (230106, 1),\n",
       " (900138, 1),\n",
       " (900170, 1),\n",
       " (100700834, 1),\n",
       " (22010122, 1),\n",
       " (100701250, 1),\n",
       " (900274, 1),\n",
       " (100700826, 1),\n",
       " (900258, 1),\n",
       " (900242, 1),\n",
       " (114, 1),\n",
       " (100700866, 1),\n",
       " (200402, 1),\n",
       " (210602, 1),\n",
       " (208602, 1),\n",
       " (900162, 1),\n",
       " (100701090, 1),\n",
       " (631826, 1),\n",
       " (100701266, 1),\n",
       " (631354, 1),\n",
       " (212002, 1),\n",
       " (900178, 1),\n",
       " (100700978, 1),\n",
       " (22010058, 1),\n",
       " (900130, 1),\n",
       " (100700914, 1),\n",
       " (900194, 1),\n",
       " (810410, 1),\n",
       " (631610, 1),\n",
       " (100701146, 1),\n",
       " (22010130, 1),\n",
       " (22010138, 1),\n",
       " (802010, 1),\n",
       " (900107, 1),\n",
       " (900203, 1),\n",
       " (631795, 1),\n",
       " (900171, 1),\n",
       " (900243, 1),\n",
       " (631763, 1),\n",
       " (631771, 1),\n",
       " (22009971, 1),\n",
       " (631363, 1),\n",
       " (100701059, 1),\n",
       " (900251, 1),\n",
       " (900235, 1),\n",
       " (900211, 1),\n",
       " (163, 1),\n",
       " (115, 1),\n",
       " (900227, 1),\n",
       " (100701251, 1),\n",
       " (900123, 1),\n",
       " (900139, 1),\n",
       " (100700835, 1),\n",
       " (900259, 1),\n",
       " (900155, 1),\n",
       " (900163, 1),\n",
       " (22010083, 1),\n",
       " (631355, 1),\n",
       " (155, 1),\n",
       " (22010123, 1),\n",
       " (22010059, 1),\n",
       " (230107, 1),\n",
       " (900275, 1),\n",
       " (22010051, 1),\n",
       " (123, 1),\n",
       " (900179, 1),\n",
       " (22010043, 1),\n",
       " (100701131, 1),\n",
       " (100701267, 1),\n",
       " (100701147, 1),\n",
       " (22009923, 1),\n",
       " (22010139, 1),\n",
       " (22010099, 1),\n",
       " (631611, 1),\n",
       " (22010115, 1),\n",
       " (230204, 1),\n",
       " (100700820, 1),\n",
       " (900276, 1),\n",
       " (900212, 1),\n",
       " (100700804, 1),\n",
       " (900164, 1),\n",
       " (100, 1),\n",
       " (900124, 1),\n",
       " (22010052, 1),\n",
       " (900268, 1),\n",
       " (900236, 1),\n",
       " (900228, 1),\n",
       " (22009972, 1),\n",
       " (100701100, 1),\n",
       " (100700812, 1),\n",
       " (900244, 1),\n",
       " (900108, 1),\n",
       " (100701132, 1),\n",
       " (100701252, 1),\n",
       " (100700868, 1),\n",
       " (100700932, 1),\n",
       " (22010084, 1),\n",
       " (631356, 1),\n",
       " (230108, 1),\n",
       " (100701092, 1),\n",
       " (900156, 1),\n",
       " (100700836, 1),\n",
       " (900180, 1),\n",
       " (22010060, 1),\n",
       " (900132, 1),\n",
       " (100701156, 1),\n",
       " (156, 1),\n",
       " (100701068, 1),\n",
       " (631828, 1),\n",
       " (100700964, 1),\n",
       " (22010100, 1),\n",
       " (631748, 1),\n",
       " (22010044, 1),\n",
       " (140, 1),\n",
       " (22010116, 1),\n",
       " (100701148, 1),\n",
       " (202901, 1),\n",
       " (100700853, 1),\n",
       " (631757, 1),\n",
       " (900141, 1),\n",
       " (900269, 1),\n",
       " (631829, 1),\n",
       " (900245, 1),\n",
       " (202101, 1),\n",
       " (631765, 1),\n",
       " (230101, 1),\n",
       " (900197, 1),\n",
       " (207101, 1),\n",
       " (206701, 1),\n",
       " (22010117, 1),\n",
       " (900253, 1),\n",
       " (631357, 1),\n",
       " (900237, 1),\n",
       " (900101, 1),\n",
       " (117, 1),\n",
       " (900149, 1),\n",
       " (100700845, 1),\n",
       " (22010053, 1),\n",
       " (207501, 1),\n",
       " (205501, 1),\n",
       " (900221, 1),\n",
       " (900277, 1),\n",
       " (631781, 1),\n",
       " (107301, 1),\n",
       " (101301, 1),\n",
       " (900117, 1),\n",
       " (211901, 1),\n",
       " (212101, 1),\n",
       " (900213, 1),\n",
       " (212501, 1),\n",
       " (200301, 1),\n",
       " (203101, 1),\n",
       " (211301, 1),\n",
       " (203501, 1),\n",
       " (100701045, 1),\n",
       " (149, 1),\n",
       " (204901, 1),\n",
       " (211701, 1),\n",
       " (100700965, 1),\n",
       " (100701253, 1),\n",
       " (900125, 1),\n",
       " (22010061, 1),\n",
       " (22009829, 1),\n",
       " (212701, 1),\n",
       " (22010125, 1),\n",
       " (100701125, 1),\n",
       " (203701, 1),\n",
       " (203301, 1),\n",
       " (100700901, 1),\n",
       " (900261, 1),\n",
       " (157, 1),\n",
       " (22010085, 1),\n",
       " (100700861, 1),\n",
       " (900205, 1),\n",
       " (631349, 1),\n",
       " (100700973, 1),\n",
       " (100701093, 1),\n",
       " (900133, 1),\n",
       " (100701269, 1),\n",
       " (22010077, 1),\n",
       " (22010109, 1),\n",
       " (209101, 1),\n",
       " (900246, 1),\n",
       " (900222, 1),\n",
       " (900142, 1),\n",
       " (631830, 1),\n",
       " (203902, 1),\n",
       " (118, 1),\n",
       " (631366, 1),\n",
       " (200502, 1),\n",
       " (900238, 1),\n",
       " (22010062, 1),\n",
       " (100700862, 1),\n",
       " (22010134, 1),\n",
       " (900214, 1),\n",
       " (900182, 1),\n",
       " (900102, 1),\n",
       " (22010118, 1),\n",
       " (900278, 1),\n",
       " (900126, 1),\n",
       " (100700958, 1),\n",
       " (900174, 1),\n",
       " (200902, 1),\n",
       " (900158, 1),\n",
       " (100701254, 1),\n",
       " (22010110, 1),\n",
       " (230102, 1),\n",
       " (900150, 1),\n",
       " (22010094, 1),\n",
       " (150, 1),\n",
       " (100700902, 1),\n",
       " (900134, 1),\n",
       " (102, 1),\n",
       " (142, 1),\n",
       " (22010086, 1),\n",
       " (110, 1),\n",
       " (209102, 1),\n",
       " (22010078, 1),\n",
       " (631758, 1),\n",
       " (900230, 1),\n",
       " (204902, 1),\n",
       " (100701262, 1),\n",
       " (22010054, 1),\n",
       " (100700814, 1),\n",
       " (100700910, 1),\n",
       " (100701126, 1),\n",
       " (100701150, 1),\n",
       " (900191, 1),\n",
       " (900167, 1),\n",
       " (631759, 1),\n",
       " (900135, 1),\n",
       " (209103, 1),\n",
       " (22010031, 1),\n",
       " (230103, 1),\n",
       " (175, 1),\n",
       " (143, 1),\n",
       " (900239, 1),\n",
       " (22010119, 1),\n",
       " (900215, 1),\n",
       " (100701143, 1),\n",
       " (100700847, 1),\n",
       " (135, 1),\n",
       " (119, 1),\n",
       " (100701119, 1),\n",
       " (900143, 1),\n",
       " (900255, 1),\n",
       " (900223, 1),\n",
       " (22010039, 1),\n",
       " (900271, 1),\n",
       " (231, 1),\n",
       " (900151, 1),\n",
       " (22010071, 1),\n",
       " (900207, 1),\n",
       " (631367, 1),\n",
       " (631719, 1),\n",
       " (103, 1),\n",
       " (631775, 1),\n",
       " (100700839, 1),\n",
       " (631831, 1),\n",
       " (900247, 1),\n",
       " (800103, 1),\n",
       " (900199, 1),\n",
       " (100700871, 1),\n",
       " (22010087, 1),\n",
       " (100701263, 1),\n",
       " (22010047, 1),\n",
       " (22010095, 1),\n",
       " (22010111, 1),\n",
       " (22010127, 1),\n",
       " (22010079, 1),\n",
       " (631799, 1),\n",
       " (631791, 1),\n",
       " (900103, 1),\n",
       " (900183, 1),\n",
       " (22010135, 1),\n",
       " (631359, 1),\n",
       " (900159, 1),\n",
       " (22010063, 1)]"
      ]
     },
     "execution_count": 227,
     "metadata": {},
     "output_type": "execute_result"
    }
   ],
   "source": [
    "pass2_union_candidates = sc.broadcast(union_candidates.collect())\n",
    "pass2_candidates = pass2_union_candidates.value\n",
    "print(\"Map: (F,1)   # F: frequent itemset(camera)\")\n",
    "pass2_candidates"
   ]
  },
  {
   "cell_type": "code",
   "execution_count": 228,
   "metadata": {},
   "outputs": [
    {
     "data": {
      "text/plain": [
       "796"
      ]
     },
     "execution_count": 228,
     "metadata": {},
     "output_type": "execute_result"
    }
   ],
   "source": [
    "len(pass2_candidates)"
   ]
  },
  {
   "attachments": {},
   "cell_type": "markdown",
   "metadata": {},
   "source": [
    "### Pass 2"
   ]
  },
  {
   "cell_type": "code",
   "execution_count": 229,
   "metadata": {},
   "outputs": [
    {
     "name": "stderr",
     "output_type": "stream",
     "text": [
      "                                                                                \r"
     ]
    },
    {
     "data": {
      "text/plain": [
       "[(117, 19164),\n",
       " (149, 2710),\n",
       " (157, 1806),\n",
       " (101301, 17980),\n",
       " (107301, 8640),\n",
       " (200301, 11546),\n",
       " (202101, 12528),\n",
       " (202901, 11874),\n",
       " (203101, 6406),\n",
       " (203301, 2424)]"
      ]
     },
     "execution_count": 229,
     "metadata": {},
     "output_type": "execute_result"
    }
   ],
   "source": [
    "def aprioriPass2(iterator):\n",
    "    baskets = [a[1] for a in iterator]\n",
    "    candidateCount = {}\n",
    "\n",
    "    for a in baskets:\n",
    "        for cand in pass2_candidates:\n",
    "            if cand[0] in a:\n",
    "                candidateCount.setdefault(cand,0)\n",
    "                candidateCount[cand] += 1\n",
    "\n",
    "    for item in sorted(candidateCount.keys()):\n",
    "        yield (item, candidateCount[item])\n",
    "\n",
    "son_frequent_cameras_count = dataframe_rdd.mapPartitions(aprioriPass2) \\\n",
    "    .reduceByKey(lambda x, y: x + y) \\\n",
    "        .filter(lambda x: x[1] >= support_threshold) \\\n",
    "            .map(lambda x: (x[0][0], x[1]))\n",
    "son_frequent_cameras_count.take(10)\n",
    "# son_frequent_cameras.collect()"
   ]
  },
  {
   "cell_type": "code",
   "execution_count": 230,
   "metadata": {},
   "outputs": [
    {
     "data": {
      "text/plain": [
       "393"
      ]
     },
     "execution_count": 230,
     "metadata": {},
     "output_type": "execute_result"
    }
   ],
   "source": [
    "son_frequent_cameras_count.count()"
   ]
  },
  {
   "cell_type": "code",
   "execution_count": 231,
   "metadata": {},
   "outputs": [
    {
     "data": {
      "text/plain": [
       "[117, 149, 157, 101301, 107301]"
      ]
     },
     "execution_count": 231,
     "metadata": {},
     "output_type": "execute_result"
    }
   ],
   "source": [
    "son_frequent_cameras = son_frequent_cameras_count.map(lambda x: x[0])\n",
    "son_frequent_cameras_list = son_frequent_cameras.collect()\n",
    "son_frequent_cameras.take(5)"
   ]
  },
  {
   "attachments": {},
   "cell_type": "markdown",
   "metadata": {},
   "source": [
    "## k = 2"
   ]
  },
  {
   "cell_type": "code",
   "execution_count": 232,
   "metadata": {},
   "outputs": [
    {
     "name": "stderr",
     "output_type": "stream",
     "text": [
      "                                                                                \r"
     ]
    },
    {
     "data": {
      "text/plain": [
       "[[631362, 631757, 900141, 900167, 900203, 900226, 900246, 900269, 100700820],\n",
       " [113, 202101, 213402, 900185, 900243, 22010031],\n",
       " [202901, 22010117],\n",
       " [175, 202901, 900191, 100700864],\n",
       " [103001,\n",
       "  200202,\n",
       "  202601,\n",
       "  631357,\n",
       "  631832,\n",
       "  900101,\n",
       "  900191,\n",
       "  900237,\n",
       "  900241,\n",
       "  900253,\n",
       "  900268],\n",
       " [205201, 205202, 900215, 900253, 22009971, 22009977],\n",
       " [153, 213402, 900236, 100701143],\n",
       " [128, 900160, 900171, 900233],\n",
       " [205802, 900234, 900246, 100700862],\n",
       " [207101, 900234, 100700804]]"
      ]
     },
     "execution_count": 232,
     "metadata": {},
     "output_type": "execute_result"
    }
   ],
   "source": [
    "son1_pathes_rdd_e1 = son1_pathes.map(lambda x: sorted(list(set(x)))) \\\n",
    "    .map(lambda x: [p for p in x if p in son_frequent_cameras_list]) \\\n",
    "        .filter(lambda x: len(x) > 1)     \n",
    "son2_pathes_rdd_e1 = son2_pathes.map(lambda x: sorted(list(set(x)))) \\\n",
    "    .map(lambda x: [p for p in x if p in son_frequent_cameras_list]) \\\n",
    "        .filter(lambda x: len(x) > 1) \n",
    "son2_pathes_rdd_e1.take(10)"
   ]
  },
  {
   "attachments": {},
   "cell_type": "markdown",
   "metadata": {},
   "source": [
    "### Pass 1"
   ]
  },
  {
   "cell_type": "code",
   "execution_count": 238,
   "metadata": {},
   "outputs": [],
   "source": [
    "son1_paired_frequent_cameras = son1_pathes_rdd_e1.flatMap(lambda x: [(i,j) for i in x for j in x if i<j])\n",
    "son2_paired_frequent_cameras = son2_pathes_rdd_e1.flatMap(lambda x: [(i,j) for i in x for j in x if i<j])\n",
    "\n",
    "son1_paired_frequent_cameras_count = son1_paired_frequent_cameras.map(lambda x: (x, 1)).reduceByKey(lambda x, y: x + y)\n",
    "son2_paired_frequent_cameras_count = son2_paired_frequent_cameras.map(lambda x: (x, 1)).reduceByKey(lambda x, y: x + y)\n",
    "\n",
    "son1_frequent_camera_paires_count = son1_paired_frequent_cameras_count.filter(lambda x: x[1]>= son1_support_threshold).map(lambda x: (x[0], 1))\n",
    "son2_frequent_camera_paires_count = son2_paired_frequent_cameras_count.filter(lambda x: x[1]>= son2_support_threshold).map(lambda x: (x[0], 1))\n",
    "\n",
    "union_paired_candidates = son1_frequent_camera_paires_count.union(son2_frequent_camera_paires_count)"
   ]
  },
  {
   "cell_type": "code",
   "execution_count": 240,
   "metadata": {},
   "outputs": [
    {
     "data": {
      "text/plain": [
       "[((900107, 900191), 1),\n",
       " ((631361, 631829), 1),\n",
       " ((900135, 900171), 1),\n",
       " ((900142, 900212), 1),\n",
       " ((900245, 22009977), 1),\n",
       " ((900222, 900228), 1),\n",
       " ((900164, 900234), 1),\n",
       " ((117, 900233), 1),\n",
       " ((900234, 900240), 1),\n",
       " ((119, 900235), 1),\n",
       " ((900233, 100700845), 1),\n",
       " ((631357, 900265), 1),\n",
       " ((900246, 100700820), 1),\n",
       " ((900107, 900255), 1),\n",
       " ((900102, 900212), 1),\n",
       " ((101301, 100700841), 1),\n",
       " ((631357, 100700841), 1),\n",
       " ((900101, 100700841), 1),\n",
       " ((900217, 900269), 1),\n",
       " ((900234, 900256), 1),\n",
       " ((900240, 100700862), 1),\n",
       " ((900142, 900244), 1),\n",
       " ((114, 232), 1),\n",
       " ((631367, 631763), 1),\n",
       " ((631833, 900269), 1),\n",
       " ((900212, 900234), 1),\n",
       " ((900212, 100701130), 1),\n",
       " ((900213, 900249), 1),\n",
       " ((900225, 900269), 1),\n",
       " ((900249, 900269), 1),\n",
       " ((900269, 900273), 1),\n",
       " ((103002, 900256), 1),\n",
       " ((900174, 100700804), 1),\n",
       " ((900135, 900235), 1),\n",
       " ((900242, 100700864), 1),\n",
       " ((114, 631776), 1),\n",
       " ((900155, 900207), 1),\n",
       " ((900155, 100700839), 1),\n",
       " ((900222, 100700868), 1),\n",
       " ((900246, 900276), 1),\n",
       " ((900246, 100700868), 1),\n",
       " ((631832, 900246), 1),\n",
       " ((900102, 900244), 1),\n",
       " ((900244, 100701130), 1),\n",
       " ((900236, 900242), 1),\n",
       " ((900215, 22009971), 1),\n",
       " ((900246, 900268), 1),\n",
       " ((900246, 100700804), 1),\n",
       " ((114, 100700824), 1),\n",
       " ((900197, 900241), 1),\n",
       " ((631795, 900207), 1),\n",
       " ((900265, 900269), 1),\n",
       " ((22009977, 100700853), 1),\n",
       " ((900193, 100700853), 1),\n",
       " ((631795, 900255), 1),\n",
       " ((900150, 900236), 1),\n",
       " ((900216, 900246), 1),\n",
       " ((209103, 900235), 1),\n",
       " ((631765, 100700881), 1),\n",
       " ((900216, 100700862), 1),\n",
       " ((900240, 900246), 1),\n",
       " ((22010088, 22010094), 1),\n",
       " ((202601, 900101), 1),\n",
       " ((631368, 900246), 1),\n",
       " ((900101, 900217), 1),\n",
       " ((900158, 100700804), 1),\n",
       " ((900217, 900237), 1),\n",
       " ((900237, 100700841), 1),\n",
       " ((100700841, 100700853), 1),\n",
       " ((900102, 100701100), 1),\n",
       " ((900158, 100700820), 1),\n",
       " ((900167, 900235), 1),\n",
       " ((212501, 100700841), 1),\n",
       " ((900221, 100700841), 1),\n",
       " ((900241, 22010117), 1),\n",
       " ((205802, 900256), 1),\n",
       " ((900256, 22010118), 1),\n",
       " ((900124, 900234), 1),\n",
       " ((900149, 900233), 1),\n",
       " ((900149, 900265), 1),\n",
       " ((900265, 100700845), 1),\n",
       " ((100700804, 100700834), 1),\n",
       " ((900102, 900236), 1),\n",
       " ((900102, 900268), 1),\n",
       " ((900236, 100701130), 1),\n",
       " ((900259, 22010119), 1),\n",
       " ((900268, 100701130), 1),\n",
       " ((631363, 900255), 1),\n",
       " ((119, 123), 1),\n",
       " ((900164, 900266), 1),\n",
       " ((900107, 22010119), 1),\n",
       " ((145, 900101), 1),\n",
       " ((900101, 900273), 1),\n",
       " ((900273, 100700853), 1),\n",
       " ((212802, 900256), 1),\n",
       " ((900235, 100700871), 1),\n",
       " ((631357, 900217), 1),\n",
       " ((900101, 900249), 1),\n",
       " ((900156, 100701090), 1),\n",
       " ((900212, 900258), 1),\n",
       " ((900236, 900258), 1),\n",
       " ((900244, 900258), 1),\n",
       " ((900212, 900226), 1),\n",
       " ((115, 900247), 1),\n",
       " ((900107, 900247), 1),\n",
       " ((900102, 100700868), 1),\n",
       " ((900202, 900272), 1),\n",
       " ((900203, 900255), 1),\n",
       " ((631829, 900265), 1),\n",
       " ((212802, 900240), 1),\n",
       " ((119, 900251), 1),\n",
       " ((631829, 900225), 1),\n",
       " ((900217, 900277), 1),\n",
       " ((900222, 100700804), 1),\n",
       " ((900171, 900215), 1),\n",
       " ((900129, 22010117), 1),\n",
       " ((900102, 900108), 1),\n",
       " ((900182, 100700868), 1),\n",
       " ((900269, 100700841), 1),\n",
       " ((900101, 900265), 1),\n",
       " ((205802, 900240), 1),\n",
       " ((900240, 22010118), 1),\n",
       " ((631633, 100700853), 1),\n",
       " ((631829, 900217), 1),\n",
       " ((900202, 900224), 1),\n",
       " ((900139, 900207), 1),\n",
       " ((145, 202101), 1),\n",
       " ((900191, 22009971), 1),\n",
       " ((900182, 100701100), 1),\n",
       " ((900142, 900236), 1),\n",
       " ((900178, 900224), 1),\n",
       " ((900224, 900246), 1),\n",
       " ((631367, 900203), 1),\n",
       " ((900207, 900243), 1),\n",
       " ((900207, 900259), 1),\n",
       " ((900268, 100700826), 1),\n",
       " ((900101, 900225), 1),\n",
       " ((900101, 22009977), 1),\n",
       " ((900212, 100700826), 1),\n",
       " ((900269, 22009977), 1),\n",
       " ((900155, 900255), 1),\n",
       " ((900182, 100701068), 1),\n",
       " ((900214, 900228), 1),\n",
       " ((900213, 100700841), 1),\n",
       " ((175, 22009971), 1),\n",
       " ((631357, 900225), 1),\n",
       " ((900139, 22010119), 1),\n",
       " ((900249, 100700853), 1),\n",
       " ((900243, 22010119), 1),\n",
       " ((900217, 900221), 1),\n",
       " ((112, 900246), 1),\n",
       " ((900155, 900223), 1),\n",
       " ((114, 100700864), 1),\n",
       " ((900142, 900268), 1),\n",
       " ((900182, 900244), 1),\n",
       " ((900236, 100700826), 1),\n",
       " ((900225, 100700853), 1),\n",
       " ((900134, 900268), 1),\n",
       " ((900134, 100700812), 1),\n",
       " ((900102, 100701068), 1),\n",
       " ((211301, 900185), 1),\n",
       " ((900212, 100700866), 1),\n",
       " ((900222, 900236), 1),\n",
       " ((200301, 900225), 1),\n",
       " ((900222, 900268), 1),\n",
       " ((900268, 100700866), 1),\n",
       " ((900139, 100700839), 1),\n",
       " ((900183, 900235), 1),\n",
       " ((115, 231), 1),\n",
       " ((900223, 900227), 1),\n",
       " ((900246, 100701100), 1),\n",
       " ((100701100, 100701130), 1),\n",
       " ((900182, 900212), 1),\n",
       " ((900102, 100701132), 1),\n",
       " ((231, 900107), 1),\n",
       " ((900244, 100700826), 1),\n",
       " ((900244, 100700866), 1),\n",
       " ((900222, 900244), 1),\n",
       " ((900216, 900278), 1),\n",
       " ((900217, 100700845), 1),\n",
       " ((900101, 900185), 1),\n",
       " ((900222, 100701100), 1),\n",
       " ((900132, 100701090), 1),\n",
       " ((900142, 100700868), 1),\n",
       " ((900142, 100700812), 1),\n",
       " ((900108, 100700826), 1),\n",
       " ((900185, 100700853), 1),\n",
       " ((209102, 100700804), 1),\n",
       " ((900134, 900212), 1),\n",
       " ((900176, 100700862), 1),\n",
       " ((900245, 100700841), 1),\n",
       " ((900269, 100700881), 1),\n",
       " ((900276, 100700853), 1),\n",
       " ((631361, 900202), 1),\n",
       " ((631829, 900222), 1),\n",
       " ((209103, 100700804), 1),\n",
       " ((900135, 100700804), 1),\n",
       " ((900167, 100700804), 1),\n",
       " ((900212, 900245), 1),\n",
       " ((900240, 900265), 1),\n",
       " ((202901, 203902), 1),\n",
       " ((205201, 205202), 1),\n",
       " ((900225, 900234), 1),\n",
       " ((900233, 900234), 1),\n",
       " ((900233, 900266), 1),\n",
       " ((128, 900233), 1),\n",
       " ((631357, 900246), 1),\n",
       " ((900107, 100700824), 1),\n",
       " ((103001, 103002), 1),\n",
       " ((135, 100700804), 1),\n",
       " ((631795, 900216), 1),\n",
       " ((900191, 100700804), 1),\n",
       " ((900216, 900265), 1),\n",
       " ((900212, 100700853), 1),\n",
       " ((100700824, 100700841), 1),\n",
       " ((207101, 100700862), 1),\n",
       " ((900217, 900234), 1),\n",
       " ((117, 100700862), 1),\n",
       " ((137, 900234), 1),\n",
       " ((900149, 100700862), 1),\n",
       " ((205802, 900215), 1),\n",
       " ((206602, 900215), 1),\n",
       " ((900244, 100700853), 1),\n",
       " ((631367, 900164), 1),\n",
       " ((900164, 900269), 1),\n",
       " ((900208, 900249), 1),\n",
       " ((900208, 900273), 1),\n",
       " ((900212, 900213), 1),\n",
       " ((900212, 900269), 1),\n",
       " ((900225, 100701130), 1),\n",
       " ((206602, 900135), 1),\n",
       " ((900241, 900242), 1),\n",
       " ((900242, 22010031), 1),\n",
       " ((900158, 900235), 1),\n",
       " ((100700845, 100700862), 1),\n",
       " ((900139, 100700864), 1),\n",
       " ((631757, 900222), 1),\n",
       " ((631757, 900246), 1),\n",
       " ((631765, 900246), 1),\n",
       " ((900207, 100700868), 1),\n",
       " ((212802, 900215), 1),\n",
       " ((631357, 900102), 1),\n",
       " ((900185, 900242), 1),\n",
       " ((900202, 900207), 1),\n",
       " ((900207, 900268), 1),\n",
       " ((900207, 100700804), 1),\n",
       " ((900215, 100700804), 1),\n",
       " ((900246, 900251), 1),\n",
       " ((115, 100700824), 1),\n",
       " ((900236, 100700853), 1),\n",
       " ((103001, 900234), 1),\n",
       " ((900107, 900216), 1),\n",
       " ((900216, 900217), 1),\n",
       " ((631832, 900217), 1),\n",
       " ((114, 900255), 1),\n",
       " ((900265, 900266), 1),\n",
       " ((900191, 900236), 1),\n",
       " ((900234, 900255), 1),\n",
       " ((175, 900236), 1),\n",
       " ((230204, 900101), 1),\n",
       " ((631368, 900217), 1),\n",
       " ((900101, 900246), 1),\n",
       " ((900236, 900237), 1),\n",
       " ((900237, 900246), 1),\n",
       " ((900167, 100700820), 1),\n",
       " ((155, 100700864), 1),\n",
       " ((900216, 100700841), 1),\n",
       " ((900124, 22010117), 1),\n",
       " ((900152, 900249), 1),\n",
       " ((900152, 100700841), 1),\n",
       " ((900199, 900212), 1),\n",
       " ((900199, 900244), 1),\n",
       " ((213401, 213402), 1),\n",
       " ((900149, 22010118), 1),\n",
       " ((900164, 100700845), 1),\n",
       " ((900265, 100700834), 1),\n",
       " ((100700804, 100700845), 1),\n",
       " ((114, 231), 1),\n",
       " ((231, 900212), 1),\n",
       " ((231, 900236), 1),\n",
       " ((231, 900244), 1),\n",
       " ((231, 900268), 1),\n",
       " ((900102, 900259), 1),\n",
       " ((900236, 900269), 1),\n",
       " ((900244, 900269), 1),\n",
       " ((900255, 900268), 1),\n",
       " ((900268, 900269), 1),\n",
       " ((135, 900164), 1),\n",
       " ((900101, 900102), 1),\n",
       " ((900164, 900237), 1),\n",
       " ((119, 100700804), 1),\n",
       " ((900215, 22009972), 1),\n",
       " ((900107, 100700864), 1),\n",
       " ((900142, 900259), 1),\n",
       " ((900247, 900276), 1),\n",
       " ((22009972, 100700845), 1),\n",
       " ((631357, 631830), 1),\n",
       " ((137, 212802), 1),\n",
       " ((631361, 900226), 1),\n",
       " ((22010060, 100700845), 1),\n",
       " ((900152, 900273), 1),\n",
       " ((900102, 900155), 1),\n",
       " ((900155, 900272), 1),\n",
       " ((900102, 900227), 1),\n",
       " ((900164, 900277), 1),\n",
       " ((900255, 900276), 1),\n",
       " ((900255, 100700820), 1),\n",
       " ((230204, 631765), 1),\n",
       " ((900202, 22010119), 1),\n",
       " ((631357, 900238), 1),\n",
       " ((900256, 900265), 1),\n",
       " ((100, 900269), 1),\n",
       " ((631829, 900246), 1),\n",
       " ((900225, 100700866), 1),\n",
       " ((900150, 22009923), 1),\n",
       " ((200902, 900243), 1),\n",
       " ((631357, 900222), 1),\n",
       " ((900223, 100701100), 1),\n",
       " ((631829, 900102), 1),\n",
       " ((900108, 900269), 1),\n",
       " ((900246, 900259), 1),\n",
       " ((22010040, 100700841), 1),\n",
       " ((231, 900164), 1),\n",
       " ((205802, 900135), 1),\n",
       " ((900142, 900155), 1),\n",
       " ((900191, 900212), 1),\n",
       " ((900191, 900244), 1),\n",
       " ((900191, 22009972), 1),\n",
       " ((900207, 900212), 1),\n",
       " ((900207, 900244), 1),\n",
       " ((900101, 900222), 1),\n",
       " ((900244, 900245), 1),\n",
       " ((900101, 900142), 1),\n",
       " ((900142, 900211), 1),\n",
       " ((900211, 900264), 1),\n",
       " ((900193, 100700866), 1),\n",
       " ((631775, 900164), 1),\n",
       " ((200902, 900259), 1),\n",
       " ((900225, 100700826), 1),\n",
       " ((900102, 900139), 1),\n",
       " ((22009977, 100700826), 1),\n",
       " ((900139, 100700824), 1),\n",
       " ((22010087, 22010100), 1),\n",
       " ((900224, 900225), 1),\n",
       " ((900215, 900236), 1),\n",
       " ((100701129, 100701130), 1),\n",
       " ((100700841, 100701130), 1),\n",
       " ((135, 100700820), 1),\n",
       " ((900222, 900227), 1),\n",
       " ((900222, 900235), 1),\n",
       " ((231, 900276), 1),\n",
       " ((144, 900185), 1),\n",
       " ((22009923, 100700824), 1),\n",
       " ((900225, 900258), 1),\n",
       " ((900268, 100700853), 1),\n",
       " ((631757, 631758), 1),\n",
       " ((631370, 900191), 1),\n",
       " ((900108, 100700853), 1),\n",
       " ((631356, 900269), 1),\n",
       " ((900202, 100700839), 1),\n",
       " ((231, 230204), 1),\n",
       " ((900214, 900227), 1),\n",
       " ((900155, 900224), 1),\n",
       " ((900207, 900236), 1),\n",
       " ((900236, 900277), 1),\n",
       " ((631832, 900225), 1),\n",
       " ((212802, 900135), 1),\n",
       " ((100700841, 100700866), 1),\n",
       " ((209103, 900164), 1),\n",
       " ((631368, 900265), 1),\n",
       " ((900162, 900183), 1),\n",
       " ((900174, 900235), 1),\n",
       " ((230107, 100700824), 1),\n",
       " ((900217, 100701130), 1),\n",
       " ((22010060, 22010061), 1),\n",
       " ((900139, 100700816), 1),\n",
       " ((900193, 100700826), 1),\n",
       " ((900249, 100700826), 1),\n",
       " ((900152, 22009977), 1),\n",
       " ((900264, 100700841), 1),\n",
       " ((100700812, 100700853), 1),\n",
       " ((900232, 900273), 1),\n",
       " ((900223, 900268), 1),\n",
       " ((900208, 100700841), 1),\n",
       " ((900225, 900226), 1),\n",
       " ((100701092, 100701093), 1),\n",
       " ((22010057, 22010058), 1),\n",
       " ((900232, 900249), 1),\n",
       " ((900132, 100701093), 1),\n",
       " ((900222, 22010083), 1),\n",
       " ((230204, 900276), 1),\n",
       " ((230204, 100700820), 1),\n",
       " ((900191, 100700853), 1),\n",
       " ((900276, 100700820), 1),\n",
       " ((900202, 900222), 1),\n",
       " ((900212, 100700804), 1),\n",
       " ((900164, 900276), 1),\n",
       " ((900164, 100700820), 1),\n",
       " ((205201, 22009971), 1),\n",
       " ((631363, 900225), 1),\n",
       " ((117, 900135), 1),\n",
       " ((900234, 100700862), 1),\n",
       " ((900101, 900255), 1),\n",
       " ((631368, 100700824), 1),\n",
       " ((900255, 900277), 1),\n",
       " ((900217, 22009971), 1),\n",
       " ((900226, 900246), 1),\n",
       " ((103001, 22009971), 1),\n",
       " ((175, 107301), 1),\n",
       " ((107301, 900191), 1),\n",
       " ((900216, 100700824), 1),\n",
       " ((900276, 100700804), 1),\n",
       " ((101301, 22010031), 1),\n",
       " ((631763, 100700881), 1),\n",
       " ((900107, 100700841), 1),\n",
       " ((900117, 900151), 1),\n",
       " ((900240, 900256), 1),\n",
       " ((900266, 100700862), 1),\n",
       " ((900215, 900253), 1),\n",
       " ((900212, 900244), 1),\n",
       " ((631763, 900225), 1),\n",
       " ((631795, 900225), 1),\n",
       " ((900102, 900234), 1),\n",
       " ((900102, 100701130), 1),\n",
       " ((900164, 900212), 1),\n",
       " ((900222, 900234), 1),\n",
       " ((900222, 100701130), 1),\n",
       " ((206602, 100700862), 1),\n",
       " ((900171, 900233), 1),\n",
       " ((202601, 631795), 1),\n",
       " ((119, 207501), 1),\n",
       " ((900135, 100700845), 1),\n",
       " ((900139, 100700841), 1),\n",
       " ((202101, 22010031), 1),\n",
       " ((114, 900246), 1),\n",
       " ((900228, 100700868), 1),\n",
       " ((205802, 900246), 1),\n",
       " ((205802, 22010118), 1),\n",
       " ((212802, 900246), 1),\n",
       " ((212802, 22010118), 1),\n",
       " ((900234, 900246), 1),\n",
       " ((900234, 22010118), 1),\n",
       " ((900246, 100701130), 1),\n",
       " ((230204, 900236), 1),\n",
       " ((900236, 900276), 1),\n",
       " ((900202, 900246), 1),\n",
       " ((232, 100700824), 1),\n",
       " ((900107, 900217), 1),\n",
       " ((900107, 900265), 1),\n",
       " ((900216, 900240), 1),\n",
       " ((900265, 22009971), 1),\n",
       " ((900207, 900269), 1),\n",
       " ((900108, 900212), 1),\n",
       " ((900108, 900244), 1),\n",
       " ((631795, 900185), 1),\n",
       " ((900235, 900265), 1),\n",
       " ((900246, 900266), 1),\n",
       " ((900251, 900265), 1),\n",
       " ((202901, 900191), 1),\n",
       " ((900164, 900244), 1),\n",
       " ((115, 900217), 1),\n",
       " ((900101, 900191), 1),\n",
       " ((100700824, 100700864), 1),\n",
       " ((155, 900185), 1),\n",
       " ((900216, 100700864), 1),\n",
       " ((631795, 100700841), 1),\n",
       " ((900152, 100701096), 1),\n",
       " ((900156, 900212), 1),\n",
       " ((900156, 900244), 1),\n",
       " ((900164, 100700804), 1),\n",
       " ((231, 202101), 1),\n",
       " ((231, 631357), 1),\n",
       " ((631357, 900255), 1),\n",
       " ((631831, 900269), 1),\n",
       " ((900212, 900236), 1),\n",
       " ((900212, 900268), 1),\n",
       " ((900236, 900244), 1),\n",
       " ((900236, 900268), 1),\n",
       " ((900244, 900268), 1),\n",
       " ((900255, 900269), 1),\n",
       " ((900269, 22010119), 1),\n",
       " ((631765, 900167), 1),\n",
       " ((631765, 900255), 1),\n",
       " ((900237, 900255), 1),\n",
       " ((900107, 900185), 1),\n",
       " ((900212, 900276), 1),\n",
       " ((900164, 900236), 1),\n",
       " ((900243, 900273), 1),\n",
       " ((900215, 100700845), 1),\n",
       " ((230201, 900107), 1),\n",
       " ((900149, 900215), 1),\n",
       " ((900108, 900268), 1),\n",
       " ((900152, 900208), 1),\n",
       " ((900212, 100700868), 1),\n",
       " ((900212, 100701092), 1),\n",
       " ((900244, 100700868), 1),\n",
       " ((900268, 100700868), 1),\n",
       " ((900203, 100700881), 1),\n",
       " ((900101, 22010119), 1),\n",
       " ((900246, 100700834), 1),\n",
       " ((142, 212802), 1),\n",
       " ((142, 900234), 1),\n",
       " ((631354, 900246), 1),\n",
       " ((175, 202901), 1),\n",
       " ((900222, 100700866), 1),\n",
       " ((900246, 100700866), 1),\n",
       " ((900269, 100700839), 1),\n",
       " ((631367, 631829), 1),\n",
       " ((631829, 900223), 1),\n",
       " ((631361, 900155), 1),\n",
       " ((900259, 100700841), 1),\n",
       " ((142, 205802), 1),\n",
       " ((900124, 22009972), 1),\n",
       " ((231, 900101), 1),\n",
       " ((231, 900237), 1),\n",
       " ((900155, 900265), 1),\n",
       " ((900155, 100700881), 1),\n",
       " ((900266, 22010118), 1),\n",
       " ((22010119, 100700853), 1),\n",
       " ((631829, 900207), 1),\n",
       " ((900259, 22009977), 1),\n",
       " ((900243, 100700841), 1),\n",
       " ((900101, 900207), 1),\n",
       " ((145, 900107), 1),\n",
       " ((145, 22009971), 1),\n",
       " ((900182, 100700866), 1),\n",
       " ((900158, 900266), 1),\n",
       " ((631355, 900225), 1),\n",
       " ((900107, 900225), 1),\n",
       " ((900139, 900225), 1),\n",
       " ((900225, 900227), 1),\n",
       " ((900225, 900243), 1),\n",
       " ((900225, 900259), 1),\n",
       " ((900139, 22009977), 1),\n",
       " ((631829, 900255), 1),\n",
       " ((900107, 900249), 1),\n",
       " ((631795, 900217), 1),\n",
       " ((900102, 900202), 1),\n",
       " ((900222, 100700834), 1),\n",
       " ((900236, 22009972), 1),\n",
       " ((900222, 900226), 1),\n",
       " ((900222, 900266), 1),\n",
       " ((231, 101301), 1),\n",
       " ((211301, 900191), 1),\n",
       " ((631357, 100700839), 1),\n",
       " ((100700839, 100700853), 1),\n",
       " ((900155, 900217), 1),\n",
       " ((900123, 900241), 1),\n",
       " ((900102, 100700866), 1),\n",
       " ((100, 900268), 1),\n",
       " ((900139, 900249), 1),\n",
       " ((900243, 900249), 1),\n",
       " ((900155, 900273), 1),\n",
       " ((100700804, 100700868), 1),\n",
       " ((900249, 900259), 1),\n",
       " ((900101, 100700839), 1),\n",
       " ((900142, 900202), 1),\n",
       " ((900155, 100700841), 1),\n",
       " ((900167, 100700845), 1),\n",
       " ((200902, 631346), 1),\n",
       " ((900139, 900273), 1),\n",
       " ((900259, 900273), 1),\n",
       " ((900268, 100700812), 1),\n",
       " ((900107, 22009977), 1),\n",
       " ((900182, 100701130), 1),\n",
       " ((900227, 100700841), 1),\n",
       " ((900212, 100701100), 1),\n",
       " ((900244, 100701100), 1),\n",
       " ((900101, 22010039), 1),\n",
       " ((900142, 100700826), 1),\n",
       " ((900142, 100700866), 1),\n",
       " ((900149, 100700847), 1),\n",
       " ((631357, 900223), 1),\n",
       " ((900155, 900249), 1),\n",
       " ((900211, 100700841), 1),\n",
       " ((231, 900277), 1),\n",
       " ((900155, 900225), 1),\n",
       " ((900212, 100700812), 1),\n",
       " ((900164, 100700868), 1),\n",
       " ((900268, 100701100), 1),\n",
       " ((900101, 900199), 1),\n",
       " ((900208, 900232), 1),\n",
       " ((231, 100700853), 1),\n",
       " ((900178, 900222), 1),\n",
       " ((900132, 900212), 1),\n",
       " ((900184, 100700832), 1),\n",
       " ((900139, 900193), 1),\n",
       " ((900207, 100700853), 1),\n",
       " ((900108, 100700836), 1),\n",
       " ((137, 900240), 1),\n",
       " ((900142, 22009977), 1),\n",
       " ((631765, 900164), 1),\n",
       " ((631765, 900276), 1),\n",
       " ((631765, 100700820), 1),\n",
       " ((900185, 100700864), 1),\n",
       " ((203902, 900217), 1),\n",
       " ((900233, 900240), 1),\n",
       " ((119, 100700862), 1),\n",
       " ((212802, 100700845), 1),\n",
       " ((900101, 900236), 1),\n",
       " ((900236, 900255), 1),\n",
       " ((209103, 900246), 1),\n",
       " ((900246, 900265), 1),\n",
       " ((900256, 22009971), 1),\n",
       " ((631368, 900107), 1),\n",
       " ((631763, 900226), 1),\n",
       " ((900223, 900246), 1),\n",
       " ((631795, 900234), 1),\n",
       " ((900265, 100700824), 1),\n",
       " ((101301, 900236), 1),\n",
       " ((175, 203902), 1),\n",
       " ((900167, 100700862), 1),\n",
       " ((114, 900269), 1),\n",
       " ((631795, 100701130), 1),\n",
       " ((900102, 900225), 1),\n",
       " ((900102, 900249), 1),\n",
       " ((900102, 900273), 1),\n",
       " ((900222, 900225), 1),\n",
       " ((900222, 900249), 1),\n",
       " ((900222, 900273), 1),\n",
       " ((900234, 900269), 1),\n",
       " ((900107, 900234), 1),\n",
       " ((900107, 900242), 1),\n",
       " ((900135, 100700862), 1),\n",
       " ((900171, 900234), 1),\n",
       " ((900233, 900256), 1),\n",
       " ((631795, 900202), 1),\n",
       " ((100700841, 100700864), 1),\n",
       " ((114, 101301), 1),\n",
       " ((114, 202101), 1),\n",
       " ((202101, 900236), 1),\n",
       " ((631367, 900246), 1),\n",
       " ((631775, 900246), 1),\n",
       " ((900207, 900222), 1),\n",
       " ((900207, 900246), 1),\n",
       " ((631357, 900244), 1),\n",
       " ((900215, 900246), 1),\n",
       " ((900215, 22010118), 1),\n",
       " ((900135, 900246), 1),\n",
       " ((900216, 22009971), 1),\n",
       " ((900217, 100700824), 1),\n",
       " ((100, 900207), 1),\n",
       " ((900212, 900255), 1),\n",
       " ((900244, 900255), 1),\n",
       " ((135, 900246), 1),\n",
       " ((900167, 900246), 1),\n",
       " ((900185, 900216), 1),\n",
       " ((900235, 900266), 1),\n",
       " ((900246, 100700881), 1),\n",
       " ((900101, 900276), 1),\n",
       " ((900191, 900246), 1),\n",
       " ((900237, 900276), 1),\n",
       " ((900246, 100700841), 1),\n",
       " ((212501, 900236), 1),\n",
       " ((900221, 900236), 1),\n",
       " ((900156, 900199), 1),\n",
       " ((900246, 22009977), 1),\n",
       " ((205802, 100700845), 1),\n",
       " ((900149, 100700804), 1),\n",
       " ((900234, 100700845), 1),\n",
       " ((114, 631357), 1),\n",
       " ((631357, 900212), 1),\n",
       " ((631357, 900236), 1),\n",
       " ((631357, 900268), 1),\n",
       " ((900212, 22010119), 1),\n",
       " ((900236, 22010119), 1),\n",
       " ((900244, 22010119), 1),\n",
       " ((900259, 100701130), 1),\n",
       " ((900268, 22010119), 1),\n",
       " ((631363, 900226), 1),\n",
       " ((900102, 900193), 1),\n",
       " ((900164, 900167), 1),\n",
       " ((900164, 900255), 1),\n",
       " ((123, 900266), 1),\n",
       " ((153, 100700864), 1),\n",
       " ((145, 100700864), 1),\n",
       " ((900236, 900247), 1),\n",
       " ((206602, 100700845), 1),\n",
       " ((900246, 100700857), 1),\n",
       " ((900101, 900108), 1),\n",
       " ((900101, 900212), 1),\n",
       " ((900101, 900244), 1),\n",
       " ((900101, 900268), 1),\n",
       " ((900101, 100700868), 1),\n",
       " ((143, 22010118), 1),\n",
       " ((900155, 900202), 1),\n",
       " ((631357, 100700804), 1),\n",
       " ((142, 900265), 1),\n",
       " ((900142, 900273), 1),\n",
       " ((900226, 900269), 1),\n",
       " ((631354, 631829), 1),\n",
       " ((900155, 100700866), 1),\n",
       " ((900266, 100700845), 1),\n",
       " ((631829, 100701100), 1),\n",
       " ((631829, 900212), 1),\n",
       " ((631829, 900268), 1),\n",
       " ((631829, 900276), 1),\n",
       " ((631362, 631757), 1),\n",
       " ((631357, 900276), 1),\n",
       " ((631357, 100700868), 1),\n",
       " ((631829, 100700868), 1),\n",
       " ((900155, 900226), 1),\n",
       " ((900135, 22010118), 1),\n",
       " ((22010087, 22010094), 1),\n",
       " ((900104, 100700835), 1),\n",
       " ((900108, 900191), 1),\n",
       " ((900108, 22010119), 1),\n",
       " ((900108, 100700839), 1),\n",
       " ((900185, 100700824), 1),\n",
       " ((900212, 100700839), 1),\n",
       " ((900244, 100700839), 1),\n",
       " ((900142, 900225), 1),\n",
       " ((900225, 100700824), 1),\n",
       " ((631363, 900202), 1),\n",
       " ((900202, 900269), 1),\n",
       " ((900213, 900244), 1),\n",
       " ((900234, 900237), 1),\n",
       " ((631367, 900158), 1),\n",
       " ((900235, 900274), 1),\n",
       " ((631354, 900269), 1),\n",
       " ((631830, 900225), 1),\n",
       " ((900107, 100700826), 1),\n",
       " ((900139, 100700826), 1),\n",
       " ((900259, 100700826), 1),\n",
       " ((114, 900277), 1),\n",
       " ((900107, 900202), 1),\n",
       " ((900222, 900265), 1),\n",
       " ((900246, 900249), 1),\n",
       " ((631795, 900226), 1),\n",
       " ((900269, 900276), 1),\n",
       " ((103002, 900149), 1),\n",
       " ((900102, 100700841), 1),\n",
       " ((900241, 100700864), 1),\n",
       " ((114, 900221), 1),\n",
       " ((114, 900237), 1),\n",
       " ((230201, 100700824), 1),\n",
       " ((900246, 900273), 1),\n",
       " ((114, 900101), 1),\n",
       " ((900167, 900222), 1),\n",
       " ((231, 900246), 1),\n",
       " ((900104, 900259), 1),\n",
       " ((900107, 900258), 1),\n",
       " ((900258, 900269), 1),\n",
       " ((900217, 100700864), 1),\n",
       " ((900269, 100700868), 1),\n",
       " ((900158, 100700857), 1),\n",
       " ((900243, 900258), 1),\n",
       " ((631829, 900164), 1),\n",
       " ((900142, 900249), 1),\n",
       " ((900142, 100700841), 1),\n",
       " ((900268, 100700839), 1),\n",
       " ((230204, 900255), 1),\n",
       " ((900155, 900178), 1),\n",
       " ((114, 212501), 1),\n",
       " ((900182, 900225), 1),\n",
       " ((900134, 22009977), 1),\n",
       " ((900256, 100701059), 1),\n",
       " ((900222, 100700841), 1),\n",
       " ((900174, 900265), 1),\n",
       " ((900235, 100700834), 1),\n",
       " ((631355, 900226), 1),\n",
       " ((900158, 100700881), 1),\n",
       " ((900142, 900193), 1),\n",
       " ((900212, 900223), 1),\n",
       " ((900222, 100700881), 1),\n",
       " ((900265, 100700864), 1),\n",
       " ((900102, 900217), 1),\n",
       " ((900149, 900212), 1),\n",
       " ((230204, 900247), 1),\n",
       " ((209102, 900265), 1),\n",
       " ((900104, 900243), 1),\n",
       " ((900139, 900202), 1),\n",
       " ((900236, 100700839), 1),\n",
       " ((900245, 900268), 1),\n",
       " ((900245, 100700812), 1),\n",
       " ((900170, 100700845), 1),\n",
       " ((900202, 100700853), 1),\n",
       " ((119, 900174), 1),\n",
       " ((900101, 100700836), 1),\n",
       " ((100700826, 100700853), 1),\n",
       " ((100700853, 100700868), 1),\n",
       " ((900202, 100700845), 1),\n",
       " ((900113, 100700816), 1),\n",
       " ((209103, 900167), 1),\n",
       " ((900225, 22009977), 1),\n",
       " ((900240, 900266), 1),\n",
       " ((205201, 900217), 1),\n",
       " ((900185, 900241), 1),\n",
       " ((103001, 205201), 1),\n",
       " ((175, 900191), 1),\n",
       " ((900216, 900234), 1),\n",
       " ((900234, 900276), 1),\n",
       " ((900234, 100700804), 1),\n",
       " ((213402, 900236), 1),\n",
       " ((631357, 900101), 1),\n",
       " ((900203, 900227), 1),\n",
       " ((631795, 900107), 1),\n",
       " ((900142, 100700824), 1),\n",
       " ((900174, 900176), 1),\n",
       " ((114, 900212), 1),\n",
       " ((631363, 631763), 1),\n",
       " ((900164, 900222), 1),\n",
       " ((900212, 900222), 1),\n",
       " ((900225, 900249), 1),\n",
       " ((900225, 900273), 1),\n",
       " ((900249, 900273), 1),\n",
       " ((100700804, 100700862), 1),\n",
       " ((212501, 900221), 1),\n",
       " ((900149, 100700845), 1),\n",
       " ((117, 100700845), 1),\n",
       " ((119, 900135), 1),\n",
       " ((206701, 100700845), 1),\n",
       " ((101301, 900101), 1),\n",
       " ((114, 900236), 1),\n",
       " ((101301, 202101), 1),\n",
       " ((114, 900276), 1),\n",
       " ((631367, 631775), 1),\n",
       " ((900207, 100700839), 1),\n",
       " ((900228, 900246), 1),\n",
       " ((900193, 900249), 1),\n",
       " ((900234, 900244), 1),\n",
       " ((900244, 900246), 1),\n",
       " ((900185, 100700841), 1),\n",
       " ((900276, 900278), 1),\n",
       " ((631356, 900246), 1),\n",
       " ((900202, 900268), 1),\n",
       " ((900202, 100700804), 1),\n",
       " ((900217, 900225), 1),\n",
       " ((115, 900107), 1),\n",
       " ((103001, 900241), 1),\n",
       " ((900107, 22009971), 1),\n",
       " ((900217, 900265), 1),\n",
       " ((900185, 900265), 1),\n",
       " ((135, 900167), 1),\n",
       " ((900236, 900246), 1),\n",
       " ((135, 209103), 1),\n",
       " ((206602, 22009972), 1),\n",
       " ((900216, 900266), 1),\n",
       " ((900225, 100700881), 1),\n",
       " ((900265, 100700881), 1),\n",
       " ((103002, 900236), 1),\n",
       " ((900234, 900236), 1),\n",
       " ((900107, 900139), 1),\n",
       " ((900139, 900155), 1),\n",
       " ((202601, 900217), 1),\n",
       " ((202601, 100700841), 1),\n",
       " ((230204, 900246), 1),\n",
       " ((900101, 900237), 1),\n",
       " ((900101, 100700853), 1),\n",
       " ((900217, 100700841), 1),\n",
       " ((900249, 100700841), 1),\n",
       " ((22009977, 100700841), 1),\n",
       " ((900233, 900265), 1),\n",
       " ((114, 900268), 1),\n",
       " ((231, 900255), 1),\n",
       " ((631357, 900269), 1),\n",
       " ((212501, 900101), 1),\n",
       " ((900101, 900221), 1),\n",
       " ((900164, 100700862), 1),\n",
       " ((900234, 22009972), 1),\n",
       " ((900266, 100700804), 1),\n",
       " ((153, 900185), 1),\n",
       " ((900107, 900259), 1),\n",
       " ((900142, 100700864), 1),\n",
       " ((900162, 100700804), 1),\n",
       " ((900226, 100700804), 1),\n",
       " ((143, 900215), 1),\n",
       " ((205802, 22009972), 1),\n",
       " ((212802, 22009972), 1),\n",
       " ((900202, 900212), 1),\n",
       " ((900202, 900236), 1),\n",
       " ((900202, 900244), 1),\n",
       " ((900202, 100700868), 1),\n",
       " ((900258, 900268), 1),\n",
       " ((100701090, 100701092), 1),\n",
       " ((900226, 900244), 1),\n",
       " ((205202, 900124), 1),\n",
       " ((631829, 900269), 1),\n",
       " ((103002, 22009972), 1),\n",
       " ((631795, 900155), 1),\n",
       " ((900246, 900272), 1),\n",
       " ((900164, 900246), 1),\n",
       " ((900246, 100700824), 1),\n",
       " ((142, 900256), 1),\n",
       " ((100, 900246), 1),\n",
       " ((900266, 900276), 1),\n",
       " ((900224, 100700866), 1),\n",
       " ((631357, 631829), 1),\n",
       " ((900226, 100700868), 1),\n",
       " ((631357, 900237), 1),\n",
       " ((103002, 900124), 1),\n",
       " ((22010087, 22010095), 1),\n",
       " ((900104, 900258), 1),\n",
       " ((900108, 900142), 1),\n",
       " ((900191, 22010119), 1),\n",
       " ((22010119, 100700839), 1),\n",
       " ((900193, 900273), 1),\n",
       " ((900101, 900269), 1),\n",
       " ((900222, 900224), 1),\n",
       " ((900245, 100700853), 1),\n",
       " ((900243, 900259), 1),\n",
       " ((900207, 22010119), 1),\n",
       " ((100700866, 100701100), 1),\n",
       " ((631357, 900277), 1),\n",
       " ((900142, 900152), 1),\n",
       " ((631355, 900227), 1),\n",
       " ((900107, 900243), 1),\n",
       " ((900139, 900259), 1),\n",
       " ((900227, 900259), 1),\n",
       " ((900237, 900269), 1),\n",
       " ((900237, 900277), 1),\n",
       " ((631367, 900255), 1),\n",
       " ((900214, 900272), 1),\n",
       " ((900150, 100700824), 1),\n",
       " ((900142, 900208), 1),\n",
       " ((209103, 900215), 1),\n",
       " ((900246, 900256), 1),\n",
       " ((631363, 900155), 1),\n",
       " ((900222, 900272), 1),\n",
       " ((900272, 100700866), 1),\n",
       " ((100700866, 100701068), 1),\n",
       " ((144, 230106), 1),\n",
       " ((213401, 900185), 1),\n",
       " ((900101, 900277), 1),\n",
       " ((900150, 100700864), 1),\n",
       " ((900178, 100700868), 1),\n",
       " ((900246, 100700864), 1),\n",
       " ((900273, 22009977), 1),\n",
       " ((100701130, 100701132), 1),\n",
       " ((631370, 22009972), 1),\n",
       " ((900212, 900246), 1),\n",
       " ((900265, 100700841), 1),\n",
       " ((900273, 100700841), 1),\n",
       " ((145, 202601), 1),\n",
       " ((900269, 100700853), 1),\n",
       " ((145, 100700841), 1),\n",
       " ((631829, 900237), 1),\n",
       " ((900193, 100700841), 1),\n",
       " ((100700866, 100700868), 1),\n",
       " ((900191, 900239), 1),\n",
       " ((119, 209103), 1),\n",
       " ((22010061, 100700845), 1),\n",
       " ((631363, 900227), 1),\n",
       " ((900193, 900225), 1),\n",
       " ((210602, 100700804), 1),\n",
       " ((631763, 900203), 1),\n",
       " ((900207, 900223), 1),\n",
       " ((900225, 100700841), 1),\n",
       " ((900155, 900227), 1),\n",
       " ((900102, 900152), 1),\n",
       " ((900249, 22009977), 1),\n",
       " ((631763, 900227), 1),\n",
       " ((900142, 900232), 1),\n",
       " ((900155, 900259), 1),\n",
       " ((631748, 900246), 1),\n",
       " ((900135, 100700847), 1),\n",
       " ((900253, 100701045), 1),\n",
       " ((631608, 631610), 1),\n",
       " ((900142, 100701096), 1),\n",
       " ((22010110, 22010112), 1),\n",
       " ((900193, 22009977), 1),\n",
       " ((900107, 900276), 1),\n",
       " ((900107, 100700820), 1),\n",
       " ((631361, 900222), 1),\n",
       " ((631829, 900202), 1),\n",
       " ((631633, 900142), 1),\n",
       " ((631795, 900212), 1),\n",
       " ((900135, 900240), 1),\n",
       " ((900212, 22009977), 1),\n",
       " ((631368, 631765), 1),\n",
       " ((631763, 900164), 1),\n",
       " ((22010031, 100700864), 1),\n",
       " ((900164, 900217), 1),\n",
       " ((22010119, 100700824), 1),\n",
       " ((117, 900234), 1),\n",
       " ((117, 900266), 1),\n",
       " ((900234, 900251), 1),\n",
       " ((900233, 100700862), 1),\n",
       " ((900234, 900235), 1),\n",
       " ((205202, 22009971), 1),\n",
       " ((900255, 100700824), 1),\n",
       " ((900102, 900223), 1),\n",
       " ((900102, 900271), 1),\n",
       " ((103002, 22009971), 1),\n",
       " ((135, 900216), 1),\n",
       " ((175, 100700824), 1),\n",
       " ((207101, 900234), 1),\n",
       " ((631795, 900276), 1),\n",
       " ((900191, 900216), 1),\n",
       " ((900191, 100700824), 1),\n",
       " ((900236, 100700841), 1),\n",
       " ((900107, 900164), 1),\n",
       " ((900164, 100700841), 1),\n",
       " ((900164, 100700881), 1),\n",
       " ((203902, 900191), 1),\n",
       " ((143, 900256), 1),\n",
       " ((900149, 900234), 1),\n",
       " ((631795, 900244), 1),\n",
       " ((900107, 900212), 1),\n",
       " ((900107, 900244), 1),\n",
       " ...]"
      ]
     },
     "execution_count": 240,
     "metadata": {},
     "output_type": "execute_result"
    }
   ],
   "source": [
    "pass2_union_paired_candidates = sc.broadcast(union_paired_candidates.collect())\n",
    "pass2_paired_candidates = pass2_union_paired_candidates.value\n",
    "pass2_paired_candidates"
   ]
  },
  {
   "cell_type": "code",
   "execution_count": 241,
   "metadata": {},
   "outputs": [
    {
     "data": {
      "text/plain": [
       "2100"
      ]
     },
     "execution_count": 241,
     "metadata": {},
     "output_type": "execute_result"
    }
   ],
   "source": [
    "len(pass2_paired_candidates)"
   ]
  },
  {
   "attachments": {},
   "cell_type": "markdown",
   "metadata": {},
   "source": [
    "### Pass 2"
   ]
  },
  {
   "cell_type": "code",
   "execution_count": 242,
   "metadata": {},
   "outputs": [
    {
     "name": "stderr",
     "output_type": "stream",
     "text": [
      "                                                                                \r"
     ]
    },
    {
     "data": {
      "text/plain": [
       "[((112, 900101), 1226),\n",
       " ((114, 631795), 1452),\n",
       " ((114, 900107), 2146),\n",
       " ((114, 900243), 1043),\n",
       " ((115, 900236), 1575),\n",
       " ((117, 900234), 1625),\n",
       " ((117, 900266), 4244),\n",
       " ((123, 100700804), 1247),\n",
       " ((135, 900216), 10682),\n",
       " ((142, 900215), 8198)]"
      ]
     },
     "execution_count": 242,
     "metadata": {},
     "output_type": "execute_result"
    }
   ],
   "source": [
    "def aprioriPass2_2(iterator):\n",
    "    baskets = [a[1] for a in iterator]\n",
    "    candidateCount = {}\n",
    "\n",
    "    for a in baskets:\n",
    "        for cand in pass2_paired_candidates:\n",
    "            if set(cand[0]).issubset(a):\n",
    "                candidateCount.setdefault(cand,0)\n",
    "                candidateCount[cand] += 1\n",
    "    \n",
    "    for item in sorted(candidateCount.keys()):\n",
    "        yield (item, candidateCount[item])\n",
    "\n",
    "son_frequent_paired_cameras = dataframe_rdd.mapPartitions(aprioriPass2_2) \\\n",
    "    .reduceByKey(lambda x, y: x + y) \\\n",
    "        .filter(lambda x: x[1] >= support_threshold) \\\n",
    "            .map(lambda x: (x[0][0], x[1]))\n",
    "son_frequent_paired_cameras.take(10)"
   ]
  },
  {
   "cell_type": "code",
   "execution_count": 243,
   "metadata": {},
   "outputs": [
    {
     "data": {
      "text/plain": [
       "1525"
      ]
     },
     "execution_count": 243,
     "metadata": {},
     "output_type": "execute_result"
    }
   ],
   "source": [
    "son_frequent_paired_cameras.count()"
   ]
  }
 ],
 "metadata": {
  "kernelspec": {
   "display_name": "Python 3.9.10 64-bit",
   "language": "python",
   "name": "python3"
  },
  "language_info": {
   "codemirror_mode": {
    "name": "ipython",
    "version": 3
   },
   "file_extension": ".py",
   "mimetype": "text/x-python",
   "name": "python",
   "nbconvert_exporter": "python",
   "pygments_lexer": "ipython3",
   "version": "3.9.10"
  },
  "orig_nbformat": 4,
  "vscode": {
   "interpreter": {
    "hash": "8546e49cd07bc51e379dea706c5a9d4cd7a31d6ad972a644c83d3722f7520f6b"
   }
  }
 },
 "nbformat": 4,
 "nbformat_minor": 2
}
